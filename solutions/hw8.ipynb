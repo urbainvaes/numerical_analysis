{
 "cells": [
  {
   "cell_type": "code",
   "execution_count": 1,
   "id": "6eb63240",
   "metadata": {},
   "outputs": [],
   "source": [
    "import CSV"
   ]
  },
  {
   "cell_type": "code",
   "execution_count": 2,
   "id": "648ceb5f",
   "metadata": {},
   "outputs": [],
   "source": [
    "import DataFrames"
   ]
  },
  {
   "cell_type": "code",
   "execution_count": 3,
   "id": "4b893512",
   "metadata": {},
   "outputs": [
    {
     "data": {
      "text/html": [
       "<div><div style = \"float: left;\"><span>199903×1 DataFrame</span></div><div style = \"float: right;\"><span style = \"font-style: italic;\">199878 rows omitted</span></div><div style = \"clear: both;\"></div></div><div class = \"data-frame\" style = \"overflow-x: scroll;\"><table class = \"data-frame\" style = \"margin-bottom: 6px;\"><thead><tr class = \"header\"><th class = \"rowNumber\" style = \"font-weight: bold; text-align: right;\">Row</th><th style = \"text-align: left;\">Name</th></tr><tr class = \"subheader headerLastRow\"><th class = \"rowNumber\" style = \"font-weight: bold; text-align: right;\"></th><th title = \"String\" style = \"text-align: left;\">String</th></tr></thead><tbody><tr><td class = \"rowNumber\" style = \"font-weight: bold; text-align: right;\">1</td><td style = \"text-align: left;\">Morphological parsing</td></tr><tr><td class = \"rowNumber\" style = \"font-weight: bold; text-align: right;\">2</td><td style = \"text-align: left;\">Site-specific theatre</td></tr><tr><td class = \"rowNumber\" style = \"font-weight: bold; text-align: right;\">3</td><td style = \"text-align: left;\">Cyclopaedia, or an Universal Dictionary of Arts and Sciences</td></tr><tr><td class = \"rowNumber\" style = \"font-weight: bold; text-align: right;\">4</td><td style = \"text-align: left;\">Ephraim Chambers</td></tr><tr><td class = \"rowNumber\" style = \"font-weight: bold; text-align: right;\">5</td><td style = \"text-align: left;\">Chambers&apos;s Encyclopaedia</td></tr><tr><td class = \"rowNumber\" style = \"font-weight: bold; text-align: right;\">6</td><td style = \"text-align: left;\">Colin Macfarquhar</td></tr><tr><td class = \"rowNumber\" style = \"font-weight: bold; text-align: right;\">7</td><td style = \"text-align: left;\">Andrew Bell (engraver)</td></tr><tr><td class = \"rowNumber\" style = \"font-weight: bold; text-align: right;\">8</td><td style = \"text-align: left;\">EncyclopÃ¦dia Britannica, Inc.</td></tr><tr><td class = \"rowNumber\" style = \"font-weight: bold; text-align: right;\">9</td><td style = \"text-align: left;\">MacropÃ¦dia</td></tr><tr><td class = \"rowNumber\" style = \"font-weight: bold; text-align: right;\">10</td><td style = \"text-align: left;\">Bien de InterÃ©s Cultural</td></tr><tr><td class = \"rowNumber\" style = \"font-weight: bold; text-align: right;\">11</td><td style = \"text-align: left;\">HathiTrust</td></tr><tr><td class = \"rowNumber\" style = \"font-weight: bold; text-align: right;\">12</td><td style = \"text-align: left;\">University of Michigan Library</td></tr><tr><td class = \"rowNumber\" style = \"font-weight: bold; text-align: right;\">13</td><td style = \"text-align: left;\">Committee on Institutional Cooperation</td></tr><tr><td style = \"text-align: right;\">&vellip;</td><td style = \"text-align: right;\">&vellip;</td></tr><tr><td class = \"rowNumber\" style = \"font-weight: bold; text-align: right;\">199892</td><td style = \"text-align: left;\">Powerboating</td></tr><tr><td class = \"rowNumber\" style = \"font-weight: bold; text-align: right;\">199893</td><td style = \"text-align: left;\">Lifesaving</td></tr><tr><td class = \"rowNumber\" style = \"font-weight: bold; text-align: right;\">199894</td><td style = \"text-align: left;\">Bocce</td></tr><tr><td class = \"rowNumber\" style = \"font-weight: bold; text-align: right;\">199895</td><td style = \"text-align: left;\">List of international sport federations</td></tr><tr><td class = \"rowNumber\" style = \"font-weight: bold; text-align: right;\">199896</td><td style = \"text-align: left;\">Boules</td></tr><tr><td class = \"rowNumber\" style = \"font-weight: bold; text-align: right;\">199897</td><td style = \"text-align: left;\">Association of Summer Olympic International Federations</td></tr><tr><td class = \"rowNumber\" style = \"font-weight: bold; text-align: right;\">199898</td><td style = \"text-align: left;\">Association of IOC Recognised International Sports Federations</td></tr><tr><td class = \"rowNumber\" style = \"font-weight: bold; text-align: right;\">199899</td><td style = \"text-align: left;\">SportAccord</td></tr><tr><td class = \"rowNumber\" style = \"font-weight: bold; text-align: right;\">199900</td><td style = \"text-align: left;\">World Games 2009</td></tr><tr><td class = \"rowNumber\" style = \"font-weight: bold; text-align: right;\">199901</td><td style = \"text-align: left;\">World Games</td></tr><tr><td class = \"rowNumber\" style = \"font-weight: bold; text-align: right;\">199902</td><td style = \"text-align: left;\">PÃ©tanque</td></tr><tr><td class = \"rowNumber\" style = \"font-weight: bold; text-align: right;\">199903</td><td style = \"text-align: left;\">Wheatpaste</td></tr></tbody></table></div>"
      ],
      "text/latex": [
       "\\begin{tabular}{r|c}\n",
       "\t& Name\\\\\n",
       "\t\\hline\n",
       "\t& String\\\\\n",
       "\t\\hline\n",
       "\t1 & Morphological parsing \\\\\n",
       "\t2 & Site-specific theatre \\\\\n",
       "\t3 & Cyclopaedia, or an Universal Dictionary of Arts and Sciences \\\\\n",
       "\t4 & Ephraim Chambers \\\\\n",
       "\t5 & Chambers's Encyclopaedia \\\\\n",
       "\t6 & Colin Macfarquhar \\\\\n",
       "\t7 & Andrew Bell (engraver) \\\\\n",
       "\t8 & EncyclopÃ¦dia Britannica, Inc. \\\\\n",
       "\t9 & MacropÃ¦dia \\\\\n",
       "\t10 & Bien de InterÃ©s Cultural \\\\\n",
       "\t11 & HathiTrust \\\\\n",
       "\t12 & University of Michigan Library \\\\\n",
       "\t13 & Committee on Institutional Cooperation \\\\\n",
       "\t14 & Percy Scholes \\\\\n",
       "\t15 & The Oxford Companion to Music \\\\\n",
       "\t16 & Cantus firmus \\\\\n",
       "\t17 & Heinrich SchÃ¼tz \\\\\n",
       "\t18 & Thurston Dart \\\\\n",
       "\t19 & Rondeau (music) \\\\\n",
       "\t20 & Messe de Nostre Dame \\\\\n",
       "\t21 & Isorhythm \\\\\n",
       "\t22 & Guillaume Dufay \\\\\n",
       "\t23 & Burgundian School \\\\\n",
       "\t24 & Gilles Binchois \\\\\n",
       "\t25 & Virginals \\\\\n",
       "\t26 & Florentine Camerata \\\\\n",
       "\t27 & Giulio Caccini \\\\\n",
       "\t28 & Jacopo Peri \\\\\n",
       "\t29 & Roman Catholic Marian music \\\\\n",
       "\t30 & Plainsong \\\\\n",
       "\t$\\dots$ & $\\dots$ \\\\\n",
       "\\end{tabular}\n"
      ],
      "text/plain": [
       "\u001b[1m199903×1 DataFrame\u001b[0m\n",
       "\u001b[1m    Row \u001b[0m│\u001b[1m Name                              \u001b[0m\n",
       "        │\u001b[90m String                            \u001b[0m\n",
       "────────┼───────────────────────────────────\n",
       "      1 │ Morphological parsing\n",
       "      2 │ Site-specific theatre\n",
       "      3 │ Cyclopaedia, or an Universal Dic…\n",
       "      4 │ Ephraim Chambers\n",
       "      5 │ Chambers's Encyclopaedia\n",
       "      6 │ Colin Macfarquhar\n",
       "      7 │ Andrew Bell (engraver)\n",
       "      8 │ EncyclopÃ¦dia Britannica, Inc.\n",
       "      9 │ MacropÃ¦dia\n",
       "     10 │ Bien de InterÃ©s Cultural\n",
       "     11 │ HathiTrust\n",
       "   ⋮    │                 ⋮\n",
       " 199894 │ Bocce\n",
       " 199895 │ List of international sport fede…\n",
       " 199896 │ Boules\n",
       " 199897 │ Association of Summer Olympic In…\n",
       " 199898 │ Association of IOC Recognised In…\n",
       " 199899 │ SportAccord\n",
       " 199900 │ World Games 2009\n",
       " 199901 │ World Games\n",
       " 199902 │ PÃ©tanque\n",
       " 199903 │ Wheatpaste\n",
       "\u001b[36m                         199882 rows omitted\u001b[0m"
      ]
     },
     "execution_count": 3,
     "metadata": {},
     "output_type": "execute_result"
    }
   ],
   "source": [
    "nodes = CSV.read(\"Desktop/data_hw7/names.csv\", DataFrames.DataFrame)"
   ]
  },
  {
   "cell_type": "code",
   "execution_count": 4,
   "id": "1930bf04",
   "metadata": {},
   "outputs": [
    {
     "data": {
      "text/html": [
       "<div><div style = \"float: left;\"><span>10722190×2 DataFrame</span></div><div style = \"float: right;\"><span style = \"font-style: italic;\">10722165 rows omitted</span></div><div style = \"clear: both;\"></div></div><div class = \"data-frame\" style = \"overflow-x: scroll;\"><table class = \"data-frame\" style = \"margin-bottom: 6px;\"><thead><tr class = \"header\"><th class = \"rowNumber\" style = \"font-weight: bold; text-align: right;\">Row</th><th style = \"text-align: left;\">FromNode</th><th style = \"text-align: left;\">ToNode</th></tr><tr class = \"subheader headerLastRow\"><th class = \"rowNumber\" style = \"font-weight: bold; text-align: right;\"></th><th title = \"Int64\" style = \"text-align: left;\">Int64</th><th title = \"Int64\" style = \"text-align: left;\">Int64</th></tr></thead><tbody><tr><td class = \"rowNumber\" style = \"font-weight: bold; text-align: right;\">1</td><td style = \"text-align: right;\">175973</td><td style = \"text-align: right;\">1</td></tr><tr><td class = \"rowNumber\" style = \"font-weight: bold; text-align: right;\">2</td><td style = \"text-align: right;\">130880</td><td style = \"text-align: right;\">2</td></tr><tr><td class = \"rowNumber\" style = \"font-weight: bold; text-align: right;\">3</td><td style = \"text-align: right;\">145856</td><td style = \"text-align: right;\">2</td></tr><tr><td class = \"rowNumber\" style = \"font-weight: bold; text-align: right;\">4</td><td style = \"text-align: right;\">159190</td><td style = \"text-align: right;\">2</td></tr><tr><td class = \"rowNumber\" style = \"font-weight: bold; text-align: right;\">5</td><td style = \"text-align: right;\">159200</td><td style = \"text-align: right;\">2</td></tr><tr><td class = \"rowNumber\" style = \"font-weight: bold; text-align: right;\">6</td><td style = \"text-align: right;\">159207</td><td style = \"text-align: right;\">2</td></tr><tr><td class = \"rowNumber\" style = \"font-weight: bold; text-align: right;\">7</td><td style = \"text-align: right;\">159431</td><td style = \"text-align: right;\">2</td></tr><tr><td class = \"rowNumber\" style = \"font-weight: bold; text-align: right;\">8</td><td style = \"text-align: right;\">4</td><td style = \"text-align: right;\">3</td></tr><tr><td class = \"rowNumber\" style = \"font-weight: bold; text-align: right;\">9</td><td style = \"text-align: right;\">5</td><td style = \"text-align: right;\">3</td></tr><tr><td class = \"rowNumber\" style = \"font-weight: bold; text-align: right;\">10</td><td style = \"text-align: right;\">6887</td><td style = \"text-align: right;\">3</td></tr><tr><td class = \"rowNumber\" style = \"font-weight: bold; text-align: right;\">11</td><td style = \"text-align: right;\">6916</td><td style = \"text-align: right;\">3</td></tr><tr><td class = \"rowNumber\" style = \"font-weight: bold; text-align: right;\">12</td><td style = \"text-align: right;\">6957</td><td style = \"text-align: right;\">3</td></tr><tr><td class = \"rowNumber\" style = \"font-weight: bold; text-align: right;\">13</td><td style = \"text-align: right;\">11490</td><td style = \"text-align: right;\">3</td></tr><tr><td style = \"text-align: right;\">&vellip;</td><td style = \"text-align: right;\">&vellip;</td><td style = \"text-align: right;\">&vellip;</td></tr><tr><td class = \"rowNumber\" style = \"font-weight: bold; text-align: right;\">10722179</td><td style = \"text-align: right;\">170697</td><td style = \"text-align: right;\">157057</td></tr><tr><td class = \"rowNumber\" style = \"font-weight: bold; text-align: right;\">10722180</td><td style = \"text-align: right;\">177550</td><td style = \"text-align: right;\">45</td></tr><tr><td class = \"rowNumber\" style = \"font-weight: bold; text-align: right;\">10722181</td><td style = \"text-align: right;\">30983</td><td style = \"text-align: right;\">29807</td></tr><tr><td class = \"rowNumber\" style = \"font-weight: bold; text-align: right;\">10722182</td><td style = \"text-align: right;\">76929</td><td style = \"text-align: right;\">104616</td></tr><tr><td class = \"rowNumber\" style = \"font-weight: bold; text-align: right;\">10722183</td><td style = \"text-align: right;\">86508</td><td style = \"text-align: right;\">120348</td></tr><tr><td class = \"rowNumber\" style = \"font-weight: bold; text-align: right;\">10722184</td><td style = \"text-align: right;\">128270</td><td style = \"text-align: right;\">198551</td></tr><tr><td class = \"rowNumber\" style = \"font-weight: bold; text-align: right;\">10722185</td><td style = \"text-align: right;\">152419</td><td style = \"text-align: right;\">116918</td></tr><tr><td class = \"rowNumber\" style = \"font-weight: bold; text-align: right;\">10722186</td><td style = \"text-align: right;\">156536</td><td style = \"text-align: right;\">190926</td></tr><tr><td class = \"rowNumber\" style = \"font-weight: bold; text-align: right;\">10722187</td><td style = \"text-align: right;\">170697</td><td style = \"text-align: right;\">112376</td></tr><tr><td class = \"rowNumber\" style = \"font-weight: bold; text-align: right;\">10722188</td><td style = \"text-align: right;\">177550</td><td style = \"text-align: right;\">108047</td></tr><tr><td class = \"rowNumber\" style = \"font-weight: bold; text-align: right;\">10722189</td><td style = \"text-align: right;\">181302</td><td style = \"text-align: right;\">84697</td></tr><tr><td class = \"rowNumber\" style = \"font-weight: bold; text-align: right;\">10722190</td><td style = \"text-align: right;\">189293</td><td style = \"text-align: right;\">154081</td></tr></tbody></table></div>"
      ],
      "text/latex": [
       "\\begin{tabular}{r|cc}\n",
       "\t& FromNode & ToNode\\\\\n",
       "\t\\hline\n",
       "\t& Int64 & Int64\\\\\n",
       "\t\\hline\n",
       "\t1 & 175973 & 1 \\\\\n",
       "\t2 & 130880 & 2 \\\\\n",
       "\t3 & 145856 & 2 \\\\\n",
       "\t4 & 159190 & 2 \\\\\n",
       "\t5 & 159200 & 2 \\\\\n",
       "\t6 & 159207 & 2 \\\\\n",
       "\t7 & 159431 & 2 \\\\\n",
       "\t8 & 4 & 3 \\\\\n",
       "\t9 & 5 & 3 \\\\\n",
       "\t10 & 6887 & 3 \\\\\n",
       "\t11 & 6916 & 3 \\\\\n",
       "\t12 & 6957 & 3 \\\\\n",
       "\t13 & 11490 & 3 \\\\\n",
       "\t14 & 11510 & 3 \\\\\n",
       "\t15 & 23173 & 3 \\\\\n",
       "\t16 & 23240 & 3 \\\\\n",
       "\t17 & 24038 & 3 \\\\\n",
       "\t18 & 24068 & 3 \\\\\n",
       "\t19 & 24373 & 3 \\\\\n",
       "\t20 & 24388 & 3 \\\\\n",
       "\t21 & 24834 & 3 \\\\\n",
       "\t22 & 26314 & 3 \\\\\n",
       "\t23 & 26656 & 3 \\\\\n",
       "\t24 & 28230 & 3 \\\\\n",
       "\t25 & 28453 & 3 \\\\\n",
       "\t26 & 32875 & 3 \\\\\n",
       "\t27 & 35452 & 3 \\\\\n",
       "\t28 & 53191 & 3 \\\\\n",
       "\t29 & 57775 & 3 \\\\\n",
       "\t30 & 59389 & 3 \\\\\n",
       "\t$\\dots$ & $\\dots$ & $\\dots$ \\\\\n",
       "\\end{tabular}\n"
      ],
      "text/plain": [
       "\u001b[1m10722190×2 DataFrame\u001b[0m\n",
       "\u001b[1m      Row \u001b[0m│\u001b[1m FromNode \u001b[0m\u001b[1m ToNode \u001b[0m\n",
       "          │\u001b[90m Int64    \u001b[0m\u001b[90m Int64  \u001b[0m\n",
       "──────────┼──────────────────\n",
       "        1 │   175973       1\n",
       "        2 │   130880       2\n",
       "        3 │   145856       2\n",
       "        4 │   159190       2\n",
       "        5 │   159200       2\n",
       "        6 │   159207       2\n",
       "        7 │   159431       2\n",
       "        8 │        4       3\n",
       "        9 │        5       3\n",
       "       10 │     6887       3\n",
       "       11 │     6916       3\n",
       "    ⋮     │    ⋮        ⋮\n",
       " 10722181 │    30983   29807\n",
       " 10722182 │    76929  104616\n",
       " 10722183 │    86508  120348\n",
       " 10722184 │   128270  198551\n",
       " 10722185 │   152419  116918\n",
       " 10722186 │   156536  190926\n",
       " 10722187 │   170697  112376\n",
       " 10722188 │   177550  108047\n",
       " 10722189 │   181302   84697\n",
       " 10722190 │   189293  154081\n",
       "\u001b[36m        10722169 rows omitted\u001b[0m"
      ]
     },
     "execution_count": 4,
     "metadata": {},
     "output_type": "execute_result"
    }
   ],
   "source": [
    "edges = CSV.read(\"Desktop/data_hw7/edges.csv\", DataFrames.DataFrame)"
   ]
  },
  {
   "cell_type": "code",
   "execution_count": 5,
   "id": "11da0dfe",
   "metadata": {},
   "outputs": [
    {
     "data": {
      "text/plain": [
       "10722190×2 Matrix{Int64}:\n",
       " 175973       1\n",
       " 130880       2\n",
       " 145856       2\n",
       " 159190       2\n",
       " 159200       2\n",
       " 159207       2\n",
       " 159431       2\n",
       "      4       3\n",
       "      5       3\n",
       "   6887       3\n",
       "   6916       3\n",
       "   6957       3\n",
       "  11490       3\n",
       "      ⋮  \n",
       " 170697  157057\n",
       " 177550      45\n",
       "  30983   29807\n",
       "  76929  104616\n",
       "  86508  120348\n",
       " 128270  198551\n",
       " 152419  116918\n",
       " 156536  190926\n",
       " 170697  112376\n",
       " 177550  108047\n",
       " 181302   84697\n",
       " 189293  154081"
      ]
     },
     "execution_count": 5,
     "metadata": {},
     "output_type": "execute_result"
    }
   ],
   "source": [
    "nodes = Matrix(nodes)\n",
    "edges = Matrix(edges)"
   ]
  },
  {
   "cell_type": "code",
   "execution_count": 6,
   "id": "58192bd5",
   "metadata": {},
   "outputs": [
    {
     "data": {
      "text/plain": [
       "199903-element Vector{Float64}:\n",
       " 1.0\n",
       " 1.0\n",
       " 1.0\n",
       " 1.0\n",
       " 1.0\n",
       " 1.0\n",
       " 1.0\n",
       " 1.0\n",
       " 1.0\n",
       " 1.0\n",
       " 1.0\n",
       " 1.0\n",
       " 1.0\n",
       " ⋮\n",
       " 1.0\n",
       " 1.0\n",
       " 1.0\n",
       " 1.0\n",
       " 1.0\n",
       " 1.0\n",
       " 1.0\n",
       " 1.0\n",
       " 1.0\n",
       " 1.0\n",
       " 1.0\n",
       " 1.0"
      ]
     },
     "execution_count": 6,
     "metadata": {},
     "output_type": "execute_result"
    }
   ],
   "source": [
    "r = ones(199903)"
   ]
  },
  {
   "cell_type": "code",
   "execution_count": 26,
   "id": "b43d5d56",
   "metadata": {},
   "outputs": [
    {
     "data": {
      "text/plain": [
       "199903-element Vector{Float64}:\n",
       " 0.0\n",
       " 0.0\n",
       " 0.0\n",
       " 0.0\n",
       " 0.0\n",
       " 0.0\n",
       " 0.0\n",
       " 0.0\n",
       " 0.0\n",
       " 0.0\n",
       " 0.0\n",
       " 0.0\n",
       " 0.0\n",
       " ⋮\n",
       " 0.0\n",
       " 0.0\n",
       " 0.0\n",
       " 0.0\n",
       " 0.0\n",
       " 0.0\n",
       " 0.0\n",
       " 0.0\n",
       " 0.0\n",
       " 0.0\n",
       " 0.0\n",
       " 0.0"
      ]
     },
     "execution_count": 26,
     "metadata": {},
     "output_type": "execute_result"
    }
   ],
   "source": []
  },
  {
   "cell_type": "code",
   "execution_count": 36,
   "id": "c602d98a",
   "metadata": {},
   "outputs": [],
   "source": [
    "I_O = [i for i in 1:199903]\n",
    "J_O = [i for i in 1:199903]\n",
    "V_O = zeros(199903)\n",
    "V = ones(Float64, 10722190)\n",
    "I, J = edges[:,1], edges[:,2]\n",
    "for i in 1:10722190\n",
    "    V_O[edges[i,1]] += 1\n",
    "end"
   ]
  },
  {
   "cell_type": "code",
   "execution_count": 37,
   "id": "4c287daa",
   "metadata": {},
   "outputs": [
    {
     "data": {
      "text/plain": [
       "199903×199903 SparseArrays.SparseMatrixCSC{Float64, Int64} with 10722190 stored entries:\n",
       "⣿⣿⣿⣿⣿⣿⣿⣿⣿⣿⣿⣿⣿⣿⣿⣿⣿⣿⣿⣿⣿⣿⣿⣿⣿⣿⣿⣿⣿⣿⣿⣿⣿⣿⣿⣿⣿⣿⣿⣿\n",
       "⣿⣿⣿⣿⣿⣿⣿⣿⣿⣿⣿⣿⣿⣿⣿⣿⣿⣿⣿⣿⣿⣿⣿⣿⣿⣿⣿⣿⣿⣿⣿⣿⣿⣿⣿⣿⣿⣿⣿⣿\n",
       "⣿⣿⣿⣿⣿⣿⣿⣿⣿⣿⣿⣿⣿⣿⣿⣿⣿⣿⣿⣿⣿⣿⣿⣿⣿⣿⣿⣿⣿⣿⣿⣿⣿⣿⣿⣿⣿⣿⣿⣿\n",
       "⣿⣿⣿⣿⣿⣿⣿⣿⣿⣿⣿⣿⣿⣿⣿⣿⣿⣿⣿⣿⣿⣿⣿⣿⣿⣿⣿⣿⣿⣿⣿⣿⣿⣿⣿⣿⣿⣿⣿⣿\n",
       "⣿⣿⣿⣿⣿⣿⣿⣿⣿⣿⣿⣿⣿⣿⣿⣿⣿⣿⣿⣿⣿⣿⣿⣿⣿⣿⣿⣿⣿⣿⣿⣿⣿⣿⣿⣿⣿⣿⣿⣿\n",
       "⣿⣿⣿⣿⣿⣿⣿⣿⣿⣿⣿⣿⣿⣿⣿⣿⣿⣿⣿⣿⣿⣿⣿⣿⣿⣿⣿⣿⣿⣿⣿⣿⣿⣿⣿⣿⣿⣿⣿⣿\n",
       "⣿⣿⣿⣿⣿⣿⣿⣿⣿⣿⣿⣿⣿⣿⣿⣿⣿⣿⣿⣿⣿⣿⣿⣿⣿⣿⣿⣿⣿⣿⣿⣿⣿⣿⣿⣿⣿⣿⣿⣿\n",
       "⣿⣿⣿⣿⣿⣿⣿⣿⣿⣿⣿⣿⣿⣿⣿⣿⣿⣿⣿⣿⣿⣿⣿⣿⣿⣿⣿⣿⣿⣿⣿⣿⣿⣿⣿⣿⣿⣿⣿⣿\n",
       "⣿⣿⣿⣿⣿⣿⣿⣿⣿⣿⣿⣿⣿⣿⣿⣿⣿⣿⣿⣿⣿⣿⣿⣿⣿⣿⣿⣿⣿⣿⣿⣿⣿⣿⣿⣿⣿⣿⣿⣿\n",
       "⣿⣿⣿⣿⣿⣿⣿⣿⣿⣿⣿⣿⣿⣿⣿⣿⣿⣿⣿⣿⣿⣿⣿⣿⣿⣿⣿⣿⣿⣿⣿⣿⣿⣿⣿⣿⣿⣿⣿⣿\n",
       "⣿⣿⣿⣿⣿⣿⣿⣿⣿⣿⣿⣿⣿⣿⣿⣿⣿⣿⣿⣿⣿⣿⣿⣿⣿⣿⣿⣿⣿⣿⣿⣿⣿⣿⣿⣿⣿⣿⣿⣿\n",
       "⣿⣿⣿⣿⣿⣿⣿⣿⣿⣿⣿⣿⣿⣿⣿⣿⣿⣿⣿⣿⣿⣿⣿⣿⣿⣿⣿⣿⣿⣿⣿⣿⣿⣿⣿⣿⣿⣿⣿⣿\n",
       "⣿⣿⣿⣿⣿⣿⣿⣿⣿⣿⣿⣿⣿⣿⣿⣿⣿⣿⣿⣿⣿⣿⣿⣿⣿⣿⣿⣿⣿⣿⣿⣿⣿⣿⣿⣿⣿⣿⣿⣿\n",
       "⣿⣿⣿⣿⣿⣿⣿⣿⣿⣿⣿⣿⣿⣿⣿⣿⣿⣿⣿⣿⣿⣿⣿⣿⣿⣿⣿⣿⣿⣿⣿⣿⣿⣿⣿⣿⣿⣿⣿⣿\n",
       "⣿⣿⣿⣿⣿⣿⣿⣿⣿⣿⣿⣿⣿⣿⣿⣿⣿⣿⣿⣿⣿⣿⣿⣿⣿⣿⣿⣿⣿⣿⣿⣿⣿⣿⣿⣿⣿⣿⣿⣿\n",
       "⣿⣿⣿⣿⣿⣿⣿⣿⣿⣿⣿⣿⣿⣿⣿⣿⣿⣿⣿⣿⣿⣿⣿⣿⣿⣿⣿⣿⣿⣿⣿⣿⣿⣿⣿⣿⣿⣿⣿⣿\n",
       "⣿⣿⣿⣿⣿⣿⣿⣿⣿⣿⣿⣿⣿⣿⣿⣿⣿⣿⣿⣿⣿⣿⣿⣿⣿⣿⣿⣿⣿⣿⣿⣿⣿⣿⣿⣿⣿⣿⣿⣿\n",
       "⣿⣿⣿⣿⣿⣿⣿⣿⣿⣿⣿⣿⣿⣿⣿⣿⣿⣿⣿⣿⣿⣿⣿⣿⣿⣿⣿⣿⣿⣿⣿⣿⣿⣿⣿⣿⣿⣿⣿⣿\n",
       "⣿⣿⣿⣿⣿⣿⣿⣿⣿⣿⣿⣿⣿⣿⣿⣿⣿⣿⣿⣿⣿⣿⣿⣿⣿⣿⣿⣿⣿⣿⣿⣿⣿⣿⣿⣿⣿⣿⣿⣿\n",
       "⣿⣿⣿⣿⣿⣿⣿⣿⣿⣿⣿⣿⣿⣿⣿⣿⣿⣿⣿⣿⣿⣿⣿⣿⣿⣿⣿⣿⣿⣿⣿⣿⣿⣿⣿⣿⣿⣿⣿⣿"
      ]
     },
     "execution_count": 37,
     "metadata": {},
     "output_type": "execute_result"
    }
   ],
   "source": [
    "A = SparseArrays.sparse(I, J, V, 199903, 199903)"
   ]
  },
  {
   "cell_type": "code",
   "execution_count": 38,
   "id": "a1f78827",
   "metadata": {},
   "outputs": [],
   "source": [
    "import SparseArrays"
   ]
  },
  {
   "cell_type": "code",
   "execution_count": 39,
   "id": "4415cb5a",
   "metadata": {},
   "outputs": [
    {
     "data": {
      "text/plain": [
       "199903×199903 SparseArrays.SparseMatrixCSC{Float64, Int64} with 199903 stored entries:\n",
       "⠑⢄⠀⠀⠀⠀⠀⠀⠀⠀⠀⠀⠀⠀⠀⠀⠀⠀⠀⠀⠀⠀⠀⠀⠀⠀⠀⠀⠀⠀⠀⠀⠀⠀⠀⠀⠀⠀⠀⠀\n",
       "⠀⠀⠑⢄⠀⠀⠀⠀⠀⠀⠀⠀⠀⠀⠀⠀⠀⠀⠀⠀⠀⠀⠀⠀⠀⠀⠀⠀⠀⠀⠀⠀⠀⠀⠀⠀⠀⠀⠀⠀\n",
       "⠀⠀⠀⠀⠑⢄⠀⠀⠀⠀⠀⠀⠀⠀⠀⠀⠀⠀⠀⠀⠀⠀⠀⠀⠀⠀⠀⠀⠀⠀⠀⠀⠀⠀⠀⠀⠀⠀⠀⠀\n",
       "⠀⠀⠀⠀⠀⠀⠑⢄⠀⠀⠀⠀⠀⠀⠀⠀⠀⠀⠀⠀⠀⠀⠀⠀⠀⠀⠀⠀⠀⠀⠀⠀⠀⠀⠀⠀⠀⠀⠀⠀\n",
       "⠀⠀⠀⠀⠀⠀⠀⠀⠑⢄⠀⠀⠀⠀⠀⠀⠀⠀⠀⠀⠀⠀⠀⠀⠀⠀⠀⠀⠀⠀⠀⠀⠀⠀⠀⠀⠀⠀⠀⠀\n",
       "⠀⠀⠀⠀⠀⠀⠀⠀⠀⠀⠑⢄⠀⠀⠀⠀⠀⠀⠀⠀⠀⠀⠀⠀⠀⠀⠀⠀⠀⠀⠀⠀⠀⠀⠀⠀⠀⠀⠀⠀\n",
       "⠀⠀⠀⠀⠀⠀⠀⠀⠀⠀⠀⠀⠑⢄⠀⠀⠀⠀⠀⠀⠀⠀⠀⠀⠀⠀⠀⠀⠀⠀⠀⠀⠀⠀⠀⠀⠀⠀⠀⠀\n",
       "⠀⠀⠀⠀⠀⠀⠀⠀⠀⠀⠀⠀⠀⠀⠑⢄⠀⠀⠀⠀⠀⠀⠀⠀⠀⠀⠀⠀⠀⠀⠀⠀⠀⠀⠀⠀⠀⠀⠀⠀\n",
       "⠀⠀⠀⠀⠀⠀⠀⠀⠀⠀⠀⠀⠀⠀⠀⠀⠑⢄⠀⠀⠀⠀⠀⠀⠀⠀⠀⠀⠀⠀⠀⠀⠀⠀⠀⠀⠀⠀⠀⠀\n",
       "⠀⠀⠀⠀⠀⠀⠀⠀⠀⠀⠀⠀⠀⠀⠀⠀⠀⠀⠑⢄⠀⠀⠀⠀⠀⠀⠀⠀⠀⠀⠀⠀⠀⠀⠀⠀⠀⠀⠀⠀\n",
       "⠀⠀⠀⠀⠀⠀⠀⠀⠀⠀⠀⠀⠀⠀⠀⠀⠀⠀⠀⠀⠑⢄⠀⠀⠀⠀⠀⠀⠀⠀⠀⠀⠀⠀⠀⠀⠀⠀⠀⠀\n",
       "⠀⠀⠀⠀⠀⠀⠀⠀⠀⠀⠀⠀⠀⠀⠀⠀⠀⠀⠀⠀⠀⠀⠑⢄⠀⠀⠀⠀⠀⠀⠀⠀⠀⠀⠀⠀⠀⠀⠀⠀\n",
       "⠀⠀⠀⠀⠀⠀⠀⠀⠀⠀⠀⠀⠀⠀⠀⠀⠀⠀⠀⠀⠀⠀⠀⠀⠑⢄⠀⠀⠀⠀⠀⠀⠀⠀⠀⠀⠀⠀⠀⠀\n",
       "⠀⠀⠀⠀⠀⠀⠀⠀⠀⠀⠀⠀⠀⠀⠀⠀⠀⠀⠀⠀⠀⠀⠀⠀⠀⠀⠑⢄⠀⠀⠀⠀⠀⠀⠀⠀⠀⠀⠀⠀\n",
       "⠀⠀⠀⠀⠀⠀⠀⠀⠀⠀⠀⠀⠀⠀⠀⠀⠀⠀⠀⠀⠀⠀⠀⠀⠀⠀⠀⠀⠑⢄⠀⠀⠀⠀⠀⠀⠀⠀⠀⠀\n",
       "⠀⠀⠀⠀⠀⠀⠀⠀⠀⠀⠀⠀⠀⠀⠀⠀⠀⠀⠀⠀⠀⠀⠀⠀⠀⠀⠀⠀⠀⠀⠑⢄⠀⠀⠀⠀⠀⠀⠀⠀\n",
       "⠀⠀⠀⠀⠀⠀⠀⠀⠀⠀⠀⠀⠀⠀⠀⠀⠀⠀⠀⠀⠀⠀⠀⠀⠀⠀⠀⠀⠀⠀⠀⠀⠑⢄⠀⠀⠀⠀⠀⠀\n",
       "⠀⠀⠀⠀⠀⠀⠀⠀⠀⠀⠀⠀⠀⠀⠀⠀⠀⠀⠀⠀⠀⠀⠀⠀⠀⠀⠀⠀⠀⠀⠀⠀⠀⠀⠑⢄⠀⠀⠀⠀\n",
       "⠀⠀⠀⠀⠀⠀⠀⠀⠀⠀⠀⠀⠀⠀⠀⠀⠀⠀⠀⠀⠀⠀⠀⠀⠀⠀⠀⠀⠀⠀⠀⠀⠀⠀⠀⠀⠑⢄⠀⠀\n",
       "⠀⠀⠀⠀⠀⠀⠀⠀⠀⠀⠀⠀⠀⠀⠀⠀⠀⠀⠀⠀⠀⠀⠀⠀⠀⠀⠀⠀⠀⠀⠀⠀⠀⠀⠀⠀⠀⠀⠑⢄"
      ]
     },
     "execution_count": 39,
     "metadata": {},
     "output_type": "execute_result"
    }
   ],
   "source": [
    "O_inverse = SparseArrays.sparse(I_O, J_O, 1 ./V_O, 199903, 199903)"
   ]
  },
  {
   "cell_type": "code",
   "execution_count": 40,
   "id": "a6628e15",
   "metadata": {},
   "outputs": [
    {
     "data": {
      "text/plain": [
       "power_iteration (generic function with 1 method)"
      ]
     },
     "execution_count": 40,
     "metadata": {},
     "output_type": "execute_result"
    }
   ],
   "source": [
    "function power_iteration(M, r)\n",
    "    stop = 1\n",
    "    while stop >= 1e-15\n",
    "        temp = M*r\n",
    "        stop = sum(temp-r)/sum(r)\n",
    "        r = temp\n",
    "#         println(r)\n",
    "        r = r/sqrt(r'r)\n",
    "    end\n",
    "    return r\n",
    "end"
   ]
  },
  {
   "cell_type": "code",
   "execution_count": 41,
   "id": "6a1ecace",
   "metadata": {},
   "outputs": [
    {
     "data": {
      "text/plain": [
       "199903×199903 SparseArrays.SparseMatrixCSC{Float64, Int64} with 10722190 stored entries:\n",
       "⣿⣿⣿⣿⣿⣿⣿⣿⣿⣿⣿⣿⣿⣿⣿⣿⣿⣿⣿⣿⣿⣿⣿⣿⣿⣿⣿⣿⣿⣿⣿⣿⣿⣿⣿⣿⣿⣿⣿⣿\n",
       "⣿⣿⣿⣿⣿⣿⣿⣿⣿⣿⣿⣿⣿⣿⣿⣿⣿⣿⣿⣿⣿⣿⣿⣿⣿⣿⣿⣿⣿⣿⣿⣿⣿⣿⣿⣿⣿⣿⣿⣿\n",
       "⣿⣿⣿⣿⣿⣿⣿⣿⣿⣿⣿⣿⣿⣿⣿⣿⣿⣿⣿⣿⣿⣿⣿⣿⣿⣿⣿⣿⣿⣿⣿⣿⣿⣿⣿⣿⣿⣿⣿⣿\n",
       "⣿⣿⣿⣿⣿⣿⣿⣿⣿⣿⣿⣿⣿⣿⣿⣿⣿⣿⣿⣿⣿⣿⣿⣿⣿⣿⣿⣿⣿⣿⣿⣿⣿⣿⣿⣿⣿⣿⣿⣿\n",
       "⣿⣿⣿⣿⣿⣿⣿⣿⣿⣿⣿⣿⣿⣿⣿⣿⣿⣿⣿⣿⣿⣿⣿⣿⣿⣿⣿⣿⣿⣿⣿⣿⣿⣿⣿⣿⣿⣿⣿⣿\n",
       "⣿⣿⣿⣿⣿⣿⣿⣿⣿⣿⣿⣿⣿⣿⣿⣿⣿⣿⣿⣿⣿⣿⣿⣿⣿⣿⣿⣿⣿⣿⣿⣿⣿⣿⣿⣿⣿⣿⣿⣿\n",
       "⣿⣿⣿⣿⣿⣿⣿⣿⣿⣿⣿⣿⣿⣿⣿⣿⣿⣿⣿⣿⣿⣿⣿⣿⣿⣿⣿⣿⣿⣿⣿⣿⣿⣿⣿⣿⣿⣿⣿⣿\n",
       "⣿⣿⣿⣿⣿⣿⣿⣿⣿⣿⣿⣿⣿⣿⣿⣿⣿⣿⣿⣿⣿⣿⣿⣿⣿⣿⣿⣿⣿⣿⣿⣿⣿⣿⣿⣿⣿⣿⣿⣿\n",
       "⣿⣿⣿⣿⣿⣿⣿⣿⣿⣿⣿⣿⣿⣿⣿⣿⣿⣿⣿⣿⣿⣿⣿⣿⣿⣿⣿⣿⣿⣿⣿⣿⣿⣿⣿⣿⣿⣿⣿⣿\n",
       "⣿⣿⣿⣿⣿⣿⣿⣿⣿⣿⣿⣿⣿⣿⣿⣿⣿⣿⣿⣿⣿⣿⣿⣿⣿⣿⣿⣿⣿⣿⣿⣿⣿⣿⣿⣿⣿⣿⣿⣿\n",
       "⣿⣿⣿⣿⣿⣿⣿⣿⣿⣿⣿⣿⣿⣿⣿⣿⣿⣿⣿⣿⣿⣿⣿⣿⣿⣿⣿⣿⣿⣿⣿⣿⣿⣿⣿⣿⣿⣿⣿⣿\n",
       "⣿⣿⣿⣿⣿⣿⣿⣿⣿⣿⣿⣿⣿⣿⣿⣿⣿⣿⣿⣿⣿⣿⣿⣿⣿⣿⣿⣿⣿⣿⣿⣿⣿⣿⣿⣿⣿⣿⣿⣿\n",
       "⣿⣿⣿⣿⣿⣿⣿⣿⣿⣿⣿⣿⣿⣿⣿⣿⣿⣿⣿⣿⣿⣿⣿⣿⣿⣿⣿⣿⣿⣿⣿⣿⣿⣿⣿⣿⣿⣿⣿⣿\n",
       "⣿⣿⣿⣿⣿⣿⣿⣿⣿⣿⣿⣿⣿⣿⣿⣿⣿⣿⣿⣿⣿⣿⣿⣿⣿⣿⣿⣿⣿⣿⣿⣿⣿⣿⣿⣿⣿⣿⣿⣿\n",
       "⣿⣿⣿⣿⣿⣿⣿⣿⣿⣿⣿⣿⣿⣿⣿⣿⣿⣿⣿⣿⣿⣿⣿⣿⣿⣿⣿⣿⣿⣿⣿⣿⣿⣿⣿⣿⣿⣿⣿⣿\n",
       "⣿⣿⣿⣿⣿⣿⣿⣿⣿⣿⣿⣿⣿⣿⣿⣿⣿⣿⣿⣿⣿⣿⣿⣿⣿⣿⣿⣿⣿⣿⣿⣿⣿⣿⣿⣿⣿⣿⣿⣿\n",
       "⣿⣿⣿⣿⣿⣿⣿⣿⣿⣿⣿⣿⣿⣿⣿⣿⣿⣿⣿⣿⣿⣿⣿⣿⣿⣿⣿⣿⣿⣿⣿⣿⣿⣿⣿⣿⣿⣿⣿⣿\n",
       "⣿⣿⣿⣿⣿⣿⣿⣿⣿⣿⣿⣿⣿⣿⣿⣿⣿⣿⣿⣿⣿⣿⣿⣿⣿⣿⣿⣿⣿⣿⣿⣿⣿⣿⣿⣿⣿⣿⣿⣿\n",
       "⣿⣿⣿⣿⣿⣿⣿⣿⣿⣿⣿⣿⣿⣿⣿⣿⣿⣿⣿⣿⣿⣿⣿⣿⣿⣿⣿⣿⣿⣿⣿⣿⣿⣿⣿⣿⣿⣿⣿⣿\n",
       "⣿⣿⣿⣿⣿⣿⣿⣿⣿⣿⣿⣿⣿⣿⣿⣿⣿⣿⣿⣿⣿⣿⣿⣿⣿⣿⣿⣿⣿⣿⣿⣿⣿⣿⣿⣿⣿⣿⣿⣿"
      ]
     },
     "execution_count": 41,
     "metadata": {},
     "output_type": "execute_result"
    }
   ],
   "source": [
    "M = A'*O_inverse"
   ]
  },
  {
   "cell_type": "code",
   "execution_count": 42,
   "id": "bfc64702",
   "metadata": {},
   "outputs": [
    {
     "data": {
      "text/plain": [
       "199903-element Vector{Float64}:\n",
       " 1.4448522822227216e-5\n",
       " 7.51306387133046e-5\n",
       " 0.0007739513085909254\n",
       " 0.00038438750596131693\n",
       " 0.000373953076944518\n",
       " 8.139739243715232e-5\n",
       " 0.00016896953685967582\n",
       " 0.0006068302550897697\n",
       " 3.586197459465626e-5\n",
       " 0.00014510579679888935\n",
       " 0.0001157057549639391\n",
       " 0.00011932184292548664\n",
       " 0.00015592582856270112\n",
       " ⋮\n",
       " 0.000119528475781862\n",
       " 0.00018450288270517844\n",
       " 0.00027504082113561246\n",
       " 0.000980088908574432\n",
       " 0.00017660346130321086\n",
       " 0.00011732085139402965\n",
       " 0.00010733103404836694\n",
       " 0.0003172466550420495\n",
       " 0.00018659548152170222\n",
       " 0.0006154486458275966\n",
       " 0.00040089962592802764\n",
       " 0.0001586347200379121"
      ]
     },
     "execution_count": 42,
     "metadata": {},
     "output_type": "execute_result"
    }
   ],
   "source": [
    "r̂ = power_iteration(M, r)"
   ]
  },
  {
   "cell_type": "code",
   "execution_count": 43,
   "id": "2274b8f8",
   "metadata": {},
   "outputs": [
    {
     "data": {
      "text/plain": [
       "199903-element Vector{Int64}:\n",
       " 112356\n",
       " 168241\n",
       "  60041\n",
       " 138128\n",
       " 138420\n",
       " 151511\n",
       " 155603\n",
       " 156485\n",
       " 104756\n",
       "  49148\n",
       " 149853\n",
       "  93823\n",
       " 145591\n",
       "      ⋮\n",
       " 126980\n",
       " 165015\n",
       " 127292\n",
       "  78716\n",
       "  98008\n",
       " 133679\n",
       " 158562\n",
       " 199230\n",
       "  58609\n",
       " 124453\n",
       " 157068\n",
       " 173527"
      ]
     },
     "execution_count": 43,
     "metadata": {},
     "output_type": "execute_result"
    }
   ],
   "source": [
    "sorted_result = sortperm(r̂, rev = true)"
   ]
  },
  {
   "cell_type": "code",
   "execution_count": 44,
   "id": "93d8a07f",
   "metadata": {},
   "outputs": [
    {
     "data": {
      "text/plain": [
       "199903-element Vector{String}:\n",
       " \"United States\"\n",
       " \"United Kingdom\"\n",
       " \"France\"\n",
       " \"World War II\"\n",
       " \"Germany\"\n",
       " \"Canada\"\n",
       " \"England\"\n",
       " \"Italy\"\n",
       " \"London\"\n",
       " \"English language\"\n",
       " \"China\"\n",
       " \"Australia\"\n",
       " \"India\"\n",
       " ⋮\n",
       " \"Abortion in the United States by state\"\n",
       " \"USA (disambiguation)\"\n",
       " \"Parliamentary sovereignty in the United Kingdom\"\n",
       " \"History of Roman Catholicism in France\"\n",
       " \"French Madagascar\"\n",
       " \"Pointe du Van\"\n",
       " \"Hate speech laws in France\"\n",
       " \"Enercoop\"\n",
       " \"Communes of Cameroon\"\n",
       " \"1991 Bangladesh census\"\n",
       " \"Administrative divisions of Iran\"\n",
       " \"List of cities in Tunisia\""
      ]
     },
     "execution_count": 44,
     "metadata": {},
     "output_type": "execute_result"
    }
   ],
   "source": [
    "nodes[sorted_result]"
   ]
  },
  {
   "cell_type": "code",
   "execution_count": null,
   "id": "2d749224",
   "metadata": {},
   "outputs": [],
   "source": []
  },
  {
   "cell_type": "code",
   "execution_count": null,
   "id": "fa5c6766",
   "metadata": {},
   "outputs": [],
   "source": []
  }
 ],
 "metadata": {
  "kernelspec": {
   "display_name": "Julia 1.8.0",
   "language": "julia",
   "name": "julia-1.8"
  },
  "language_info": {
   "file_extension": ".jl",
   "mimetype": "application/julia",
   "name": "julia",
   "version": "1.8.0"
  }
 },
 "nbformat": 4,
 "nbformat_minor": 5
}
