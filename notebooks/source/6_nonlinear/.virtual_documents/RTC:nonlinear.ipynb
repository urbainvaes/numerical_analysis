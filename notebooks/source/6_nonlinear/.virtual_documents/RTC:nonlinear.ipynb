


using LinearAlgebra
using Plots
using Polynomials





### BEGIN SOLUTION
plot(x->(x-1)^2, xlim=(-1,2), xlabel="x", ylabel="y", label="(x-1)²")
plot!(x->√(4-x^2), label="√(4-x²)", aspect_ratio=:equal)
### END SOLUTION





### BEGIN SOLUTION
nothing
### END SOLUTION





# ### BEGIN SOLUTION
nothing
# ### END SOLUTION





### BEGIN SOLUTION
nothing
### END SOLUTION








function Babylonian(a; n = 10)
    ### BEGIN SOLUTION
    x = [(1+a)/2]
    for i = 1:n push!(x, (x[end]+a/x[end])/2) end
    return x
    ### END SOLUTION
end


for a in (0.1, 2, 25, 100)
    @assert Babylonian(a)[end] ≈ √a
end





### BEGIN SOLUTION
plot(abs.(Babylonian(2) .- √2), yaxis=:log10, xlabel="k", ylabel="|xₖ-x*|", label="")
### END SOLUTION





import Base: +, -, *, /, inv, isapprox, convert, promote_rule
using LinearAlgebra

struct D <: Number
    f::Tuple{Float64, Float64}
end
D(a::Real, b::Real) = D((a, b))
+(x::D, y::D) = D(x.f .+ y.f)
-(x::D, y::D) = D(x.f .- y.f)
*(x::D, y::D) = D(x.f[1]*y.f[1], x.f[2]*y.f[1] + x.f[1]*y.f[2])
### BEGIN SOLUTION
/(x::D, y::D) = D(x.f[1]/y.f[1], (y.f[1]*x.f[2] - x.f[1]*y.f[2])/y.f[1]^2)
inv(x::D) = D(1/x.f[1], -x.f[2]/x.f[1]^2)
### END SOLUTION
-(x::D) = D(.-(x.f))
isapprox(x::D, y::D; kwargs...) = all(isapprox.(x.f, y.f ; kwargs...))
convert(::Type{D}, x::Real) = D((x,zero(x)))
promote_rule(::Type{D}, ::Type{<:Real}) = D
Base.show(io::IO,x::D) = print(io,x.f[1],x.f[2]<0 ? " - " : " + ",abs(x.f[2])," ε")

# Construction of a dual number
x = D(0.1, -1.6)





### BEGIN SOLUTION
ε = D((0,1))
@show (1+2ɛ)*(3+4ɛ)
@show 1/(1+ɛ)
@show (1+2ɛ)/(2-ɛ)
### END SOLUTION


@assert (1+2ɛ)*(3+4ɛ) == 3+10ɛ "error"
@assert 1/(1+ɛ) == 1-ɛ "error"
@assert (1+2ɛ)/(2-ɛ) == 1/2+5ɛ/4 "error"

### BEGIN HIDDEN TESTS
a, b, c, d = rand(4)
@assert 1/(a+b*ɛ) == inv(a+b*ɛ) == 1/a-b/a^2*ε
@assert (a+b*ɛ)/(c+d*ɛ) == a/c + (b*c-a*d)/c^2*ε
### END HIDDEN TESTS





function derivative_sqrt(a; n = 10)
    ### BEGIN SOLUTION
    return Babylonian(a+ε)[end].f[2]
    ### END SOLUTION
end


for a in (0.1, 2, 25, 100)
    @assert derivative_sqrt(a) ≈ 1/2√a
end





### BEGIN SOLUTION
xplot = LinRange(0.1,10,200)
plot(xplot, x -> Babylonian(x+ε)[end].f[2], label="Méth. babylonienne")
plot!(xplot, x -> 1/2√x, linestyle=:dashdot, linewidth=3, label="1/2√x")
### END SOLUTION





function nthrt(a, p=2; x=1, n=100)
    ### BEGIN SOLUTION
    for i = 1:n x = ((p-1)*x+a/x^(p-1))/p end
    return x
    ### END SOLUTION
end


for a in (0.1, 2, 25, 100), p in (2, 3, 5)
    @assert nthrt(a+ε, p) ≈ a^(1/p) + a^(1/p-1)/p*ε "error for (a,p)=($a,$p)"
end





x = [0.0; 0.1; 0.2; 0.3; 0.4; 0.5; 0.6; 0.7; 0.8; 0.9; 1.0]
y = [0.6761488864859304; 0.6345697680852508; 0.6396283580587062; 0.6132010027973919;
     0.5906142598705267; 0.5718728461471725; 0.5524549902830562; 0.538938885654085;
     0.5373495476994958; 0.514904589752926; 0.49243437874655027]
f(a,b) = x -> a / (b+x)

### BEGIN SOLUTION
nothing
### END SOLUTION





x = [0.0; 0.1; 0.2; 0.3; 0.4; 0.5; 0.6; 0.7; 0.8; 0.9; 1.0]
y = [-0.9187980789440975; -0.6159791344678258; -0.25568734869121856;
     -0.14269370171581808; 0.3094396057228459; 0.6318327173549161;
     0.8370437988106428; 1.0970402798788812; 1.6057799131867696;
     1.869090784869698; 2.075369730726694]
f(a,b) = x -> a*x+b

### BEGIN SOLUTION
nothing
### END SOLUTION
