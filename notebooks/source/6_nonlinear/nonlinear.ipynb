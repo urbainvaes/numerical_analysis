{
 "cells": [
  {
   "cell_type": "markdown",
   "id": "f53e6116",
   "metadata": {},
   "source": [
    "## Notebook 6 : Nonlinear equations"
   ]
  },
  {
   "cell_type": "code",
   "execution_count": null,
   "id": "f5c8c99f",
   "metadata": {},
   "outputs": [],
   "source": [
    "using LinearAlgebra\n",
    "using Plots\n",
    "using Polynomials"
   ]
  },
  {
   "cell_type": "markdown",
   "id": "2b66cf17",
   "metadata": {},
   "source": [
    "### <font color='orange'>[Exercise 1]</font> Newton-Raphson in dimension 2\n",
    "\n",
    "We consider the following linear system:\n",
    "$$\n",
    "\\left \\{\n",
    "    \\begin{aligned}\n",
    "        &y = (x-1)^2 \\\\\n",
    "        &x^2 + y^2 = 4\n",
    "    \\end{aligned}\n",
    "\\right.\n",
    "$$\n",
    "\n",
    "1. Plot appropriate graphs to roughly visualize the zone(s) containing solution(s).\n"
   ]
  },
  {
   "cell_type": "code",
   "execution_count": null,
   "id": "fd0e10b0",
   "metadata": {
    "nbgrader": {
     "grade": true,
     "grade_id": "cell-87d5b9021583a6dc",
     "locked": false,
     "points": 1,
     "schema_version": 3,
     "solution": true,
     "task": false
    }
   },
   "outputs": [],
   "source": [
    "### BEGIN SOLUTION\n",
    "plot(x->(x-1)^2, xlim=(-1,2), xlabel=\"x\", ylabel=\"y\", label=\"(x-1)²\")\n",
    "plot!(x->√(4-x^2), label=\"√(4-x²)\", aspect_ratio=:equal)\n",
    "### END SOLUTION"
   ]
  },
  {
   "cell_type": "markdown",
   "id": "0187b6a9",
   "metadata": {},
   "source": [
    "2. Implement the chord method to compute precise approximations the solutions."
   ]
  },
  {
   "cell_type": "code",
   "execution_count": null,
   "id": "f7347136",
   "metadata": {
    "nbgrader": {
     "grade": true,
     "grade_id": "cell-210b54914b0fd6c7",
     "locked": false,
     "points": 0,
     "schema_version": 3,
     "solution": true,
     "task": false
    }
   },
   "outputs": [],
   "source": [
    "### BEGIN SOLUTION\n",
    "nothing\n",
    "### END SOLUTION"
   ]
  },
  {
   "cell_type": "markdown",
   "id": "76a5c80c",
   "metadata": {},
   "source": [
    "3. Implement the Newton-Raphson method to compute precise approximations the solutions, \n",
    "   and print the number of iterations that are required."
   ]
  },
  {
   "cell_type": "code",
   "execution_count": null,
   "id": "c252f6e1",
   "metadata": {
    "nbgrader": {
     "grade": true,
     "grade_id": "cell-45afdb05a9da8e1d",
     "locked": false,
     "points": 0,
     "schema_version": 3,
     "solution": true,
     "task": false
    }
   },
   "outputs": [],
   "source": [
    "# ### BEGIN SOLUTION\n",
    "nothing\n",
    "# ### END SOLUTION"
   ]
  },
  {
   "cell_type": "markdown",
   "id": "716ed5a5",
   "metadata": {},
   "source": [
    "4. Estimate the order of convergence, i.e., $q$ such that\n",
    "   $$\n",
    "   \\lim_{k \\to \\infty} \\frac{\\lVert \\mathbf{x}_{k+1} - \\mathbf{x}_* \\rVert}{\\lVert \\mathbf{x}_k - \\mathbf{x}_* \\rVert^q} \\in \\mathbb{R}^*_+\n",
    "   $$\n",
    "   for the solutions. \n",
    "\n",
    "   <details>\n",
    "       <summary>\n",
    "           <em><font color='gray'>Hint (click to display)</font></em>\n",
    "       </summary>\n",
    "\n",
    "   Let $y_k := -\\log(\\lVert \\mathbf{x}_k - \\mathbf{x}_* \\rVert^q)$.\n",
    "   The limit given implies that\n",
    "   $$\n",
    "   \\lim_{k \\to \\infty} y_{k+1} - q y_k = C \\in \\mathbb{R}.\n",
    "   $$\n",
    "   From this, we deduce that\n",
    "   $$\n",
    "   q = \\lim_{k \\to \\infty} \\frac{y_{k+1}}{y_k}.\n",
    "   $$\n",
    "   This equation allows estimating $q$ from $y_{k+1}$ and $y_k$ for sufficiently large $k$."
   ]
  },
  {
   "cell_type": "code",
   "execution_count": null,
   "id": "15ee15e7",
   "metadata": {
    "nbgrader": {
     "grade": true,
     "grade_id": "cell-aaa07e2866c41119",
     "locked": false,
     "points": 1,
     "schema_version": 3,
     "solution": true,
     "task": false
    }
   },
   "outputs": [],
   "source": [
    "### BEGIN SOLUTION\n",
    "nothing\n",
    "### END SOLUTION"
   ]
  },
  {
   "cell_type": "markdown",
   "id": "9af250bb",
   "metadata": {},
   "source": [
    "### <font color='green'> Introduction to automatic differentiation</font>"
   ]
  },
  {
   "cell_type": "markdown",
   "id": "c4e80dc4",
   "metadata": {},
   "source": [
    "### <font color='orange'>[Exercise 2]</font> Calculation of the square root using the Babylonian method\n",
    "\n",
    "Let a real parameter $a > 0$ and the sequence defined by\n",
    "<a id=\"baby\"></a>\n",
    "$$\n",
    "\\tag{1}\n",
    "x_0 > 0 \\qquad ; \\qquad ∀k ∈ \\mathbb{N}, \\quad x_{k+1} = \\frac{1}{2}\\left(x_k + \\frac{a}{x_k}\\right)\n",
    "$$\n",
    "\n",
    "  > *Preliminary questions (to be done on scratch paper but not required for the submission)*\n",
    "  >\n",
    "  > i) By writing $x_{k+1} - \\sqrt{a}$ as a function of $x_k - \\sqrt{a}$ and then $x_{k+1} - x_k$, show that $(x_k)$ converges quadratically to $x_* = \\sqrt{a}$ for any $x_0 > 0$.\n",
    "  >\n",
    "  >    <details>\n",
    "  >        <summary>\n",
    "  >            <em><font color='gray'>Help (click to reveal)</font></em>\n",
    "  >        </summary>\n",
    "  >\n",
    "  >    - First note that if $x_0 > 0$, then $x_k > 0$ for all $k$.\n",
    "  >    - Show that $x_{k+1} - \\sqrt{a} = \\frac{(x_k - \\sqrt{a})^2}{2 x_k}$ and that $x_{k+1} - x_k = \\frac{a - x_k^2}{2 x_k}$.\n",
    "  >    - Deduce that $(x_k)_{k \\geq 1}$ is bounded below by $\\sqrt{a}$ and is decreasing (be careful to only consider the reasoning for $k \\geq 1$), so it converges.\n",
    "  >    - Conclude that the limit is necessarily $\\sqrt{a}$ and that the convergence is quadratic.\n",
    "  >    </details>\n",
    "  >\n",
    "  > ii) Show that the recurrence formulation <a href=\"#baby\">(1)</a> is nothing but the Newton-Raphson algorithm applied to a function to be identified that vanishes at $x_* = \\sqrt{a}$.\n",
    "\n",
    "1. Construct a function `Babylonian` that takes `a` and an integer `n` (defaulting to `10`) as arguments and returns the vector $[x_0, x_1, \\ldots, x_n]$, initializing the sequence with $x_0 = \\frac{1 + a}{2}$."
   ]
  },
  {
   "cell_type": "code",
   "execution_count": null,
   "id": "49842147",
   "metadata": {
    "nbgrader": {
     "grade": false,
     "grade_id": "cell-51aeec58821a4395",
     "locked": false,
     "schema_version": 3,
     "solution": true,
     "task": false
    }
   },
   "outputs": [],
   "source": [
    "function Babylonian(a; n = 10)\n",
    "    ### BEGIN SOLUTION\n",
    "    x = [(1+a)/2]\n",
    "    for i = 1:n push!(x, (x[end]+a/x[end])/2) end\n",
    "    return x\n",
    "    ### END SOLUTION\n",
    "end"
   ]
  },
  {
   "cell_type": "code",
   "execution_count": null,
   "id": "8c45415b",
   "metadata": {
    "nbgrader": {
     "grade": true,
     "grade_id": "cell-77f4b908283dc59e",
     "locked": true,
     "points": 1,
     "schema_version": 3,
     "solution": false,
     "task": false
    }
   },
   "outputs": [],
   "source": [
    "for a in (0.1, 2, 25, 100)\n",
    "    @assert Babylonian(a)[end] ≈ √a\n",
    "end"
   ]
  },
  {
   "cell_type": "markdown",
   "id": "c5f47247",
   "metadata": {},
   "source": [
    "2. Plot the error $|x_k - x_*|$ as a function of the index $k$ for $a = 2$."
   ]
  },
  {
   "cell_type": "code",
   "execution_count": null,
   "id": "86ae57b0",
   "metadata": {
    "nbgrader": {
     "grade": true,
     "grade_id": "cell-928ca89fac43223b",
     "locked": false,
     "points": 1,
     "schema_version": 3,
     "solution": true,
     "task": false
    }
   },
   "outputs": [],
   "source": [
    "### BEGIN SOLUTION\n",
    "plot(abs.(Babylonian(2) .- √2), yaxis=:log10, xlabel=\"k\", ylabel=\"|xₖ-x*|\", label=\"\")\n",
    "### END SOLUTION"
   ]
  },
  {
   "cell_type": "markdown",
   "id": "2079f877",
   "metadata": {},
   "source": [
    "The idea behind the remainder of the exercise is to apply the `Babylonian` function defined earlier to an argument `a` not of type `Float64` but of a new type that allows us to estimate both the value of $\\sqrt{a}$ and the derivative of $a \\mapsto \\sqrt{a}$, which is $\\frac{1}{2\\sqrt{a}}$. For this, we introduce new numbers called **dual numbers**. These are defined similarly to complex numbers, based on the definition of a special number denoted $\\varepsilon$, such that a dual number is written as $x = a + b\\varepsilon$, where $a$ and $b$ are real numbers. In a sense, $\\varepsilon$ plays a role analogous to the complex $i$, with the difference that we set $\\varepsilon^2 = 0$. The purpose of such numbers is to be able to store both the value of a function and its derivative by writing:\n",
    "\n",
    "<a id=\"fdual\"></a>\n",
    "$$\n",
    "\\tag{2}\n",
    "f(a + b\\varepsilon) = f(a) + f'(a) b \\varepsilon\n",
    "$$\n",
    "\n",
    "This means that the derivative of $f$ at $a$ can be obtained by extracting the component on $\\varepsilon$ of $f(a + \\varepsilon)$ (i.e., by setting $b = 1$).\n",
    "\n",
    "In practice, it is necessary to redefine the behavior of common functions in accordance with <a href=\"#fdual\">(2)</a>. However, in the current application, only the operations `+`, `-`, `*`, and `/` will be needed and must be overloaded to allow dual numbers as arguments. Additionally, it will be necessary to implement the `convert` function to convert a real number to a dual number and the `promote_rule` to express that in the presence of an operation involving two numbers, one of which is dual, both must first be expressed as dual numbers before the operation is performed. Note that operator and function overloading is only possible if they are explicitly imported using, for example, `import Base: +, -, ...`. It is also possible to define the `Base.show` function so that a dual number is displayed in the explicit form `a + bɛ`.\n",
    "\n",
    "The overloading of operators is mathematically expressed as follows:\n",
    "\n",
    "$$\n",
    "\\begin{align*}\n",
    "(a + b\\varepsilon) + (c + d\\varepsilon) &= (a + c) + (b + d)\\varepsilon \\\\\n",
    "(a + b\\varepsilon) - (c + d\\varepsilon) &= (a - c) + (b - d)\\varepsilon \\\\\n",
    "(a + b\\varepsilon) \\cdot (c + d\\varepsilon) &= ac + (bc + ad)\\varepsilon \\\\\n",
    "\\frac{(a + b\\varepsilon)}{(c + d\\varepsilon)} &= \\frac{a}{c} + \\frac{bc - ad}{c^2} \\varepsilon\n",
    "\\end{align*}\n",
    "$$\n",
    "\n",
    "Alternatively, the last operation can be defined as $\\mathrm{inv}(a + b\\varepsilon) = \\frac{1}{a} - \\frac{b}{a^2} \\varepsilon$, and then `u/v = u * inv(v)`.\n",
    "\n",
    "3. Study the `struct D` defined below to represent a dual number, along with the associated lines of code. Complete the missing parts of the code, specifically the implementations of `/` and `inv`."
   ]
  },
  {
   "cell_type": "code",
   "execution_count": null,
   "id": "be749308",
   "metadata": {
    "nbgrader": {
     "grade": false,
     "grade_id": "cell-6a89a36f52efd269",
     "locked": false,
     "schema_version": 3,
     "solution": true,
     "task": false
    }
   },
   "outputs": [],
   "source": [
    "import Base: +, -, *, /, inv, isapprox, convert, promote_rule\n",
    "using LinearAlgebra\n",
    "\n",
    "struct D <: Number\n",
    "    f::Tuple{Float64, Float64}\n",
    "end\n",
    "D(a::Real, b::Real) = D((a, b))\n",
    "+(x::D, y::D) = D(x.f .+ y.f)\n",
    "-(x::D, y::D) = D(x.f .- y.f)\n",
    "*(x::D, y::D) = D(x.f[1]*y.f[1], x.f[2]*y.f[1] + x.f[1]*y.f[2])\n",
    "### BEGIN SOLUTION\n",
    "/(x::D, y::D) = D(x.f[1]/y.f[1], (y.f[1]*x.f[2] - x.f[1]*y.f[2])/y.f[1]^2)\n",
    "inv(x::D) = D(1/x.f[1], -x.f[2]/x.f[1]^2)\n",
    "### END SOLUTION\n",
    "-(x::D) = D(.-(x.f))\n",
    "isapprox(x::D, y::D; kwargs...) = all(isapprox.(x.f, y.f ; kwargs...))\n",
    "convert(::Type{D}, x::Real) = D((x,zero(x)))\n",
    "promote_rule(::Type{D}, ::Type{<:Real}) = D\n",
    "Base.show(io::IO,x::D) = print(io,x.f[1],x.f[2]<0 ? \" - \" : \" + \",abs(x.f[2]),\" ε\")\n",
    "\n",
    "# Construction of a dual number\n",
    "x = D(0.1, -1.6)"
   ]
  },
  {
   "cell_type": "markdown",
   "id": "a1a0495d",
   "metadata": {},
   "source": [
    "4. Define an instance of the number `ɛ` (use `\\varepsilon` and press TAB to display ε), in other words the number `0 + 1ɛ`, and perform some operations to verify the implementations (use the `@show` macro to display a dual number), for example:\n",
    "\n",
    "   ```julia\n",
    "   @show (1+2ɛ)*(3+4ɛ)\n",
    "   @show 1/(1+ɛ)\n",
    "   @show (1+2ɛ)/(2-ɛ)\n",
    "   ```"
   ]
  },
  {
   "cell_type": "code",
   "execution_count": null,
   "id": "85b15d03",
   "metadata": {
    "nbgrader": {
     "grade": true,
     "grade_id": "cell-ec62ba59865b5495",
     "locked": false,
     "points": 1,
     "schema_version": 3,
     "solution": true,
     "task": false
    }
   },
   "outputs": [],
   "source": [
    "### BEGIN SOLUTION\n",
    "ε = D((0,1))\n",
    "@show (1+2ɛ)*(3+4ɛ)\n",
    "@show 1/(1+ɛ)\n",
    "@show (1+2ɛ)/(2-ɛ)\n",
    "### END SOLUTION"
   ]
  },
  {
   "cell_type": "code",
   "execution_count": null,
   "id": "b800da5c",
   "metadata": {
    "nbgrader": {
     "grade": true,
     "grade_id": "cell-c9da9f0b525d17d9",
     "locked": true,
     "points": 1,
     "schema_version": 3,
     "solution": false,
     "task": false
    }
   },
   "outputs": [],
   "source": [
    "@assert (1+2ɛ)*(3+4ɛ) == 3+10ɛ \"error\"\n",
    "@assert 1/(1+ɛ) == 1-ɛ \"error\"\n",
    "@assert (1+2ɛ)/(2-ɛ) == 1/2+5ɛ/4 \"error\"\n",
    "\n",
    "### BEGIN HIDDEN TESTS\n",
    "a, b, c, d = rand(4)\n",
    "@assert 1/(a+b*ɛ) == inv(a+b*ɛ) == 1/a-b/a^2*ε\n",
    "@assert (a+b*ɛ)/(c+d*ɛ) == a/c + (b*c-a*d)/c^2*ε\n",
    "### END HIDDEN TESTS"
   ]
  },
  {
   "cell_type": "markdown",
   "id": "b5547758",
   "metadata": {},
   "source": [
    "5. Use the dual number structure to estimate the derivative of the square root function from the Babylonian method (by directly using the `Babylonian` function without rewriting it)."
   ]
  },
  {
   "cell_type": "code",
   "execution_count": null,
   "id": "4592aede",
   "metadata": {
    "nbgrader": {
     "grade": false,
     "grade_id": "cell-b0b7e3c217eea6a2",
     "locked": false,
     "schema_version": 3,
     "solution": true,
     "task": false
    }
   },
   "outputs": [],
   "source": [
    "function derivative_sqrt(a; n = 10)\n",
    "    ### BEGIN SOLUTION\n",
    "    return Babylonian(a+ε)[end].f[2]\n",
    "    ### END SOLUTION\n",
    "end"
   ]
  },
  {
   "cell_type": "code",
   "execution_count": null,
   "id": "8239c495",
   "metadata": {
    "nbgrader": {
     "grade": true,
     "grade_id": "cell-f3a9a91b390a3270",
     "locked": true,
     "points": 1,
     "schema_version": 3,
     "solution": false,
     "task": false
    }
   },
   "outputs": [],
   "source": [
    "for a in (0.1, 2, 25, 100)\n",
    "    @assert derivative_sqrt(a) ≈ 1/2√a\n",
    "end"
   ]
  },
  {
   "cell_type": "markdown",
   "id": "07619093",
   "metadata": {},
   "source": [
    "6. Overlay on a graph the derivative of the square root obtained by the Babylonian method using dual numbers and the analytical expression."
   ]
  },
  {
   "cell_type": "code",
   "execution_count": null,
   "id": "28f572e7",
   "metadata": {
    "nbgrader": {
     "grade": true,
     "grade_id": "cell-b10d808d11cb751d",
     "locked": false,
     "points": 1,
     "schema_version": 3,
     "solution": true,
     "task": false
    }
   },
   "outputs": [],
   "source": [
    "### BEGIN SOLUTION\n",
    "xplot = LinRange(0.1,10,200)\n",
    "plot(xplot, x -> Babylonian(x+ε)[end].f[2], label=\"Méth. babylonienne\")\n",
    "plot!(xplot, x -> 1/2√x, linestyle=:dashdot, linewidth=3, label=\"1/2√x\")\n",
    "### END SOLUTION"
   ]
  },
  {
   "cell_type": "markdown",
   "id": "f419ef7f",
   "metadata": {},
   "source": [
    "7. Propose an analogous method to calculate the $p^\\textrm{th}$ root of a number $a$, i.e., $\\sqrt[p]{a}$. Verify that the derivative of the $p^\\textrm{th}$ root can also be obtained using dual numbers without any additional lines of code."
   ]
  },
  {
   "cell_type": "code",
   "execution_count": null,
   "id": "462acde2",
   "metadata": {
    "nbgrader": {
     "grade": false,
     "grade_id": "cell-fe8183299ca40337",
     "locked": false,
     "schema_version": 3,
     "solution": true,
     "task": false
    }
   },
   "outputs": [],
   "source": [
    "function nthrt(a, p=2; x=1, n=100)\n",
    "    ### BEGIN SOLUTION\n",
    "    for i = 1:n x = ((p-1)*x+a/x^(p-1))/p end\n",
    "    return x\n",
    "    ### END SOLUTION\n",
    "end"
   ]
  },
  {
   "cell_type": "code",
   "execution_count": null,
   "id": "433eafc8",
   "metadata": {
    "nbgrader": {
     "grade": true,
     "grade_id": "cell-611b2e70df58e157",
     "locked": true,
     "points": 1,
     "schema_version": 3,
     "solution": false,
     "task": false
    }
   },
   "outputs": [],
   "source": [
    "for a in (0.1, 2, 25, 100), p in (2, 3, 5)\n",
    "    @assert nthrt(a+ε, p) ≈ a^(1/p) + a^(1/p-1)/p*ε \"error for (a,p)=($a,$p)\"\n",
    "end"
   ]
  },
  {
   "cell_type": "markdown",
   "id": "8f5ea451",
   "metadata": {},
   "source": [
    "### <font color='orange'>[Exercise 3]</font> Application to optimization\n",
    "\n",
    "In Julia, automatic differentiation based on dual numbers is implemented in the `ForwardDiff` library.\n",
    "For example, the following code snippet\n",
    "   ```julia\n",
    "       using ForwardDiff\n",
    "       f(t) = 9.81 * t^2/2\n",
    "       ForwardDiff.derivative(f, 1)\n",
    "   ```\n",
    "returns the value of $f'(1)$.\n",
    "Unlike our simple implementation of dual numbers above,\n",
    "`ForwardDiff` is able to calculate derivatives of higher orders.\n",
    "   For example,   \n",
    "   ```julia\n",
    "       using ForwardDiff\n",
    "       f(x) = x -> x[1]^2 + 3x[2]^2\n",
    "       ForwardDiff.hessian(f, [1, 2])\n",
    "   ```\n",
    "returns the Hessian of the function $f(x, y) = x^2 + 3y^2$ at $(1, 2)$.\n",
    "Using the `ForwardDiff` library, solve the following exercises.\n",
    "\n",
    "\n",
    "1. We have $n$ points $(x_i, y_i)$ of an unknown function $y = f(x)$. We want to approximate the data with a function of the form\n",
    "   $$\n",
    "   \\widetilde f(x) = \\frac{a}{b + x}\n",
    "   $$\n",
    "   by minimizing\n",
    "   $$\n",
    "   E(a,b) := \\sum_{i=1}^{n} |\\widetilde f(x_i) - y_i|^2.\n",
    "   $$\n",
    "   To find the minimizer, we propose to solve the nonlinear system of equations given by\n",
    "   $$\n",
    "   \\begin{aligned}\n",
    "   \\partial_a E(a, b) &= 0, \\\\\n",
    "   \\partial_b E(a, b) &= 0.\n",
    "   \\end{aligned}\n",
    "   $$\n",
    "   Use the Newton-Raphson method to solve these equations, and\n",
    "   then plot on the same graph the data points given and the approximating function."
   ]
  },
  {
   "cell_type": "code",
   "execution_count": null,
   "id": "79040e3f",
   "metadata": {
    "nbgrader": {
     "grade": true,
     "grade_id": "cell-e7bf77d0fa7b9458",
     "locked": false,
     "points": 0,
     "schema_version": 3,
     "solution": true,
     "task": false
    }
   },
   "outputs": [],
   "source": [
    "x = [0.0; 0.1; 0.2; 0.3; 0.4; 0.5; 0.6; 0.7; 0.8; 0.9; 1.0]\n",
    "y = [0.6761488864859304; 0.6345697680852508; 0.6396283580587062; 0.6132010027973919;\n",
    "     0.5906142598705267; 0.5718728461471725; 0.5524549902830562; 0.538938885654085;\n",
    "     0.5373495476994958; 0.514904589752926; 0.49243437874655027]\n",
    "f(a,b) = x -> a / (b+x)\n",
    "\n",
    "### BEGIN SOLUTION\n",
    "nothing\n",
    "### END SOLUTION"
   ]
  },
  {
   "cell_type": "markdown",
   "id": "03b776bb",
   "metadata": {},
   "source": [
    "2. We have $n$ new points $(x_i, y_i)$ of an unknown function $y = f(x)$, and we want to approximate $f$ with an affine function\n",
    "   $$\n",
    "   \\widetilde f(x) = ax+b\n",
    "   $$\n",
    "   by minimizing the sum of Euclidean distances between the points and the line defined by $\\widetilde f$. Given that the distance between a point $(x_i, y_i)$ and the straight line is given by\n",
    "   $$\n",
    "   \\frac{\\lvert y_i - a x_i - b \\rvert}{\\sqrt{1+a^2}},\n",
    "   $$\n",
    "   the objective function to minimize is\n",
    "   $$\n",
    "   J(a, b) := \\sum_{i=1}^{n} \\frac{ \\left( y_i - a x_i - b \\right)^2 }{1+a^2}\n",
    "   $$\n",
    "   Find the optimal parameters $a$ and $b$ using the Newton-Raphson method and plot on the same graph the straight line $\\tilde f$ along with the data points."
   ]
  },
  {
   "cell_type": "code",
   "execution_count": null,
   "id": "c590a832",
   "metadata": {
    "nbgrader": {
     "grade": true,
     "grade_id": "cell-391efd40e50910f9",
     "locked": false,
     "points": 0,
     "schema_version": 3,
     "solution": true,
     "task": false
    }
   },
   "outputs": [],
   "source": [
    "x = [0.0; 0.1; 0.2; 0.3; 0.4; 0.5; 0.6; 0.7; 0.8; 0.9; 1.0]\n",
    "y = [-0.9187980789440975; -0.6159791344678258; -0.25568734869121856;\n",
    "     -0.14269370171581808; 0.3094396057228459; 0.6318327173549161;\n",
    "     0.8370437988106428; 1.0970402798788812; 1.6057799131867696;\n",
    "     1.869090784869698; 2.075369730726694]\n",
    "f(a,b) = x -> a*x+b\n",
    "\n",
    "### BEGIN SOLUTION\n",
    "nothing\n",
    "### END SOLUTION"
   ]
  }
 ],
 "metadata": {
  "jupytext": {
   "encoding": "# -*- coding: utf-8 -*-"
  },
  "kernelspec": {
   "display_name": "Julia 1.10.5",
   "language": "julia",
   "name": "julia-1.10"
  },
  "language_info": {
   "file_extension": ".jl",
   "mimetype": "application/julia",
   "name": "julia",
   "version": "1.10.5"
  }
 },
 "nbformat": 4,
 "nbformat_minor": 5
}
