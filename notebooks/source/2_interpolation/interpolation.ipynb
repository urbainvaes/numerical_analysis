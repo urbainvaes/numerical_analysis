{
 "cells": [
  {
   "cell_type": "markdown",
   "id": "c5b9bae7",
   "metadata": {},
   "source": [
    "## Notebook 2: Interpolation"
   ]
  },
  {
   "cell_type": "code",
   "execution_count": null,
   "id": "6f8de3ce",
   "metadata": {
    "nbgrader": {
     "grade": false,
     "grade_id": "cell-4d638a879ba6f86e",
     "locked": true,
     "schema_version": 3,
     "solution": false,
     "task": false
    }
   },
   "outputs": [],
   "source": [
    "using LaTeXStrings\n",
    "using LinearAlgebra\n",
    "using Plots\n",
    "using Polynomials"
   ]
  },
  {
   "cell_type": "markdown",
   "id": "63e3d59c",
   "metadata": {
    "nbgrader": {
     "grade": false,
     "grade_id": "warmup",
     "locked": true,
     "schema_version": 3,
     "solution": false,
     "task": false
    }
   },
   "source": [
    "### <font color='orange'>[Exercise 1]</font> Warm-up exercise\n",
    "\n",
    "Find the polynomial $p(x) = ax^2 + b x + c$ (a parabola) that goes through the points $(0, 1)$, $(1, 3)$ and $(2, 7)$.\n",
    "Plot on the same graph the data points and the interpolating polynomial."
   ]
  },
  {
   "cell_type": "code",
   "execution_count": null,
   "id": "50b1c61e",
   "metadata": {
    "nbgrader": {
     "grade": true,
     "grade_id": "cell-b267d2d6d2660b5b",
     "locked": false,
     "points": 0,
     "schema_version": 3,
     "solution": true,
     "task": false
    }
   },
   "outputs": [],
   "source": [
    "### BEGIN SOLUTION\n",
    "x = [0, 1, 2]\n",
    "y = [1, 3, 7]\n",
    "A = [1 x[1] x[1]^2\n",
    "     1 x[2] x[2]^2\n",
    "     1 x[3] x[3]^2]\n",
    "α = A\\y\n",
    "\n",
    "# Interpolating polynomial\n",
    "p_interp(x) = α[1] + α[2] * x + α[3] * x^2\n",
    "\n",
    "# Plots\n",
    "plot(p_interp)\n",
    "scatter!(x, y)\n",
    "### END SOLUTION"
   ]
  },
  {
   "cell_type": "markdown",
   "id": "0f4b76e0",
   "metadata": {
    "nbgrader": {
     "grade": false,
     "grade_id": "lagrange",
     "locked": true,
     "schema_version": 3,
     "solution": false,
     "task": false
    }
   },
   "source": [
    "### <font color='orange'>[Exercise 2]</font> Lagrange interpolation\n",
    "\n",
    "Write from scratch, in particular without using third party software libraries,\n",
    "a function to obtain the polynomial interpolating the data points\n",
    "$$\n",
    "    (x_0, y_0), \\dotsc, (x_n, y_n).\n",
    "$$\n",
    "These data points are passed in arguments `x` and `y`.\n",
    "Your function should return the values taken by the interpolating polynomial $p$\n",
    "when evaluated at the points $X_0, \\dotsc, X_m$ contained in argument `X`.\n",
    "To construct the interpolating polynomial,\n",
    "use the Lagrange form of the interpolant:\n",
    "$$\n",
    "p(x) = \\sum_{i=0}^n y_i L_i(x), \\qquad\n",
    "L_i(x) := \\prod_{\\substack{j = 0 \\\\ j \\neq i}}^{n} \\frac {x - x_j} {x_i - x_j}.\n",
    "$$\n",
    "You may use code provided below to test your function"
   ]
  },
  {
   "cell_type": "code",
   "execution_count": null,
   "id": "40670f52",
   "metadata": {
    "nbgrader": {
     "grade": true,
     "grade_id": "cell-84a12b7779e3f10c",
     "locked": false,
     "points": 0,
     "schema_version": 3,
     "solution": true,
     "task": false
    }
   },
   "outputs": [],
   "source": [
    "function my_interp(X, x, y)\n",
    "    Y = zero(X)\n",
    "    ### BEGIN SOLUTION\n",
    "    for i in 1:length(x)\n",
    "        L(z) = prod(z .- x[1:end .!== i])\n",
    "        Y += y[i] * L.(X) / L(x[i])\n",
    "    end\n",
    "    ### END SOLUTION\n",
    "    return Y\n",
    "end\n",
    "\n",
    "# Test code\n",
    "n, m = 10, 100\n",
    "f(t) = cos(2π * t)\n",
    "x = LinRange(0, 1, n)\n",
    "X = LinRange(0, 1, m)\n",
    "y = f.(x)\n",
    "Y = my_interp(X, x, y)\n",
    "plot(X, f.(X), label=\"Original function\")\n",
    "plot!(X, Y, label=\"Interpolation\")\n",
    "scatter!(x, y, label=\"Data\")"
   ]
  },
  {
   "cell_type": "markdown",
   "id": "9b8620ab",
   "metadata": {
    "nbgrader": {
     "grade": false,
     "grade_id": "cheby",
     "locked": true,
     "schema_version": 3,
     "solution": false,
     "task": false
    }
   },
   "source": [
    "### <font color='orange'>[Exercise 3]</font> Chebyshev interpolation and Runge phenomenon"
   ]
  },
  {
   "cell_type": "markdown",
   "id": "8a08bed1",
   "metadata": {
    "nbgrader": {
     "grade": false,
     "grade_id": "cell-0389b02825c802eb",
     "locked": true,
     "schema_version": 3,
     "solution": false,
     "task": false
    }
   },
   "source": [
    "The objective of this exercise is to illustrate the influence of interpolation nodes on the interpolation error.\n",
    "\n",
    "1. The function [`fit`](https://juliamath.github.io/Polynomials.jl/stable/#Fitting-arbitrary-data) from the [`Polynomials.jl`](https://github.com/JuliaMath/Polynomials.jl) package\n",
    "   can be employed as follows to calculate, given arrays `x` and `y` of the same size,\n",
    "   the associated interpolating polynomial:\n",
    "   ```julia\n",
    "       p = fit(x, y)\n",
    "   ```\n",
    "   Using this function, write a function\n",
    "   ```julia\n",
    "       get_interpolations(f, d)\n",
    "   ```\n",
    "   that interpolates the function `f` using a polynomial of degree `d`.\n",
    "   The function should return a tuple of `Polynomial` structures,\n",
    "   corresponding to equidistant (with endpoints included) and Chebyshev nodes over the interval $[-1, 1]$.\n",
    "   <details>\n",
    "       <summary>\n",
    "           <em><font color='gray'>Hint (click to display)</font></em>\n",
    "       </summary>\n",
    "\n",
    "   Pour calculer rapidement les noeuds de Tchebychev, on peut exploiter la macro `@.` (comme toujours, il est conseillé de se référer à la documentation d'une commande en tapant `?` puis la commande dans la console). Cette commande évite d'utiliser des `.` après chaque fonction ou avant chaque opérateur.\n",
    "\n",
    "   ```julia\n",
    "   x = @. -cos(π*((0:n-1)+1/2)/n)\n",
    "   ```\n",
    "   </details>"
   ]
  },
  {
   "cell_type": "code",
   "execution_count": null,
   "id": "7405e743",
   "metadata": {
    "nbgrader": {
     "grade": false,
     "grade_id": "cell-4a2abfda11acfa1d",
     "locked": false,
     "schema_version": 3,
     "solution": true,
     "task": false
    }
   },
   "outputs": [],
   "source": [
    "function get_interpolations(f, d)\n",
    "    ### BEGIN SOLUTION\n",
    "    n = d + 1\n",
    "    x_equi = LinRange(-1, 1, n)\n",
    "    x_cheb = @. -cos(π*((0:n-1)+1/2)/n)\n",
    "    p_equi = Polynomials.fit(x_equi, f.(x_equi))\n",
    "    p_cheb = Polynomials.fit(x_cheb, f.(x_cheb))\n",
    "    ### END SOLUTION\n",
    "    return p_equi, p_cheb\n",
    "end"
   ]
  },
  {
   "cell_type": "code",
   "execution_count": null,
   "id": "36af9c9c",
   "metadata": {
    "nbgrader": {
     "grade": true,
     "grade_id": "cell-1e83e1947bb448ff",
     "locked": true,
     "points": 2,
     "schema_version": 3,
     "solution": false,
     "task": false
    }
   },
   "outputs": [],
   "source": [
    "p_test = Polynomial([1., 2., 3.])\n",
    "@assert get_interpolations(cos, 5) |> length == 2\n",
    "@assert get_interpolations(sin∘exp, 5)[1].coeffs |> length == 6\n",
    "@assert get_interpolations(sin∘exp, 5)[2].coeffs |> length == 6\n",
    "@assert get_interpolations(p_test, 2)[1] ≈ p_test\n",
    "@assert get_interpolations(p_test, 2)[2] ≈ p_test\n",
    "@assert get_interpolations(cos, 4)[1](0) ≈ 1\n",
    "@assert get_interpolations(cos, 4)[2](0) ≈ 1"
   ]
  },
  {
   "cell_type": "markdown",
   "id": "cb1dede2",
   "metadata": {
    "nbgrader": {
     "grade": false,
     "grade_id": "cell-9592f7efcffc5eda",
     "locked": true,
     "schema_version": 3,
     "solution": false,
     "task": false
    }
   },
   "source": [
    "2. Let us fix $d = 20$ and take $f$ to be the following function\n",
    "   $$\n",
    "       f(x) = \\tanh\\left(\\frac{x+1/2}{\\varepsilon}\\right) + \\tanh\\left(\\frac{x}{\\varepsilon}\\right) + \\tanh\\left(\\frac{x-1/2}{\\varepsilon}\\right),\n",
    "       \\qquad \\varepsilon = .02.\n",
    "   $$\n",
    "   Using your `get_interpolations` function,\n",
    "   calculate the interpolating polynomials in this case,\n",
    "   and print the $L^{\\infty}$ error corresponding to equidistant and Chebyshev polynomials.\n",
    "\n",
    "   <details>\n",
    "       <summary>\n",
    "           <em><font color='gray'>Hint (click to display)</font></em>\n",
    "       </summary>\n",
    "\n",
    "   - To limit roundoff errors,\n",
    "     it is preferable that the function returns a BigFloat type, in other words\n",
    "\n",
    "       ```julia\n",
    "           f(x) = BigFloat(tanh((x+1/2)/ε) + tanh(x/ε) + tanh((x-1/2)/ε))\n",
    "       ```\n",
    "   -  To calculate the infinity norm of a function in order to evaluate the precision of the interpolation,\n",
    "      you can use the [`norm(..., Inf)`](https://docs.julialang.org/en/v1/stdlib/LinearAlgebra/#LinearAlgebra.norm)\n",
    "      function from the `LinearAlgebra` library with a sufficiently fine sampling of the function values,\n",
    "      or you can use the `maximum` function:\n",
    "\n",
    "      ```julia\n",
    "          maximum(abs, [1, -3, 2])  # = 3\n",
    "      ```\n",
    "      Note that converting a number `y` of type `BigFloat` to `Float64` can be done with `convert(Float64, y)` or, more simply in this case, `Float64(y)`.\n",
    "   </details>"
   ]
  },
  {
   "cell_type": "code",
   "execution_count": null,
   "id": "42d47e96",
   "metadata": {
    "nbgrader": {
     "grade": false,
     "grade_id": "cell-1bc27d8e957b19da",
     "locked": false,
     "schema_version": 3,
     "solution": true,
     "task": false
    }
   },
   "outputs": [],
   "source": [
    "d, ε = 20, .02\n",
    "f(x) = BigFloat(tanh((x+1/2)/ε) + tanh(x/ε) + tanh((x-1/2)/ε))\n",
    "\n",
    "# Calculate L^∞ errors below\n",
    "### BEGIN SOLUTION\n",
    "X = LinRange(-1, 1, 500)\n",
    "p_equi, p_cheb = get_interpolations(f, d)\n",
    "round_error(x) = Float64(round(x, sigdigits=3))\n",
    "error_inf_equi = maximum(round_error∘abs, f.(X) - p_equi.(X))\n",
    "error_inf_cheb = maximum(round_error∘abs, f.(X) - p_cheb.(X))\n",
    "### END SOLUTION\n",
    "\n",
    "println(\"L^∞ error with equidistant nodes: \", error_inf_equi)\n",
    "println(\"L^∞ error with Chebyshev nodes: \", error_inf_cheb)"
   ]
  },
  {
   "cell_type": "code",
   "execution_count": null,
   "id": "a146eec9",
   "metadata": {
    "nbgrader": {
     "grade": true,
     "grade_id": "cell-b53431a11cb2145c",
     "locked": true,
     "points": 1,
     "schema_version": 3,
     "solution": false,
     "task": false
    }
   },
   "outputs": [],
   "source": [
    "@assert round(error_inf_equi, sigdigits=1) == 200\n",
    "@assert round(error_inf_cheb, sigdigits=1) == 0.7"
   ]
  },
  {
   "cell_type": "markdown",
   "id": "aba91694",
   "metadata": {
    "nbgrader": {
     "grade": false,
     "grade_id": "cell-eed594d5aa8af7ca",
     "locked": true,
     "schema_version": 3,
     "solution": false,
     "task": false
    }
   },
   "source": [
    "3. Plot the interpolating polynomials on top of the function `f`.\n",
    "\n",
    "   <details>\n",
    "       <summary>\n",
    "           <em><font color='gray'>Hint (click to display)</font></em>\n",
    "       </summary>\n",
    "\n",
    "   It can be useful, when comparing the two interpolations, to limit the minimum and maximum values on the `y` axis using the option `ylims = (ymin, ymax)` in a `plot` function, or its equivalent ending with `!`. It’s worth noting that, by convention in `Julia` (though not mandatory), a function whose name ends with `!` modifies its arguments. In the case of a graph, the first command initiating the graph should not include `!` (`plot`), while subsequent commands that increment the same graph end with `!` (`plot!`, `scatter!`, etc.). Any omission of the `!` is considered a *reset* of the plot.\n",
    "   </details>"
   ]
  },
  {
   "cell_type": "code",
   "execution_count": null,
   "id": "d396cfd7",
   "metadata": {
    "nbgrader": {
     "grade": true,
     "grade_id": "cell-e391894a92e4e03c",
     "locked": false,
     "points": 1,
     "schema_version": 3,
     "solution": true,
     "task": false
    }
   },
   "outputs": [],
   "source": [
    "X = LinRange(-1, 1, 500)\n",
    "plot(X, f.(X), linewidth=4, label=\"f\")\n",
    "\n",
    "### BEGIN SOLUTION\n",
    "plot!(X, p_equi.(X), linewidth=3, color=:green, label=\"Equidistant interpolation\")\n",
    "plot!(X, p_cheb.(X), linewidth=3, color=:red, label=\"Chebyshev interpolation\")\n",
    "plot!(xlims = (-1, 1), ylims = (-3.5, 3.5))\n",
    "### END SOLUTION"
   ]
  },
  {
   "cell_type": "markdown",
   "id": "cf44bbf2",
   "metadata": {},
   "source": [
    "### <font color='orange'>[Exercise 4]</font> Solving the Euler-Bernoulli beam equation by interpolation"
   ]
  },
  {
   "cell_type": "markdown",
   "id": "4ada9664",
   "metadata": {},
   "source": [
    "The aim of this exercise to explore a practical application of polynomial interpolation.\n",
    "More precisely, we will implement a numerical method to approximately solve the Euler-Bernoulli beam equation with homogeneous Dirichlet boundary conditions:\n",
    "\n",
    "$$\n",
    "  u\\in C^4([0,1]),\\quad\\left\\{\\begin{aligned}  u''''(x) &= \\varphi(x) \\qquad \\forall\\, x\\in(0,1),\\\\\n",
    "  u(0) &= u'(0) = u'(1) = u(1) = 0, \\end{aligned}\\right.\n",
    "$$\n",
    "where $\\varphi(x) = (2\\pi)^4\\cos(2\\pi x)$ is a given transverse load applied to the beam.\n",
    "In order to solve the equation numericaly, we approximate the right-hand side $\\varphi$ by its interpolating polynomial $\\widehat \\varphi$, and then we solve the equation exactly with the right-hand side $\\widehat \\varphi$ instead of $\\varphi$.\n",
    "\n",
    "1. Let us first write a function `fit_values_and_slopes(u₀, up₀, u₁, up₁)` which returns the unique polynomial $p$ of degree 3 such that\n",
    "   $$\n",
    "   p(0) = u_0, \\qquad p'(0) = up_0, \\qquad p(1) = u_1, \\qquad p'(1) = up_1.\n",
    "   $$"
   ]
  },
  {
   "cell_type": "code",
   "execution_count": null,
   "id": "9be92049",
   "metadata": {},
   "outputs": [],
   "source": [
    "function fit_values_and_slopes(u₀, up₀, u₁, up₁)\n",
    "    # We look for polynomials p(x) = a₀ + a₁ x + a₂ x² + a₃ x³\n",
    "    A = [1 0 0 0; 0 1 0 0; 1 1 1 1; 0 1 2 3]\n",
    "    α = A\\[u₀; up₀; u₁; up₁]\n",
    "    return Polynomial(α)\n",
    "end\n",
    "\n",
    "# Test our code\n",
    "p = fit_values_and_slopes(-1, -1, 1, 1)\n",
    "plot(p, xlims=(0, 1))"
   ]
  },
  {
   "cell_type": "markdown",
   "id": "4b7edd55",
   "metadata": {},
   "source": [
    "2. Write a function `approx(n)` implementing the approach described above for solving the PDE. The function should return a polynomial approximation of the solution based on an interpolation of **degree** $n$ of the right-hand side at equidistant points between 0 and 1, inclusive.\n",
    "\n",
    "   <details>\n",
    "       <summary>\n",
    "           <em><font color='gray'>Hint (click to display)</font></em>\n",
    "       </summary>\n",
    "\n",
    "   - You can use the function `Polynomials.fit` library to obtain the interpolating polynomial:\n",
    "\n",
    "       ```julia\n",
    "           p = fit(x, y)\n",
    "       ```\n",
    "\n",
    "       where `x` are the interpolation nodes, and `y` are the values of the function to interpolate.\n",
    "\n",
    "   - To calculate the exact solution with a polynomial right-hand side, notice that all solutions are polynomials, and without boundary conditions, the solution is unique modulo a cubic polynomial.\n",
    "\n",
    "   - You can use the `integrate` function from the `Polynomials.jl` library, which calculates an antiderivative of a polynomial:\n",
    "\n",
    "       ```julia\n",
    "           P = integrate(p)\n",
    "       ```\n",
    "\n",
    "   - Use the `BigFloat` format to limit rounding errors.\n",
    "       ```julia\n",
    "           X = LinRange{BigFloat}(0, 1, n + 1)\n",
    "       ```\n",
    "   </details>"
   ]
  },
  {
   "cell_type": "code",
   "execution_count": null,
   "id": "3f89f144",
   "metadata": {
    "nbgrader": {
     "grade": true,
     "grade_id": "cell-92540138830fb93f",
     "locked": false,
     "points": 0,
     "schema_version": 3,
     "solution": true,
     "task": false
    }
   },
   "outputs": [],
   "source": [
    "# Right-hand side\n",
    "φ(x) = (2π)^4 * cospi(2*x)\n",
    "\n",
    "# Exact solution (for comparison purposes)\n",
    "u(x) = cospi(2*x) - 1\n",
    "\n",
    "function approx(n)\n",
    "    X = LinRange{BigFloat}(0, 1, n + 1)\n",
    "    ### BEGIN SOLUTION\n",
    "    Y = φ.(X)\n",
    "    p = fit(X, Y)\n",
    "    uh = integrate(integrate(integrate(integrate(p))))\n",
    "    ∂uh = derivative(uh)\n",
    "    uh -= fit_values_and_slopes(uh(0), ∂uh(0), uh(1), ∂uh(1))\n",
    "    return uh\n",
    "    ### END SOLUTION\n",
    "end\n",
    "\n",
    "plot(approx(3), xlims=(0, 1), label=\"Exact solution\")\n",
    "plot!(u, xlims=(0, 1), label=\"Approximate solution\")"
   ]
  },
  {
   "cell_type": "markdown",
   "id": "6daf0ae1",
   "metadata": {},
   "source": [
    "3. Write a function `estimate_error(n)` that approximates the error,\n",
    "   in $L^\\infty$ norm,\n",
    "   between the exact and approximate solutions.\n",
    "   Note that the exact solution is given by\n",
    "   $$\n",
    "      \\varphi(x) = \\cos(2\\pi x) - 1.\n",
    "   $$"
   ]
  },
  {
   "cell_type": "code",
   "execution_count": null,
   "id": "abc3bd0f",
   "metadata": {
    "nbgrader": {
     "grade": true,
     "grade_id": "cell-0d4eb3ad0f73736d",
     "locked": false,
     "points": 0,
     "schema_version": 3,
     "solution": true,
     "task": false
    }
   },
   "outputs": [],
   "source": [
    "function estimate_error(n)\n",
    "    ### BEGIN SOLUTION\n",
    "    un = approx(n)\n",
    "    x_fine = LinRange(0, 1, 1000)\n",
    "    un_fine, u_fine = un.(x_fine), u.(x_fine)\n",
    "    return maximum(abs.(u_fine - un_fine))\n",
    "    ### END SOLUTION\n",
    "end"
   ]
  },
  {
   "cell_type": "markdown",
   "id": "7387ae8e",
   "metadata": {},
   "source": [
    "4. Plot the error for $n$ in the range $\\{ 5, \\dotsc, 50 \\}$. Use a logarithmic scale for the $y$ axis."
   ]
  },
  {
   "cell_type": "code",
   "execution_count": null,
   "id": "a2c67559",
   "metadata": {
    "nbgrader": {
     "grade": true,
     "grade_id": "cell-3ae8ab76d5b0fee9",
     "locked": false,
     "points": 0,
     "schema_version": 3,
     "solution": true,
     "task": false
    }
   },
   "outputs": [],
   "source": [
    "# ### BEGIN SOLUTION\n",
    "ns = 5:50\n",
    "errors = estimate_error.(ns)\n",
    "plot(ns, errors, marker = :circle, label=L\"$L^{\\infty}$ Error\")\n",
    "plot!(yaxis=:log, lw=2)\n",
    "# ### END SOLUTION"
   ]
  }
 ],
 "metadata": {
  "jupytext": {
   "encoding": "# -*- coding: utf-8 -*-"
  },
  "kernelspec": {
   "display_name": "Julia 1.10.4",
   "language": "julia",
   "name": "julia-1.10"
  },
  "language_info": {
   "file_extension": ".jl",
   "mimetype": "application/julia",
   "name": "julia",
   "version": "1.10.4"
  }
 },
 "nbformat": 4,
 "nbformat_minor": 5
}
