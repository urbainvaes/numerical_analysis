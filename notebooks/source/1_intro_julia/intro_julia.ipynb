{
 "cells": [
  {
   "cell_type": "markdown",
   "id": "51b586e1",
   "metadata": {},
   "source": [
    "## Notebook 1: Introduction to Julia"
   ]
  },
  {
   "cell_type": "code",
   "execution_count": null,
   "id": "3314e732",
   "metadata": {},
   "outputs": [],
   "source": [
    "using Plots\n",
    "using LaTeXStrings"
   ]
  },
  {
   "cell_type": "markdown",
   "id": "735577ce",
   "metadata": {
    "jp-MarkdownHeadingCollapsed": true
   },
   "source": [
    "### <font color='green'>Understanding the output of Jupyter cells</font>"
   ]
  },
  {
   "cell_type": "markdown",
   "id": "36c6136a",
   "metadata": {},
   "source": [
    "- The output of a series of Julia commands is the last expression:"
   ]
  },
  {
   "cell_type": "code",
   "execution_count": null,
   "id": "d032fdd5",
   "metadata": {},
   "outputs": [],
   "source": [
    "# Jupyter will display the result of `a + b` after running the cell\n",
    "\n",
    "a = 5\n",
    "b = 4\n",
    "c = a + b"
   ]
  },
  {
   "cell_type": "markdown",
   "id": "09119346",
   "metadata": {},
   "source": [
    "- Using `;` at the end of a command suppresses output"
   ]
  },
  {
   "cell_type": "code",
   "execution_count": null,
   "id": "589a98e2",
   "metadata": {},
   "outputs": [],
   "source": [
    "# Jupyter will not display anything\n",
    "\n",
    "a = 5\n",
    "b = 4\n",
    "a + b;"
   ]
  },
  {
   "cell_type": "markdown",
   "id": "955c0ed4",
   "metadata": {},
   "source": [
    "- This holds also for plots. Compare the following two situations:"
   ]
  },
  {
   "cell_type": "code",
   "execution_count": null,
   "id": "a2bd55c9",
   "metadata": {},
   "outputs": [],
   "source": [
    "plot(cos)"
   ]
  },
  {
   "cell_type": "code",
   "execution_count": null,
   "id": "1c8e8933",
   "metadata": {},
   "outputs": [],
   "source": [
    "plot(sin);"
   ]
  },
  {
   "cell_type": "markdown",
   "id": "1624be10",
   "metadata": {},
   "source": [
    "- You can also use `@show` or `print`:"
   ]
  },
  {
   "cell_type": "code",
   "execution_count": null,
   "id": "aafa6209",
   "metadata": {},
   "outputs": [],
   "source": [
    "a = 5\n",
    "b = 4\n",
    "@show a\n",
    "println(b)\n",
    "a + b"
   ]
  },
  {
   "cell_type": "markdown",
   "id": "58842bda-dcfd-4c58-a5aa-32535ea139a5",
   "metadata": {
    "jp-MarkdownHeadingCollapsed": true
   },
   "source": [
    "### <font color='green'>Manipulation of strings</font>"
   ]
  },
  {
   "cell_type": "markdown",
   "id": "773a6a2c-5977-4c86-826c-eb564846f9d5",
   "metadata": {},
   "source": [
    "- Strings are defined in Julia between double quotes `\"`. In contrast with Python, single quote `'` are used for single characters only."
   ]
  },
  {
   "cell_type": "code",
   "execution_count": null,
   "id": "15bab5ad-5f45-4280-ae4b-07e9d94b46fc",
   "metadata": {},
   "outputs": [],
   "source": [
    "s = \"Hello world!\""
   ]
  },
  {
   "cell_type": "code",
   "execution_count": null,
   "id": "640b3dbc-d393-4f9a-8fd2-92ff8fb4cdaa",
   "metadata": {},
   "outputs": [],
   "source": [
    "'o' ∈ s # ∈ is an alias for in"
   ]
  },
  {
   "cell_type": "markdown",
   "id": "d044a036-7a16-4811-8634-3d4f332f937c",
   "metadata": {},
   "source": [
    "- Unlike many other languages using `+`, Julia uses `*` for string concatenation. The idea is to emphasize the non-commutativity of this operation"
   ]
  },
  {
   "cell_type": "code",
   "execution_count": null,
   "id": "1fb7b9a4-3cb4-4634-b18a-49763c301c26",
   "metadata": {},
   "outputs": [],
   "source": [
    "s1 = \"Hello \" ; s2 = \"world!\"\n",
    "s = s1 * s2\n",
    "println(s)"
   ]
  },
  {
   "cell_type": "code",
   "execution_count": null,
   "id": "1ee8f178-b15e-4faa-a8a6-f1c833c05fcf",
   "metadata": {},
   "outputs": [],
   "source": [
    "print(s1^5)"
   ]
  },
  {
   "cell_type": "markdown",
   "id": "f26bdd46-eb26-47bd-9924-85572cfe8ac0",
   "metadata": {},
   "source": [
    "- Interpolation within a string can be obtained using `$`"
   ]
  },
  {
   "cell_type": "code",
   "execution_count": null,
   "id": "9de75658-0550-4505-822d-9ee79b51309e",
   "metadata": {},
   "outputs": [],
   "source": [
    "col = \"red\" ; x = 20_000 ; discount = 5\n",
    "s = \"My $col car cost $(x*(1-discount/100)) €\"\n",
    "print(s)"
   ]
  },
  {
   "cell_type": "code",
   "execution_count": null,
   "id": "486d3b37-07ed-478d-8ff3-134131043716",
   "metadata": {},
   "outputs": [],
   "source": [
    "s = \"Hello world!\"\n",
    "ordinal_suffix(i) = i == 1 ? \"st\" : i == 2 ? \"nd\" : \"th\"\n",
    "for (i, c) ∈ enumerate(s) \n",
    "    println(\"The character at $i$(ordinal_suffix(i)) place is $c\") \n",
    "end"
   ]
  },
  {
   "cell_type": "markdown",
   "id": "1ff2e385-6548-4248-86d6-059c6391929e",
   "metadata": {},
   "source": [
    "> Note that LaTeX strings can be built thanks to the [LaTeXStrings](https://github.com/JuliaStrings/LaTeXStrings.jl) package, imported above and used further in this notebook."
   ]
  },
  {
   "cell_type": "markdown",
   "id": "80932bf4",
   "metadata": {
    "jp-MarkdownHeadingCollapsed": true
   },
   "source": [
    "### <font color='green'>Using and defining functions</font>"
   ]
  },
  {
   "cell_type": "markdown",
   "id": "4b622bb6",
   "metadata": {},
   "source": [
    "#### <font color='orange'>[Exercise 1]</font>\n",
    "Write a function that returns the sum of the `n` first integers using a `for` loop.\n",
    "\n",
    "> *Hints:*\n",
    ">  - read the documentation of `function` (open a REPL and type `?` followed by the searched word, here `function`),\n",
    ">  - a range of integers from `m` to `n` simply writes `m:n` <mark>(unlike Python bounds are included here in the range)</mark>."
   ]
  },
  {
   "cell_type": "code",
   "execution_count": null,
   "id": "9fbea3eb",
   "metadata": {
    "nbgrader": {
     "grade": false,
     "grade_id": "squares",
     "locked": false,
     "schema_version": 3,
     "solution": true,
     "task": false
    }
   },
   "outputs": [],
   "source": [
    "function sum_of_squares(n)\n",
    "    ### BEGIN SOLUTION\n",
    "    result = 0\n",
    "    for i in 1:n\n",
    "        result += i*i\n",
    "    end\n",
    "    return result\n",
    "    ### END SOLUTION\n",
    "end;"
   ]
  },
  {
   "cell_type": "code",
   "execution_count": null,
   "id": "1ca9efea",
   "metadata": {
    "nbgrader": {
     "grade": true,
     "grade_id": "squares-tests",
     "locked": true,
     "points": 2,
     "schema_version": 3,
     "solution": false,
     "task": false
    }
   },
   "outputs": [],
   "source": [
    "@assert sum_of_squares(1) == 1 \"❌\"\n",
    "@assert sum_of_squares(2) == 5 \"❌\"\n",
    "@assert sum_of_squares(5) == 55 \"❌\"\n",
    "@assert sum_of_squares(10) == 385 \"❌\""
   ]
  },
  {
   "cell_type": "markdown",
   "id": "1bffe0b2",
   "metadata": {},
   "source": [
    "**Remarks:**\n",
    "- The same function can be written in short form"
   ]
  },
  {
   "cell_type": "code",
   "execution_count": null,
   "id": "0a3dac0a",
   "metadata": {},
   "outputs": [],
   "source": [
    "short_sum_of_squares(n) = (1:n)'*(1:n)\n",
    "\n",
    "@show short_sum_of_squares(2)\n",
    "@show short_sum_of_squares(4);"
   ]
  },
  {
   "cell_type": "markdown",
   "id": "f398d5cc",
   "metadata": {},
   "source": [
    "- Read the documentation of the function `sum` to understand why the following code also works."
   ]
  },
  {
   "cell_type": "code",
   "execution_count": null,
   "id": "ae6e1f1b",
   "metadata": {},
   "outputs": [],
   "source": [
    "other_sum_of_squares(n) = sum(x -> x^2, 1:n)\n",
    "\n",
    "@show other_sum_of_squares(2)\n",
    "@show other_sum_of_squares(4);"
   ]
  },
  {
   "cell_type": "markdown",
   "id": "b5490862",
   "metadata": {},
   "source": [
    "- The function can be applied elementwise to an array by using the broadcasting operator `.`"
   ]
  },
  {
   "cell_type": "code",
   "execution_count": null,
   "id": "664555dd",
   "metadata": {},
   "outputs": [],
   "source": [
    "@show short_sum_of_squares.([2, 4, 5])\n",
    "\n",
    "# The above command is syntactic sugar for\n",
    "@show broadcast(short_sum_of_squares, [2, 4, 5]);"
   ]
  },
  {
   "cell_type": "markdown",
   "id": "92e4c62c",
   "metadata": {},
   "source": [
    "- Broadcasting works even for functions with multiple arguments"
   ]
  },
  {
   "cell_type": "code",
   "execution_count": null,
   "id": "235fe093",
   "metadata": {},
   "outputs": [],
   "source": [
    "geometric_mean(a, b) = √(a*b)\n",
    "@show geometric_mean.(2, [8, 18]);"
   ]
  },
  {
   "cell_type": "markdown",
   "id": "bfb7d516",
   "metadata": {},
   "source": [
    "- Sometimes, it is convenient to define *anonymous* functions with the `->` notation:"
   ]
  },
  {
   "cell_type": "code",
   "execution_count": null,
   "id": "a0179615",
   "metadata": {},
   "outputs": [],
   "source": [
    "# Plot the sum of cubes for different n\n",
    "scatter(n -> sum(x -> x^3, 1:n), 1:5, label=\"sum of cubes\")"
   ]
  },
  {
   "cell_type": "markdown",
   "id": "5c53395f",
   "metadata": {},
   "source": [
    "#### <font color='orange'>[Exercise 2]</font>\n",
    "\n",
    "The ancient Babylonian method for calculating the square root of $a > 0$ is given by the iteration\n",
    "$$\n",
    "∀k∈\\mathbb{N},\\qquad x_{k+1}=\\frac{1}{2}\\left(x_k+\\frac{a}{x_k}\\right)\n",
    "$$\n",
    "\n",
    "Write a function `my_sqrt(a, x₀)` that returns an approximation of the square root of `a` based on 10 iterations of this method, starting from `x₀`."
   ]
  },
  {
   "cell_type": "code",
   "execution_count": null,
   "id": "9604ad3a",
   "metadata": {
    "nbgrader": {
     "grade": false,
     "grade_id": "baby",
     "locked": false,
     "schema_version": 3,
     "solution": true,
     "task": false
    }
   },
   "outputs": [],
   "source": [
    "function my_sqrt(a, x₀)\n",
    "    ### BEGIN SOLUTION\n",
    "    x = x₀\n",
    "    for i in 1:10\n",
    "        x = (x + a/x)/2\n",
    "    end\n",
    "    return x\n",
    "    ### END SOLUTION\n",
    "end;"
   ]
  },
  {
   "cell_type": "code",
   "execution_count": null,
   "id": "2cbb65e1",
   "metadata": {
    "nbgrader": {
     "grade": true,
     "grade_id": "baby-tests",
     "locked": true,
     "points": 2,
     "schema_version": 3,
     "solution": false,
     "task": false
    }
   },
   "outputs": [],
   "source": [
    "@assert my_sqrt(4, 1) ≈ 2 \"❌\"\n",
    "@assert my_sqrt(144, 1) ≈ 12 \"❌\""
   ]
  },
  {
   "cell_type": "markdown",
   "id": "6df68458",
   "metadata": {
    "jp-MarkdownHeadingCollapsed": true
   },
   "source": [
    "### <font color='green'>Plotting and creating animations</font>"
   ]
  },
  {
   "cell_type": "markdown",
   "id": "68644636",
   "metadata": {},
   "source": [
    "- The function `plot` can be called in a variety of ways.\n",
    "  One approach is to pass it a function:"
   ]
  },
  {
   "cell_type": "code",
   "execution_count": null,
   "id": "0947df61",
   "metadata": {},
   "outputs": [],
   "source": [
    "f(x) = cos(x) * exp(-abs(x))\n",
    "plot(f, xlims=(-5, 5))"
   ]
  },
  {
   "cell_type": "markdown",
   "id": "7171ae33",
   "metadata": {},
   "source": [
    "- Another, often more flexible, option is pass it $x$ and $y$ arrays:"
   ]
  },
  {
   "cell_type": "code",
   "execution_count": null,
   "id": "54259bce",
   "metadata": {},
   "outputs": [],
   "source": [
    "f(x) = cos(x) * exp(-abs(x))\n",
    "x = -5:.01:5\n",
    "plot(x, f.(x))"
   ]
  },
  {
   "cell_type": "markdown",
   "id": "967ce163",
   "metadata": {},
   "source": [
    "- Use commands followed by `!` to modify an existing plot."
   ]
  },
  {
   "cell_type": "code",
   "execution_count": null,
   "id": "5480b1c5",
   "metadata": {},
   "outputs": [],
   "source": [
    "plot(cos, label = \"f1\")\n",
    "plot!(sin, label = \"f2\")\n",
    "xlims!(-5, 5)\n",
    "title!(\"title\")\n",
    "xlabel!(\"x\")\n",
    "ylabel!(\"y\")"
   ]
  },
  {
   "cell_type": "markdown",
   "id": "f2ac722b",
   "metadata": {},
   "source": [
    "- Options can be grouped together within a `plot!` call:"
   ]
  },
  {
   "cell_type": "code",
   "execution_count": null,
   "id": "16bad289",
   "metadata": {},
   "outputs": [],
   "source": [
    "plot(cos, label = \"f1\")\n",
    "plot!(sin, label = \"f2\")\n",
    "plot!(xlims = (-5, 5), title = \"title\", xlabel = \"x\", ylabel = \"y\")"
   ]
  },
  {
   "cell_type": "markdown",
   "id": "d1f1206e",
   "metadata": {},
   "source": [
    "- Animations can be created as follows:"
   ]
  },
  {
   "cell_type": "code",
   "execution_count": null,
   "id": "fa796def",
   "metadata": {},
   "outputs": [],
   "source": [
    "anim = Animation()\n",
    "for θ in LinRange(0, 2π, 50)\n",
    "    plot(x -> cos(x - θ), label=nothing)\n",
    "    title!(\"θ = $(round(θ, digits=3))\")\n",
    "    frame(anim)\n",
    "end\n",
    "gif(anim, fps=10)"
   ]
  },
  {
   "cell_type": "markdown",
   "id": "8109950d",
   "metadata": {},
   "source": [
    "- The `Plots` library defines the `@animate` macro to simplify the creation of animations:"
   ]
  },
  {
   "cell_type": "code",
   "execution_count": null,
   "id": "66d0b78c",
   "metadata": {},
   "outputs": [],
   "source": [
    "anim = @animate for θ in LinRange(0, 2π, 50)\n",
    "    plot(x -> cos(x - θ), label=nothing)\n",
    "    title!(\"θ = $(round(θ, digits=3))\")\n",
    "end\n",
    "gif(anim, fps=10)"
   ]
  },
  {
   "cell_type": "markdown",
   "id": "6f0f2622",
   "metadata": {},
   "source": [
    "#### <font color='orange'>[Exercise 3]</font>\n",
    "Create an animation illustrating the motion a golf ball whose position in the $x,y$ plane with position\n",
    "$$\n",
    "\\begin{aligned}\n",
    "x(t) &= u_0 t, \\\\\n",
    "y(t) &= v_0 t - g \\frac{t^2}{2},\n",
    "\\end{aligned}\n",
    "$$\n",
    "Use the parameters provided as well as the function `scatter`,\n",
    "and make the animation as good as possible."
   ]
  },
  {
   "cell_type": "code",
   "execution_count": null,
   "id": "18038915",
   "metadata": {
    "nbgrader": {
     "grade": true,
     "grade_id": "golf",
     "locked": false,
     "points": 4,
     "schema_version": 3,
     "solution": true,
     "task": false
    }
   },
   "outputs": [],
   "source": [
    "u₀ = 50\n",
    "v₀ = 50\n",
    "g = 9.81\n",
    "### BEGIN SOLUTION\n",
    "X(t) = u₀*t\n",
    "Y(t) = v₀*t - g*t^2/2\n",
    "tf = 2v₀/g\n",
    "nframes = 100\n",
    "\n",
    "anim = @animate for t in LinRange(0, tf, nframes)\n",
    "    scatter([X(t)], [Y(t)], label=nothing, markersize=10)\n",
    "    title!(\"t = $(round(t, digits=3))\")\n",
    "    xlims!(0, X(tf))\n",
    "    ylims!(0, Y(tf/2) * 1.1)\n",
    "end\n",
    "gif(anim, fps=nframes/tf)\n",
    "### END SOLUTION"
   ]
  },
  {
   "cell_type": "markdown",
   "id": "892d0cab",
   "metadata": {
    "jp-MarkdownHeadingCollapsed": true
   },
   "source": [
    "### <font color='green'>Floating point formats</font>"
   ]
  },
  {
   "cell_type": "markdown",
   "id": "e3f3aa78",
   "metadata": {},
   "source": [
    "Only finitely many numbers can be represented exactly on a computer.\n",
    "Consequently, some real numbers can be represented exactly,\n",
    "and some cannot.\n",
    "The IEEE 754 standard,\n",
    "with which virtually all programming languages comply,\n",
    "specifies a small number of **floating point formats**.\n",
    "The set of real numbers representable in each format is of the form\n",
    "$$\n",
    "\\begin{align*}\n",
    "    F(p, E_{\\min}, E_{\\max})\n",
    "    = \\Bigl\\{ & (-1)^s 2^E (b_0. b_1 b_2 \\dots b_{p-1})_2 \\colon \\\\\n",
    "              & \\qquad s \\in \\{0, 1\\}, b_i \\in \\{0, 1\\} \\, \\text{and} \\, E_{\\min} \\leq E \\leq E_{\\max} \\Bigr\\}.\n",
    "\\end{align*}\n",
    "$$\n",
    "Here $(b_0.b_1 b_2 \\dots b_{p-1})_2$ is a number in binary representation, i.e.\n",
    "$$\n",
    "(b_0.b_1 b_2 \\dots b_{p-1})_2 = b_0 + \\frac{1}{2} b_1 + \\dotsc + \\frac{1}{2^{p-1}} b_{p-1}.\n",
    "$$\n",
    "For an element $x \\in F(p, E_{\\min}, E_{\\max})$, $(b_0. b_1 b_2 \\dots b_{p-1})_2$ is called the *significand*, $s$ is the *sign* and $E$ is the *exponent*.\n",
    "Three parameters appear in the set definition given above:\n",
    "- $p$ is the number of significant bits (also called the **precision**),\n",
    "- $E_{\\min}$ is the minimum exponent.\n",
    "- $E_{\\max}$ is the maximum exponent.\n",
    "\n",
    "From the precision, the **machine epsilon** associated with the format is defined as\n",
    "$$\n",
    "\\varepsilon = 2^{-(p-1)}\n",
    "$$\n",
    "\n",
    "The parameters of the most commonly-used formats specified by the standard are the following:\n",
    "\n",
    "| Parameter | Half-precision (`Float16`) | Single precision (`Float32`) | Double precision (`Float64`) |\n",
    "| --- | --- | --- | --- |\n",
    "| $p$ | 11 | 24 | 53 |\n",
    "| $E_{\\min}$ | -14 | -126 | -1022 |\n",
    "| $E_{\\max}$ | 15 | 127 | 1023 |\n",
    "\n",
    "In Julia, half, single and double precision floating point formats are given by\n",
    "`Float16`, `Float32`, and `Float64`, the default one being `Float64`."
   ]
  },
  {
   "cell_type": "code",
   "execution_count": null,
   "id": "7d59fa55",
   "metadata": {},
   "outputs": [],
   "source": [
    "a = √2\n",
    "b = Float32(√2)\n",
    "c = Float16(√2)\n",
    "\n",
    "@show a\n",
    "@show b\n",
    "@show c\n",
    "\n",
    "@show typeof(a)\n",
    "@show typeof(b)\n",
    "@show typeof(c);"
   ]
  },
  {
   "cell_type": "markdown",
   "id": "8dcf2ec7",
   "metadata": {},
   "source": [
    "The machine epsilon should be understood as a measure of the relative spacing between a floating point number and the next one, within a format.\n",
    "Indeed, the number 1 is representable exactly in all formats,\n",
    "and the next representable number is precisely $1 + \\varepsilon$"
   ]
  },
  {
   "cell_type": "code",
   "execution_count": null,
   "id": "62f8efd0",
   "metadata": {},
   "outputs": [],
   "source": [
    "a = Float16(1.0)\n",
    "@show nextfloat(a) - a\n",
    "@show eps(Float16);"
   ]
  },
  {
   "cell_type": "markdown",
   "id": "3568d6b8",
   "metadata": {},
   "source": [
    "Likewise, the next representable number from $2$ is $2 + 2\\varepsilon$\n",
    "and the next representable number from $4$ is $4 + 4ε$:"
   ]
  },
  {
   "cell_type": "code",
   "execution_count": null,
   "id": "1ee81c50",
   "metadata": {},
   "outputs": [],
   "source": [
    "ε = eps(Float64)\n",
    "@show nextfloat(2.0) - 2.0\n",
    "@show 2ε;\n",
    "@show nextfloat(4.0) - 4.0\n",
    "@show 4ε;"
   ]
  },
  {
   "cell_type": "markdown",
   "id": "4f8df980",
   "metadata": {},
   "source": [
    "As expected from the names,\n",
    "a `Float16` number is stored using 16 bits, \n",
    "a `Float32` is stored using 32 bits, \n",
    "and a `Float64` number is stored using 64 bits.\n",
    "Of these bits, one is used to store the sign, \n",
    "and the rest are used to store the significand and the exponent.\n",
    "Additionally, a few combinations of the bits are reserved to represent the special values\n",
    "`Inf`, `-Inf` and `NaN`, the latter being an acronym for \"not a number\"."
   ]
  },
  {
   "cell_type": "markdown",
   "id": "6d64592c",
   "metadata": {},
   "source": [
    "A **byte**, abbreviated with a capital B, is a unit that consists of 8 bits.\n",
    "This is the unit that is usually used to describe the amount of memory available in commercial products;\n",
    "for example, a laptop typically has around 8GB or 16GB of RAM memory.\n",
    "It is often useful to have a rough idea of how much space mathematical objects take in memory.\n",
    "For example, a 1000 x 1000 matrix of `Float64` numbers requires $8 \\times 10^6$ bytes to store,\n",
    "and a 10000 x 10000 matrix of `Float64` numbers requires almost 800MB of RAM."
   ]
  },
  {
   "cell_type": "code",
   "execution_count": null,
   "id": "1b1afa83",
   "metadata": {},
   "outputs": [],
   "source": [
    "A = zeros(10_000, 10_000)\n",
    "@show Base.summarysize(A);"
   ]
  },
  {
   "cell_type": "markdown",
   "id": "d78814c4",
   "metadata": {},
   "source": [
    "To develop our understanding of floating point format,\n",
    "let us plot on the same graph the spacing between\n",
    "successive `Float16`, `Float32` and `Float64` numbers\n",
    "in the range $[1, 10^4]$. Notice that the density of\n",
    "representable floating point numbers around $x$ decreases\n",
    "with $x$."
   ]
  },
  {
   "cell_type": "code",
   "execution_count": null,
   "id": "20e04585",
   "metadata": {},
   "outputs": [],
   "source": [
    "n = 1000\n",
    "x_16 = (^).(10, LinRange{Float16}(0, 4, n))\n",
    "x_32 = (^).(10, LinRange{Float32}(0, 4, n))\n",
    "x_64 = (^).(10, LinRange{Float64}(0, 4, n))\n",
    "spacing16 = nextfloat.(x_16) - x_16\n",
    "spacing32 = nextfloat.(x_32) - x_32\n",
    "spacing64 = nextfloat.(x_64) - x_64\n",
    "plot(x_16, spacing16, label=\"Float16\", )\n",
    "plot!(x_32, spacing32, label=\"Float32\")\n",
    "plot!(x_64, spacing64, label=\"Float64\")\n",
    "plot!(xscale=:log10, yscale=:log10,\n",
    "      xlabel=\"x\", ylabel=\"Δx\", legend=:bottomright)"
   ]
  },
  {
   "cell_type": "markdown",
   "id": "a5437f5e",
   "metadata": {},
   "source": [
    "#### <font color='orange'>[Exercise 4]</font>\n",
    "To further develop your understanding,\n",
    "- Read the documentation of the `nextfloat` function.\n",
    "- Using this function,\n",
    "  plot the **relative** spacing, normalized by the machine epsilon of the `Float32` format,\n",
    "  between successive `Float32` numbers in the range $[10^{-2}, 10^2]$.\n",
    "  More precisely, plot the function\n",
    "  $$\n",
    "  x \\mapsto \\frac{\\text{nextfloat}(x) - x}{x \\varepsilon}\n",
    "  $$\n",
    "\n",
    "Use a logarithmic scale for the $x$ axis only.\n",
    "You may find it useful to use `LinRange{Type}(a, b, n)`\n",
    "to create a vector of $n$ equidistant numbers of type `Type` between $a$ and $b$."
   ]
  },
  {
   "cell_type": "code",
   "execution_count": null,
   "id": "296cd56e",
   "metadata": {
    "nbgrader": {
     "grade": true,
     "grade_id": "spacing",
     "locked": false,
     "points": 4,
     "schema_version": 3,
     "solution": true,
     "task": false
    }
   },
   "outputs": [],
   "source": [
    "### BEGIN SOLUTION\n",
    "x = (^).(10, LinRange{Float32}(-2, 2, 10000))\n",
    "spacing = (nextfloat.(x) - x) ./ (x*eps(Float32))\n",
    "plot(x, spacing, label=\"Relative spacing\")\n",
    "plot!(xscale=:log2, xlabel=\"x\", ylabel=\"Δx/x (in ε units)\")\n",
    "### END SOLUTION"
   ]
  },
  {
   "cell_type": "markdown",
   "id": "d1246663",
   "metadata": {},
   "source": [
    "Let us now address a natural question stemming from this discussion:\n",
    "what happens if the result of a mathematical operation is not exactly representable in the floating point format?\n",
    "The answer is simple: the result is rounded to the nearest representable number.\n",
    "This explains the following surprising results:"
   ]
  },
  {
   "cell_type": "code",
   "execution_count": null,
   "id": "823ddbae",
   "metadata": {},
   "outputs": [],
   "source": [
    "@show 1 + eps()/3      # the result is 1\n",
    "@show 1 + 2*eps()/3    # the result is 1 + ε\n",
    "@show .1 + .2 == .3    # this is False"
   ]
  },
  {
   "cell_type": "markdown",
   "id": "1eed591a",
   "metadata": {},
   "source": [
    "The errors caused by this rounding process are called **roundoff errors**.\n",
    "They are particularly impactful for the calculation of derivatives.\n",
    "Indeed, suppose that we wish to calculate,\n",
    "for a differentiable function $f\\colon \\mathbb R \\to \\mathbb R$, an approximation of $f'(1)$.\n",
    "The most natural approach to this end is to calculate for small $\\delta > 0$\n",
    "$$\n",
    "d(\\delta) = \\frac{f(1+ \\delta) - f(1)}{\\delta}.\n",
    "$$\n",
    "In exact arithmetic, this would provide an approximation of $f'(1)$ with an error scaling as $\\mathcal O(\\delta)$,\n",
    "assuming $f''(1) \\neq 0$.\n",
    "In computer arithmetic, however, an additional error occurs due to rounding,\n",
    "which can be shown to be of the order $\\mathcal O(\\varepsilon/\\delta)$.\n",
    "The best choice is to set $\\delta \\approx \\sqrt{\\varepsilon}$,\n",
    "so that the errors are approximately of the same order of magnitude."
   ]
  },
  {
   "cell_type": "code",
   "execution_count": null,
   "id": "39d9355a",
   "metadata": {},
   "outputs": [],
   "source": [
    "f(x) = exp(x)\n",
    "d(δ) = (f(1+δ) - f(1))/δ\n",
    "δs = 10 .^(0:-.1:-17)\n",
    "err = abs.(d.(δs) .- exp(1))\n",
    "plot(δs, err, xscale=:log10, yscale=:log10, label=L\"|d(\\delta) - f'(1)|\", size=(900,450))\n",
    "plot!([eps()], seriestype=:vline, label = L\"\\varepsilon\")\n",
    "plot!([sqrt(eps())], seriestype=:vline, label = L\"\\sqrt{\\varepsilon}\")"
   ]
  },
  {
   "cell_type": "markdown",
   "id": "f96d79e3",
   "metadata": {},
   "source": [
    "For very small $\\delta$ of the order of the machine $\\varepsilon$, \n",
    "the approximation obtained is completely wrong.\n",
    "Do you understand the following observations?"
   ]
  },
  {
   "cell_type": "code",
   "execution_count": null,
   "id": "85946a1b",
   "metadata": {},
   "outputs": [],
   "source": [
    "δ = eps()/4; @show (exp(δ) - exp(0)) / δ\n",
    "δ = eps()/2; @show (exp(δ) - exp(0)) / δ\n",
    "δ = eps(); @show (exp(δ) - exp(0)) / δ;"
   ]
  },
  {
   "cell_type": "markdown",
   "id": "8dc8347c",
   "metadata": {},
   "source": [
    "**Remark**. In many settings, it is useful to use floating point numbers with more precision than the standard types,\n",
    "so that the roundoff errors can be reduced and true error, \n",
    "coming from the inexact nature of many algorithms even in exact arithmetic,\n",
    "can be observed.\n",
    "The `BigFloat` in Julia is an arbitrary precision format.\n",
    "The corresponding number of significant bits can be set by using the `setprecision` function."
   ]
  },
  {
   "cell_type": "code",
   "execution_count": null,
   "id": "4f34ea7b",
   "metadata": {},
   "outputs": [],
   "source": [
    "@show Float64(π)    \n",
    "\n",
    "setprecision(100, base=10)  # We want 100 digits in base 10\n",
    "BigFloat(π)"
   ]
  },
  {
   "cell_type": "markdown",
   "id": "646c0efe-b804-4204-b974-4244251f62ec",
   "metadata": {
    "jp-MarkdownHeadingCollapsed": true
   },
   "source": [
    "### <font color='green'>Manipulation of arrays</font>"
   ]
  },
  {
   "cell_type": "markdown",
   "id": "eb12a854-1f7b-47f8-9cf9-d18a1c91aa8d",
   "metadata": {},
   "source": [
    "- Simple explicit definition"
   ]
  },
  {
   "cell_type": "code",
   "execution_count": null,
   "id": "d413348a-bbbe-4424-ba8c-13fe1332eb70",
   "metadata": {},
   "outputs": [],
   "source": [
    "u = [1, 2, 3]  # defines a column Vector\n",
    "display(u)\n",
    "@show typeof(u)"
   ]
  },
  {
   "cell_type": "markdown",
   "id": "88c890be-3136-49b9-84a5-6fafb7d243dc",
   "metadata": {},
   "source": [
    "- Note the difference with"
   ]
  },
  {
   "cell_type": "code",
   "execution_count": null,
   "id": "e71bb6d8-c840-4c32-bc4f-bbb897423673",
   "metadata": {},
   "outputs": [],
   "source": [
    "u = [1 2 3] # defines a Matrix of 1 line\n",
    "display(u)\n",
    "@show typeof(u)"
   ]
  },
  {
   "cell_type": "markdown",
   "id": "9684bcf9-9b46-4368-9fa1-6edb7b6fb646",
   "metadata": {},
   "source": [
    "- Explicit definition of a matrix"
   ]
  },
  {
   "cell_type": "code",
   "execution_count": null,
   "id": "3c67c49b-e42e-4312-b26d-b1080ebcaf4d",
   "metadata": {},
   "outputs": [],
   "source": [
    "A = [1 2 3\n",
    "     4 5 6\n",
    "     7 8 9]"
   ]
  },
  {
   "cell_type": "code",
   "execution_count": null,
   "id": "878a2e95-a961-40d5-8c53-d089aaa950f6",
   "metadata": {},
   "outputs": [],
   "source": [
    "A = [1 2 3; 4 5 6; 7 8 9]"
   ]
  },
  {
   "cell_type": "markdown",
   "id": "5ef87896-f545-4872-8930-7f1e6b653604",
   "metadata": {},
   "source": [
    "- Extraction of a column or a line\n",
    "> **Note:** in `Julia`, indices start at `1` as in `Fortran` (**not `0` as in `Python` or `C`**)"
   ]
  },
  {
   "cell_type": "code",
   "execution_count": null,
   "id": "d7f4e075-bc1c-4b07-9cc7-5fce2a0c77c0",
   "metadata": {},
   "outputs": [],
   "source": [
    "A[1,:]"
   ]
  },
  {
   "cell_type": "code",
   "execution_count": null,
   "id": "3efa4bff-2770-497e-8237-eac6c7d0e6c1",
   "metadata": {},
   "outputs": [],
   "source": [
    "A[:,1]"
   ]
  },
  {
   "cell_type": "markdown",
   "id": "f93b02ab-e87f-4e9d-bf0c-921acb0ac85c",
   "metadata": {},
   "source": [
    "- `:` is a shortcut for `begin:end` or `1:end`"
   ]
  },
  {
   "cell_type": "code",
   "execution_count": null,
   "id": "4a3aaf21-db87-4fea-a2b4-359a7d8906f8",
   "metadata": {},
   "outputs": [],
   "source": [
    "A[2,1:end]"
   ]
  },
  {
   "cell_type": "code",
   "execution_count": null,
   "id": "09e1b4cc-8dbc-4705-a6a1-f13446fa1823",
   "metadata": {},
   "outputs": [],
   "source": [
    "A[begin:end,2]"
   ]
  },
  {
   "cell_type": "markdown",
   "id": "ed22f5a9-f6b4-4e79-a9aa-fc658acc1319",
   "metadata": {},
   "source": [
    "- Construction of an array by comprehension syntax"
   ]
  },
  {
   "cell_type": "code",
   "execution_count": null,
   "id": "0b8f66a9-88ba-4a5d-9965-b53e10e54f9c",
   "metadata": {},
   "outputs": [],
   "source": [
    "A = [10i+j for i in 0:2, j in 0:3]\n",
    "display(A)\n",
    "print(\"\\nA = $A\\n\\n\")\n",
    "@show A\n",
    "@show A[1,1]\n",
    "@show A[1,2]\n",
    "@show length(A)\n",
    "@show size(A)\n",
    "@show size(A, 1)\n",
    "@show size(A, 2)\n",
    "@show eltype(A)\n",
    ";"
   ]
  },
  {
   "cell_type": "markdown",
   "id": "4c2ddff9-5804-45c8-9c21-7cf4b6c55cb7",
   "metadata": {},
   "source": [
    "- Adjoint matrix"
   ]
  },
  {
   "cell_type": "code",
   "execution_count": null,
   "id": "0dc283e5-6c19-4178-9078-3c2737f9f38d",
   "metadata": {},
   "outputs": [],
   "source": [
    "A = [1 2 3\n",
    "     4 5 6]\n",
    "A'"
   ]
  },
  {
   "cell_type": "code",
   "execution_count": null,
   "id": "e204f135-d91d-4434-a060-77ff6f7dd76e",
   "metadata": {},
   "outputs": [],
   "source": [
    "display(A'A)\n",
    "display(A*A')"
   ]
  },
  {
   "cell_type": "code",
   "execution_count": null,
   "id": "3f1d9575-d511-4e0b-b08f-3a5a2059f123",
   "metadata": {},
   "outputs": [],
   "source": [
    "A = [2+3im 4+2im 1+3im\n",
    "     1+2im 2+3im 5+6im]\n",
    "A'"
   ]
  },
  {
   "cell_type": "code",
   "execution_count": null,
   "id": "223fed0d-f0a4-4ee6-9787-6001a61f02ba",
   "metadata": {},
   "outputs": [],
   "source": [
    "display(A'A)\n",
    "display(A*A')"
   ]
  },
  {
   "cell_type": "markdown",
   "id": "25823ffc-5c68-4f49-90e5-6a83ecb94d24",
   "metadata": {},
   "source": [
    "- Concatenation of arrays"
   ]
  },
  {
   "cell_type": "code",
   "execution_count": null,
   "id": "4088bc07-d2c5-4942-bff7-c3d32d76d9d0",
   "metadata": {},
   "outputs": [],
   "source": [
    "A = [1 2 3\n",
    "     4 5 6]\n",
    "u = [10, 20, 30]\n",
    "v = [100, 200]\n",
    ";"
   ]
  },
  {
   "cell_type": "code",
   "execution_count": null,
   "id": "5e6b5461-1c4e-4665-90a4-4b4b06838b73",
   "metadata": {},
   "outputs": [],
   "source": [
    "[A v]"
   ]
  },
  {
   "cell_type": "code",
   "execution_count": null,
   "id": "b98067a6-25bd-467e-bd54-2327eae78fca",
   "metadata": {},
   "outputs": [],
   "source": [
    "[A; u']"
   ]
  },
  {
   "cell_type": "code",
   "execution_count": null,
   "id": "3001a428-f545-4f07-9e06-f1cc406ddba7",
   "metadata": {},
   "outputs": [],
   "source": [
    "[A A]"
   ]
  },
  {
   "cell_type": "code",
   "execution_count": null,
   "id": "3f3220b5-c197-411a-8e81-05ba7a9da3f2",
   "metadata": {},
   "outputs": [],
   "source": [
    "[A; A]"
   ]
  },
  {
   "cell_type": "code",
   "execution_count": null,
   "id": "340da146-198c-4e13-ab36-f9d0cecd2acb",
   "metadata": {},
   "outputs": [],
   "source": [
    "hcat(A, A, A)"
   ]
  },
  {
   "cell_type": "code",
   "execution_count": null,
   "id": "d9f9bda8-de01-4628-9b4a-20a2505ce6f0",
   "metadata": {},
   "outputs": [],
   "source": [
    "vcat(A, A, A)"
   ]
  },
  {
   "cell_type": "markdown",
   "id": "90fe95fb",
   "metadata": {},
   "source": [
    "- Components are stored column-wise and can be accessed by single index even for multidimensional arrays\n",
    "- `eachindex` and `CartesianIndices` allow to iterate over all the indices of an array (single index for the former, multi-index for the latter)\n",
    "- A `CartesianIndex` can be converted into a `Tuple`\n",
    "- `...` is the splat operator (see the documentation)"
   ]
  },
  {
   "cell_type": "code",
   "execution_count": null,
   "id": "03025f39",
   "metadata": {},
   "outputs": [],
   "source": [
    "A = [1 2 3; 4 5 6]\n",
    "\n",
    "for k ∈ eachindex(A)\n",
    "    println(\"A[$k] = \", A[k])\n",
    "end\n",
    "println()\n",
    "\n",
    "for k ∈ CartesianIndices(A)\n",
    "    println(\"A[$k] = A$(Tuple(k)...) = \", A[k])\n",
    "end\n",
    "println()\n",
    "\n",
    "for i in 1:size(A, 1)\n",
    "    for j in 1:size(A, 2)\n",
    "        println(\"A[$i, $j] = \", A[i, j])\n",
    "    end\n",
    "end\n",
    "println()\n",
    "\n",
    "for i in 1:size(A, 1), j in 1:size(A, 2)\n",
    "    println(\"A[$i, $j] = \", A[i, j])\n",
    "end"
   ]
  },
  {
   "cell_type": "markdown",
   "id": "03c650ef-b888-4c28-aa27-54a7d2392dab",
   "metadata": {},
   "source": [
    "- A matrix (array of order 2) is not a vector of vectors"
   ]
  },
  {
   "cell_type": "code",
   "execution_count": null,
   "id": "13deba07-6ca6-4d62-ac98-f4b8f8b3da31",
   "metadata": {},
   "outputs": [],
   "source": [
    "B = [[10i+j for i in 0:2] for j in 0:3]\n",
    "display(B)\n",
    "@show B isa Matrix \n",
    ";"
   ]
  },
  {
   "cell_type": "markdown",
   "id": "f05f233d-9bdf-4439-b69e-1899d411ab15",
   "metadata": {},
   "source": [
    "- Arrays are mutable (if the type is consistent), tuple are not!"
   ]
  },
  {
   "cell_type": "code",
   "execution_count": null,
   "id": "13f9b26a-7f73-49c1-9f55-95d3e04342ab",
   "metadata": {},
   "outputs": [],
   "source": [
    "v = [1, 2]\n",
    "@show typeof(v)\n",
    "@show eltype(v)\n",
    "@show v\n",
    "v[1] = 3\n",
    "@show v\n",
    "# v[1] = 1.5 # error since v is of type Vector{Int64}\n",
    "# @show v\n",
    "t = (1, 2)\n",
    "@show t[1] ;\n",
    "# t[1] = 3 # error since t is not mutable"
   ]
  },
  {
   "cell_type": "markdown",
   "id": "5e7762f6-598f-4405-b483-2749cba6d401",
   "metadata": {},
   "source": [
    "- Definition of a void array and *a posteriori* construction\n",
    "\n",
    "> Note the difference between `push!` and `append!` (it is recalled that for both `!` expresses that by convention, not obligation, the argument is modified)"
   ]
  },
  {
   "cell_type": "code",
   "execution_count": null,
   "id": "44002e27-e93c-4521-bd20-ad9055516bc2",
   "metadata": {},
   "outputs": [],
   "source": [
    "v = [] # void vector containing any type (not optimal!)\n",
    "@show typeof(v)\n",
    "push!(v, 1)\n",
    "append!(v, [2.5, 3.6]) # pushes each item of the vector [2.5, 3.6]\n",
    "@show v\n",
    "push!(v, [4.1, 5.2]) # pushes a vector as new item\n",
    "@show v ;\n",
    "@show v[end]\n",
    "@show v[end-1] ;"
   ]
  },
  {
   "cell_type": "markdown",
   "id": "455d7422-4f51-40b3-a15c-c2a8628e8d9e",
   "metadata": {},
   "source": [
    "- For better performance, if possible, it is preferable to inform about the type of the elements of the vector at construction"
   ]
  },
  {
   "cell_type": "code",
   "execution_count": null,
   "id": "6d7b2892-494a-4047-8d39-fc5ce1066c54",
   "metadata": {},
   "outputs": [],
   "source": [
    "v = Float64[]\n",
    "@show typeof(v)\n",
    "push!(v, 1)\n",
    "append!(v, [2//3, π]) # pushes each item of the vector [2//3, π] and convert on-the-fly to Float64\n",
    "@show v\n",
    "# push!(v, [4.3, 5.7]) # throws an error since [4.3, 5.7] is not of type Float64\n",
    ";"
   ]
  },
  {
   "cell_type": "markdown",
   "id": "a4b8ddf6",
   "metadata": {},
   "source": [
    "- Reference of an array"
   ]
  },
  {
   "cell_type": "code",
   "execution_count": null,
   "id": "7fd82ba1-76f3-497e-ab5e-d371c47dc235",
   "metadata": {},
   "outputs": [],
   "source": [
    "A = [10i+j for i in 1:2, j in 1:3]\n",
    "@show A\n",
    "B = A # B is a reference to A (both point to the same memory location)\n",
    "@show B == A # same content\n",
    "@show B === A # same memory location\n",
    "B .= 99 # .= assigns all the coefficients of the array to 99\n",
    "@show B\n",
    "@show A # A is of course also affected\n",
    ";"
   ]
  },
  {
   "cell_type": "markdown",
   "id": "197ccfab",
   "metadata": {},
   "source": [
    "- Copy of an array"
   ]
  },
  {
   "cell_type": "code",
   "execution_count": null,
   "id": "7777876a",
   "metadata": {},
   "outputs": [],
   "source": [
    "A = [10i+j for i in 1:2, j in 1:3]\n",
    "@show A\n",
    "B = copy(A) # B and A are two distinct arrays\n",
    "@show B == A # same content\n",
    "@show B === A # not the same memory location\n",
    "B .= 99 # .= assigns all the coefficients of the array to 99\n",
    "@show B\n",
    "@show A # A unaffected\n",
    ";"
   ]
  },
  {
   "cell_type": "markdown",
   "id": "8f09ecbd",
   "metadata": {},
   "source": [
    "- Slicing as a l-value ≡ **reference**"
   ]
  },
  {
   "cell_type": "code",
   "execution_count": null,
   "id": "0a56dc85-437c-4006-bf6a-052f67f9a81a",
   "metadata": {},
   "outputs": [],
   "source": [
    "A = [10i+j for i in 1:6, j in 1:8]\n",
    "display(A)\n",
    "A[1:2:end, 2:2:end] .= 0 # components of odd line and even column are set to 0\n",
    "display(A)\n",
    ";"
   ]
  },
  {
   "cell_type": "markdown",
   "id": "a654e518",
   "metadata": {},
   "source": [
    "- Slicing as a r-value ≡ **copy**"
   ]
  },
  {
   "cell_type": "code",
   "execution_count": null,
   "id": "804b5129",
   "metadata": {},
   "outputs": [],
   "source": [
    "A = [10i+j for i in 1:6, j in 1:8]\n",
    "display(A)\n",
    "B = A[1:2:end, 2:2:end] # B is a copy of the submatrix\n",
    "display(B)\n",
    "B .= 0\n",
    "display(B)\n",
    "display(A) # A remains unaffected\n",
    ";"
   ]
  },
  {
   "cell_type": "markdown",
   "id": "9e74619d",
   "metadata": {},
   "source": [
    "- Reference as r-value by means of `view`"
   ]
  },
  {
   "cell_type": "code",
   "execution_count": null,
   "id": "50dd10ef",
   "metadata": {},
   "outputs": [],
   "source": [
    "A = [10i+j for i in 1:6, j in 1:8]\n",
    "display(A)\n",
    "B = view(A, 1:2:size(A,1), 2:2:size(A,2)) # B is a view of the submatrix (reference not a copy)\n",
    "display(B)\n",
    "B .= 0\n",
    "display(B)\n",
    "display(A) # A is modified\n",
    ";"
   ]
  },
  {
   "cell_type": "markdown",
   "id": "6d2fe7be",
   "metadata": {},
   "source": [
    "- Other ways to define slices by selection of indices"
   ]
  },
  {
   "cell_type": "code",
   "execution_count": null,
   "id": "0625698c",
   "metadata": {},
   "outputs": [],
   "source": [
    "A = [10i+j for i in 1:6, j in 1:8]\n",
    "A[isodd.(1:end), iseven.(1:end)] .= 0 ; display(A)\n",
    "A = [10i+j for i in 1:6, j in 1:8]\n",
    "A[findall(isodd,A)] .= 0 ; display(A) ;"
   ]
  },
  {
   "cell_type": "markdown",
   "id": "2b44452e",
   "metadata": {},
   "source": [
    "- Explain the following lines"
   ]
  },
  {
   "cell_type": "code",
   "execution_count": null,
   "id": "e90ee196",
   "metadata": {},
   "outputs": [],
   "source": [
    "A = [10i+j for i in 1:6, j in 1:8]\n",
    "B = view(A, collect(1:size(A,1)) .% 3 .== 0, collect(1:size(A,2)) .% 5 .!= 0)\n",
    "B .= 0\n",
    "A"
   ]
  },
  {
   "cell_type": "code",
   "execution_count": null,
   "id": "8691ad04",
   "metadata": {},
   "outputs": [],
   "source": [
    "A = rand(5, 5) ; display(A)\n",
    "A[findall(x -> x < 1/2, A)] .= 0\n",
    "A"
   ]
  },
  {
   "cell_type": "code",
   "execution_count": null,
   "id": "5417f85e",
   "metadata": {},
   "outputs": [],
   "source": [
    "n, m = 7, 9\n",
    "B = rand(n, m)\n",
    "u = rand(m)\n",
    "display(B*u)\n",
    "subi = collect(1:n) .% 3 .!= 0 ; @show subi\n",
    "subj = collect(1:m) .% 3 .== 0 ; @show subj\n",
    "B[subi,subj]*u[subj]"
   ]
  },
  {
   "cell_type": "markdown",
   "id": "9a7712d6",
   "metadata": {},
   "source": [
    "#### <font color='orange'>[Exercise 5]</font>\n",
    "\n",
    "Write a function which computes the comatrix of a matrix explicitly from the determinant of submatrices.\n",
    "\n",
    "It is recalled that the component $C_{ij}$ of the comatrix of $A$ is obtained as the determinant of the submatrix obtained from $A$ by removing its $i^\\textrm{th}$ row and $j^\\textrm{th}$ column multiplied by $(-1)^{i+j}.$ The determinant of a small dense matrix is computed by the function `det` available in the library `LinearAlgebra`."
   ]
  },
  {
   "cell_type": "code",
   "execution_count": null,
   "id": "a244696a",
   "metadata": {
    "nbgrader": {
     "grade": false,
     "grade_id": "comatrix",
     "locked": false,
     "schema_version": 3,
     "solution": true,
     "task": false
    }
   },
   "outputs": [],
   "source": [
    "using LinearAlgebra\n",
    "function comatrix(A)\n",
    "    C = zero(A)\n",
    "    ### BEGIN SOLUTION\n",
    "    for ij ∈ CartesianIndices(A)\n",
    "        i, j = Tuple(ij)\n",
    "        C[ij] = (-1)^(i+j)*det(A[1:end .!= i, 1:end .!= j])\n",
    "    end\n",
    "    ### END SOLUTION\n",
    "    return C\n",
    "end"
   ]
  },
  {
   "cell_type": "code",
   "execution_count": null,
   "id": "7e6ed95a",
   "metadata": {
    "nbgrader": {
     "grade": true,
     "grade_id": "comatrix-test",
     "locked": true,
     "points": 4,
     "schema_version": 3,
     "solution": false,
     "task": false
    }
   },
   "outputs": [],
   "source": [
    "n = 10\n",
    "A = rand(n, n)\n",
    "C = comatrix(A)\n",
    "display(C'A)\n",
    "@assert C'A ≈ det(A)*LinearAlgebra.I"
   ]
  },
  {
   "cell_type": "markdown",
   "id": "62809e3c",
   "metadata": {
    "jp-MarkdownHeadingCollapsed": true
   },
   "source": [
    "### <font color='green'>Creating custom structures</font>"
   ]
  },
  {
   "cell_type": "markdown",
   "id": "a3e90863",
   "metadata": {},
   "source": [
    "Julia is not an object-oriented language.\n",
    "Instead, it supports *multiple dispatch*,\n",
    "which is eloquently motivated in the [Julia documentation](https://docs.julialang.org/en/v1/manual/methods/)\n",
    "\n",
    "> The choice of which method to execute when a function is applied is called dispatch. Julia allows the dispatch process to choose which of a function's methods to call based on the number of arguments given, and on the types of all of the function's arguments. This is different from traditional object-oriented languages, where dispatch occurs based only on the first argument, which often has a special argument syntax, and is sometimes implied rather than explicitly written as an argument. Using all of a function's arguments to choose which method should be invoked, rather than just the first, is known as multiple dispatch. Multiple dispatch is particularly useful for mathematical code, where it makes little sense to artificially deem the operations to \"belong\" to one argument more than any of the others: does the addition operation in x + y belong to x any more than it does to y? The implementation of a mathematical operator generally depends on the types of all of its arguments. Even beyond mathematical operations, however, multiple dispatch ends up being a powerful and convenient paradigm for structuring and organizing programs."
   ]
  },
  {
   "cell_type": "code",
   "execution_count": null,
   "id": "e27b3e70",
   "metadata": {},
   "outputs": [],
   "source": [
    "struct Dog\n",
    "  name::String\n",
    "end\n",
    "\n",
    "struct Cat\n",
    "  name::String\n",
    "end\n",
    "\n",
    "greet(a::Dog, b::Dog) = \"$(a.name): Wouf wouf $(b.name), content de te revoir mon vieux\"\n",
    "greet(a::Dog, b::Cat) = \"$(a.name): Wouf wouf wouf wouf !\"\n",
    "greet(a::Cat, b::Dog) = \"$(a.name) s'éloigne discrètement de $(b.name)\"\n",
    "greet(a::Cat, b::Cat) = \"$(a.name) commence à ronronner\"\n",
    "\n",
    "milou = Dog(\"Milou\")\n",
    "rantanplan = Dog(\"Rantanplan\")\n",
    "miaouss = Cat(\"Miaouss\")\n",
    "mrMoustache = Cat(\"MrMoustache\")\n",
    "\n",
    "@show greet(milou, rantanplan)\n",
    "@show greet(milou, mrMoustache)\n",
    "@show greet(mrMoustache, miaouss)\n",
    "@show greet(mrMoustache, rantanplan);"
   ]
  },
  {
   "cell_type": "markdown",
   "id": "8c48bae5",
   "metadata": {},
   "source": [
    "To conclude this session,\n",
    "let us illustrate the power of multiple disptach using two other examples.\n",
    "First, let us create a specific type for the identity matrix,\n",
    "and redefine the operations `+` and `*` on matrices so that they work with this new type."
   ]
  },
  {
   "cell_type": "code",
   "execution_count": null,
   "id": "0a9b9e06",
   "metadata": {},
   "outputs": [],
   "source": [
    "struct IdentityMatrix end\n",
    "\n",
    "# This is required to redefine + and *\n",
    "import Base: +,*\n",
    "\n",
    "function +(A::Matrix, Id::IdentityMatrix)\n",
    "    result = copy(A)\n",
    "    for i in 1:size(A, 1)\n",
    "        result[i, i] += 1\n",
    "    end\n",
    "    return result\n",
    "end\n",
    "\n",
    "+(Id::IdentityMatrix, A::Matrix) = +(A, Id)\n",
    "*(A::Matrix, Id::IdentityMatrix) = copy(A)\n",
    "*(Id::IdentityMatrix, A::Matrix) = copy(A)\n",
    "\n",
    "A = ones(3, 3)\n",
    "Id = IdentityMatrix()\n",
    "\n",
    "# We can now write operations such as\n",
    "@show A\n",
    "@show A + Id\n",
    "@show Id + A\n",
    "@show A * Id;"
   ]
  },
  {
   "cell_type": "markdown",
   "id": "3d2fce93",
   "metadata": {},
   "source": [
    "Note that we did not need to modify the internal implementation of matrices.\n",
    "Remark also that, with our implementation of the identity matrix,\n",
    "the product `A*I` is virtually free.\n",
    "Had the identity matrix been stored as a full matrix,\n",
    "a lot of computing power would have been wasted in the matrix multiplication."
   ]
  },
  {
   "cell_type": "code",
   "execution_count": null,
   "id": "eb325e76",
   "metadata": {},
   "outputs": [],
   "source": [
    "n = 5000\n",
    "A = rand(n, n)\n",
    "I1 = IdentityMatrix()\n",
    "I2 = [(i == j)*1.0 for i in 1:n, j in 1:n]\n",
    "\n",
    "@time A*I1;\n",
    "@time A*I2;"
   ]
  },
  {
   "cell_type": "markdown",
   "id": "40552afd",
   "metadata": {},
   "source": [
    "#### <font color='orange'>[Exercise 6]</font>\n",
    "The aim of this exercise is to create a structure to represent dual numbers.\n",
    "Dual numbers are a mathematical construct that extends\n",
    "the real numbers by introducing a new element, often\n",
    "denoted by $\\varepsilon$, such that $\\varepsilon^2 = 0$.\n",
    "A dual number is composed of a real part and a dual part,\n",
    "where the dual part behaves like an infinitesimal quantity.\n",
    "They will be very useful later in the course,\n",
    "when we study automatic differentiation, a technique\n",
    "for efficiently computing derivatives numerically.\n",
    "Complete the structure definition below by adding the operations `-`, `*` and `/` to the dual numbers."
   ]
  },
  {
   "cell_type": "code",
   "execution_count": null,
   "id": "b8e4e9db",
   "metadata": {
    "jupyter": {
     "source_hidden": true
    },
    "nbgrader": {
     "grade": false,
     "grade_id": "dual",
     "locked": false,
     "schema_version": 3,
     "solution": true,
     "task": false
    }
   },
   "outputs": [],
   "source": [
    "import Base: +, -, *, /, show\n",
    "\n",
    "struct Dual\n",
    "    real::Float64\n",
    "    dual::Float64\n",
    "end\n",
    "\n",
    "+(x::Dual, y::Dual) = Dual(x.real + y.real, x.dual + y.dual)\n",
    "### BEGIN SOLUTION\n",
    "*(x::Dual, y::Dual) = Dual(x.real*y.real, (x.dual*y.real + x.real*y.dual))\n",
    "-(x::Dual, y::Dual) = Dual(x.real - y.real, x.dual - y.dual)\n",
    "/(x::Dual, y::Dual) = Dual(x.real/y.real, (y.real*x.dual - x.real*y.dual)/y.real^2)\n",
    "### END SOLUTION\n",
    "\n",
    "show(io::IO, x::Dual) = print(io, x.real, x.dual ≥ 0 ? \" + $(x.dual)\" : \" - $(-x.dual)\", \" ε\")\n",
    "\n",
    "# Example usage\n",
    "a = Dual(3.0, 2.0)  # 3 + 2ε\n",
    "b = Dual(1.0, 4.0)  # 1 + 4ε\n",
    "\n",
    "@show a + b\n",
    "@show a - b\n",
    "@show a * b\n",
    "@show a / b;"
   ]
  },
  {
   "cell_type": "code",
   "execution_count": null,
   "id": "52938eb4",
   "metadata": {
    "nbgrader": {
     "grade": true,
     "grade_id": "dual-tests",
     "locked": true,
     "points": 4,
     "schema_version": 3,
     "solution": false,
     "task": false
    }
   },
   "outputs": [],
   "source": [
    "@assert a + b == Dual(4, 6)\n",
    "@assert a - b == Dual(2, -2)\n",
    "@assert a * b == Dual(3, 14)\n",
    "@assert a / b == Dual(3, -10)"
   ]
  }
 ],
 "metadata": {
  "citation-manager": {
   "items": {}
  },
  "jupytext": {
   "encoding": "# -*- coding: utf-8 -*-"
  },
  "kernelspec": {
   "display_name": "Julia 1.10.2",
   "language": "julia",
   "name": "julia-1.10"
  },
  "language_info": {
   "file_extension": ".jl",
   "mimetype": "application/julia",
   "name": "julia",
   "version": "1.10.2"
  }
 },
 "nbformat": 4,
 "nbformat_minor": 5
}
