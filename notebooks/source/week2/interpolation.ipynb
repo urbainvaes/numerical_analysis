{
 "cells": [
  {
   "cell_type": "markdown",
   "id": "b75666a1",
   "metadata": {},
   "source": [
    "## Week 2: Interpolation and Integration"
   ]
  },
  {
   "cell_type": "code",
   "execution_count": null,
   "id": "aa268fd3",
   "metadata": {
    "nbgrader": {
     "grade": false,
     "grade_id": "cell-4d638a879ba6f86e",
     "locked": true,
     "schema_version": 3,
     "solution": false,
     "task": false
    }
   },
   "outputs": [],
   "source": [
    "using LaTeXStrings\n",
    "using LinearAlgebra\n",
    "using Plots\n",
    "using Polynomials"
   ]
  },
  {
   "cell_type": "markdown",
   "id": "d996ac1e",
   "metadata": {
    "jp-MarkdownHeadingCollapsed": true,
    "nbgrader": {
     "grade": false,
     "grade_id": "cell-6be64d5472c97788",
     "locked": true,
     "schema_version": 3,
     "solution": false,
     "task": false
    }
   },
   "source": [
    "### <font color='green'>Interpolation and approximation</font>"
   ]
  },
  {
   "cell_type": "markdown",
   "id": "569047f3",
   "metadata": {
    "nbgrader": {
     "grade": false,
     "grade_id": "cell-f74928936311caa6",
     "locked": true,
     "schema_version": 3,
     "solution": false,
     "task": false
    }
   },
   "source": [
    "### <font color='orange'>[Exercise 1]</font> Chebyshev interpolation and Runge phenomenon"
   ]
  },
  {
   "cell_type": "markdown",
   "id": "ac64930e",
   "metadata": {
    "nbgrader": {
     "grade": false,
     "grade_id": "cell-0389b02825c802eb",
     "locked": true,
     "schema_version": 3,
     "solution": false,
     "task": false
    }
   },
   "source": [
    "The objective of this exercise is to illustrate the influence of interpolation nodes on the interpolation error.\n",
    "\n",
    "1. The function [`fit`](https://juliamath.github.io/Polynomials.jl/stable/#Fitting-arbitrary-data) from the [`Polynomials.jl`](https://github.com/JuliaMath/Polynomials.jl) package\n",
    "   can be employed as follows to calculate, given arrays `x` and `y` of the same size,\n",
    "   the associated interpolating polynomial:\n",
    "   ```julia\n",
    "       p = fit(x, y)\n",
    "   ```\n",
    "   Using this function, write a function\n",
    "   ```julia\n",
    "       get_interpolations(f, d)\n",
    "   ```\n",
    "   that interpolates the function `f` using a polynomial of degree `d`.\n",
    "   The function should return a tuple of `Polynomial` structures,\n",
    "   corresponding to equidistant (with endpoints included) and Chebyshev nodes over the interval $[-1, 1]$.\n",
    "   <details>\n",
    "       <summary>\n",
    "           <em><font color='gray'>Hint (click to display)</font></em>\n",
    "       </summary>\n",
    "\n",
    "   Pour calculer rapidement les noeuds de Tchebychev, on peut exploiter la macro `@.` (comme toujours, il est conseillé de se référer à la documentation d'une commande en tapant `?` puis la commande dans la console). Cette commande évite d'utiliser des `.` après chaque fonction ou avant chaque opérateur.\n",
    "\n",
    "   ```julia\n",
    "   x = @. -cos(π*((0:n-1)+1/2)/n)\n",
    "   ```\n",
    "   </details>"
   ]
  },
  {
   "cell_type": "code",
   "execution_count": null,
   "id": "1cd4f318",
   "metadata": {
    "nbgrader": {
     "grade": false,
     "grade_id": "cell-4a2abfda11acfa1d",
     "locked": false,
     "schema_version": 3,
     "solution": true,
     "task": false
    }
   },
   "outputs": [],
   "source": [
    "function get_interpolations(f, d)\n",
    "    ### BEGIN SOLUTION\n",
    "    n = d + 1\n",
    "    x_equi = LinRange(-1, 1, n)\n",
    "    x_cheb = @. -cos(π*((0:n-1)+1/2)/n)\n",
    "    p_equi = Polynomials.fit(x_equi, f.(x_equi))\n",
    "    p_cheb = Polynomials.fit(x_cheb, f.(x_cheb))\n",
    "    ### END SOLUTION\n",
    "    return p_equi, p_cheb\n",
    "end"
   ]
  },
  {
   "cell_type": "code",
   "execution_count": null,
   "id": "199edb7f",
   "metadata": {
    "nbgrader": {
     "grade": true,
     "grade_id": "cell-1e83e1947bb448ff",
     "locked": true,
     "points": 2,
     "schema_version": 3,
     "solution": false,
     "task": false
    }
   },
   "outputs": [],
   "source": [
    "p_test = Polynomial([1., 2., 3.])\n",
    "@assert get_interpolations(cos, 5) |> length == 2\n",
    "@assert get_interpolations(sin∘exp, 5)[1].coeffs |> length == 6\n",
    "@assert get_interpolations(sin∘exp, 5)[2].coeffs |> length == 6\n",
    "@assert get_interpolations(p_test, 2)[1] ≈ p_test\n",
    "@assert get_interpolations(p_test, 2)[2] ≈ p_test\n",
    "@assert get_interpolations(cos, 4)[1](0) ≈ 1\n",
    "@assert get_interpolations(cos, 4)[2](0) ≈ 1"
   ]
  },
  {
   "cell_type": "markdown",
   "id": "4917231d",
   "metadata": {
    "nbgrader": {
     "grade": false,
     "grade_id": "cell-9592f7efcffc5eda",
     "locked": true,
     "schema_version": 3,
     "solution": false,
     "task": false
    }
   },
   "source": [
    "2. Let us fix $d = 20$ and take $f$ to be the following function\n",
    "   $$\n",
    "       f(x) = \\tanh\\left(\\frac{x+1/2}{\\varepsilon}\\right) + \\tanh\\left(\\frac{x}{\\varepsilon}\\right) + \\tanh\\left(\\frac{x-1/2}{\\varepsilon}\\right),\n",
    "       \\qquad \\varepsilon = .02.\n",
    "   $$\n",
    "   Using your `get_interpolations` function,\n",
    "   calculate the interpolating polynomials in this case,\n",
    "   and print the $L^{\\infty}$ error corresponding to equidistant and Chebyshev polynomials.\n",
    "\n",
    "   <details>\n",
    "       <summary>\n",
    "           <em><font color='gray'>Hint (click to display)</font></em>\n",
    "       </summary>\n",
    "\n",
    "   - Pour limiter les erreurs d'arrondi numérique, il est préférable que la fonction renvoie un type `BigFloat`, autrement dit\n",
    "\n",
    "       ```julia\n",
    "           f(x) = BigFloat(tanh((x+1/2)/ε) + tanh(x/ε) + tanh((x-1/2)/ε))\n",
    "       ```\n",
    "   - Pour calculer la norme infinie d'une fonction afin d'évaluer la précision de l'interpolation,\n",
    "     on pourra exploiter la fonction [`norm(...,Inf)`](https://docs.julialang.org/en/v1/stdlib/LinearAlgebra/#LinearAlgebra.norm)\n",
    "     de la bibliothèque `LinearAlgebra` avec une échantillonnage suffisamment fin des valeurs de la fonction,\n",
    "     ou exploiter la fonction `maximum`:\n",
    "\n",
    "     ```julia\n",
    "         maximum(abs, [1, -3, 2])  # = 3\n",
    "     ```\n",
    "\n",
    "     Noter que la conversion d'un nombre `y` de type `BigFloat` en `Float64` se fait par `convert(Float64, y)` ou plus simplement ici `Float64(y)`.\n",
    "   </details>"
   ]
  },
  {
   "cell_type": "code",
   "execution_count": null,
   "id": "4883a9fd",
   "metadata": {
    "nbgrader": {
     "grade": false,
     "grade_id": "cell-1bc27d8e957b19da",
     "locked": false,
     "schema_version": 3,
     "solution": true,
     "task": false
    }
   },
   "outputs": [],
   "source": [
    "d, ε = 20, .02\n",
    "f(x) = BigFloat(tanh((x+1/2)/ε) + tanh(x/ε) + tanh((x-1/2)/ε))\n",
    "\n",
    "# Calculate L^∞ errors below\n",
    "### BEGIN SOLUTION\n",
    "X = LinRange(-1, 1, 500)\n",
    "p_equi, p_cheb = get_interpolations(f, d)\n",
    "round_error(x) = Float64(round(x, sigdigits=3))\n",
    "error_inf_equi = maximum(round_error∘abs, f.(X) - p_equi.(X))\n",
    "error_inf_cheb = maximum(round_error∘abs, f.(X) - p_cheb.(X))\n",
    "### END SOLUTION\n",
    "\n",
    "println(\"L^∞ error with equidistant nodes: \", error_inf_equi)\n",
    "println(\"L^∞ error with Chebyshev nodes: \", error_inf_cheb)"
   ]
  },
  {
   "cell_type": "code",
   "execution_count": null,
   "id": "3609394f",
   "metadata": {
    "nbgrader": {
     "grade": true,
     "grade_id": "cell-b53431a11cb2145c",
     "locked": true,
     "points": 1,
     "schema_version": 3,
     "solution": false,
     "task": false
    }
   },
   "outputs": [],
   "source": [
    "@assert round(error_inf_equi, sigdigits=1) == 200\n",
    "@assert round(error_inf_cheb, sigdigits=1) == 0.7"
   ]
  },
  {
   "cell_type": "markdown",
   "id": "5facfbcd",
   "metadata": {
    "nbgrader": {
     "grade": false,
     "grade_id": "cell-eed594d5aa8af7ca",
     "locked": true,
     "schema_version": 3,
     "solution": false,
     "task": false
    }
   },
   "source": [
    "3. Plot the interpolating polynomials on top of the function `f`.\n",
    "\n",
    "   <details>\n",
    "       <summary>\n",
    "           <em><font color='gray'>Hint (click to display)</font></em>\n",
    "       </summary>\n",
    "\n",
    "   Il peut être utile pour comparer les deux interpolations de limiter\n",
    "   les valeurs minimale et maximale sur l'axe `y` à l'aide de l'option\n",
    "   `ylims = (ymin,ymax)` dans une fonction de tracé `plot`, ou son\n",
    "   équivalent se terminant par `!`. On rappelle que, par convention en\n",
    "   `Julia` (et non par obligation), une fonction dont le nom se\n",
    "   termine par `!` modifie ses arguments. Dans le cas d'un graphe, la\n",
    "   première commande initiant le graphe ne doit pas comporter de `!`\n",
    "   (`plot`) tandis que les suivantes incrémentant le même graphe se\n",
    "   terminent par `!` (`plot!`, `scatter!`, ...). Toute omission du `!`\n",
    "   est considéré comme un *redémarrage à zéro* du tracé.\n",
    "   </details>"
   ]
  },
  {
   "cell_type": "code",
   "execution_count": null,
   "id": "6d8d18e0",
   "metadata": {
    "nbgrader": {
     "grade": true,
     "grade_id": "cell-e391894a92e4e03c",
     "locked": false,
     "points": 1,
     "schema_version": 3,
     "solution": true,
     "task": false
    }
   },
   "outputs": [],
   "source": [
    "X = LinRange(-1, 1, 500)\n",
    "plot(X, f.(X), linewidth=4, label=\"f\")\n",
    "\n",
    "### BEGIN SOLUTION\n",
    "plot!(X, p_equi.(X), linewidth=3, color=:green, label=\"Equidistant interpolation\")\n",
    "plot!(X, p_cheb.(X), linewidth=3, color=:red, label=\"Chebyshev interpolation\")\n",
    "plot!(xlims = (-1, 1), ylims = (-3.5, 3.5))\n",
    "### END SOLUTION"
   ]
  },
  {
   "cell_type": "markdown",
   "id": "bf55e2d8",
   "metadata": {
    "nbgrader": {
     "grade": false,
     "grade_id": "cell-b493a5b381036ad7",
     "locked": true,
     "schema_version": 3,
     "solution": false,
     "task": false
    }
   },
   "source": [
    "### <font color='orange'>[Exercise 2]</font> Least squares approximation"
   ]
  },
  {
   "cell_type": "markdown",
   "id": "e4a45071",
   "metadata": {
    "nbgrader": {
     "grade": false,
     "grade_id": "cell-9024d5e738948ab8",
     "locked": true,
     "schema_version": 3,
     "solution": false,
     "task": false
    }
   },
   "source": [
    "The objective of this exercise is to approximate some given data `x`, `y` using a\n",
    "polynomial of a given degree,\n",
    "potentially much lower than the number of data points.\n",
    "\n",
    "1. Without using any library,\n",
    "   write a function `polyfit(x, y, d)` which,\n",
    "   given data points\n",
    "   $\n",
    "       (x_1, y_1), \\dotsc, (x_N, y_N)\n",
    "   $\n",
    "   and an integer $0 \\leq d \\leq N-1$,\n",
    "   calculates the unique polynomial $p \\in \\mathbb R[x]$ of degree at most $d$ minimizing the total error\n",
    "\n",
    "   $$\n",
    "       E := \\frac{1}{2} \\sum_{n=0}^{N} \\bigl\\lvert p(x_n) - y_n \\bigr\\rvert^2.\n",
    "   $$\n",
    "   Your function should return a vector containing the $d+1$ coefficients of $p$,\n",
    "   starting from the constant term.\n",
    "   <details>\n",
    "       <summary>\n",
    "           <em><font color='gray'>Hint (click to display)</font></em>\n",
    "       </summary>\n",
    "\n",
    "   Within the function, you can proceed as follows.\n",
    "   First, create the following matrix and vector:\n",
    "   $$\n",
    "       \\mathbf{A} =\n",
    "       \\begin{pmatrix}\n",
    "           1 & x_0 & \\dots & x_0^d \\\\\n",
    "           \\vdots & \\vdots & & \\vdots \\\\\n",
    "           1 & x_{N} & \\dots & x_N^d\n",
    "       \\end{pmatrix},\n",
    "       \\qquad\n",
    "       \\mathbf{b} =\n",
    "       \\begin{pmatrix}\n",
    "           y_0 \\\\\n",
    "           \\vdots \\\\\n",
    "           y_N\n",
    "       \\end{pmatrix}.\n",
    "   $$\n",
    "   Note that the error $E$ rewrites as follows:\n",
    "   $$\n",
    "   E(\\boldsymbol \\alpha) = \\frac{1}{2} \\bigl\\lVert \\mathsf A \\boldsymbol \\alpha - \\boldsymbol b \\bigr\\rVert^2,\n",
    "   $$\n",
    "   where $\\boldsymbol \\alpha$ is a vector containing the coefficients\n",
    "   of the polynomial, in order of increasing degree, and $\\lVert \\cdot \\rVert$\n",
    "   is the Euclidean norm.\n",
    "   In other words, the function $E$ is a quadratic function of the\n",
    "   vector of coefficients of the polynomial.\n",
    "   Writing $\\nabla E(\\boldsymbol \\alpha) = 0$ leads to the so-called **normal equations**:\n",
    "   $$\n",
    "       \\mathsf{A}^\\top \\mathsf{A} \\boldsymbol{\\alpha} = \\mathsf{A}^\\top \\mathbf{b}.\n",
    "   $$\n",
    "   This is a linear system with a square invertible matrix on the left-hand side,\n",
    "   which can be solved using the backslash operator `\\`;\n",
    "   in fact you can write just `A\\b` instead of `(A'A)\\(A'b)`,\n",
    "   because the operator `\\` performs a least squares approximation by default.\n",
    "   </details>"
   ]
  },
  {
   "cell_type": "code",
   "execution_count": null,
   "id": "4a5aa7d3",
   "metadata": {
    "nbgrader": {
     "grade": false,
     "grade_id": "cell-16c5d2765a6be02d",
     "locked": false,
     "schema_version": 3,
     "solution": true,
     "task": false
    }
   },
   "outputs": [],
   "source": [
    "function polyfit(x, y, d)\n",
    "    ### BEGIN SOLUTION\n",
    "    A = (^).(x, transpose(0:d))\n",
    "    return A\\y\n",
    "    ### END SOLUTION\n",
    "end"
   ]
  },
  {
   "cell_type": "code",
   "execution_count": null,
   "id": "6a49c11e",
   "metadata": {
    "nbgrader": {
     "grade": true,
     "grade_id": "cell-ba35e3fde06b7198",
     "locked": true,
     "points": 1,
     "schema_version": 3,
     "solution": false,
     "task": false
    }
   },
   "outputs": [],
   "source": [
    "n = 10 ; x = 1:n ; y = randn(n)\n",
    "@assert polyfit([0.], [0.], 0) ≈ [0.]\n",
    "@assert polyfit(1:5, 1:5, 1) ≈ [0., 1.]\n",
    "@assert polyfit(x, y, 0) ≈ [sum(y)/n]\n",
    "@assert polyfit(x, y, 0) ≈ [sum(y)/n]\n",
    "@assert polyfit(x, y, 2) ≈ fit(x, y, 2).coeffs"
   ]
  },
  {
   "cell_type": "markdown",
   "id": "ddec3136",
   "metadata": {
    "nbgrader": {
     "grade": false,
     "grade_id": "cell-abfabcd8fa09fad4",
     "locked": true,
     "schema_version": 3,
     "solution": false,
     "task": false
    }
   },
   "source": [
    "2. Write also a function `polyval(α, X)`\n",
    "   to evaluate the polynomial\n",
    "   $$\n",
    "       p(x) = \\alpha_0 + \\alpha_1 x + \\dotsc + \\alpha_d x^d\n",
    "   $$\n",
    "   at all the points in `X`.\n",
    "   The function should return the result in a vector."
   ]
  },
  {
   "cell_type": "code",
   "execution_count": null,
   "id": "cbb1b4d9",
   "metadata": {
    "nbgrader": {
     "grade": false,
     "grade_id": "cell-ad0df3d23dd2927a",
     "locked": false,
     "schema_version": 3,
     "solution": true,
     "task": false
    }
   },
   "outputs": [],
   "source": [
    "function polyval(α, X)\n",
    "    ### BEGIN SOLUTION\n",
    "    d = length(α) - 1\n",
    "    (^).(X, transpose(0:d)) * α\n",
    "    ### END SOLUTION\n",
    "end"
   ]
  },
  {
   "cell_type": "code",
   "execution_count": null,
   "id": "638bcdef",
   "metadata": {
    "nbgrader": {
     "grade": true,
     "grade_id": "cell-e4b2a8fabeacbd21",
     "locked": true,
     "points": 1,
     "schema_version": 3,
     "solution": false,
     "task": false
    }
   },
   "outputs": [],
   "source": [
    "n = 10 ; α = randn(n)\n",
    "@assert polyval([0.], [1., 2., 3.]) == [0., 0., 0.]\n",
    "@assert polyval(α, [0., 1.]) ≈ [α[1], sum(α)]"
   ]
  },
  {
   "cell_type": "markdown",
   "id": "634469bc",
   "metadata": {
    "nbgrader": {
     "grade": false,
     "grade_id": "cell-107ce28d10b5c285",
     "locked": true,
     "schema_version": 3,
     "solution": false,
     "task": false
    }
   },
   "source": [
    "Use the data given below,\n",
    "of the altitude of a marble in free fall as a function of time on a remote planet, to test your code.\n",
    "The experiment was performed on a different planet. Can you find which one? See [Gravitational acceleration](https://en.wikipedia.org/wiki/Gravitational_acceleration)."
   ]
  },
  {
   "cell_type": "code",
   "execution_count": null,
   "id": "1de1f1b3",
   "metadata": {},
   "outputs": [],
   "source": [
    "# Time since dropping the marble\n",
    "x = [0., 1., 2., 3., 4., 5.]\n",
    "\n",
    "# Altitude of the marble\n",
    "y = [100., 98.26, 93.56, 81.79, 71.25, 53.22]\n",
    "\n",
    "# Fit using polyfit\n",
    "α = polyfit(x, y, 2)\n",
    "\n",
    "# Evalutate at X\n",
    "X = LinRange(0, 5, 200)\n",
    "Y = polyval(α, X)\n",
    "\n",
    "plot(X, Y, label=\"My approximation\")\n",
    "scatter!(x, y, label=\"Data\")"
   ]
  },
  {
   "cell_type": "code",
   "execution_count": null,
   "id": "96be038a-93fc-4755-8f8d-3010f11fcce1",
   "metadata": {
    "nbgrader": {
     "grade": false,
     "grade_id": "cell-09fd55612241148b",
     "locked": false,
     "schema_version": 3,
     "solution": true,
     "task": false
    }
   },
   "outputs": [],
   "source": [
    "# Modify the planet, in lowercase English, then remove the exception\n",
    "planet = \"earth\"\n",
    "### BEGIN SOLUTION\n",
    "planet = \"mars\"\n",
    "### END SOLUTION"
   ]
  },
  {
   "cell_type": "code",
   "execution_count": null,
   "id": "a6caf9c3-0b7b-4c42-b383-437c5507df76",
   "metadata": {
    "nbgrader": {
     "grade": true,
     "grade_id": "cell-006e8ab7e7dccb35",
     "locked": true,
     "points": 1,
     "schema_version": 3,
     "solution": false,
     "task": false
    }
   },
   "outputs": [],
   "source": [
    "@assert planet != \"earth\"\n",
    "### BEGIN HIDDEN TESTS\n",
    "@assert planet == \"mars\" || planet == \"mercury\"\n",
    "### END HIDDEN TESTS"
   ]
  },
  {
   "cell_type": "markdown",
   "id": "68aec2cd",
   "metadata": {
    "nbgrader": {
     "grade": false,
     "grade_id": "cell-32309e8ba988d9c6",
     "locked": true,
     "schema_version": 3,
     "solution": false,
     "task": false
    }
   },
   "source": [
    "   <details>\n",
    "       <summary>\n",
    "           <em><font color='gray'>Least squares approximation using `Polynomials.fit` (click to display)</font></em>\n",
    "       </summary>\n",
    "\n",
    "   We saw in the first exercise that `Polynomials.fit` could be employed for\n",
    "   polynomial interpolation. This function also be used for fitting\n",
    "   data by minimizing the sum of squared residuals,\n",
    "   which can be achieved as follows:\n",
    "   </details>"
   ]
  },
  {
   "cell_type": "code",
   "execution_count": null,
   "id": "ec3fc763",
   "metadata": {
    "lines_to_next_cell": 2,
    "nbgrader": {
     "grade": false,
     "grade_id": "cell-aa104b090b54806d",
     "locked": true,
     "schema_version": 3,
     "solution": false,
     "task": false
    }
   },
   "outputs": [],
   "source": [
    "# This returns structure of type `Polynomial`, with associated degree 2\n",
    "p = fit(x, y, 2)\n",
    "@show p\n",
    "\n",
    "# The coefficients can be obtained as follows\n",
    "@show p.coeffs\n",
    "\n",
    "# The structure `p` behaves like a function\n",
    "@show p(0)\n",
    "\n",
    "X = LinRange(0, 5, 200)\n",
    "plot(X, p.(X), label=\"Polynomials.jl approximation\")"
   ]
  },
  {
   "cell_type": "markdown",
   "id": "d146879a",
   "metadata": {
    "jp-MarkdownHeadingCollapsed": true,
    "nbgrader": {
     "grade": false,
     "grade_id": "cell-0025dd0a265bc32f",
     "locked": true,
     "schema_version": 3,
     "solution": false,
     "task": false
    }
   },
   "source": [
    "### <font color='green'>Numerical integration</font>"
   ]
  },
  {
   "cell_type": "markdown",
   "id": "917554b0",
   "metadata": {
    "nbgrader": {
     "grade": false,
     "grade_id": "cell-2c415728e0c980d5",
     "locked": true,
     "schema_version": 3,
     "solution": false,
     "task": false
    }
   },
   "source": [
    "### <font color='orange'>[Exercise 3]</font> Implementing a composite integrator"
   ]
  },
  {
   "cell_type": "markdown",
   "id": "11f2d2c8",
   "metadata": {
    "nbgrader": {
     "grade": false,
     "grade_id": "cell-7408e9108eb33b36",
     "locked": true,
     "schema_version": 3,
     "solution": false,
     "task": false
    }
   },
   "source": [
    "Milne's integration rule reads\n",
    "$$\n",
    "    \\int_{-1}^{1} u(x) \\, dx \\approx \\frac{2}{3} \\left( 2 u\\left(-\\frac{1}{2}\\right) - u(0) + 2 u\\left(\\frac{1}{2}\\right) \\right)\n",
    "$$\n",
    "\n",
    "1. Write a function `composite_milne(u, a, b, N)`,\n",
    "   which returns an approximation of the integral\n",
    "   $$\n",
    "       \\int_{a}^{b} u(x) \\, dx\n",
    "   $$\n",
    "   obtained by partitioning the integration interval $[a, b]$ into $N$ equally large cells,\n",
    "   and applying Milne's rule within each cell."
   ]
  },
  {
   "cell_type": "code",
   "execution_count": null,
   "id": "4209ed16",
   "metadata": {
    "nbgrader": {
     "grade": false,
     "grade_id": "cell-43c2da48c1477196",
     "locked": false,
     "schema_version": 3,
     "solution": true,
     "task": false
    }
   },
   "outputs": [],
   "source": [
    "function composite_milne(u, a, b, N)\n",
    "    ### BEGIN SOLUTION\n",
    "    Δ = (b - a) / N\n",
    "    x₁ = a .+ Δ/4 .+ Δ*(0:N-1)\n",
    "    x₂ = a .+ Δ/2 .+ Δ*(0:N-1)\n",
    "    x₃ = a .+ 3Δ/4 .+ Δ*(0:N-1)\n",
    "    2Δ/3 * u.(x₁) - Δ/3 * u.(x₂) + 2Δ/3 * u.(x₃) |> sum\n",
    "    ### END SOLUTION\n",
    "end"
   ]
  },
  {
   "cell_type": "code",
   "execution_count": null,
   "id": "8a2d7fc5",
   "metadata": {
    "nbgrader": {
     "grade": true,
     "grade_id": "cell-a314a4b61e8261ee",
     "locked": true,
     "points": 2,
     "schema_version": 3,
     "solution": false,
     "task": false
    }
   },
   "outputs": [],
   "source": [
    "@assert (abs∘composite_milne)(x -> x, -1, 1, 10) < 1e-13\n",
    "@assert composite_milne(x -> x, 1, 2, 10) ≈ 3/2\n",
    "@assert composite_milne(x -> x^2, -1, 1, 1) ≈ 2/3\n",
    "@assert composite_milne(x -> x^4, -1, 1, 1) ≈ 2/12"
   ]
  },
  {
   "cell_type": "markdown",
   "id": "21d002e7",
   "metadata": {
    "nbgrader": {
     "grade": false,
     "grade_id": "cell-0e067f9a85be26e7",
     "locked": true,
     "schema_version": 3,
     "solution": false,
     "task": false
    }
   },
   "source": [
    "2. Take $u(x) = \\cos(x)$, $a = -1$ and $b = 1$.\n",
    "   Plot using `scatter` the evolution of the error,\n",
    "   in absolute value, for the values of $N$ given,\n",
    "   using a logarithmic scale for both axes."
   ]
  },
  {
   "cell_type": "code",
   "execution_count": null,
   "id": "e14720f1",
   "metadata": {
    "nbgrader": {
     "grade": true,
     "grade_id": "cell-5548465f6106bca4",
     "locked": false,
     "points": 2,
     "schema_version": 3,
     "solution": true,
     "task": false
    }
   },
   "outputs": [],
   "source": [
    "u(x) = cos(x)\n",
    "a, b = -1 , 1\n",
    "\n",
    "# Number of intervals\n",
    "Ns = (round∘^).(10, LinRange(0, 3, 20))\n",
    "\n",
    "# Exact value of the integral\n",
    "I_exact = 2sin(1)\n",
    "\n",
    "### BEGIN SOLUTION\n",
    "Is = composite_milne.(u, a, b, Ns)\n",
    "errors = abs.(Is .- I_exact)\n",
    "scatter(Ns, errors, label=\"Integration error\")\n",
    "### END SOLUTION\n",
    "\n",
    "# Set log scale for both axes\n",
    "plot!(xscale=:log10, yscale=:log10)"
   ]
  },
  {
   "cell_type": "markdown",
   "id": "47b95c3f",
   "metadata": {
    "nbgrader": {
     "grade": false,
     "grade_id": "cell-01b6fe96b7536998",
     "locked": true,
     "schema_version": 3,
     "solution": false,
     "task": false
    }
   },
   "source": [
    "3. Estimate the order of convergence with respect to $N$, i.e. find $\\gamma$ such that\n",
    "   $$\n",
    "       \\lvert \\widehat{I}_{N} - I \\rvert \\propto \\beta N^{-\\gamma},\n",
    "   $$\n",
    "   where $I$ denotes the exact value of the integral and $\\widehat{I}_{N}$ denotes its approbetamation.\n",
    "   In order to find $\\beta$ and $\\gamma$, use the function `Polynomials.fit` to find a linear approximation of the form\n",
    "   $$\n",
    "       \\log \\lvert \\widehat{I}_{N} - I \\rvert \\approx \\log (\\beta) - \\gamma \\log(N).\n",
    "   $$\n",
    "   If your calculation is correct, the function `N -> β*N^(-γ)`\n",
    "   should give a good approximation of the integration error."
   ]
  },
  {
   "cell_type": "code",
   "execution_count": null,
   "id": "ea61d16f",
   "metadata": {
    "nbgrader": {
     "grade": false,
     "grade_id": "cell-976b43ea8ab74c42",
     "locked": false,
     "schema_version": 3,
     "solution": true,
     "task": false
    }
   },
   "outputs": [],
   "source": [
    "# Calculate β and γ\n",
    "### BEGIN SOLUTION\n",
    "p = fit(log.(Ns), log.(errors), 1)\n",
    "β = round(exp(p[0]), sigdigits=3)\n",
    "γ = -round(p[1], sigdigits=3)\n",
    "### END SOLUTION\n",
    "plot!(N -> β*N^(-γ), label=L\"%$β \\times N^{%$γ}\")"
   ]
  },
  {
   "cell_type": "code",
   "execution_count": null,
   "id": "110f072e",
   "metadata": {
    "nbgrader": {
     "grade": true,
     "grade_id": "cell-1ecc10e556e00c30",
     "locked": true,
     "points": 2,
     "schema_version": 3,
     "solution": false,
     "task": false
    }
   },
   "outputs": [],
   "source": [
    "@assert round(β, sigdigits=1) ≤ .1\n",
    "@assert round(β, sigdigits=1) ≥ 1e-3\n",
    "@assert round(γ, sigdigits=1) == 4"
   ]
  },
  {
   "cell_type": "markdown",
   "id": "af7fea79",
   "metadata": {
    "nbgrader": {
     "grade": false,
     "grade_id": "cell-0beb5bbefc393ffc",
     "locked": true,
     "schema_version": 3,
     "solution": false,
     "task": false
    }
   },
   "source": [
    "### <font color='orange'>[Exercise 4]</font> Gaussian integration"
   ]
  },
  {
   "cell_type": "markdown",
   "id": "c150745d",
   "metadata": {
    "nbgrader": {
     "grade": false,
     "grade_id": "cell-0c94b3c8ae1f8b0f",
     "locked": true,
     "schema_version": 3,
     "solution": false,
     "task": false
    }
   },
   "source": [
    "Our goal in this exercise is to write a program in order to calculate integrals of the form\n",
    "$$\n",
    "I[f] := \\int_0^{\\infty} f(x) \\mathrm e^{-x} \\, \\mathrm d x\n",
    "$$\n",
    "To this end, we will use Laguerre polynomials,\n",
    "which are orthogonal polynomials for the following inner product:\n",
    "$$\n",
    " \\langle f, g \\rangle := \\int_0^{\\infty} f(x) g(x) \\mathrm e^{-x} \\, \\mathrm d x\n",
    "$$\n",
    "These polynomials can be constructed by using the Gram-Schmidt algorithm.\n",
    "1. Using that Laguerre polynomials satisfy the recurrence relation\n",
    "   $$\n",
    "       L_{k + 1}(x) = \\frac{(2k + 1 - x)L_k(x) - k L_{k - 1}(x)}{k + 1}, \\qquad L_0(x) = 1, \\qquad L_1(x) = 1-x,\n",
    "   $$\n",
    "   we first write a function `laguerre(n)` which returns the Laguerre polynomial of degree $n$."
   ]
  },
  {
   "cell_type": "code",
   "execution_count": null,
   "id": "b3219062",
   "metadata": {},
   "outputs": [],
   "source": [
    "function laguerre(n)\n",
    "    if n == 0\n",
    "        return Polynomial([1])\n",
    "    elseif n == 1\n",
    "        return Polynomial([1, -1])\n",
    "    else\n",
    "        k = n-1\n",
    "        x = Polynomial([0, 1])\n",
    "        return ((2k + 1 - x) * laguerre(k) - k*laguerre(k-1))/(k+1)\n",
    "    end\n",
    "end"
   ]
  },
  {
   "cell_type": "markdown",
   "id": "cd183b90",
   "metadata": {
    "nbgrader": {
     "grade": false,
     "grade_id": "cell-5f8a18b310ec6ec0",
     "locked": true,
     "schema_version": 3,
     "solution": false,
     "task": false
    }
   },
   "source": [
    "2. Write a function `get_nodes_and_weights(n)` which returns the nodes and weights of the Gauss-Laguerre quadrature with $n$ nodes.\n",
    "   <details>\n",
    "       <summary>\n",
    "           <em><font color='gray'>Hint (click to display)</font></em>\n",
    "       </summary>\n",
    "\n",
    "   - Recall that the nodes of the quadrature are the roots of the Laguerre polynomial of degree $n$.\n",
    "     To find these, use the `roots` function from the `Polynomials` package.\n",
    "\n",
    "     ```julia\n",
    "         p = Polynomial([1, 0, -1])\n",
    "         r = roots(p)  # r = [-1.0, 1.0]\n",
    "     ```\n",
    "\n",
    "   - Once you have found the nodes of the quadrature,\n",
    "     the weights can be obtained from the relation\n",
    "     $$\n",
    "     \\int_0^{\\infty} q(x) \\, \\mathrm e^{-x} \\, \\mathrm d x\n",
    "     = \\sum_{i=1}^n w_i q(x_i),\n",
    "     $$\n",
    "     which should hold true for any polynomial $q$ of degree at most $2n - 1$.\n",
    "     Taking $q = \\ell_i$ to be the Lagrange polynomial associated with node $i$ immediately gives that\n",
    "     $$\n",
    "     w_i = \\int_0^{\\infty} \\ell_i(x) \\, \\mathrm e^{-x} \\, \\mathrm d x,\n",
    "     \\qquad \\ell_i = \\prod_{\\substack{j=1 \\\\ j \\neq i}}^n \\frac{x - x_j}{x_i - x_j}.\n",
    "     $$\n",
    "\n",
    "   - In order to construct Lagrange polynomials $\\ell_i$,\n",
    "     you may find it useful to use the `fromroots` function from the `Polynomials` package.\n",
    "\n",
    "     ```julia\n",
    "         r = [-1.0, 1.0]\n",
    "         p = fromroots(r)  # p = Polynomial(-1.0 + 1.0*x^2)\n",
    "     ```\n",
    "\n",
    "     Recall also that, for a vector `x`,\n",
    "     the expression `x[1:end .!= 5]` returns the vector obtained by removing the fifth element from `x`.\n",
    "\n",
    "   - To calculate the integral of Lagrange polynomials against the exponential weight,\n",
    "     recall that\n",
    "     $$\n",
    "     \\int_0^{\\infty} x^n \\mathrm e^{-x} \\, \\mathrm dx = n!\n",
    "     $$"
   ]
  },
  {
   "cell_type": "code",
   "execution_count": null,
   "id": "72f4d6b5",
   "metadata": {
    "nbgrader": {
     "grade": false,
     "grade_id": "cell-d236591d98aa1643",
     "locked": false,
     "schema_version": 3,
     "solution": true,
     "task": false
    }
   },
   "outputs": [],
   "source": [
    "function get_nodes_and_weights(n)\n",
    "    ### BEGIN SOLUTION\n",
    "    nodes = roots(laguerre(n))\n",
    "    weights = zero(nodes)\n",
    "    for i in 1:n\n",
    "        ℓ = fromroots(nodes[1:end .!= i])\n",
    "        ℓ /= ℓ(nodes[i])\n",
    "        weights[i] = factorial.(0:n-1)'ℓ.coeffs\n",
    "    end\n",
    "    return nodes, weights\n",
    "    ### END SOLUTION\n",
    "end"
   ]
  },
  {
   "cell_type": "code",
   "execution_count": null,
   "id": "8e62624c",
   "metadata": {
    "nbgrader": {
     "grade": true,
     "grade_id": "cell-025cfd3eeaaa68b3",
     "locked": true,
     "points": 2,
     "schema_version": 3,
     "solution": false,
     "task": false
    }
   },
   "outputs": [],
   "source": [
    "@assert get_nodes_and_weights(5) |> length == 2\n",
    "@assert get_nodes_and_weights(5)[1] |> length == 5\n",
    "@assert get_nodes_and_weights(5)[2] |> length == 5\n",
    "@assert get_nodes_and_weights(1)[1] ≈ [1.0]\n",
    "@assert get_nodes_and_weights(1)[2] ≈ [1.0]\n",
    "@assert get_nodes_and_weights(3)[1] .|> laguerre(3) |> abs∘sum < 1e-10\n",
    "@assert get_nodes_and_weights(5)[1] .|> laguerre(5) |> abs∘sum < 1e-10\n",
    "@assert get_nodes_and_weights(5)[2] |> sum ≈ 1"
   ]
  },
  {
   "cell_type": "markdown",
   "id": "0653c365",
   "metadata": {
    "nbgrader": {
     "grade": false,
     "grade_id": "cell-b179cd82ea1938b4",
     "locked": true,
     "schema_version": 3,
     "solution": false,
     "task": false
    }
   },
   "source": [
    "3. Write a function `integrate_laguerre(f, n)`, which returns an approximation of $I[f]$ obtained by Gauss-Laguerre integration with $n$ nodes."
   ]
  },
  {
   "cell_type": "code",
   "execution_count": null,
   "id": "70178b37",
   "metadata": {
    "nbgrader": {
     "grade": false,
     "grade_id": "cell-ceb45bbfb11ebbe0",
     "locked": false,
     "schema_version": 3,
     "solution": true,
     "task": false
    }
   },
   "outputs": [],
   "source": [
    "function integrate_laguerre(f, n)\n",
    "    ### BEGIN SOLUTION\n",
    "    nodes, weights = get_nodes_and_weights(n)\n",
    "    return f.(nodes)'weights\n",
    "    ### END SOLUTION\n",
    "end"
   ]
  },
  {
   "cell_type": "code",
   "execution_count": null,
   "id": "b38e1ca9",
   "metadata": {
    "nbgrader": {
     "grade": true,
     "grade_id": "cell-d5d9da82bf6cd802",
     "locked": true,
     "points": 2,
     "schema_version": 3,
     "solution": false,
     "task": false
    }
   },
   "outputs": [],
   "source": [
    "@assert integrate_laguerre(x -> x, 5) ≈ 1\n",
    "@assert integrate_laguerre(x -> x^2, 5) ≈ 2\n",
    "@assert integrate_laguerre(x -> x^3, 5) ≈ 6\n",
    "@assert integrate_laguerre(x -> exp(-x), 15) ≈ 1/2\n",
    "@assert integrate_laguerre(x -> exp(-2x), 15) ≈ 1/3"
   ]
  },
  {
   "cell_type": "markdown",
   "id": "a48dda96",
   "metadata": {
    "nbgrader": {
     "grade": false,
     "grade_id": "cell-fdac51dcfa785395",
     "locked": true,
     "schema_version": 3,
     "solution": false,
     "task": false
    }
   },
   "source": [
    "4. Setting $n = 5$,\n",
    "   we calculate numerically that the degree of exactness equals 9."
   ]
  },
  {
   "cell_type": "code",
   "execution_count": null,
   "id": "108fd7e6",
   "metadata": {},
   "outputs": [],
   "source": [
    "n = 5\n",
    "for i in 1:9\n",
    "    correct = integrate_laguerre(x -> x^i, n) ≈ factorial(i)\n",
    "    println(\"f = x^$i, Rule exact? \", correct)\n",
    "    @assert correct\n",
    "end"
   ]
  },
  {
   "cell_type": "markdown",
   "id": "3335acfc",
   "metadata": {
    "nbgrader": {
     "grade": false,
     "grade_id": "cell-39ba7434ecdedd6c",
     "locked": true,
     "schema_version": 3,
     "solution": false,
     "task": false
    }
   },
   "source": [
    "5. Set $f(x) = \\sin(x)$, and plot the integration error as a function of $n$,\n",
    "   using appropriate scales for the `x` and `y` axes."
   ]
  },
  {
   "cell_type": "code",
   "execution_count": null,
   "id": "9e51162e",
   "metadata": {
    "nbgrader": {
     "grade": true,
     "grade_id": "cell-79f344a45c317fbd",
     "locked": false,
     "points": 2,
     "schema_version": 3,
     "solution": true,
     "task": false
    }
   },
   "outputs": [],
   "source": [
    "### BEGIN SOLUTION\n",
    "ns = 1:20\n",
    "f(x) = sin(x)\n",
    "I_exact = 1/2\n",
    "Ih = integrate_laguerre.(f, ns)\n",
    "plot(ns, abs.(Ih .- I_exact), yscale=:log10, xlabel=L\"n\", ylabel=\"Error\")\n",
    "scatter!(ns, abs.(Ih .- I_exact))\n",
    "### END SOLUTION"
   ]
  },
  {
   "cell_type": "markdown",
   "id": "541cd521",
   "metadata": {
    "nbgrader": {
     "grade": false,
     "grade_id": "cell-ffd46dd9bc4cd7f0",
     "locked": true,
     "schema_version": 3,
     "solution": false,
     "task": false
    }
   },
   "source": [
    "6. The aim of this exercise is to investigate an alternative manner of calculating the nodes and weights of the Gauss-Laguerre quadrature.\n",
    "\n",
    "   - For the nodes, notice that the recursion given above for the Laguerre polynomials implies that\n",
    "     $$\n",
    "        \\begin{pmatrix}\n",
    "             x L_0(x) \\\\\n",
    "             x L_1(x) \\\\\n",
    "             x L_2(x) \\\\\n",
    "             \\vdots \\\\\n",
    "             x L_{n-2}(x) \\\\\n",
    "             x L_{n-1}(x)\n",
    "         \\end{pmatrix}\n",
    "         =\n",
    "         \\underbrace{\n",
    "         \\begin{pmatrix}\n",
    "             β_0 & α_1 \\\\\n",
    "             α_1 & β_1 & α_2 \\\\\n",
    "                      & α_2 & β_2 & α_3 \\\\\n",
    "                      & & \\ddots & \\ddots & \\ddots \\\\\n",
    "                      & & & α_{n-2} & β_{n-2} & α_{n-1} \\\\\n",
    "                      & & & & α_{n-1} & β_{n-1}\n",
    "         \\end{pmatrix}\n",
    "         }_{\\mathsf A}\n",
    "         \\underbrace{\n",
    "         \\begin{pmatrix}\n",
    "             L_0(x) \\\\\n",
    "             L_1(x) \\\\\n",
    "             L_2(x) \\\\\n",
    "             \\vdots \\\\\n",
    "             L_{n-2}(x) \\\\\n",
    "             L_{n-1}(x)\n",
    "         \\end{pmatrix}\n",
    "         }_{\\mathbf{\\boldsymbol{Φ}}(x)} +\n",
    "         \\begin{pmatrix}\n",
    "             0 \\\\\n",
    "             0 \\\\\n",
    "             0 \\\\\n",
    "             \\vdots \\\\\n",
    "             0 \\\\\n",
    "             α_{n} L_{n}(x)\n",
    "         \\end{pmatrix}\n",
    "        $$\n",
    "        with $α_k = k$ and $β_k = 2k + 1$.\n",
    "        Thus, the roots of $L_n$ are given by the eigenvalues of $\\mathsf A$.\n",
    "        This opens the door to another approach of calculating the integration nodes,\n",
    "        by solving an eigenvalue problem.\n",
    "\n",
    "   - Once you have calculated the nodes $x_1, \\dotsc, x_n$ of the Gauss-Laguerre quadrature with $n$ nodes,\n",
    "     i.e. the roots of $L_n$,\n",
    "     the weights can be calculated using the following approach.\n",
    "     First note that the Lagrange polynomial associated with $x_i$ may be written as\n",
    "     $$\n",
    "     \\ell_{i}(x) = \\frac{1}{L_n'(x_i)} \\frac{L_n(x)}{x - x_i}.\n",
    "     $$\n",
    "     Now fix $i \\in \\{1,\\dotsc,n\\}$ and let $q(x) = L_n'(x) \\ell_i(x)$.\n",
    "     Then, since the Gauss-Laguerre quadrature with $n$ nodes should be exact for all polynomials of degree up to $2n-1$,\n",
    "     it holds that\n",
    "     $$\n",
    "     \\int_0^{\\infty} q(x) \\, \\mathrm e^{-x} \\, \\mathrm d x\n",
    "     = \\sum_{i=1}^n w_i q(x_i).\n",
    "     $$\n",
    "     By definition of $q$, the right-hand side equals $w_i L_n'(x_i)$.\n",
    "     On the other hand,\n",
    "     by integration by parts, the left-hand side equals\n",
    "     $$\n",
    "     \\begin{aligned}\n",
    "     \\int_0^{\\infty} q(x) \\, \\mathrm e^{-x} \\, \\mathrm d x\n",
    "     &= \\int_0^{\\infty} L_n'(x) \\ell_i(x) \\, \\mathrm e^{-x} \\, \\mathrm d x \\\\\n",
    "     &= (L_n \\ell_i) \\Big\\vert^{\\infty}_0 + \\int_0^{\\infty} \\bigl( L_n(x) \\ell_i(x) - L_n(x) \\ell_i'(x)  \\bigr)  \\mathrm e^{-x} \\, \\mathrm d x.\n",
    "     \\end{aligned}\n",
    "     $$\n",
    "     Since $L_n(x)$ is $\\mathrm L^2(\\mathrm e^{-x})$ orthogonal to all polonymials of degree $n-1$ and less and less,\n",
    "     the integral on the right-hand side is zero.\n",
    "     Therefore, we have shown that\n",
    "     $$\n",
    "     w_i L_n'(x_i) = - L_n(0) \\ell_i(0) = \\frac{L_n(0)^2}{L_n'(x_i) x_i},\n",
    "     $$\n",
    "     where we used the expression of $\\ell_i$ in the last equation.\n",
    "     Rearranging the equation,\n",
    "     we deduce that\n",
    "     $$\n",
    "     w_i = \\frac{L_n(0)^2}{L_n'(x_i)^2 x_i}\n",
    "     $$\n",
    "     This relation enables to quickly calculate the weights once the nodes have been calculated.\n",
    "     Note also that this relation remains true if we multiply $L_n$ by a constant factor.\n",
    "     In other words, it holds that\n",
    "     $$\n",
    "     w_i = \\frac{p_n(0)^2}{p_n'(x_i)^2 x_i}, \\qquad p_n := (x - x_1) \\dotsc (x - x_n).\n",
    "     $$\n",
    "\n",
    "   Use these approaches to calculate the nodes and weights of the Gauss-Laguerre quadrature\n",
    "     <details>\n",
    "         <summary>\n",
    "             <em><font color='gray'>Hint (click to display)</font></em>\n",
    "         </summary>\n",
    "\n",
    "     - Use [`LinearAlgebra.SymTridiagonal`](https://docs.julialang.org/en/v1/stdlib/LinearAlgebra/#LinearAlgebra.SymTridiagonal) to construct the matrix `A`.\n",
    "\n",
    "       ```julia\n",
    "           S = SymTridiagonal([1, 2, 3], [4, 5])  # S = [1 4 0; 4 2 5; 0 5 3]\n",
    "       ```\n",
    "\n",
    "     - Les valeurs propres et vecteurs propres d'une matrice peuvent être calculées par [`LinearAlgebra.eigen`](https://docs.julialang.org/en/v1/stdlib/LinearAlgebra/#LinearAlgebra.eigen).\n",
    "\n",
    "       ```julia\n",
    "           E = eigen(S)\n",
    "           λs = E.values  # eigenvalues from the smallest to the largest\n",
    "           vs = E.vectors  # eigenvectors in columns\n",
    "           λi = E.values[i]  # i-th eigenvalue\n",
    "           vi = E.vectors[:, i]  # i-th eigenvector\n",
    "       ```\n",
    "       On notera d'une part que les valeurs propres sont triées par ordre croissant et sont renvoyées sous forme du vecteur `E.values` si `E` désigne le résultat de l'opérateur `LinearAlgebra.eigen`,\n",
    "       et d'autre part que les vecteurs propres sont normalisés et sont les colonnes de la matrice renvoyée par `E.vectors`,\n",
    "       si bien que le $i^\\textrm{ème}$ vecteur propre est donné par `E.vectors[:, i]`.\n",
    "\n",
    "     - Use `Polynomials.fromroots` and `Polynomials.derivative` to construct and differentiate the polynomial $p_n$.\n",
    "     </details>"
   ]
  },
  {
   "cell_type": "code",
   "execution_count": null,
   "id": "7115ca36",
   "metadata": {
    "nbgrader": {
     "grade": false,
     "grade_id": "cell-87561d53727935df",
     "locked": false,
     "schema_version": 3,
     "solution": true,
     "task": false
    }
   },
   "outputs": [],
   "source": [
    "function get_nodes_and_weights_bis(n)\n",
    "    ### BEGIN SOLUTION\n",
    "    αs = Float64.(1:n-1)\n",
    "    βs = Float64.(2(0:n-1) .+ 1)\n",
    "    A = SymTridiagonal(βs, αs)\n",
    "    nodes = eigen(A).values\n",
    "    p = fromroots(nodes)\n",
    "    dp = derivative(p)\n",
    "    weights = (p(0)./dp.(nodes)).^2 ./ nodes\n",
    "    return nodes, weights\n",
    "    ### END SOLUTION\n",
    "end\n",
    "\n",
    "@show get_nodes_and_weights(5)[1]\n",
    "@show get_nodes_and_weights_bis(5)[1]"
   ]
  },
  {
   "cell_type": "code",
   "execution_count": null,
   "id": "1c70761b",
   "metadata": {
    "nbgrader": {
     "grade": true,
     "grade_id": "cell-5add5fdd68d9d8e6",
     "locked": true,
     "points": 1,
     "schema_version": 3,
     "solution": false,
     "task": false
    }
   },
   "outputs": [],
   "source": [
    "@assert get_nodes_and_weights_bis(5) |> length == 2\n",
    "@assert get_nodes_and_weights_bis(5)[1] |> length == 5\n",
    "@assert get_nodes_and_weights_bis(5)[2] |> length == 5\n",
    "@assert get_nodes_and_weights_bis(1)[1] ≈ [1.0]\n",
    "@assert get_nodes_and_weights_bis(1)[2] ≈ [1.0]\n",
    "@assert get_nodes_and_weights_bis(3)[1] .|> laguerre(3) |> abs∘sum < 1e-10\n",
    "@assert get_nodes_and_weights_bis(5)[1] .|> laguerre(5) |> abs∘sum < 1e-10\n",
    "@assert get_nodes_and_weights_bis(5)[2] |> sum ≈ 1"
   ]
  },
  {
   "cell_type": "markdown",
   "id": "422d4600",
   "metadata": {
    "jp-MarkdownHeadingCollapsed": true
   },
   "source": [
    "### <font color='green'>Supplementary exercise (not graded)</font>"
   ]
  },
  {
   "cell_type": "markdown",
   "id": "a077b32c",
   "metadata": {},
   "source": [
    "### <font color='orange'>[Exercise 5]</font> Solving the Euler-Bernoulli beam equation by interpolation"
   ]
  },
  {
   "cell_type": "markdown",
   "id": "414a9170",
   "metadata": {},
   "source": [
    "The aim of this exercise to explore a practical application of polynomial interpolation.\n",
    "More precisely, we will implement a numerical method to approximately solve the Euler-Bernoulli beam equation with homogeneous Dirichlet boundary conditions:\n",
    "\n",
    "$$\n",
    "  u\\in C^4([0,1]),\\quad\\left\\{\\begin{aligned}  u''''(x) &= \\varphi(x) \\qquad \\forall\\, x\\in(0,1),\\\\\n",
    "  u(0) &= u'(0) = u'(1) = u(1) = 0, \\end{aligned}\\right.\n",
    "$$\n",
    "where $\\varphi(x) = (2\\pi)^4\\cos(2\\pi x)$ is a given transverse load applied to the beam.\n",
    "In order to solve the equation numericaly, we approximate the right-hand side $\\varphi$ by its interpolating polynomial $\\widehat \\varphi$, and then we solve the equation exactly with the right-hand side $\\widehat \\varphi$ instead of $\\varphi$.\n",
    "\n",
    "1. Let us first write a function `fit_values_and_slopes(u₀, up₀, u₁, up₁)` which returns the unique polynomial $p$ of degree 3 such that\n",
    "   $$\n",
    "   p(0) = u_0, \\qquad p'(0) = up_0, \\qquad p(1) = u_1, \\qquad p'(1) = up_1.\n",
    "   $$"
   ]
  },
  {
   "cell_type": "code",
   "execution_count": null,
   "id": "5944324a",
   "metadata": {},
   "outputs": [],
   "source": [
    "function fit_values_and_slopes(u₀, up₀, u₁, up₁)\n",
    "    # We look for polynomials p(x) = a₀ + a₁ x + a₂ x² + a₃ x³\n",
    "    A = [1 0 0 0; 0 1 0 0; 1 1 1 1; 0 1 2 3]\n",
    "    α = A\\[u₀; up₀; u₁; up₁]\n",
    "    return Polynomial(α)\n",
    "end\n",
    "\n",
    "# Test our code\n",
    "p = fit_values_and_slopes(-1, -1, 1, 1)\n",
    "plot(p, xlims=(0, 1))"
   ]
  },
  {
   "cell_type": "markdown",
   "id": "430d622a",
   "metadata": {},
   "source": [
    "2. Write a function `approx(n)` implementing the approach described above for solving the PDE. The function should return a polynomial approximation of the solution based on an interpolation of **degree** $n$ of the right-hand side at equidistant points between 0 and 1, inclusive.\n",
    "\n",
    "   <details>\n",
    "       <summary>\n",
    "           <em><font color='gray'>Hint (click to display)</font></em>\n",
    "       </summary>\n",
    "\n",
    "   - You can use the function `Polynomials.fit` library to obtain the interpolating polynomial:\n",
    "\n",
    "       ```julia\n",
    "           p = fit(x, y)\n",
    "       ```\n",
    "\n",
    "       where `x` are the interpolation nodes, and `y` are the values of the function to interpolate.\n",
    "\n",
    "   - To calculate the exact solution with a polynomial right-hand side, notice that all solutions are polynomials, and without boundary conditions, the solution is unique modulo a cubic polynomial.\n",
    "\n",
    "   - You can use the `integrate` function from the `Polynomials.jl` library, which calculates an antiderivative of a polynomial:\n",
    "\n",
    "       ```julia\n",
    "           P = integrate(p)\n",
    "       ```\n",
    "\n",
    "   - Use the `BigFloat` format to limit rounding errors.\n",
    "       ```julia\n",
    "           X = LinRange{BigFloat}(0, 1, n + 1)\n",
    "       ```\n",
    "   </details>"
   ]
  },
  {
   "cell_type": "code",
   "execution_count": null,
   "id": "5a748030",
   "metadata": {
    "nbgrader": {
     "grade": true,
     "grade_id": "cell-92540138830fb93f",
     "locked": false,
     "points": 0,
     "schema_version": 3,
     "solution": true,
     "task": false
    }
   },
   "outputs": [],
   "source": [
    "# Right-hand side\n",
    "φ(x) = (2π)^4 * cospi(2*x)\n",
    "\n",
    "# Exact solution (for comparison purposes)\n",
    "u(x) = cospi(2*x) - 1\n",
    "\n",
    "function approx(n)\n",
    "    X = LinRange{BigFloat}(0, 1, n + 1)\n",
    "    ### BEGIN SOLUTION\n",
    "    Y = φ.(X)\n",
    "    p = fit(X, Y)\n",
    "    uh = integrate(integrate(integrate(integrate(p))))\n",
    "    ∂uh = derivative(uh)\n",
    "    uh -= fit_values_and_slopes(uh(0), ∂uh(0), uh(1), ∂uh(1))\n",
    "    return uh\n",
    "    ### END SOLUTION\n",
    "end\n",
    "\n",
    "plot(approx(3), xlims=(0, 1), label=\"Exact solution\")\n",
    "plot!(u, xlims=(0, 1), label=\"Approximate solution\")"
   ]
  },
  {
   "cell_type": "markdown",
   "id": "09659583",
   "metadata": {},
   "source": [
    "3. Write a function `estimate_error(n)` that approximates the error,\n",
    "   in $L^\\infty$ norm,\n",
    "   between the exact and approximate solutions.\n",
    "   Note that the exact solution is given by\n",
    "   $$\n",
    "      \\varphi(x) = \\cos(2\\pi x) - 1.\n",
    "   $$"
   ]
  },
  {
   "cell_type": "code",
   "execution_count": null,
   "id": "57dcf387",
   "metadata": {
    "nbgrader": {
     "grade": true,
     "grade_id": "cell-0d4eb3ad0f73736d",
     "locked": false,
     "points": 0,
     "schema_version": 3,
     "solution": true,
     "task": false
    }
   },
   "outputs": [],
   "source": [
    "function estimate_error(n)\n",
    "    ### BEGIN SOLUTION\n",
    "    un = approx(n)\n",
    "    x_fine = LinRange(0, 1, 1000)\n",
    "    un_fine, u_fine = un.(x_fine), u.(x_fine)\n",
    "    return maximum(abs.(u_fine - un_fine))\n",
    "    ### END SOLUTION\n",
    "end"
   ]
  },
  {
   "cell_type": "markdown",
   "id": "d17cb2b6",
   "metadata": {},
   "source": [
    "4. Plot the error for $n$ in the range $\\{ 5, \\dotsc, 50 \\}$. Use a logarithmic scale for the $y$ axis."
   ]
  },
  {
   "cell_type": "code",
   "execution_count": null,
   "id": "a31d1ba4",
   "metadata": {
    "nbgrader": {
     "grade": true,
     "grade_id": "cell-3ae8ab76d5b0fee9",
     "locked": false,
     "points": 0,
     "schema_version": 3,
     "solution": true,
     "task": false
    }
   },
   "outputs": [],
   "source": [
    "# ### BEGIN SOLUTION\n",
    "ns = 5:50\n",
    "errors = estimate_error.(ns)\n",
    "plot(ns, errors, marker = :circle, label=L\"$L^{\\infty}$ Error\")\n",
    "plot!(yaxis=:log, lw=2)\n",
    "# ### END SOLUTION"
   ]
  }
 ],
 "metadata": {
  "jupytext": {
   "encoding": "# -*- coding: utf-8 -*-"
  },
  "kernelspec": {
   "display_name": "Julia 1.10.2",
   "language": "julia",
   "name": "julia-1.10"
  },
  "language_info": {
   "file_extension": ".jl",
   "mimetype": "application/julia",
   "name": "julia",
   "version": "1.10.2"
  }
 },
 "nbformat": 4,
 "nbformat_minor": 5
}
