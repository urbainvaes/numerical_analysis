


using ForwardDiff
using LaTeXStrings
using LinearAlgebra
using Plots
using Polynomials








function fit_values_and_slopes(u₀, up₀, u₁, up₁)
    # We look for polynomials p(x) = a₀ + a₁ x + a₂ x² + a₃ x³
    A = [1 0 0 0; 0 1 0 0; 1 1 1 1; 0 1 2 3]
    α = A\[u₀; up₀; u₁; up₁]
    return Polynomial(α)
end

# Test code
p = fit_values_and_slopes(-1, -1, 1, 1)
plot(p, xlims=(0, 1))





# Right-hand side
φ(x) = (2*big(π))^4 * cospi(2*x)

# Exact solution (for comparison purposes)
uₑ(x) = cospi(2*x) - 1

function approx(n)
    X = LinRange{BigFloat}(0, 1, n + 1)
    ### BEGIN SOLUTION
    Y = φ.(X)
    p = fit(X, Y)
    uh = integrate(integrate(integrate(integrate(p))))
    ∂uh = derivative(uh)
    uh -= fit_values_and_slopes(uh(0), ∂uh(0), uh(1), ∂uh(1))
    return uh
    ### END SOLUTION
end;


@assert typeof(approx(3)) == Polynomial{BigFloat, :x}
@assert degree(approx(3)) == 7
@assert approx(3)(0) ≈ 0
@assert approx(3)(1) ≈ 0
@assert derivative(approx(3))(0) ≈ 0
@assert derivative(approx(3))(1) ≈ 0





# Exact solution (for comparison purposes)
uₑ(x) = cospi(2*x) - 1

function estimate_error(n)
    ### BEGIN SOLUTION
    un = approx(n)
    x_fine = LinRange{BigFloat}(0, 1, 1000)
    un_fine, u_fine = un.(x_fine), uₑ.(x_fine)
    return maximum(abs.(u_fine - un_fine))
    ### END SOLUTION
end;


@assert estimate_error(2) > 0
@assert estimate_error(20) < 1e-3
@assert estimate_error(20) > 1e-20
@assert estimate_error(40) < 1e-12





# ### BEGIN SOLUTION
ns = 5:50
errors = estimate_error.(ns)
plot(ns, errors, marker = :circle, label=L"$L^{\infty}$ Error")
plot!(yaxis=:log, lw=2)
# ### END SOLUTION





κ(u, α) = 1 + α^2 * u^2

function build_A(N, u, α)
    @assert length(u) == N-1
    A = zeros(typeof(α), N+1, N+1)
    v = [0.; u; 0.]
    for i in 2:N
        A[i, i-1] =  - (κ(v[i-1], α) + κ(v[i], α))  / 2
        A[i, i] = (κ(v[i-1], α) + 2κ(v[i], α) + κ(v[i+1], α)) / 2
        A[i, i+1] = - (κ(v[i], α) + κ(v[i+1], α)) / 2
    end
    return A[2:end-1, 2:end-1]
end

@assert begin N = 20; size(build_A(N, zeros(N-1), 0.)) == (N - 1, N - 1) end
@assert begin N = 20; build_A(N, zeros(N-1), 0.) == SymTridiagonal(fill(2, N-1), fill(-1, N-2)) end





function solve_nonlin(N, α; maxiter=1000, ε=1e-10)
    b = ones(N-1)
    u = zeros(typeof(α), N-1)
    A = N^2 * build_A(N, u, α)
    ### BEGIN SOLUTION
    for i in 1:maxiter
        u = A\b
        A = N^2*build_A(N, u, α)
        norm(A*u - b) ≤ ε && return u
    end
    return nothing
    ### END SOLUTION
end;


@assert size(solve_nonlin(10, 1.)) == (9,)
@assert solve_nonlin(10, 0; ε = 1e-100) == nothing
@assert begin N, α = 20, 1.; u = solve_nonlin(N, α); A_ = build_A(N, u, α); norm(N^2*A_*u - ones(N-1)) ≤ 1e-5 end





function solve_poisson(N, α)
    ### BEGIN SOLUTION
    Δx = 1/N
    x = (0:N)*Δx
    u = [0.; solve_nonlin(N, α); 0.]
    return x, u
    ### END SOLUTION
end


@assert solve_poisson(20, 1.) isa Tuple
@assert length(solve_poisson(20, 1.)) == 2
@assert solve_poisson(20, 1.)[1] == (0:20)/20





α = 30.
p = plot(title=L"Convergence as $N \to \infty$", xlims=(0, 1),
         legend=:outertopright)
for N in (5, 10, 20, 30, 40)
    # Plot numerical solution for current value of `N`
    ### BEGIN SOLUTION
    x, u = solve_poisson(N, α)
    plot!(x, u, label="N = $N")
    ### END SOLUTION
end
p





N = 50
u_exact(x) = 1/8 - (x - .5)^2/2
p = plot(title="Solution to the nonlinear Poisson equation", xlims=(0, 1),
         legend=:outertopright)

### BEGIN SOLUTION
plot!(u_exact, label="Exact")
for α in (0., 10., 20., 50., 100.)
    x, u = solve_poisson(N, α)
    plot!(x, u, label="α = $α")
end
### END SOLUTION
p





function mean_temperature(N, α)
    @assert N % 2 == 0
    ### BEGIN SOLUTION
    x, u = solve_poisson(N, α)
    result = u[1] + u[end]
    result += 4sum(u[2:2:end-1])
    result += 2sum(u[3:2:end-2])
    return result/N/3
    ### END SOLUTION
end


@assert mean_temperature(10, 10.) isa Float64
@assert mean_temperature(100, 0.) ≈ 1/12
@assert mean_temperature(100, 10.) < 1/12





const dx = ForwardDiff.Dual(0., 1.)
function newton_raphson(f, x; maxiter=100, ε = 1e-12)
    ### BEGIN SOLUTION
    for i in 1:maxiter
        y = f(x + dx)
        x -= y.partials[1]\y.value
        norm(f(x)) < ε && return x
    end
    error("Failed to converge!")
    ### END SOLUTION
end;


@assert newton_raphson(x -> x^2 - 2, 1) ≈ √2
@assert newton_raphson(x -> x^2 - 2, -1) ≈ -√2
@assert newton_raphson(x -> x^3 - 2, 1) ≈ cbrt(2)
@assert newton_raphson(x -> cos(x) - .5, 2) ≈ acos(.5)





function get_alpha(N)
    ### BEGIN SOLUTION
    u_bar = .07
    α = newton_raphson(a -> mean_temperature(N, a) - u_bar, 10.)
    ### END SOLUTION
    return α
end;





### BEGIN SOLUTION
plot(title="Solution of inverse problem", xlabel=L"N", ylabel=L"α")
Ns = 10:2:100
plot!(Ns, get_alpha.(Ns))
### END SOLUTION











# Temperature [K]
const T = 298.15  #  = 25°C

# Density of water [kg/m³]
const ρ_w = 1000

# Gravitational acceleration [m/s²]
const g = 9.81

# Mass of the diver [kg]
const m_diver = 80

# Volume of the diver [m³]
const V_diver = .07

# Cross section of diver [m²]
const A_diver = .25

# Drag coefficient
const C_d = 0.47

# Universal gas constant [J/mol·K]
const R = 8.314

# Molar mass of CO₂ [kg/mol]
const M_CO₂ = 0.04401

# Sea level pressure [Pa]
const P₀ = 101325








# Volume of the buoy at depth `z` (z ≤ 0)
function V_buoy(z, m_buoy)
    ### BEGIN SOLUTION
    P = P₀ - ρ_w * g * z
    return (m_buoy * R * T) / (P * M_CO₂)
    ### END SOLUTION
end;


@assert V_buoy(0, 1.) ≈ (R * T) / (P₀ * M_CO₂)
@assert V_buoy(0, 1.)*P₀ ≈ V_buoy(-1, 1.)*(P₀ + ρ_w * g)





# Parameter `A` in the drag force (depends on volume `Vb` of the buoy)
A_total(Vb) = max(A_diver, π*(3Vb/4π)^(2/3))

function f(X, m_buoy)
    ### BEGIN SOLUTION
    z, v = X
    Vb = V_buoy(z, m_buoy)
    m = m_diver + m_buoy
    F_a = ρ_w * (V_diver + Vb) * g
    F_g = - m * g
    F_d = - 0.5 * C_d * ρ_w * A_total(Vb) * v^2 * sign(v)
    return [v, (F_g + F_a + F_d) / m]
    ### END SOLUTION
end


@assert f([0., 0.], 0.) |> length == 2
@assert f([0., 0.], 0.)[1] == 0.
@assert f([0., 5.], 0.)[1] == 5.
@assert f([-1., 0.], 0.)[2] ≈ f([0., 0.], 0.)[2]
@assert f([-1., 0.], .1)[2] ≥ f([0., 0.], 0.)[2]
@assert f([0., 0.], 0.)[2] ≈ -1.22625
@assert f([0., 0.], .1)[2] ≈ 5.5709364718165455





function rkx(Xₙ, h, Δ)
    k₁ = h(Xₙ)
    k₂ = h(Xₙ + Δ/2 * k₁)
    k₃ = h(Xₙ + 3Δ/4 * k₂)
    return Xₙ + Δ/9 * (2k₁ + 3k₂ + 4k₃)
end


@assert rkx([0.], X -> [1.], 1.) ≈ [1]
@assert rkx([1.], X -> X, 1.)  ≈ [2 + 1/2 + 1/6]





function solve_ode(Δ, z₀, m_buoy; tmax=20)
    X₀ = [z₀; 0.]
    ts = [0.]
    Xs = [X₀]
    ### BEGIN SOLUTION
    h(X) = f(X, m_buoy)
    while Xs[end][1] ≤ 0 && ts[end] < tmax
        push!(Xs, rkx(Xs[end], h, Δ))
        push!(ts, ts[end] + Δ)
    end
    ### END SOLUTION
    return ts, Xs
end


@assert solve_ode(.01, -1., 0.) |> length == 2
@assert solve_ode(.01, -1., 0.)[1][end] ≈ 20
@assert solve_ode(.01, -1., .1)[2][1] |> length == 2
@assert solve_ode(.01, -1., .1)[2][end][1] ≥ 0
@assert solve_ode(.01, -1., .1)[2][end-1][1] ≤ 0
@assert solve_ode(.01, -10., .1)[1][end] > 5
@assert solve_ode(.01, -10., .1)[1][end] < 6





function plot_z(Δ, z₀, ms)
    p = plot(title="Depth of the diver")
    ### BEGIN SOLUTION
    for m ∈ ms
        ts, Xs = solve_ode(Δ, z₀, m)
        plot!(ts, [x[1] for x in Xs], label="m = $m")
        xlabel!("t [s]")
        ylabel!("z [m]")
    end
    ### END SOLUTION
    return p
end

Δ, z₀, ms = .01, -20., [.1, .2, .3]
plot_z(Δ, z₀, ms)





function plot_v(Δ, z₀, ms)
    p = plot(title="Velocity of the diver")
    ### BEGIN SOLUTION
    for m ∈ ms
        ts, Xs = solve_ode(Δ, z₀, m)
        plot!(ts, [x[2] for x in Xs], label="m = $m")
        xlabel!("t [s]")
        ylabel!("v [m/s]")
    end
    ### END SOLUTION
    return p
end

Δ, z₀, ms = .01, -20., [.1, .2, .3]
plot_v(Δ, z₀, ms)





function rescue_time(z₀)
    Δ, m_buoy = .01, .1
    ### BEGIN SOLUTION
    Ts, Xs = solve_ode(Δ, z₀, m_buoy)
    t₁, t₂, δx₁, δx₂ = Ts[end-1], Ts[end], Xs[end-1][1]-1, Xs[end][1]-1
    return (t₁*δx₂ - t₂*δx₁)/(δx₂-δx₁)
    ### END SOLUTION
end





### BEGIN SOLUTION
plot(-30:.1:-5, rescue_time)
vline!([-16.2])
hline!([10])
xlabel!("z₀ [m]")
ylabel!("Rescue time [s]")
### END SOLUTION





# BEGIN SOLUTION
z = -10
for i in 1:10
    r = rescue_time(z + dx)
    z -= (r.value - 10) / r.partials[1]
end
z
### END SOLUTION
