{
 "cells": [
  {
   "cell_type": "markdown",
   "id": "e8fd1723",
   "metadata": {},
   "source": [
    "## Notebook 4: Integration"
   ]
  },
  {
   "cell_type": "code",
   "execution_count": null,
   "id": "f2285c2b",
   "metadata": {
    "lines_to_next_cell": 2,
    "nbgrader": {
     "grade": false,
     "grade_id": "cell-66fb32acfe72fcce",
     "locked": true,
     "schema_version": 3,
     "solution": false,
     "task": false
    }
   },
   "outputs": [],
   "source": [
    "using Polynomials\n",
    "using Plots\n",
    "using LaTeXStrings\n",
    "using LinearAlgebra\n",
    "\n",
    "macro mark(bool_expr)\n",
    "    return :(print($bool_expr ? \"✔️\" : \"❌\"))\n",
    "end"
   ]
  },
  {
   "cell_type": "markdown",
   "id": "1311c331",
   "metadata": {
    "jp-MarkdownHeadingCollapsed": true,
    "nbgrader": {
     "grade": false,
     "grade_id": "cell-0025dd0a265bc32f",
     "locked": true,
     "schema_version": 3,
     "solution": false,
     "task": false
    }
   },
   "source": [
    "### <font color='green'>Numerical integration</font>"
   ]
  },
  {
   "cell_type": "markdown",
   "id": "2c3faa7c",
   "metadata": {
    "nbgrader": {
     "grade": false,
     "grade_id": "trapezium",
     "locked": true,
     "schema_version": 3,
     "solution": false,
     "task": false
    }
   },
   "source": [
    "### <font color='orange'>[Exercise 1]</font> Trapezium rule and Simpson's rule\n",
    "\n",
    "1. Write a function `composite_trapezoidal(u, a, b, n)` to approximate the integral\n",
    "   $$\n",
    "   I := \\int_a^b u(x) \\, \\mathrm d x\n",
    "   $$\n",
    "   using the composite trapezoidal rule with `n` equidistant points $a = x_1 < x_2 < \\dots < x_{n-1} < x_n = b$.\n",
    "   Assume that $n \\geq 2$."
   ]
  },
  {
   "cell_type": "code",
   "execution_count": null,
   "id": "669970e5",
   "metadata": {
    "nbgrader": {
     "grade": false,
     "grade_id": "cell-22ab8c91a0cef270",
     "locked": false,
     "schema_version": 3,
     "solution": true,
     "task": false
    }
   },
   "outputs": [],
   "source": [
    "function composite_trapezoidal(u, a, b, n)\n",
    "    ### BEGIN SOLUTION\n",
    "    x = LinRange(a, b, n)\n",
    "    Δ = x[2] - x[1]\n",
    "    ux = u.(x)\n",
    "    return Δ * (ux[1]/2 + sum(ux[2:end-1]) + ux[end]/2)\n",
    "    ### END SOLUTION\n",
    "end"
   ]
  },
  {
   "cell_type": "code",
   "execution_count": null,
   "id": "de322545",
   "metadata": {
    "nbgrader": {
     "grade": true,
     "grade_id": "cell-23fbd5cc569c45d1",
     "locked": true,
     "points": 0,
     "schema_version": 3,
     "solution": false,
     "task": false
    }
   },
   "outputs": [],
   "source": [
    "@mark composite_trapezoidal(x -> 5, 1, 2, 100) ≈ 5\n",
    "@mark composite_trapezoidal(x -> x, 1, 2, 100) ≈ 3/2\n",
    "@mark composite_trapezoidal(x -> x, 1, 2, 2) ≈ 3/2\n",
    "@mark composite_trapezoidal(x -> x^2, 0, 1, 2) ≈ 1/2\n",
    "@mark composite_trapezoidal(x -> x^2, 1, 2, 2) ≈ 5/2"
   ]
  },
  {
   "cell_type": "markdown",
   "id": "88577e29",
   "metadata": {},
   "source": [
    "2. Write a function `composite_simpson(u, a, b, n)` to approximate the integral $I$ using the composite Simpson's rule\n",
    "   based on evaluating `u` at an **odd** number `n` of equidistant points such that $a = x_1 < x_2 < \\dots < x_{n-1} < x_n = b$.\n",
    "   Assume that `n` is odd and $n \\geq 3$.\n",
    "\n",
    "   > **Note**: `n` here is the number of points where the function `u` is evaluated,\n",
    "   > and not the number of intervals where Simpson's rule is locally applied."
   ]
  },
  {
   "cell_type": "code",
   "execution_count": null,
   "id": "39bc7d96",
   "metadata": {
    "nbgrader": {
     "grade": false,
     "grade_id": "cell-2a2ecfcd1b57be9e",
     "locked": false,
     "schema_version": 3,
     "solution": true,
     "task": false
    }
   },
   "outputs": [],
   "source": [
    "function composite_simpson(u, a, b, n)\n",
    "    @assert n % 2 == 1 \"`n` must be odd\"\n",
    "    ### BEGIN SOLUTION\n",
    "    x = LinRange(a, b, n)\n",
    "    Δ = x[2] - x[1]\n",
    "    ux = u.(x)\n",
    "    return Δ/3 * sum([ux[1]; ux[end]; 4ux[2:2:end-1]; 2ux[3:2:end-2]])\n",
    "    ### END SOLUTION\n",
    "end"
   ]
  },
  {
   "cell_type": "code",
   "execution_count": null,
   "id": "79ede5b9",
   "metadata": {
    "nbgrader": {
     "grade": true,
     "grade_id": "cell-055fee01abf94618",
     "locked": true,
     "points": 0,
     "schema_version": 3,
     "solution": false,
     "task": false
    }
   },
   "outputs": [],
   "source": [
    "@mark composite_simpson(x -> 1  , 1, 2, 101) ≈ 1\n",
    "@mark composite_simpson(x -> x  , 1, 2, 101) ≈ 3/2\n",
    "@mark composite_simpson(x -> x^2, 1, 2, 101) ≈ 7/3\n",
    "@mark composite_simpson(x -> x^3, 1, 2, 101) ≈ 15/4\n",
    "@mark composite_simpson(x -> x  , 0, 1, 3) ≈ 1/2\n",
    "@mark composite_simpson(x -> x^2, 0, 1, 3) ≈ 1/3\n",
    "@mark composite_simpson(x -> x^3, 0, 1, 3) ≈ 1/4"
   ]
  },
  {
   "cell_type": "markdown",
   "id": "d3a42f2a",
   "metadata": {},
   "source": [
    "3. Write a function `calculate_sum(N)` that computes the sum\n",
    "   $$\n",
    "   S(n) := \\sum_{n = 1}^{N} n^{-n}.\n",
    "   $$\n",
    "   Display the value of $S(N)$ for `n` equal to 5, 10, 15, and 20."
   ]
  },
  {
   "cell_type": "code",
   "execution_count": null,
   "id": "8e8388ff",
   "metadata": {
    "nbgrader": {
     "grade": false,
     "grade_id": "cell-a857d33e08817d31",
     "locked": false,
     "schema_version": 3,
     "solution": true,
     "task": false
    }
   },
   "outputs": [],
   "source": [
    "function calculate_sum(N)\n",
    "    sum(n^(-n) for n in N:-1.:1)\n",
    "end"
   ]
  },
  {
   "cell_type": "code",
   "execution_count": null,
   "id": "7c9290da",
   "metadata": {
    "nbgrader": {
     "grade": true,
     "grade_id": "cell-b9e231e268dec320",
     "locked": true,
     "points": 0,
     "schema_version": 3,
     "solution": false,
     "task": false
    }
   },
   "outputs": [],
   "source": [
    "println(calculate_sum(5))\n",
    "println(calculate_sum(10))\n",
    "println(calculate_sum(15))\n",
    "println(calculate_sum(20))\n",
    "\n",
    "@mark abs(calculate_sum(20) - 1.2912859970626636) < 1e-6\n",
    "@mark abs(calculate_sum(20) - 1.2912859970626636) < 1e-9\n",
    "@mark abs(calculate_sum(20) - 1.2912859970626636) < 1e-12"
   ]
  },
  {
   "cell_type": "markdown",
   "id": "150e79f0",
   "metadata": {},
   "source": [
    "4. It can be shown that\n",
    "   $$\n",
    "   \\int_0^1 x^{-x} \\, \\mathrm d x = \\sum_{n=1}^{\\infty} n^{-n}.\n",
    "   $$\n",
    "   Illustrate the error of the composite methods defined above as a function of `n`,\n",
    "   on the same graph.\n",
    "   Use $S(20)$ as the reference value for the integral,\n",
    "   and use a logarithmic scale for both axes of the graph.\n",
    "\n",
    "   > **Note**: The function to be integrated in this exercise is continuous,\n",
    "   > but its derivative diverges at $x = 0$.\n",
    "   > So do not worry if the observed convergence rate does not match the theoretical rate."
   ]
  },
  {
   "cell_type": "code",
   "execution_count": null,
   "id": "eee4dbc0",
   "metadata": {
    "nbgrader": {
     "grade": true,
     "grade_id": "cell-0bbb90eb9b0b52af",
     "locked": false,
     "points": 0,
     "schema_version": 3,
     "solution": true,
     "task": false
    }
   },
   "outputs": [],
   "source": [
    "### BEGIN SOLUTION\n",
    "ns = 3:2:400\n",
    "u = x -> x^-x\n",
    "I_exact = calculate_sum(20)\n",
    "I_trap = composite_trapezoidal.(u, 0, 1, ns)\n",
    "I_simp = composite_simpson.(u, 0, 1, ns)\n",
    "plot(ns, abs.(I_trap .- I_exact), label=\"Trapezoidal\")\n",
    "plot!(ns, abs.(I_simp .- I_exact), label=\"Simpson\")\n",
    "plot!(xaxis=:log, yaxis=:log, lw=2)\n",
    "### END SOLUTION"
   ]
  },
  {
   "cell_type": "markdown",
   "id": "ee0b3b4d",
   "metadata": {},
   "source": [
    "5. (**Bonus**). Estimate, by approximating the logarithm of the error with a linear function of the logarithm of the integration step using the `fit` function, the order of convergence of the composite Simpson's method for the integral in the previous question."
   ]
  },
  {
   "cell_type": "code",
   "execution_count": null,
   "id": "1c6027e2",
   "metadata": {
    "nbgrader": {
     "grade": true,
     "grade_id": "cell-a76957fd17db30e1",
     "locked": false,
     "points": 0,
     "schema_version": 3,
     "solution": true,
     "task": false
    }
   },
   "outputs": [],
   "source": [
    "### BEGIN SOLUTION\n",
    "I_simp = composite_simpson.(u, 0, 1, ns)\n",
    "ns = 3:2:400\n",
    "log_Δ = @. log(1/ns)\n",
    "log_e = @. log(abs(I_simp - I_exact))\n",
    "fit(log_Δ, log_e, 1).coeffs[2]\n",
    "### END SOLUTION"
   ]
  },
  {
   "cell_type": "markdown",
   "id": "432894b8",
   "metadata": {
    "nbgrader": {
     "grade": false,
     "grade_id": "cell-2c415728e0c980d5",
     "locked": true,
     "schema_version": 3,
     "solution": false,
     "task": false
    }
   },
   "source": [
    "### <font color='orange'>[Exercise 2]</font> Implementing a composite integrator"
   ]
  },
  {
   "cell_type": "markdown",
   "id": "eeba5e6b",
   "metadata": {
    "nbgrader": {
     "grade": false,
     "grade_id": "cell-7408e9108eb33b36",
     "locked": true,
     "schema_version": 3,
     "solution": false,
     "task": false
    }
   },
   "source": [
    "Milne's integration rule reads\n",
    "$$\n",
    "    \\int_{-1}^{1} u(x) \\, dx \\approx \\frac{2}{3} \\left( 2 u\\left(-\\frac{1}{2}\\right) - u(0) + 2 u\\left(\\frac{1}{2}\\right) \\right)\n",
    "$$\n",
    "\n",
    "1. Write a function `composite_milne(u, a, b, N)`,\n",
    "   which returns an approximation of the integral\n",
    "   $$\n",
    "       \\int_{a}^{b} u(x) \\, dx\n",
    "   $$\n",
    "   obtained by partitioning the integration interval $[a, b]$ into $N$ equally large cells,\n",
    "   and applying Milne's rule within each cell."
   ]
  },
  {
   "cell_type": "code",
   "execution_count": null,
   "id": "351b7ea4",
   "metadata": {
    "nbgrader": {
     "grade": false,
     "grade_id": "cell-43c2da48c1477196",
     "locked": false,
     "schema_version": 3,
     "solution": true,
     "task": false
    }
   },
   "outputs": [],
   "source": [
    "function composite_milne(u, a, b, N)\n",
    "    ### BEGIN SOLUTION\n",
    "    Δ = (b - a) / N\n",
    "    x₁ = a .+ Δ/4 .+ Δ*(0:N-1)\n",
    "    x₂ = a .+ Δ/2 .+ Δ*(0:N-1)\n",
    "    x₃ = a .+ 3Δ/4 .+ Δ*(0:N-1)\n",
    "    2Δ/3 * u.(x₁) - Δ/3 * u.(x₂) + 2Δ/3 * u.(x₃) |> sum\n",
    "    ### END SOLUTION\n",
    "end"
   ]
  },
  {
   "cell_type": "code",
   "execution_count": null,
   "id": "9e82b818",
   "metadata": {
    "nbgrader": {
     "grade": true,
     "grade_id": "cell-a314a4b61e8261ee",
     "locked": true,
     "points": 2,
     "schema_version": 3,
     "solution": false,
     "task": false
    }
   },
   "outputs": [],
   "source": [
    "@mark (abs∘composite_milne)(x -> x, -1, 1, 10) < 1e-13\n",
    "@mark composite_milne(x -> x, 1, 2, 10) ≈ 3/2\n",
    "@mark composite_milne(x -> x^2, -1, 1, 1) ≈ 2/3\n",
    "@mark composite_milne(x -> x^4, -1, 1, 1) ≈ 2/12"
   ]
  },
  {
   "cell_type": "markdown",
   "id": "6ddda069",
   "metadata": {
    "nbgrader": {
     "grade": false,
     "grade_id": "cell-0e067f9a85be26e7",
     "locked": true,
     "schema_version": 3,
     "solution": false,
     "task": false
    }
   },
   "source": [
    "2. Take $u(x) = \\cos(x)$, $a = -1$ and $b = 1$.\n",
    "   Plot using `scatter` the evolution of the error,\n",
    "   in absolute value, for the values of $N$ given,\n",
    "   using a logarithmic scale for both axes."
   ]
  },
  {
   "cell_type": "code",
   "execution_count": null,
   "id": "8b9e0289",
   "metadata": {
    "nbgrader": {
     "grade": true,
     "grade_id": "cell-5548465f6106bca4",
     "locked": false,
     "points": 2,
     "schema_version": 3,
     "solution": true,
     "task": false
    }
   },
   "outputs": [],
   "source": [
    "u = x -> cos(x)\n",
    "a, b = -1 , 1\n",
    "\n",
    "# Number of intervals\n",
    "Ns = (round∘^).(10, LinRange(0, 3, 20))\n",
    "\n",
    "# Exact value of the integral\n",
    "I_exact = 2sin(1)\n",
    "\n",
    "### BEGIN SOLUTION\n",
    "Is = composite_milne.(u, a, b, Ns)\n",
    "errors = abs.(Is .- I_exact)\n",
    "scatter(Ns, errors, label=\"Integration error\")\n",
    "### END SOLUTION\n",
    "\n",
    "# Set log scale for both axes\n",
    "plot!(xscale=:log10, yscale=:log10)"
   ]
  },
  {
   "cell_type": "markdown",
   "id": "e6938468",
   "metadata": {
    "nbgrader": {
     "grade": false,
     "grade_id": "cell-01b6fe96b7536998",
     "locked": true,
     "schema_version": 3,
     "solution": false,
     "task": false
    }
   },
   "source": [
    "3. Estimate the order of convergence with respect to $N$, i.e. find $\\gamma$ such that\n",
    "   $$\n",
    "       \\lvert \\widehat{I}_{N} - I \\rvert \\propto \\beta N^{-\\gamma},\n",
    "   $$\n",
    "   where $I$ denotes the exact value of the integral and $\\widehat{I}_{N}$ denotes its approbetamation.\n",
    "   In order to find $\\beta$ and $\\gamma$, use the function `Polynomials.fit` to find a linear approximation of the form\n",
    "   $$\n",
    "       \\log \\lvert \\widehat{I}_{N} - I \\rvert \\approx \\log (\\beta) - \\gamma \\log(N).\n",
    "   $$\n",
    "   If your calculation is correct, the function `N -> β*N^(-γ)`\n",
    "   should give a good approximation of the integration error."
   ]
  },
  {
   "cell_type": "code",
   "execution_count": null,
   "id": "cc24369b",
   "metadata": {
    "nbgrader": {
     "grade": false,
     "grade_id": "cell-976b43ea8ab74c42",
     "locked": false,
     "schema_version": 3,
     "solution": true,
     "task": false
    }
   },
   "outputs": [],
   "source": [
    "# Calculate β and γ\n",
    "### BEGIN SOLUTION\n",
    "p = fit(log.(Ns), log.(errors), 1)\n",
    "β = round(exp(p[0]), sigdigits=3)\n",
    "γ = -round(p[1], sigdigits=3)\n",
    "### END SOLUTION\n",
    "plot!(N -> β*N^(-γ), label=L\"%$β \\times N^{%$γ}\")"
   ]
  },
  {
   "cell_type": "code",
   "execution_count": null,
   "id": "e885f415",
   "metadata": {
    "nbgrader": {
     "grade": true,
     "grade_id": "cell-1ecc10e556e00c30",
     "locked": true,
     "points": 2,
     "schema_version": 3,
     "solution": false,
     "task": false
    }
   },
   "outputs": [],
   "source": [
    "@mark round(β, sigdigits=1) ≤ .1\n",
    "@mark round(β, sigdigits=1) ≥ 1e-3\n",
    "@mark round(γ, sigdigits=1) == 4"
   ]
  },
  {
   "cell_type": "markdown",
   "id": "d53df1c9",
   "metadata": {
    "lines_to_next_cell": 0,
    "nbgrader": {
     "grade": false,
     "grade_id": "duplicate_id",
     "locked": true,
     "schema_version": 3,
     "solution": false,
     "task": false
    }
   },
   "source": [
    "### <font color='orange'>[Exercise 3]</font> Composite Gauss-Legendre integration\n",
    "\n",
    "1. Write a function `legendre(n)` that returns the Legendre polynomial of degree $n$,\n",
    "   in the form of a `Polynomial` structure from the `Polynomials` library.\n",
    "   To do this, you can use the `Polynomials` library and Rodrigues' formula:\n",
    "   $$\n",
    "   L_n(x) = \\frac{1}{2^n n!} \\frac{\\mathrm{d}^n}{\\mathrm{d} x^n} \\left(x^2 - 1\\right)^n.\n",
    "   $$\n",
    "\n",
    "    <details>\n",
    "        <summary>\n",
    "            <em><font color='gray'>Hint (click to show)</font></em>\n",
    "        </summary>\n",
    "\n",
    "    - The function `factorial(n)` can be used to calculate the factorial of `n`.\n",
    "\n",
    "    - The function `Polynomials.Polynomial` allows you to create a polynomial from its coefficients:\n",
    "      ```julia\n",
    "      p = Polynomial([1, 2, 3])  # p(x) = 1 + 2x + 3x²\n",
    "      ```\n",
    "    - The function `Polynomials.derivative` allows you to compute the derivatives of a polynomial:\n",
    "      ```julia\n",
    "      dp = derivative(p)  # dp(x) = 2 + 6x\n",
    "      ddp = derivative(p, 2)  # ddp(x) = 6\n",
    "      ```\n",
    "    </details>"
   ]
  },
  {
   "cell_type": "code",
   "execution_count": null,
   "id": "563c3706",
   "metadata": {
    "nbgrader": {
     "grade": true,
     "grade_id": "cell-f185b67b8c210741",
     "locked": false,
     "points": 0,
     "schema_version": 3,
     "solution": true,
     "task": false
    }
   },
   "outputs": [],
   "source": [
    "function legendre(n)\n",
    "    ### BEGIN SOLUTION\n",
    "    p = Polynomial([-1, 0, 1])\n",
    "    return 1 / (2^n * factorial(n)) * derivative(p^n, n)\n",
    "    ### END SOLUTION\n",
    "end;"
   ]
  },
  {
   "cell_type": "markdown",
   "id": "2e3979a3",
   "metadata": {},
   "source": [
    "2. Write a function `get_nodes_and_weights(n)` that computes,\n",
    "   without using any libraries other than those imported at the beginning of the notebook,\n",
    "   the nodes $(x_i)_{i \\in \\{1, \\dots, n\\}}$ and weights $(w_i)_{i \\in \\{1, \\dots, n\\}}$ of the Gauss-Legendre quadrature with $n$ nodes.\n",
    "   Recall that the nodes and weights should be such that the approximation\n",
    "   $$\n",
    "   \\int_{-1}^{1} f(x) \\, \\mathrm d x\n",
    "   \\approx \\sum_{i=1}^{n} w_i f(x_i)\n",
    "   $$\n",
    "   is exact for any polynomial $f$ of degree up to $2n-1$.\n",
    "   <details>\n",
    "       <summary>\n",
    "           <em><font color='gray'>Hint (click to show)</font></em>\n",
    "       </summary>\n",
    "\n",
    "   - Recall that the integration nodes are given by the roots of the Legendre polynomial of degree `n`.\n",
    "     These roots can be computed using the `roots` function from the `Polynomials.jl` library.\n",
    "\n",
    "   - To construct the Lagrange polynomials to compute the weights,\n",
    "     it may be useful to use the `fromroots` and `integrate` functions from the `Polynomials.jl` library.\n",
    "\n",
    "     ```julia\n",
    "         p = fromroots([1., 2.])  # Constructs (x - 1)(x - 2) = x² - 3x + 2\n",
    "         q = integrate(p)  # q = x^3/3 - 3x^2/2 + 2x\n",
    "     ```\n",
    "   </details>"
   ]
  },
  {
   "cell_type": "code",
   "execution_count": null,
   "id": "52fcfabb",
   "metadata": {
    "nbgrader": {
     "grade": false,
     "grade_id": "cell-b62fb5fa66cbd77e",
     "locked": false,
     "schema_version": 3,
     "solution": true,
     "task": false
    }
   },
   "outputs": [],
   "source": [
    "function get_nodes_and_weights(n)\n",
    "    ### BEGIN SOLUTION\n",
    "    nodes = sort(roots(legendre(n)))\n",
    "    weights = zero(nodes)\n",
    "    for i in 1:n\n",
    "        ℓ = fromroots(nodes[1:end .!= i])\n",
    "        ℓ = ℓ / ℓ(nodes[i])\n",
    "        weights[i] = integrate(ℓ, -1, 1)\n",
    "    end\n",
    "    ### END SOLUTION\n",
    "    return nodes, weights\n",
    "end;"
   ]
  },
  {
   "cell_type": "code",
   "execution_count": null,
   "id": "bc71ae43",
   "metadata": {
    "nbgrader": {
     "grade": true,
     "grade_id": "cell-34216ccc29eceadb",
     "locked": true,
     "points": 0,
     "schema_version": 3,
     "solution": false,
     "task": false
    }
   },
   "outputs": [],
   "source": [
    "@mark get_nodes_and_weights(5) |> length == 2\n",
    "@mark get_nodes_and_weights(5)[1] |> length == 5\n",
    "@mark get_nodes_and_weights(5)[2] |> length == 5\n",
    "@mark get_nodes_and_weights(1)[1] ≈ [0.]\n",
    "@mark get_nodes_and_weights(1)[2] ≈ [2.0]\n",
    "@mark get_nodes_and_weights(3)[1] .|> legendre(3) |> abs∘sum < 1e-10\n",
    "@mark get_nodes_and_weights(5)[1] .|> legendre(5) |> abs∘sum < 1e-10\n",
    "@mark get_nodes_and_weights(5)[2] |> sum ≈ 2"
   ]
  },
  {
   "cell_type": "markdown",
   "id": "4339705e",
   "metadata": {},
   "source": [
    "3. Write a function `composite_gauss_legendre(u, a, b, n, N)` that returns an approximation of the integral\n",
    "    $$\n",
    "    \\int_{a}^{b} u(x) \\, \\mathrm{d} x\n",
    "    $$\n",
    "    obtained by partitioning the integration interval $[a, b]$ into $N$ subintervals of equal length,\n",
    "    and applying the Gauss-Legendre quadrature with $n$ nodes in each subinterval."
   ]
  },
  {
   "cell_type": "code",
   "execution_count": null,
   "id": "312df29a",
   "metadata": {
    "nbgrader": {
     "grade": false,
     "grade_id": "cell-e1ec8934b0cd9c80",
     "locked": false,
     "schema_version": 3,
     "solution": true,
     "task": false
    }
   },
   "outputs": [],
   "source": [
    "function composite_gauss_legendre(u, a, b, n, N)\n",
    "    ### BEGIN SOLUTION\n",
    "    h = (b-a)/N\n",
    "    X = LinRange(a, b, N + 1)\n",
    "    z, w = get_nodes_and_weights(n)\n",
    "    result = 0.\n",
    "    for i in 1:N\n",
    "        nodes = X[i] + h/2 .+ z*h/2\n",
    "        result += h/2 * w'u.(nodes)\n",
    "    end\n",
    "    return result\n",
    "    ### END SOLUTION\n",
    "end;"
   ]
  },
  {
   "cell_type": "code",
   "execution_count": null,
   "id": "53fb8a7d",
   "metadata": {
    "nbgrader": {
     "grade": true,
     "grade_id": "cell-a74bd85a82d3ff87",
     "locked": true,
     "points": 0,
     "schema_version": 3,
     "solution": false,
     "task": false
    }
   },
   "outputs": [],
   "source": [
    "_short(f, n, N) = composite_gauss_legendre(f, 0, 1, n, N)\n",
    "for d in 1:9\n",
    "    @assert _short(x -> x^d, 5, 1) ≈ 1/(d+1)\n",
    "    @assert _short(x -> x^d, 5, 2) ≈ 1/(d+1)\n",
    "    @assert _short(x -> x^d, 5, 3) ≈ 1/(d+1)\n",
    "end\n",
    "@mark !(_short(x -> x^10, 2, 1) ≈ 1/11)\n",
    "@mark !(_short(x -> x^10, 2, 2) ≈ 1/11)\n",
    "@mark _short(x -> x^10, 5, 200) ≈ 1/11\n",
    "@mark _short(x -> exp(x), 5, 200) ≈ ℯ - 1"
   ]
  },
  {
   "cell_type": "markdown",
   "id": "5e9fc137",
   "metadata": {},
   "source": [
    "4. Consider the special case where $u(x) = \\cos(x)$, $a = -1$ and $b = 1$,\n",
    "    and define the integration error,\n",
    "    viewed as a function of $N$ where $n$ is a fixed parameter,\n",
    "    by the formula\n",
    "    $$\n",
    "    E_{n}(N) = \\lvert \\widehat I_{n, N} - I_{\\rm exact} \\rvert.\n",
    "    $$\n",
    "    In this equation,\n",
    "    $I_{\\rm exact}$ is the exact value of the integral\n",
    "    while $\\widehat I_{n, N}$ is its approximation using the composite Gauss-Legendre rule.\n",
    "    The task is to\n",
    "\n",
    "    - Estimate, for each value of $n \\in \\{1, 2, 3\\}$,\n",
    "      the order of convergence of the composite Gauss-Legendre quadrature with respect to $N$,\n",
    "      that is, to find $\\beta = \\beta(n)$ such that\n",
    "      $$\n",
    "      E_n(N) \\propto C N^{-\\beta}.\n",
    "      $$\n",
    "\n",
    "    - Illustrate on the same graph,\n",
    "      using the `Plots.scatter` function,\n",
    "      the functions $E_1, E_2, E_3$,\n",
    "      for values of $N$ ranging from 1 to 40.\n",
    "      Use logarithmic scales for both axes,\n",
    "      and include the convergence order `β` found in the legend,\n",
    "      by passing the argument `label=\"n=$n, β=$β\"` to the `scatter` function."
   ]
  },
  {
   "cell_type": "code",
   "execution_count": null,
   "id": "cdea81df",
   "metadata": {
    "nbgrader": {
     "grade": true,
     "grade_id": "cell-c461e77ce5661391",
     "locked": false,
     "points": 0,
     "schema_version": 3,
     "solution": true,
     "task": false
    }
   },
   "outputs": [],
   "source": [
    "# Function to integrate\n",
    "u = x -> cos(x)\n",
    "\n",
    "# Integration interval\n",
    "a, b = -1, 1\n",
    "\n",
    "# Exact value of the integral\n",
    "I_exact = 2sin(1)\n",
    "\n",
    "### BEGIN SOLUTION\n",
    "# Number of nodes\n",
    "ns = [1, 2, 3]\n",
    "\n",
    "# Number of cells\n",
    "N = 1:40\n",
    "\n",
    "p = plot(title=\"Convergence of Gauss Legendre quadrature\", legend=:bottomleft,\n",
    "         xticks=([1, 5, 10, 20, 30], [\"1\", \"5\", \"10\", \"20\", \"30\"]))\n",
    "for n in ns\n",
    "    errors = composite_gauss_legendre.(u, a, b, n, N) .- I_exact\n",
    "    polyfit = fit(log.(N), log.(abs.(errors)), 1)\n",
    "    β = round(- polyfit[1], digits=2)\n",
    "    scatter!(N, abs.(errors), label=\"n=$n, β=$β\", scale=:log10)\n",
    "    xlabel!(L\"N\")\n",
    "    ylabel!(L\"|I - \\widehat I_{n,N}|\")\n",
    "end\n",
    "p\n",
    "### END SOLUTION"
   ]
  },
  {
   "cell_type": "markdown",
   "id": "65ab0b56",
   "metadata": {
    "lines_to_next_cell": 2,
    "nbgrader": {
     "grade": false,
     "grade_id": "gauss_laguerre",
     "locked": true,
     "schema_version": 3,
     "solution": false,
     "task": false
    }
   },
   "source": [
    "### <font color='orange'>[Exercise 4]</font> Gauss Laguerre integration"
   ]
  },
  {
   "cell_type": "markdown",
   "id": "9357295a",
   "metadata": {
    "nbgrader": {
     "grade": false,
     "grade_id": "cell-0c94b3c8ae1f8b0f",
     "locked": true,
     "schema_version": 3,
     "solution": false,
     "task": false
    }
   },
   "source": [
    "Our goal in this exercise is to write a program in order to calculate integrals of the form\n",
    "$$\n",
    "I[f] := \\int_0^{\\infty} f(x) \\mathrm e^{-x} \\, \\mathrm d x\n",
    "$$\n",
    "To this end, we will use Laguerre polynomials,\n",
    "which are orthogonal polynomials for the following inner product:\n",
    "$$\n",
    " \\langle f, g \\rangle := \\int_0^{\\infty} f(x) g(x) \\mathrm e^{-x} \\, \\mathrm d x\n",
    "$$\n",
    "These polynomials can be constructed by using the Gram-Schmidt algorithm.\n",
    "1. Using that Laguerre polynomials satisfy the recurrence relation\n",
    "   $$\n",
    "       L_{k + 1}(x) = \\frac{(2k + 1 - x)L_k(x) - k L_{k - 1}(x)}{k + 1}, \\qquad L_0(x) = 1, \\qquad L_1(x) = 1-x,\n",
    "   $$\n",
    "   we first write a function `laguerre(n)` which returns the Laguerre polynomial of degree $n$."
   ]
  },
  {
   "cell_type": "code",
   "execution_count": null,
   "id": "9e154103",
   "metadata": {},
   "outputs": [],
   "source": [
    "function laguerre(n)\n",
    "    if n == 0\n",
    "        return Polynomial([1])\n",
    "    elseif n == 1\n",
    "        return Polynomial([1, -1])\n",
    "    else\n",
    "        k = n-1\n",
    "        x = Polynomial([0, 1])\n",
    "        return ((2k + 1 - x) * laguerre(k) - k*laguerre(k-1))/(k+1)\n",
    "    end\n",
    "end"
   ]
  },
  {
   "cell_type": "markdown",
   "id": "97178e5d",
   "metadata": {
    "nbgrader": {
     "grade": false,
     "grade_id": "cell-5f8a18b310ec6ec0",
     "locked": true,
     "schema_version": 3,
     "solution": false,
     "task": false
    }
   },
   "source": [
    "2. Write a function `get_nodes_and_weights(n)` which returns the nodes and weights of the Gauss-Laguerre quadrature with $n$ nodes.\n",
    "   <details>\n",
    "       <summary>\n",
    "           <em><font color='gray'>Hint (click to display)</font></em>\n",
    "       </summary>\n",
    "\n",
    "   - Recall that the nodes of the quadrature are the roots of the Laguerre polynomial of degree $n$.\n",
    "     To find these, use the `roots` function from the `Polynomials` package.\n",
    "\n",
    "     ```julia\n",
    "         p = Polynomial([1, 0, -1])\n",
    "         r = roots(p)  # r = [-1.0, 1.0]\n",
    "     ```\n",
    "\n",
    "   - Once you have found the nodes of the quadrature,\n",
    "     the weights can be obtained from the relation\n",
    "     $$\n",
    "     \\int_0^{\\infty} q(x) \\, \\mathrm e^{-x} \\, \\mathrm d x\n",
    "     = \\sum_{i=1}^n w_i q(x_i),\n",
    "     $$\n",
    "     which should hold true for any polynomial $q$ of degree at most $2n - 1$.\n",
    "     Taking $q = \\ell_i$ to be the Lagrange polynomial associated with node $i$ immediately gives that\n",
    "     $$\n",
    "     w_i = \\int_0^{\\infty} \\ell_i(x) \\, \\mathrm e^{-x} \\, \\mathrm d x,\n",
    "     \\qquad \\ell_i = \\prod_{\\substack{j=1 \\\\ j \\neq i}}^n \\frac{x - x_j}{x_i - x_j}.\n",
    "     $$\n",
    "\n",
    "   - In order to construct Lagrange polynomials $\\ell_i$,\n",
    "     you may find it useful to use the `fromroots` function from the `Polynomials` package.\n",
    "\n",
    "     ```julia\n",
    "         r = [-1.0, 1.0]\n",
    "         p = fromroots(r)  # p = Polynomial(-1.0 + 1.0*x^2)\n",
    "     ```\n",
    "\n",
    "     Recall also that, for a vector `x`,\n",
    "     the expression `x[1:end .!= 5]` returns the vector obtained by removing the fifth element from `x`.\n",
    "\n",
    "   - To calculate the integral of Lagrange polynomials against the exponential weight,\n",
    "     recall that\n",
    "     $$\n",
    "     \\int_0^{\\infty} x^n \\mathrm e^{-x} \\, \\mathrm dx = n!\n",
    "     $$"
   ]
  },
  {
   "cell_type": "code",
   "execution_count": null,
   "id": "127ccc0b",
   "metadata": {
    "nbgrader": {
     "grade": false,
     "grade_id": "cell-d236591d98aa1643",
     "locked": false,
     "schema_version": 3,
     "solution": true,
     "task": false
    }
   },
   "outputs": [],
   "source": [
    "function get_nodes_and_weights(n)\n",
    "    ### BEGIN SOLUTION\n",
    "    nodes = roots(laguerre(n))\n",
    "    weights = zero(nodes)\n",
    "    for i in 1:n\n",
    "        ℓ = fromroots(nodes[1:end .!= i])\n",
    "        ℓ /= ℓ(nodes[i])\n",
    "        weights[i] = factorial.(0:n-1)'ℓ.coeffs\n",
    "    end\n",
    "    return nodes, weights\n",
    "    ### END SOLUTION\n",
    "end"
   ]
  },
  {
   "cell_type": "code",
   "execution_count": null,
   "id": "6f6b3f8a",
   "metadata": {
    "nbgrader": {
     "grade": true,
     "grade_id": "cell-025cfd3eeaaa68b3",
     "locked": true,
     "points": 2,
     "schema_version": 3,
     "solution": false,
     "task": false
    }
   },
   "outputs": [],
   "source": [
    "@mark get_nodes_and_weights(5) |> length == 2\n",
    "@mark get_nodes_and_weights(5)[1] |> length == 5\n",
    "@mark get_nodes_and_weights(5)[2] |> length == 5\n",
    "@mark get_nodes_and_weights(1)[1] ≈ [1.0]\n",
    "@mark get_nodes_and_weights(1)[2] ≈ [1.0]\n",
    "@mark get_nodes_and_weights(3)[1] .|> laguerre(3) |> abs∘sum < 1e-10\n",
    "@mark get_nodes_and_weights(5)[1] .|> laguerre(5) |> abs∘sum < 1e-10\n",
    "@mark get_nodes_and_weights(5)[2] |> sum ≈ 1"
   ]
  },
  {
   "cell_type": "markdown",
   "id": "5e0f2772",
   "metadata": {
    "nbgrader": {
     "grade": false,
     "grade_id": "cell-b179cd82ea1938b4",
     "locked": true,
     "schema_version": 3,
     "solution": false,
     "task": false
    }
   },
   "source": [
    "3. Write a function `integrate_laguerre(f, n)`, which returns an approximation of $I[f]$ obtained by Gauss-Laguerre integration with $n$ nodes."
   ]
  },
  {
   "cell_type": "code",
   "execution_count": null,
   "id": "ff973ed0",
   "metadata": {
    "nbgrader": {
     "grade": false,
     "grade_id": "cell-ceb45bbfb11ebbe0",
     "locked": false,
     "schema_version": 3,
     "solution": true,
     "task": false
    }
   },
   "outputs": [],
   "source": [
    "function integrate_laguerre(f, n)\n",
    "    ### BEGIN SOLUTION\n",
    "    nodes, weights = get_nodes_and_weights(n)\n",
    "    return f.(nodes)'weights\n",
    "    ### END SOLUTION\n",
    "end"
   ]
  },
  {
   "cell_type": "code",
   "execution_count": null,
   "id": "88d6a934",
   "metadata": {
    "nbgrader": {
     "grade": true,
     "grade_id": "cell-d5d9da82bf6cd802",
     "locked": true,
     "points": 2,
     "schema_version": 3,
     "solution": false,
     "task": false
    }
   },
   "outputs": [],
   "source": [
    "@mark integrate_laguerre(x -> x, 5) ≈ 1\n",
    "@mark integrate_laguerre(x -> x^2, 5) ≈ 2\n",
    "@mark integrate_laguerre(x -> x^3, 5) ≈ 6\n",
    "@mark integrate_laguerre(x -> exp(-x), 15) ≈ 1/2\n",
    "@mark integrate_laguerre(x -> exp(-2x), 15) ≈ 1/3"
   ]
  },
  {
   "cell_type": "markdown",
   "id": "5580642d",
   "metadata": {
    "nbgrader": {
     "grade": false,
     "grade_id": "cell-fdac51dcfa785395",
     "locked": true,
     "schema_version": 3,
     "solution": false,
     "task": false
    }
   },
   "source": [
    "4. Setting $n = 5$,\n",
    "   we calculate numerically that the degree of exactness equals 9."
   ]
  },
  {
   "cell_type": "code",
   "execution_count": null,
   "id": "606b9984",
   "metadata": {},
   "outputs": [],
   "source": [
    "n = 5\n",
    "for i in 1:9\n",
    "    correct = integrate_laguerre(x -> x^i, n) ≈ factorial(i)\n",
    "    println(\"f = x^$i, Rule exact? \", correct)\n",
    "    @assert correct\n",
    "end"
   ]
  },
  {
   "cell_type": "markdown",
   "id": "3a9e74dc",
   "metadata": {
    "nbgrader": {
     "grade": false,
     "grade_id": "cell-39ba7434ecdedd6c",
     "locked": true,
     "schema_version": 3,
     "solution": false,
     "task": false
    }
   },
   "source": [
    "5. Set $f(x) = \\sin(x)$, and plot the integration error as a function of $n$,\n",
    "   using appropriate scales for the `x` and `y` axes."
   ]
  },
  {
   "cell_type": "code",
   "execution_count": null,
   "id": "d6f404d6",
   "metadata": {
    "nbgrader": {
     "grade": true,
     "grade_id": "cell-79f344a45c317fbd",
     "locked": false,
     "points": 2,
     "schema_version": 3,
     "solution": true,
     "task": false
    }
   },
   "outputs": [],
   "source": [
    "### BEGIN SOLUTION\n",
    "ns = 1:20\n",
    "f(x) = sin(x)\n",
    "I_exact = 1/2\n",
    "Ih = integrate_laguerre.(f, ns)\n",
    "plot(ns, abs.(Ih .- I_exact), yscale=:log10, xlabel=L\"n\", ylabel=\"Error\")\n",
    "scatter!(ns, abs.(Ih .- I_exact))\n",
    "### END SOLUTION"
   ]
  },
  {
   "cell_type": "markdown",
   "id": "1be39acf",
   "metadata": {
    "nbgrader": {
     "grade": false,
     "grade_id": "cell-0beb5bbefc393ffc",
     "locked": true,
     "schema_version": 3,
     "solution": false,
     "task": false
    }
   },
   "source": [
    "### <font color='orange'>[Exercise 5]</font> Probabilistic integration\n",
    "\n",
    "Let $B_{d}$ denote the $d$-dimensional unit ball for the Euclidean norm:\n",
    "$$\n",
    "B_{d} = \\Bigl\\{ \\mathbf{x} \\in \\mathbb{R}^d : \\|\\mathbf{x}\\| \\leq 1 \\Bigr\\}.\n",
    "$$\n",
    "The volume of $B_{d}$ is defined as the integral of the characteristic function over $B_d$:\n",
    "$$\n",
    "{\\rm vol}(B_d) = \\underbrace{\\int_{\\mathbb{R}} \\dots \\int_{\\mathbb{R}}}_{\\text{$d$ times}} \\chi(\\mathbf{x}) \\, dx_1 \\dots dx_d,\n",
    "\\qquad\n",
    "\\chi(\\mathbf{x}) :=\n",
    "\\begin{cases}\n",
    "1 & \\text{if } \\mathbf{x} \\in B_d \\\\\n",
    "0 & \\text{otherwise.}\n",
    "\\end{cases}\n",
    "$$\n",
    "Complete the following tasks:\n",
    "- Write a function `hyperball_volume(dim, n)`\n",
    "that calculates the volume of the unit ball in dimension `dim`\n",
    "using a Monte Carlo approach with `n` samples drawn from an appropriate distribution.\n",
    "Your function should return an estimation of the volume\n",
    "together with the standard deviation of the estimator\n",
    "(which you should estimate from the samples)."
   ]
  },
  {
   "cell_type": "code",
   "execution_count": null,
   "id": "cc592d69",
   "metadata": {
    "nbgrader": {
     "grade": true,
     "grade_id": "cell-ec780856b6e6db94",
     "locked": false,
     "points": 0,
     "schema_version": 3,
     "solution": true,
     "task": false
    },
    "tags": []
   },
   "outputs": [],
   "source": [
    "function hyperball_volume(dim, n)\n",
    "    ### BEGIN SOLUTION\n",
    "    number = 0\n",
    "    for i in 1:n\n",
    "        x = rand(dim)\n",
    "        number += norm(x) <= 1\n",
    "    end\n",
    "    average = number/n\n",
    "    var = average*(1-average)\n",
    "    vol, σ = average * 2^dim, sqrt(var/n) * 2^dim\n",
    "    ### END SOLUTION\n",
    "    return vol, σ\n",
    "end"
   ]
  },
  {
   "cell_type": "markdown",
   "id": "c8d661c5",
   "metadata": {},
   "source": [
    "Using the function hyperball_volume,\n",
    "plot the volumes for $d$ going from 1 to 15, together with a 99% confidence interval. See the example solution in Figure 1 with $n = 10^7$.\n",
    "You are allowed to use your knowledge of the fact that ${\\rm vol}(B_2) = \\pi$ and ${\\rm vol}(B_3) = \\frac{4\\pi}{3}$,\n",
    "but do not use the general formula for the volume of $B_d$."
   ]
  },
  {
   "cell_type": "code",
   "execution_count": null,
   "id": "37b35e98",
   "metadata": {
    "nbgrader": {
     "grade": true,
     "grade_id": "cell-291e0be8766f1f55",
     "locked": false,
     "points": 0,
     "schema_version": 3,
     "solution": true,
     "task": false
    }
   },
   "outputs": [],
   "source": [
    "n = 10^7\n",
    "\n",
    "### BEGIN SOLUTION\n",
    "n_dims = 15\n",
    "dims, vols, vars = 1:n_dims, zeros(n_dims), zeros(n_dims)\n",
    "for dim in dims\n",
    "    vols[dim], vars[dim] = hyperball_volume(dim, n)\n",
    "end\n",
    "\n",
    "conf = vars / sqrt(.01)\n",
    "Plots.scatter(dims, vols, label=\"Volume estimation\")\n",
    "Plots.plot!(dims, vols, ribbon=conf, fillalpha=0.35, label=\"99% confidence interval\", xlabel=\"d\")\n",
    "### END SOLUTION"
   ]
  }
 ],
 "metadata": {
  "jupytext": {
   "encoding": "# -*- coding: utf-8 -*-"
  },
  "kernelspec": {
   "display_name": "Julia 1.10.5",
   "language": "julia",
   "name": "julia-1.10"
  },
  "language_info": {
   "file_extension": ".jl",
   "mimetype": "application/julia",
   "name": "julia",
   "version": "1.10.5"
  }
 },
 "nbformat": 4,
 "nbformat_minor": 5
}
