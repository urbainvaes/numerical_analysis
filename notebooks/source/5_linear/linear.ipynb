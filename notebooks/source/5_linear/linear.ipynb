{
 "cells": [
  {
   "cell_type": "markdown",
   "id": "0110082c",
   "metadata": {
    "nbgrader": {
     "grade": false,
     "grade_id": "cell-9546f1bdb893cdcd",
     "locked": true,
     "schema_version": 3,
     "solution": false,
     "task": false
    }
   },
   "source": [
    "## Notebook 5: Linear systems"
   ]
  },
  {
   "cell_type": "code",
   "execution_count": null,
   "id": "36771460",
   "metadata": {
    "nbgrader": {
     "grade": false,
     "grade_id": "cell-4d638a879ba6f86e",
     "locked": true,
     "schema_version": 3,
     "solution": false,
     "task": false
    }
   },
   "outputs": [],
   "source": [
    "using LaTeXStrings\n",
    "using LinearAlgebra\n",
    "using Plots\n",
    "using Polynomials"
   ]
  },
  {
   "cell_type": "markdown",
   "id": "36f3ffa6",
   "metadata": {
    "jp-MarkdownHeadingCollapsed": true,
    "nbgrader": {
     "grade": false,
     "grade_id": "duplicate_id",
     "locked": true,
     "schema_version": 3,
     "solution": false,
     "task": false
    }
   },
   "source": [
    "### <font color='green'>Conditioning</font>"
   ]
  },
  {
   "cell_type": "markdown",
   "id": "8528f108",
   "metadata": {
    "nbgrader": {
     "grade": false,
     "grade_id": "cell-f74928936311caa6",
     "locked": true,
     "schema_version": 3,
     "solution": false,
     "task": false
    }
   },
   "source": [
    "### <font color='orange'>[Exercise 1]</font> Link between conditioning and relative error\n",
    "\n",
    "Consider the linear system\n",
    "$$\n",
    "    \\mathsf A(α) \\mathbf x :=\n",
    "    \\begin{pmatrix}\n",
    "        1 & 1 \\\\\n",
    "        1 & 1 - α\n",
    "    \\end{pmatrix}\n",
    "    \\begin{pmatrix}\n",
    "        x_1 \\\\\n",
    "        x_2\n",
    "    \\end{pmatrix} =\n",
    "    \\begin{pmatrix}\n",
    "        π \\\\\n",
    "        π - πα\n",
    "    \\end{pmatrix} =: \\mathbf b(α).\n",
    "$$\n",
    "For $α$ in the range $[10^{-15}, 10^{-2}]$,\n",
    "plot on the same graph, using logarithmic scales for both axes,\n",
    "\n",
    "- The function which to $α$ associate $\\kappa_2\\bigl(\\mathsf A(α)\\bigr) \\times ε$,\n",
    "  where $\\kappa_2\\bigl(\\mathsf A(α)\\bigr)$ is the condition number of the matrix $A(α)$ for the Euclidean norm,\n",
    "  and $ε$ is the machine epsilon for the `Float64` format.\n",
    "\n",
    "- The relative error, in Euclidean norm, obtained when solving the linear system with the backslash `\\` operator,\n",
    "  in the case where both $A(α)$ and $b(α)$ are stored in the `Float64` format."
   ]
  },
  {
   "cell_type": "code",
   "execution_count": null,
   "id": "8d8a153c",
   "metadata": {
    "nbgrader": {
     "grade": true,
     "grade_id": "conditining_plot",
     "locked": false,
     "points": 2,
     "schema_version": 3,
     "solution": true,
     "task": false
    }
   },
   "outputs": [],
   "source": [
    "Af(α) = [1. 1.; 1. (1-α)]\n",
    "bf(α) = [π; π - π*α]\n",
    "\n",
    "# Exact solution\n",
    "x_exact = [0.; π]\n",
    "\n",
    "# Range of α\n",
    "αs = 10. .^ (-15:.1:-2)\n",
    "\n",
    "### BEGIN SOLUTION\n",
    "rel_err(α) = norm(Af(α)\\bf(α) - x_exact)/norm(x_exact)\n",
    "plot(αs, rel_err.(αs), label=L\"$ℓ^2$ error\")\n",
    "# rel_err_A(α) = norm(Af(α)\\bf(BigFloat(α)) - x_exact)/norm(x_exact)\n",
    "# rel_err_b(α) = norm(Af(BigFloat(α))\\bf(α) - x_exact)/norm(x_exact)\n",
    "# plot!(αs, rel_err_A.(αs), label=L\"$ℓ^2$ error from A\")\n",
    "# plot!(αs, rel_err_b.(αs), label=L\"$ℓ^2$ error from b\")\n",
    "plot!(αs, cond.(Af.(αs)) * eps(), label=L\"κ_2(A) \\times ε\")\n",
    "plot!(xscale=:log10, yscale=:log10, xlabel=L\"α\")\n",
    "### END SOLUTION"
   ]
  },
  {
   "cell_type": "markdown",
   "id": "b6df1382",
   "metadata": {
    "jp-MarkdownHeadingCollapsed": true,
    "nbgrader": {
     "grade": false,
     "grade_id": "cell-readon",
     "locked": true,
     "schema_version": 3,
     "solution": false,
     "task": false
    }
   },
   "source": [
    "### <font color='green'>Direct methods</font>"
   ]
  },
  {
   "cell_type": "markdown",
   "id": "cbecc7c4",
   "metadata": {},
   "source": [
    "### <font color='orange'>[Exercise 2]</font> LU decomposition without Gaussian elimination\n",
    "\n",
    "The objective of this exercise is to propose an algorithm to perform the LU decomposition of a real matrix $\\mathsf{A}\\in\\mathbb{R}^{n×n}$,\n",
    "**not by Gaussian elimination** but by identifying the entries of $\\mathsf A$ with those of $\\mathsf L \\mathsf U$.\n",
    "The aim is to find a unit lower triangular matrix $\\mathsf L$\n",
    "and an upper triangular matrix $\\mathsf U$ such that:\n",
    "<a id=\"LU\"></a>\n",
    "$$\n",
    "\\tag{LU}\n",
    "\\mathsf{A}=\\mathsf{L}\\mathsf{U}\n",
    "$$\n",
    "\n",
    "1. Write a function `my_lu(A)` that takes a matrix `A` as an argument and returns the matrices `L` and `U`.\n",
    "   To compute these matrices, rely on the successive identification of the elements on both sides of <a href=\"#LU\">(LU)</a>,\n",
    "   row by row from top to bottom, and from left to right within each row.\n",
    "\n",
    "   <details>\n",
    "       <summary>\n",
    "           <em><font color='gray'>Hint (click to display)</font></em>\n",
    "       </summary>\n",
    "\n",
    "   When following the suggested order,\n",
    "   comparing the element $(i, j)$ provides an equation for $\\ell_{ij}$ if $j < i$,\n",
    "   and an equation for $u_{ij}$ if $j \\geq i$.\n",
    "   Note that it is possible to traverse the elements in other orders.\n",
    "   </details>"
   ]
  },
  {
   "cell_type": "code",
   "execution_count": null,
   "id": "e89d9d9a",
   "metadata": {
    "nbgrader": {
     "grade": false,
     "grade_id": "my_lu",
     "locked": false,
     "schema_version": 3,
     "solution": true,
     "task": false
    }
   },
   "outputs": [],
   "source": [
    "function my_lu(A)\n",
    "    ### BEGIN SOLUTION\n",
    "    n = size(A, 1)\n",
    "    L, U = zeros(n, n), zeros(n, n)\n",
    "    for i in 1:n\n",
    "        for j in 1:i-1\n",
    "            L[i, j] = (A[i, j] - L[i, 1:j-1]'U[1:j-1, j]) / U[j, j]\n",
    "        end\n",
    "        for j in i:n\n",
    "            U[i, j] = A[i, j] - L[i, 1:i-1]'U[1:i-1, j]\n",
    "        end    \n",
    "    end\n",
    "    ### END SOLUTION\n",
    "    return L, U\n",
    "end;"
   ]
  },
  {
   "cell_type": "code",
   "execution_count": null,
   "id": "caaa08ef",
   "metadata": {
    "nbgrader": {
     "grade": true,
     "grade_id": "my_lu_tests",
     "locked": true,
     "points": 3,
     "schema_version": 3,
     "solution": false,
     "task": false
    }
   },
   "outputs": [],
   "source": [
    "ref_lu(A) = LinearAlgebra.lu(A, NoPivot())\n",
    "@assert my_lu(diagm([1; 2; 3])) == (diagm([1; 1; 1]), diagm([1; 2; 3]))\n",
    "@assert my_lu([2 -1 0; -1 2 -1; 0 -1 2])[1] ≈ [1 0 0; -1/2 1 0; 0 -2/3 1]\n",
    "@assert my_lu([2 -1 0; -1 2 -1; 0 -1 2])[2] ≈ [2 -1 0; 0 3/2 -1; 0 0 4/3]\n",
    "@assert (C = [1 2 3 4; 4 3 2 1; 1 2 1 2; 1 5 4 1]; my_lu(C)[1] ≈ ref_lu(C).L)\n",
    "@assert (C = [1 2 3 4; 4 3 2 1; 1 2 1 2; 1 5 4 1]; my_lu(C)[2] ≈ ref_lu(C).U)\n",
    "@assert (C = randn(100, 100); my_lu(C)[1] ≈ ref_lu(C).L)\n",
    "@assert (C = randn(100, 100); my_lu(C)[2] ≈ ref_lu(C).U)"
   ]
  },
  {
   "cell_type": "markdown",
   "id": "ca32c7f3",
   "metadata": {},
   "source": [
    "2. We now assume that the real positive definite matrix `A` has a bandwidth `b` assumed to be much smaller than `n`.\n",
    "   Rewrite the LU decomposition function by taking advantage of the bandwidth.\n",
    "\n",
    "   <details>\n",
    "       <summary>\n",
    "           <em><font color='gray'>Hint (click to display)</font></em>\n",
    "       </summary>\n",
    "\n",
    "   Recall that the bandwidth is the smallest natural number $b$ such that $a_{ij} = 0$ for all $i,j \\in \\{1, \\dots, n\\}^2$ such that $|i-j| > b$.\n",
    "   </details>"
   ]
  },
  {
   "cell_type": "code",
   "execution_count": null,
   "id": "067600d9",
   "metadata": {
    "nbgrader": {
     "grade": false,
     "grade_id": "my_banded_lu",
     "locked": false,
     "schema_version": 3,
     "solution": true,
     "task": false
    }
   },
   "outputs": [],
   "source": [
    "function my_banded_lu(A, b)\n",
    "    ### BEGIN SOLUTION\n",
    "    n = size(A, 1)\n",
    "    L, U = zeros(n, n), zeros(n, n)\n",
    "    for i in 1:n, j in max(1, i-b):i\n",
    "        U[j, i] = A[j, i] - L[j, max(j-b, 1):j-1]'U[max(j-b, 1):j-1, i]\n",
    "        L[i, j] = (A[i, j] - L[i, max(j-b, 1):j-1]'U[max(j-b, 1):j-1, j]) / U[j, j]\n",
    "    end\n",
    "    ### END SOLUTION\n",
    "    return L, U\n",
    "end;"
   ]
  },
  {
   "cell_type": "code",
   "execution_count": null,
   "id": "66f06251",
   "metadata": {
    "nbgrader": {
     "grade": true,
     "grade_id": "cell-24fb0131261b7be2",
     "locked": true,
     "points": 2,
     "schema_version": 3,
     "solution": false,
     "task": false
    }
   },
   "outputs": [],
   "source": [
    "@assert begin C = randn(100, 100); my_banded_lu(C, 99)[1] ≈ ref_lu(C).L end\n",
    "@assert begin C = randn(100, 100); my_banded_lu(C, 99)[2] ≈ ref_lu(C).U end\n",
    "\n",
    "### BEGIN HIDDEN TESTS\n",
    "_generate_banded(n, b) = [abs(i - j) ≤ b ? randn() : 0. for i in 1:n, j in 1:n]\n",
    "@assert (C = _generate_banded(10, 2); my_banded_lu(C, 2)[1] ≈ ref_lu(C).L)\n",
    "@assert (C = _generate_banded(10, 2); my_banded_lu(C, 2)[2] ≈ ref_lu(C).U)\n",
    "@assert (C = _generate_banded(10, 3); my_banded_lu(C, 3)[1] ≈ ref_lu(C).L)\n",
    "@assert (C = _generate_banded(10, 3); my_banded_lu(C, 3)[2] ≈ ref_lu(C).U)\n",
    "@assert (C = _generate_banded(1000, 1); my_banded_lu(C, 1)[1] ≈ ref_lu(C).L)\n",
    "@assert (C = _generate_banded(1000, 1); my_banded_lu(C, 1)[2] ≈ ref_lu(C).U)\n",
    "### END HIDDEN TESTS"
   ]
  },
  {
   "cell_type": "markdown",
   "id": "b3ce8bf4",
   "metadata": {},
   "source": [
    "3. Create a function `generate_banded(n, b)` to generate a random square matrix of size `n` with a given bandwidth `b`."
   ]
  },
  {
   "cell_type": "code",
   "execution_count": null,
   "id": "739d1227",
   "metadata": {
    "nbgrader": {
     "grade": false,
     "grade_id": "cell-30b31cd2999ed291",
     "locked": false,
     "schema_version": 3,
     "solution": true,
     "task": false
    }
   },
   "outputs": [],
   "source": [
    "function generate_banded(n, b)\n",
    "    ### BEGIN SOLUTION\n",
    "    A = zeros(n, n)\n",
    "    for i in 1:n\n",
    "        for j in max(1, i-b):min(n, i+b)\n",
    "            A[i, j] = randn()\n",
    "        end\n",
    "    end\n",
    "    return A\n",
    "    ### END SOLUTION\n",
    "end;"
   ]
  },
  {
   "cell_type": "code",
   "execution_count": null,
   "id": "d7ebbd4b",
   "metadata": {
    "nbgrader": {
     "grade": true,
     "grade_id": "generate_banded",
     "locked": true,
     "points": 2,
     "schema_version": 3,
     "solution": false,
     "task": false
    }
   },
   "outputs": [],
   "source": [
    "@assert generate_banded(10, 2)[1, 5] == 0\n",
    "@assert generate_banded(10, 2)[2, 5] == 0\n",
    "@assert generate_banded(10, 2)[3, 5] != 0\n",
    "@assert generate_banded(10, 2)[4, 5] != 0\n",
    "@assert generate_banded(10, 2)[5, 5] != 0\n",
    "@assert generate_banded(10, 2)[6, 5] != 0\n",
    "@assert generate_banded(10, 2)[7, 5] != 0\n",
    "@assert generate_banded(10, 2)[8, 5] == 0\n",
    "@assert generate_banded(10, 2)[9, 5] == 0"
   ]
  },
  {
   "cell_type": "markdown",
   "id": "7ac743ff",
   "metadata": {},
   "source": [
    "4. Using `generate_banded`, test your implementation of `my_banded_lu`\n",
    "   for `n = 100` and values of `b` equal to 2, 3, and 10.\n",
    "   <details>\n",
    "       <summary>\n",
    "           <em><font color='gray'>Hint (click to display)</font></em>\n",
    "       </summary>\n",
    "\n",
    "   You can use the `lu` function from the `LinearAlgebra` library,\n",
    "   with the argument `NoPivot()`, corresponding to the `ref_lu` function defined above,\n",
    "   as a reference function.\n",
    "   You can also use the `@assert` macro for your tests.\n",
    "   </details>"
   ]
  },
  {
   "cell_type": "code",
   "execution_count": null,
   "id": "973443d7",
   "metadata": {
    "nbgrader": {
     "grade": true,
     "grade_id": "cell-9dd7b3831c6e1227",
     "locked": false,
     "points": 1,
     "schema_version": 3,
     "solution": true,
     "task": false
    }
   },
   "outputs": [],
   "source": [
    "### BEGIN SOLUTION\n",
    "# See hidden tests above\n",
    "### END SOLUTION"
   ]
  },
  {
   "cell_type": "markdown",
   "id": "dc59100b",
   "metadata": {
    "jp-MarkdownHeadingCollapsed": true,
    "nbgrader": {
     "grade": false,
     "grade_id": "cell-6be64d5472c97788",
     "locked": true,
     "schema_version": 3,
     "solution": false,
     "task": false
    }
   },
   "source": [
    "### <font color='green'>Iterative methods</font>"
   ]
  },
  {
   "cell_type": "markdown",
   "id": "187788c7",
   "metadata": {},
   "source": [
    "### <font color='orange'>[Exercise 3]</font> Richardson's iteration\n",
    "\n",
    "Consider the following linear system:\n",
    "$$\n",
    "    \\mathsf A \\mathbf x :=\n",
    "    \\begin{pmatrix}\n",
    "        3 & 1 \\\\ 1 & 3\n",
    "    \\end{pmatrix}\n",
    "    \\begin{pmatrix}\n",
    "        x_1 \\\\\n",
    "        x_2\n",
    "    \\end{pmatrix}\n",
    "    =\n",
    "    \\begin{pmatrix}\n",
    "        11 \\\\\n",
    "        9\n",
    "    \\end{pmatrix} =: \\mathbf b.\n",
    "$$\n",
    "\n",
    " 1. Illustrate using the `Plots.contourf` function the contour lines of the function\n",
    " $$\n",
    "     f(\\mathbf x) = \\frac{1}{2} \\mathbf x^T \\mathsf A \\mathbf x - \\mathbf b^T \\mathbf x.\n",
    " $$"
   ]
  },
  {
   "cell_type": "code",
   "execution_count": null,
   "id": "f172f9d1",
   "metadata": {
    "nbgrader": {
     "grade": true,
     "grade_id": "richardson",
     "locked": false,
     "points": 1,
     "schema_version": 3,
     "solution": true,
     "task": false
    }
   },
   "outputs": [],
   "source": [
    "A = [3. 1.; 1. 3.]\n",
    "b = [11.; 9.]\n",
    "sol = A\\b\n",
    "\n",
    "### BEGIN SOLUTION\n",
    "ℓ, nplot = 4, 100\n",
    "xplot = sol[1] .+ LinRange(-ℓ, ℓ, nplot)\n",
    "yplot = sol[2] .+ LinRange(-ℓ, ℓ, nplot)\n",
    "\n",
    "plot(aspect_ratio=:equal, bg=:transparent)\n",
    "plot!(xlims=xplot[[1,end]], ylims=yplot[[1,end]], legend=:none)\n",
    "contourf!(xplot, yplot, (x₁, x₂) -> [x₁; x₂]'A*[x₁; x₂]/2 - b'*[x₁; x₂], c=:viridis)\n",
    "### END SOLUTION"
   ]
  },
  {
   "cell_type": "markdown",
   "id": "aa8241fd",
   "metadata": {},
   "source": [
    " 2. Implement the Richardson iteration with $\\omega = 0.1$ to solve the system.\n",
    "    Your function should return a list containing all iterations.\n",
    "    Initialize the algorithm at $\\mathbf x = 0$ and,\n",
    "    as a stopping criterion, use\n",
    "    $$\n",
    "    \\lVert \\mathsf A \\mathbf x - \\mathbf b \\lVert \\leq \\varepsilon \\lVert \\mathbf b \\lVert, \\qquad \\varepsilon = 10^{-50}\n",
    "    $$\n",
    "    <details>\n",
    "        <summary>\n",
    "            <em><font color='gray'>Hint (click to display)</font></em>\n",
    "        </summary>\n",
    "\n",
    "    To add an element to the end of a list,\n",
    "    use the `push!` function:\n",
    "\n",
    "    ```julia\n",
    "    push!(xs, x)  # Adds x at the end of xs\n",
    "    ```\n",
    "    </details>"
   ]
  },
  {
   "cell_type": "code",
   "execution_count": null,
   "id": "5b36f2d8",
   "metadata": {
    "nbgrader": {
     "grade": true,
     "grade_id": "cell-2304e66a1cccd8ea",
     "locked": false,
     "points": 2,
     "schema_version": 3,
     "solution": true,
     "task": false
    }
   },
   "outputs": [],
   "source": [
    "function richardson(ω)\n",
    "    ε = 1e-50\n",
    "    x = zeros(BigFloat, 2)\n",
    "    xs = [x]\n",
    "    # BEGIN SOLUTION\n",
    "    while norm(A*x - b)/norm(b) ≥ ε\n",
    "        x -= ω*(A*x - b)\n",
    "        push!(xs, x)\n",
    "    end\n",
    "    # END SOLUTION\n",
    "    return xs\n",
    "end\n",
    "\n",
    "ω = .1\n",
    "xs = richardson(ω)\n",
    "scatter!(eachrow(hcat(xs...))...)\n",
    "plot!(eachrow(hcat(xs...))...)"
   ]
  },
  {
   "cell_type": "markdown",
   "id": "e16bdc15",
   "metadata": {
    "nbgrader": {
     "grade": false,
     "grade_id": "cell-b421e279f3546b75",
     "locked": true,
     "schema_version": 3,
     "solution": false,
     "task": false
    }
   },
   "source": [
    " 3. Plot the norm of the residual $\\lVert r_k \\rVert := \\lVert \\mathsf A \\mathbf x^{(k)} - \\mathbf b \\rVert$ as a function of $k$,\n",
    "    using a linear scale for the x-axis and a logarithmic scale for the y-axis,\n",
    "    by passing the argument `yscale=:log` to the `Plots.plot` function."
   ]
  },
  {
   "cell_type": "code",
   "execution_count": null,
   "id": "10766d1b",
   "metadata": {
    "nbgrader": {
     "grade": true,
     "grade_id": "plot_error",
     "locked": false,
     "points": 1,
     "schema_version": 3,
     "solution": true,
     "task": false
    }
   },
   "outputs": [],
   "source": [
    "### BEGIN SOLUTION\n",
    "errors = [norm(A*x - b) for x in xs]\n",
    "plot(0:length(xs) - 1, errors, label=\"Error\")\n",
    "plot!(yscale=:log, xlabel=L\"k\")\n",
    "### END SOLUTION"
   ]
  },
  {
   "cell_type": "markdown",
   "id": "2dfdfb3b",
   "metadata": {
    "nbgrader": {
     "grade": false,
     "grade_id": "cell-00da70569f78a550",
     "locked": true,
     "schema_version": 3,
     "solution": false,
     "task": false
    }
   },
   "source": [
    " 4. Using `Polynomials.fit`, compute an approximation of the form\n",
    "    $$\n",
    "    \\log(r_k) \\approx α + βk \\qquad \\Leftrightarrow \\qquad e_k \\approx \\exp(α) \\times \\exp(β)^k.\n",
    "    $$\n",
    "    Compare the value of $\\exp(β)$ to the spectral radius $\\rho(\\mathsf A - \\omega \\mathsf I)$."
   ]
  },
  {
   "cell_type": "code",
   "execution_count": null,
   "id": "a4140a01",
   "metadata": {
    "nbgrader": {
     "grade": true,
     "grade_id": "cell-0dcbe1c4e4e61806",
     "locked": false,
     "points": 1,
     "schema_version": 3,
     "solution": true,
     "task": false
    }
   },
   "outputs": [],
   "source": [
    "# Define b and ρ below\n",
    "### BEGIN SOLUTION\n",
    "p = fit(1:length(errors), log.(errors), 1)\n",
    "β = p[1]  # p[1] == p.coeffs[2]\n",
    "λs = eigvals(A)\n",
    "ρ = maximum(abs.(1 .- ω*λs))\n",
    "### END SOLUTION\n",
    "\n",
    "exp(β), ρ"
   ]
  },
  {
   "cell_type": "markdown",
   "id": "c6c4b890",
   "metadata": {},
   "source": [
    "5. Calculate the optimal parameter $\\omega$ and re-plot the decay of the residual norm in this case."
   ]
  },
  {
   "cell_type": "code",
   "execution_count": null,
   "id": "b9ec626f",
   "metadata": {
    "nbgrader": {
     "grade": true,
     "grade_id": "cell-f2d06f69cd09a3aa",
     "locked": false,
     "points": 1,
     "schema_version": 3,
     "solution": true,
     "task": false
    }
   },
   "outputs": [],
   "source": [
    "### BEGIN SOLUTION\n",
    "ω = 2 / (minimum(λs) + maximum(λs))\n",
    "xs = richardson(ω)\n",
    "errors = [norm(A*x - b) for x in xs]\n",
    "plot(yscale=:log, xlabel=L\"k\", bg=:transparent)\n",
    "plot!(0:length(xs) - 1, errors, label=\"Error\")\n",
    "### END SOLUTION"
   ]
  },
  {
   "cell_type": "markdown",
   "id": "ffcff8cf",
   "metadata": {},
   "source": [
    "### <font color='orange'>[Exercise 4]</font> Basic iterative method for the Euler-Bernoulli beam\n",
    "\n",
    "The objective of this exercise is to solve the Euler-Bernoulli beam equation in one dimension,\n",
    "with homogeneous Dirichlet boundary conditions:\n",
    "$$\n",
    "u''''(x) = 1, \\qquad u(0) = u'(0) = u'(1) = u(1) = 0.\n",
    "$$\n",
    "This equation models the deflection of a beam clamped at both ends,\n",
    "under a uniform load.\n",
    "A discretization of this equation on a uniform grid using the finite difference method leads to the following linear system:\n",
    "$$\n",
    "\\begin{pmatrix}\n",
    "    6  & -4 & 1 \\\\\n",
    "    -4 & 6  & -4 & 1 \\\\\n",
    "     1 & -4 & 6      & -4 & 1 \\\\\n",
    "     & 1 & -4 & 6      & -4 & 1 \\\\\n",
    "     &  &  \\ddots  & \\ddots & \\ddots & \\ddots & \\ddots  \\\\\n",
    "     & &    &   1    & -4    & 6      & -4 & 1 \\\\\n",
    "     & & &    &   1    & -4    & 6      & -4 \\\\\n",
    "     & & &    &        &  1  & -4      & 6 \\\\\n",
    "\\end{pmatrix}\n",
    "\\begin{pmatrix}\n",
    "    u_2 \\\\\n",
    "    u_3 \\\\\n",
    "    u_4 \\\\\n",
    "    u_5 \\\\\n",
    "    \\vdots \\\\\n",
    "    u_{n-4} \\\\\n",
    "    u_{n-3} \\\\\n",
    "    u_{n-2}\n",
    "\\end{pmatrix}\n",
    "=\n",
    "h^4\n",
    "\\begin{pmatrix}\n",
    "    1 \\\\\n",
    "    1 \\\\\n",
    "    1 \\\\\n",
    "    1 \\\\\n",
    "    \\vdots \\\\\n",
    "    1 \\\\\n",
    "    1 \\\\\n",
    "    1\n",
    "\\end{pmatrix},\n",
    "\\quad\n",
    "h := \\frac{1}{n},\n",
    "\\quad\n",
    "x_i := ih.\n",
    "$$\n",
    "where $h$ is the spacing between the discretization points, and $(u_2, u_3, \\cdots, u_{n-3}, u_{n-2})$ are the values of the unknown function $u$ at the points $(x_2, x_3, \\cdots, x_{n-3}, x_{n-2})$.\n",
    "\n",
    "1. Write a function `build_matrix(n)`, which returns the matrix of the linear system.\n",
    "\n",
    "   <details>\n",
    "       <summary>\n",
    "           <em><font color='gray'>Hint (click to display)</font></em>\n",
    "       </summary>\n",
    "\n",
    "   The function `LinearAlgebra.diagm` is useful to construct the matrix.\n",
    "   For example, the command\n",
    "   ```julia\n",
    "   diagm(0 => [1, 2, 3], -1 => [5, 5])  # = [1 0 0; 5 2 0; 0 5 3]\n",
    "   ```\n",
    "   returns a 3x3 matrix with `[1, 2, 3]` on the main diagonal,\n",
    "   and `[5, 5]` on the first subdiagonal.\n",
    "   </details>"
   ]
  },
  {
   "cell_type": "code",
   "execution_count": null,
   "id": "98983be2",
   "metadata": {
    "nbgrader": {
     "grade": false,
     "grade_id": "cell-71834b89fc893e7b",
     "locked": false,
     "schema_version": 3,
     "solution": true,
     "task": false
    }
   },
   "outputs": [],
   "source": [
    "function build_matrix(n)\n",
    "    ### BEGIN SOLUTION\n",
    "    m = n - 3\n",
    "    A = diagm(-2 => fill(1, m-2), -1 => fill(-4, m-1), 0 => fill(3, m))\n",
    "    return A + A'\n",
    "    ### END SOLUTION\n",
    "end"
   ]
  },
  {
   "cell_type": "code",
   "execution_count": null,
   "id": "8112a184",
   "metadata": {
    "nbgrader": {
     "grade": true,
     "grade_id": "cell-ef8e08b0ec3d4d5b",
     "locked": true,
     "points": 1,
     "schema_version": 3,
     "solution": false,
     "task": false
    }
   },
   "outputs": [],
   "source": [
    "@assert size(build_matrix(20)) == (17, 17)\n",
    "@assert build_matrix(20)[5, 3] ≈ 1\n",
    "@assert build_matrix(20)[5, 4] ≈ -4\n",
    "@assert build_matrix(20)[5, 5] ≈ 6\n",
    "@assert build_matrix(20)[5, 6] ≈ -4\n",
    "@assert build_matrix(20)[5, 7] ≈ 1\n",
    "@assert build_matrix(20)[5, 8] ≈ 0"
   ]
  },
  {
   "cell_type": "markdown",
   "id": "9c826ed9",
   "metadata": {},
   "source": [
    "2. Write a function `build_rhs(n)`, which returns the right-hand side of the linear system."
   ]
  },
  {
   "cell_type": "code",
   "execution_count": null,
   "id": "c7292c42",
   "metadata": {
    "nbgrader": {
     "grade": false,
     "grade_id": "cell-ae67b79c0f349db8",
     "locked": false,
     "schema_version": 3,
     "solution": true,
     "task": false
    }
   },
   "outputs": [],
   "source": [
    "function build_rhs(n)\n",
    "    ### BEGIN SOLUTION\n",
    "    m = n - 3\n",
    "    return fill(1/n^4, m)\n",
    "    ### END SOLUTION\n",
    "end"
   ]
  },
  {
   "cell_type": "code",
   "execution_count": null,
   "id": "9d71c827",
   "metadata": {
    "nbgrader": {
     "grade": true,
     "grade_id": "cell-442b10910f62252e",
     "locked": true,
     "points": 1,
     "schema_version": 3,
     "solution": false,
     "task": false
    }
   },
   "outputs": [],
   "source": [
    "@assert length(build_rhs(20)) == 17\n",
    "@assert build_rhs(20)[end] == 1 / 20^4\n",
    "@assert build_rhs(20)[1] == 1 / 20^4"
   ]
  },
  {
   "cell_type": "markdown",
   "id": "a57689ce",
   "metadata": {},
   "source": [
    "3. Write a function `forward_substitution(L, y)`\n",
    "   that solves the linear system $\\mathsf L \\mathbf x = \\mathbf y$,\n",
    "   in the case where `L` is a lower-triangular matrix,\n",
    "   by using forward substitution."
   ]
  },
  {
   "cell_type": "code",
   "execution_count": null,
   "id": "21082318",
   "metadata": {
    "nbgrader": {
     "grade": false,
     "grade_id": "cell-8abbc441ef2de365",
     "locked": false,
     "schema_version": 3,
     "solution": true,
     "task": false
    }
   },
   "outputs": [],
   "source": [
    "function forward_substitution(L, y)\n",
    "    ### BEGIN SOLUTION\n",
    "    z = copy(y)\n",
    "    n = length(y)\n",
    "    for i in 1:n\n",
    "        for j in 1:i-1\n",
    "            z[i] -= L[i, j] * z[j]\n",
    "        end\n",
    "        z[i] /= L[i, i]\n",
    "    end\n",
    "    return z\n",
    "    ### END SOLUTION\n",
    "end"
   ]
  },
  {
   "cell_type": "code",
   "execution_count": null,
   "id": "4a020bf3",
   "metadata": {
    "nbgrader": {
     "grade": true,
     "grade_id": "cell-4085a1598f1048e2",
     "locked": true,
     "points": 1,
     "schema_version": 3,
     "solution": false,
     "task": false
    }
   },
   "outputs": [],
   "source": [
    "@assert begin n = 10; L = [1 0; 2 1]; forward_substitution(L, [1; 0]) ≈ [1; -2] end\n",
    "@assert begin n = 10; L = LowerTriangular(ones(n, n)); y = fill(2, n); forward_substitution(L, L*y) ≈ y end\n",
    "@assert begin n = 10; L = LowerTriangular(randn(n, n)); y = randn(n); forward_substitution(L, L*y) ≈ y end\n",
    "@assert begin n = 20; L = LowerTriangular(2ones(n, n)); y = rand(n); forward_substitution(L, L*y) ≈ y end"
   ]
  },
  {
   "cell_type": "markdown",
   "id": "bc7e149c",
   "metadata": {},
   "source": [
    "4. The successive over-relaxation method is a splitting method for solving linear systems of the form $\\mathsf A \\mathbf x = \\mathbf b$.\n",
    "   It is based on the iteration\n",
    "   $$\n",
    "   \\mathsf M \\mathbf x_{k+1} = \\mathsf N \\mathbf x_{k} + \\mathbf{b}, \\qquad \\text{where} \\quad \\mathsf M = \\frac{\\mathsf D}{\\omega} + \\mathsf L \\quad \\text{and} \\quad \\mathsf N = \\mathsf M - \\mathsf A.\n",
    "   \\tag{SOR}\n",
    "   $$\n",
    "   <a id=\"SOR\"></a>\n",
    "   Here $\\omega \\in (0, 2)$ is a parameter,\n",
    "   $\\mathsf D$ is diagonal matrix containing the diagonal of $\\mathsf A$,\n",
    "   and $\\mathsf L$ is a strictly lower triangular matrix containing the strict lower triangular part of $\\mathsf A$,\n",
    "   not including the diagonal.\n",
    "   Write a function `sor(A, b, ω)` that\n",
    "   implements this iteration, without using Julia's `\\` and `inv` functions.\n",
    "   Initialize the iteration at $\\mathbf x_0 = \\mathbf 0$,\n",
    "   and use as stopping criterion that\n",
    "   $$\n",
    "   \\lVert \\mathsf A \\mathbf x - \\mathbf b \\rVert\n",
    "   \\leq \\varepsilon \\lVert \\mathbf b \\rVert,\n",
    "   \\qquad \\varepsilon := 10^{-10}.\n",
    "   $$\n",
    "   If after `maxiter` iterations,\n",
    "   a solution that satisfies this stopping criterion has not been found,\n",
    "   return `nothing`.\n",
    "\n",
    "   <details>\n",
    "       <summary>\n",
    "           <em><font color='gray'>Hint (click to display)</font></em>\n",
    "       </summary>\n",
    "\n",
    "   - The functions `Diagonal` and `LowerTriangular`,\n",
    "     both from the `LinearAlgebra` library,\n",
    "     are useful to construct the matrices $\\mathsf D$ and $\\mathsf L$:\n",
    "     ```julia\n",
    "     D = Diagonal(A)  # Extracts the diagonal from A\n",
    "     X = LowerTriangular(A)  # Extracts lower triangular part, with diag\n",
    "     ```\n",
    "   - Since the matrix in the linear system <a href=\"#NR\">(SOR)</a> is lower triangular,\n",
    "     use the function `forward_substitution` you wrote above to solve this system at each iteration.\n",
    "   </details>"
   ]
  },
  {
   "cell_type": "code",
   "execution_count": null,
   "id": "803f42fe",
   "metadata": {
    "nbgrader": {
     "grade": false,
     "grade_id": "cell-048154d0c43ed3fd",
     "locked": false,
     "schema_version": 3,
     "solution": true,
     "task": false
    }
   },
   "outputs": [],
   "source": [
    "function sor(A, b; ω = 1, ε = 1e-10, maxiter = 10^5)\n",
    "    ### BEGIN SOLUTION\n",
    "    n = length(b)\n",
    "    x = zeros(n)\n",
    "    D = Diagonal(A)\n",
    "    L = LowerTriangular(A) - D\n",
    "    M = L + D/ω\n",
    "    for i in 1:maxiter\n",
    "        if norm(A*x - b) ≤ ε * norm(b)\n",
    "            return x\n",
    "        end\n",
    "        x = forward_substitution(M, (M-A)*x + b)\n",
    "    end\n",
    "    print(\"Did not converge!\")\n",
    "    return nothing\n",
    "    ### END SOLUTION\n",
    "end"
   ]
  },
  {
   "cell_type": "code",
   "execution_count": null,
   "id": "2d3a93c7",
   "metadata": {
    "nbgrader": {
     "grade": true,
     "grade_id": "cell-8af811797a39d253",
     "locked": true,
     "points": 2,
     "schema_version": 3,
     "solution": false,
     "task": false
    }
   },
   "outputs": [],
   "source": [
    "# Test code\n",
    "n = 20\n",
    "X = qr(randn(n, n)).Q\n",
    "A = X*Diagonal(rand(n) .+ 5)*X'\n",
    "b = randn(n)\n",
    "@assert begin ε = 1e-10; sol = sor(A, b; ω = 1.5, ε = ε); norm(A*sol - b) ≤ ε*norm(b) end\n",
    "@assert begin ε = 1e-10; sol = sor(A, b; ω = 1.5, ε = ε); norm(A*sol - b) ≥ 1e-15*norm(b) end\n",
    "@assert begin ε = 1e-12; sol = sor(A, b; ω = 1.5, ε = ε); norm(A*sol - b) ≤ ε*norm(b) end\n",
    "@assert begin ε = 1e-12; sor(A, b; ω = 2, ε = ε) == nothing end\n",
    "@assert begin ε = 1e-12; sor(A, b; ω = 1, ε = ε) ≈ A\\b end"
   ]
  },
  {
   "cell_type": "markdown",
   "id": "8cad8ebb",
   "metadata": {},
   "source": [
    "**Remark**. Here we used a function with both non-keyword (before `;`) and keyword (after `;`) arguments,\n",
    "as well as default values for the keyword arguments.\n",
    "When default values are present, the arguments become optional.\n",
    "The following example should help you understand how arguments are handled in Julia."
   ]
  },
  {
   "cell_type": "code",
   "execution_count": null,
   "id": "41d94253",
   "metadata": {},
   "outputs": [],
   "source": [
    "my_test(a , b = 2; c = 3, d = 4) = \"Arguments: $a $b $c $d\"\n",
    "@show my_test(5)\n",
    "@show my_test(5, 8)\n",
    "@show my_test(5, 8; c = 9)\n",
    "@show my_test(5, 8; d = 9)\n",
    "@show my_test(5; d = 9);\n",
    "\n",
    "# my_test(5, 8, 9)  # -> Error because there are only two non-keyword arguments\n",
    "# my_test(5, 8; 9)  # -> Error because there should only be keyword arguments after ';'"
   ]
  },
  {
   "cell_type": "markdown",
   "id": "0f33c57f",
   "metadata": {},
   "source": [
    "5. Use the relaxation method implemented in the previous item\n",
    "   with parameters $\\omega = 1.9$ and $\\varepsilon = 10^{-8}$ to solve the linear system of this exercise with $n = 50$.\n",
    "   Compare on a graph the solution you obatined with the exact solution,\n",
    "   which is given by\n",
    "   $$ u(x) = \\frac{1}{24} x^2(x - 1)^2. $$"
   ]
  },
  {
   "cell_type": "code",
   "execution_count": 49,
   "id": "523d730a",
   "metadata": {
    "nbgrader": {
     "grade": true,
     "grade_id": "comparison",
     "locked": false,
     "points": 1,
     "schema_version": 3,
     "solution": true,
     "task": false
    }
   },
   "outputs": [
    {
     "data": {
      "image/png": "[encoded data removed]",
      "image/svg+xml": [
       "<?xml version=\"1.0\" encoding=\"utf-8\"?>\n",
       "<svg xmlns=\"http://www.w3.org/2000/svg\" xmlns:xlink=\"http://www.w3.org/1999/xlink\" width=\"600\" height=\"400\" viewBox=\"0 0 2400 1600\">\n",
       "<defs>\n",
       "  <clipPath id=\"clip130\">\n",
       "    <rect x=\"0\" y=\"0\" width=\"2400\" height=\"1600\"/>\n",
       "  </clipPath>\n",
       "</defs>\n",
       "<path clip-path=\"url(#clip130)\" d=\"M0 1600 L2400 1600 L2400 0 L0 0  Z\" fill=\"#ffffff\" fill-rule=\"evenodd\" fill-opacity=\"1\"/>\n",
       "<defs>\n",
       "  <clipPath id=\"clip131\">\n",
       "    <rect x=\"480\" y=\"0\" width=\"1681\" height=\"1600\"/>\n",
       "  </clipPath>\n",
       "</defs>\n",
       "<path clip-path=\"url(#clip130)\" d=\"M246.598 1486.45 L2352.76 1486.45 L2352.76 47.2441 L246.598 47.2441  Z\" fill=\"#ffffff\" fill-rule=\"evenodd\" fill-opacity=\"1\"/>\n",
       "<defs>\n",
       "  <clipPath id=\"clip132\">\n",
       "    <rect x=\"246\" y=\"47\" width=\"2107\" height=\"1440\"/>\n",
       "  </clipPath>\n",
       "</defs>\n",
       "<polyline clip-path=\"url(#clip132)\" style=\"stroke:#000000; stroke-linecap:round; stroke-linejoin:round; stroke-width:2; stroke-opacity:0.1; fill:none\" points=\"246.598,1486.45 246.598,47.2441 \"/>\n",
       "<polyline clip-path=\"url(#clip132)\" style=\"stroke:#000000; stroke-linecap:round; stroke-linejoin:round; stroke-width:2; stroke-opacity:0.1; fill:none\" points=\"667.829,1486.45 667.829,47.2441 \"/>\n",
       "<polyline clip-path=\"url(#clip132)\" style=\"stroke:#000000; stroke-linecap:round; stroke-linejoin:round; stroke-width:2; stroke-opacity:0.1; fill:none\" points=\"1089.06,1486.45 1089.06,47.2441 \"/>\n",
       "<polyline clip-path=\"url(#clip132)\" style=\"stroke:#000000; stroke-linecap:round; stroke-linejoin:round; stroke-width:2; stroke-opacity:0.1; fill:none\" points=\"1510.29,1486.45 1510.29,47.2441 \"/>\n",
       "<polyline clip-path=\"url(#clip132)\" style=\"stroke:#000000; stroke-linecap:round; stroke-linejoin:round; stroke-width:2; stroke-opacity:0.1; fill:none\" points=\"1931.52,1486.45 1931.52,47.2441 \"/>\n",
       "<polyline clip-path=\"url(#clip132)\" style=\"stroke:#000000; stroke-linecap:round; stroke-linejoin:round; stroke-width:2; stroke-opacity:0.1; fill:none\" points=\"2352.76,1486.45 2352.76,47.2441 \"/>\n",
       "<polyline clip-path=\"url(#clip130)\" style=\"stroke:#000000; stroke-linecap:round; stroke-linejoin:round; stroke-width:4; stroke-opacity:1; fill:none\" points=\"246.598,1486.45 2352.76,1486.45 \"/>\n",
       "<polyline clip-path=\"url(#clip130)\" style=\"stroke:#000000; stroke-linecap:round; stroke-linejoin:round; stroke-width:4; stroke-opacity:1; fill:none\" points=\"246.598,1486.45 246.598,1467.55 \"/>\n",
       "<polyline clip-path=\"url(#clip130)\" style=\"stroke:#000000; stroke-linecap:round; stroke-linejoin:round; stroke-width:4; stroke-opacity:1; fill:none\" points=\"667.829,1486.45 667.829,1467.55 \"/>\n",
       "<polyline clip-path=\"url(#clip130)\" style=\"stroke:#000000; stroke-linecap:round; stroke-linejoin:round; stroke-width:4; stroke-opacity:1; fill:none\" points=\"1089.06,1486.45 1089.06,1467.55 \"/>\n",
       "<polyline clip-path=\"url(#clip130)\" style=\"stroke:#000000; stroke-linecap:round; stroke-linejoin:round; stroke-width:4; stroke-opacity:1; fill:none\" points=\"1510.29,1486.45 1510.29,1467.55 \"/>\n",
       "<polyline clip-path=\"url(#clip130)\" style=\"stroke:#000000; stroke-linecap:round; stroke-linejoin:round; stroke-width:4; stroke-opacity:1; fill:none\" points=\"1931.52,1486.45 1931.52,1467.55 \"/>\n",
       "<polyline clip-path=\"url(#clip130)\" style=\"stroke:#000000; stroke-linecap:round; stroke-linejoin:round; stroke-width:4; stroke-opacity:1; fill:none\" points=\"2352.76,1486.45 2352.76,1467.55 \"/>\n",
       "<path clip-path=\"url(#clip130)\" d=\"M223.982 1517.37 Q220.371 1517.37 218.542 1520.93 Q216.737 1524.47 216.737 1531.6 Q216.737 1538.71 218.542 1542.27 Q220.371 1545.82 223.982 1545.82 Q227.616 1545.82 229.422 1542.27 Q231.251 1538.71 231.251 1531.6 Q231.251 1524.47 229.422 1520.93 Q227.616 1517.37 223.982 1517.37 M223.982 1513.66 Q229.792 1513.66 232.848 1518.27 Q235.927 1522.85 235.927 1531.6 Q235.927 1540.33 232.848 1544.94 Q229.792 1549.52 223.982 1549.52 Q218.172 1549.52 215.093 1544.94 Q212.038 1540.33 212.038 1531.6 Q212.038 1522.85 215.093 1518.27 Q218.172 1513.66 223.982 1513.66 Z\" fill=\"#000000\" fill-rule=\"nonzero\" fill-opacity=\"1\" /><path clip-path=\"url(#clip130)\" d=\"M244.144 1542.97 L249.028 1542.97 L249.028 1548.85 L244.144 1548.85 L244.144 1542.97 Z\" fill=\"#000000\" fill-rule=\"nonzero\" fill-opacity=\"1\" /><path clip-path=\"url(#clip130)\" d=\"M269.213 1517.37 Q265.602 1517.37 263.774 1520.93 Q261.968 1524.47 261.968 1531.6 Q261.968 1538.71 263.774 1542.27 Q265.602 1545.82 269.213 1545.82 Q272.848 1545.82 274.653 1542.27 Q276.482 1538.71 276.482 1531.6 Q276.482 1524.47 274.653 1520.93 Q272.848 1517.37 269.213 1517.37 M269.213 1513.66 Q275.024 1513.66 278.079 1518.27 Q281.158 1522.85 281.158 1531.6 Q281.158 1540.33 278.079 1544.94 Q275.024 1549.52 269.213 1549.52 Q263.403 1549.52 260.325 1544.94 Q257.269 1540.33 257.269 1531.6 Q257.269 1522.85 260.325 1518.27 Q263.403 1513.66 269.213 1513.66 Z\" fill=\"#000000\" fill-rule=\"nonzero\" fill-opacity=\"1\" /><path clip-path=\"url(#clip130)\" d=\"M646.012 1517.37 Q642.401 1517.37 640.573 1520.93 Q638.767 1524.47 638.767 1531.6 Q638.767 1538.71 640.573 1542.27 Q642.401 1545.82 646.012 1545.82 Q649.647 1545.82 651.452 1542.27 Q653.281 1538.71 653.281 1531.6 Q653.281 1524.47 651.452 1520.93 Q649.647 1517.37 646.012 1517.37 M646.012 1513.66 Q651.823 1513.66 654.878 1518.27 Q657.957 1522.85 657.957 1531.6 Q657.957 1540.33 654.878 1544.94 Q651.823 1549.52 646.012 1549.52 Q640.202 1549.52 637.124 1544.94 Q634.068 1540.33 634.068 1531.6 Q634.068 1522.85 637.124 1518.27 Q640.202 1513.66 646.012 1513.66 Z\" fill=\"#000000\" fill-rule=\"nonzero\" fill-opacity=\"1\" /><path clip-path=\"url(#clip130)\" d=\"M666.174 1542.97 L671.059 1542.97 L671.059 1548.85 L666.174 1548.85 L666.174 1542.97 Z\" fill=\"#000000\" fill-rule=\"nonzero\" fill-opacity=\"1\" /><path clip-path=\"url(#clip130)\" d=\"M685.271 1544.91 L701.591 1544.91 L701.591 1548.85 L679.646 1548.85 L679.646 1544.91 Q682.308 1542.16 686.892 1537.53 Q691.498 1532.88 692.679 1531.53 Q694.924 1529.01 695.804 1527.27 Q696.707 1525.51 696.707 1523.82 Q696.707 1521.07 694.762 1519.33 Q692.841 1517.6 689.739 1517.6 Q687.54 1517.6 685.086 1518.36 Q682.656 1519.13 679.878 1520.68 L679.878 1515.95 Q682.702 1514.82 685.156 1514.24 Q687.609 1513.66 689.646 1513.66 Q695.017 1513.66 698.211 1516.35 Q701.406 1519.03 701.406 1523.52 Q701.406 1525.65 700.595 1527.57 Q699.808 1529.47 697.702 1532.07 Q697.123 1532.74 694.021 1535.95 Q690.92 1539.15 685.271 1544.91 Z\" fill=\"#000000\" fill-rule=\"nonzero\" fill-opacity=\"1\" /><path clip-path=\"url(#clip130)\" d=\"M1066.2 1517.37 Q1062.59 1517.37 1060.76 1520.93 Q1058.96 1524.47 1058.96 1531.6 Q1058.96 1538.71 1060.76 1542.27 Q1062.59 1545.82 1066.2 1545.82 Q1069.84 1545.82 1071.64 1542.27 Q1073.47 1538.71 1073.47 1531.6 Q1073.47 1524.47 1071.64 1520.93 Q1069.84 1517.37 1066.2 1517.37 M1066.2 1513.66 Q1072.01 1513.66 1075.07 1518.27 Q1078.15 1522.85 1078.15 1531.6 Q1078.15 1540.33 1075.07 1544.94 Q1072.01 1549.52 1066.2 1549.52 Q1060.39 1549.52 1057.31 1544.94 Q1054.26 1540.33 1054.26 1531.6 Q1054.26 1522.85 1057.31 1518.27 Q1060.39 1513.66 1066.2 1513.66 Z\" fill=\"#000000\" fill-rule=\"nonzero\" fill-opacity=\"1\" /><path clip-path=\"url(#clip130)\" d=\"M1086.36 1542.97 L1091.25 1542.97 L1091.25 1548.85 L1086.36 1548.85 L1086.36 1542.97 Z\" fill=\"#000000\" fill-rule=\"nonzero\" fill-opacity=\"1\" /><path clip-path=\"url(#clip130)\" d=\"M1114.28 1518.36 L1102.48 1536.81 L1114.28 1536.81 L1114.28 1518.36 M1113.05 1514.29 L1118.93 1514.29 L1118.93 1536.81 L1123.86 1536.81 L1123.86 1540.7 L1118.93 1540.7 L1118.93 1548.85 L1114.28 1548.85 L1114.28 1540.7 L1098.68 1540.7 L1098.68 1536.19 L1113.05 1514.29 Z\" fill=\"#000000\" fill-rule=\"nonzero\" fill-opacity=\"1\" /><path clip-path=\"url(#clip130)\" d=\"M1487.6 1517.37 Q1483.98 1517.37 1482.16 1520.93 Q1480.35 1524.47 1480.35 1531.6 Q1480.35 1538.71 1482.16 1542.27 Q1483.98 1545.82 1487.6 1545.82 Q1491.23 1545.82 1493.04 1542.27 Q1494.86 1538.71 1494.86 1531.6 Q1494.86 1524.47 1493.04 1520.93 Q1491.23 1517.37 1487.6 1517.37 M1487.6 1513.66 Q1493.41 1513.66 1496.46 1518.27 Q1499.54 1522.85 1499.54 1531.6 Q1499.54 1540.33 1496.46 1544.94 Q1493.41 1549.52 1487.6 1549.52 Q1481.79 1549.52 1478.71 1544.94 Q1475.65 1540.33 1475.65 1531.6 Q1475.65 1522.85 1478.71 1518.27 Q1481.79 1513.66 1487.6 1513.66 Z\" fill=\"#000000\" fill-rule=\"nonzero\" fill-opacity=\"1\" /><path clip-path=\"url(#clip130)\" d=\"M1507.76 1542.97 L1512.64 1542.97 L1512.64 1548.85 L1507.76 1548.85 L1507.76 1542.97 Z\" fill=\"#000000\" fill-rule=\"nonzero\" fill-opacity=\"1\" /><path clip-path=\"url(#clip130)\" d=\"M1533.41 1529.7 Q1530.26 1529.7 1528.41 1531.86 Q1526.58 1534.01 1526.58 1537.76 Q1526.58 1541.49 1528.41 1543.66 Q1530.26 1545.82 1533.41 1545.82 Q1536.55 1545.82 1538.38 1543.66 Q1540.23 1541.49 1540.23 1537.76 Q1540.23 1534.01 1538.38 1531.86 Q1536.55 1529.7 1533.41 1529.7 M1542.69 1515.05 L1542.69 1519.31 Q1540.93 1518.48 1539.12 1518.04 Q1537.34 1517.6 1535.58 1517.6 Q1530.95 1517.6 1528.5 1520.72 Q1526.07 1523.85 1525.72 1530.17 Q1527.09 1528.15 1529.15 1527.09 Q1531.21 1526 1533.68 1526 Q1538.89 1526 1541.9 1529.17 Q1544.93 1532.32 1544.93 1537.76 Q1544.93 1543.08 1541.79 1546.3 Q1538.64 1549.52 1533.41 1549.52 Q1527.41 1549.52 1524.24 1544.94 Q1521.07 1540.33 1521.07 1531.6 Q1521.07 1523.41 1524.96 1518.55 Q1528.85 1513.66 1535.4 1513.66 Q1537.16 1513.66 1538.94 1514.01 Q1540.74 1514.36 1542.69 1515.05 Z\" fill=\"#000000\" fill-rule=\"nonzero\" fill-opacity=\"1\" /><path clip-path=\"url(#clip130)\" d=\"M1908.95 1517.37 Q1905.34 1517.37 1903.52 1520.93 Q1901.71 1524.47 1901.71 1531.6 Q1901.71 1538.71 1903.52 1542.27 Q1905.34 1545.82 1908.95 1545.82 Q1912.59 1545.82 1914.39 1542.27 Q1916.22 1538.71 1916.22 1531.6 Q1916.22 1524.47 1914.39 1520.93 Q1912.59 1517.37 1908.95 1517.37 M1908.95 1513.66 Q1914.77 1513.66 1917.82 1518.27 Q1920.9 1522.85 1920.9 1531.6 Q1920.9 1540.33 1917.82 1544.94 Q1914.77 1549.52 1908.95 1549.52 Q1903.14 1549.52 1900.07 1544.94 Q1897.01 1540.33 1897.01 1531.6 Q1897.01 1522.85 1900.07 1518.27 Q1903.14 1513.66 1908.95 1513.66 Z\" fill=\"#000000\" fill-rule=\"nonzero\" fill-opacity=\"1\" /><path clip-path=\"url(#clip130)\" d=\"M1929.12 1542.97 L1934 1542.97 L1934 1548.85 L1929.12 1548.85 L1929.12 1542.97 Z\" fill=\"#000000\" fill-rule=\"nonzero\" fill-opacity=\"1\" /><path clip-path=\"url(#clip130)\" d=\"M1954.19 1532.44 Q1950.85 1532.44 1948.93 1534.22 Q1947.03 1536 1947.03 1539.13 Q1947.03 1542.25 1948.93 1544.03 Q1950.85 1545.82 1954.19 1545.82 Q1957.52 1545.82 1959.44 1544.03 Q1961.36 1542.23 1961.36 1539.13 Q1961.36 1536 1959.44 1534.22 Q1957.54 1532.44 1954.19 1532.44 M1949.51 1530.45 Q1946.5 1529.7 1944.81 1527.64 Q1943.14 1525.58 1943.14 1522.62 Q1943.14 1518.48 1946.08 1516.07 Q1949.05 1513.66 1954.19 1513.66 Q1959.35 1513.66 1962.29 1516.07 Q1965.23 1518.48 1965.23 1522.62 Q1965.23 1525.58 1963.54 1527.64 Q1961.87 1529.7 1958.89 1530.45 Q1962.26 1531.23 1964.14 1533.52 Q1966.04 1535.82 1966.04 1539.13 Q1966.04 1544.15 1962.96 1546.83 Q1959.9 1549.52 1954.19 1549.52 Q1948.47 1549.52 1945.39 1546.83 Q1942.33 1544.15 1942.33 1539.13 Q1942.33 1535.82 1944.23 1533.52 Q1946.13 1531.23 1949.51 1530.45 M1947.8 1523.06 Q1947.8 1525.75 1949.46 1527.25 Q1951.15 1528.76 1954.19 1528.76 Q1957.2 1528.76 1958.89 1527.25 Q1960.6 1525.75 1960.6 1523.06 Q1960.6 1520.38 1958.89 1518.87 Q1957.2 1517.37 1954.19 1517.37 Q1951.15 1517.37 1949.46 1518.87 Q1947.8 1520.38 1947.8 1523.06 Z\" fill=\"#000000\" fill-rule=\"nonzero\" fill-opacity=\"1\" /><path clip-path=\"url(#clip130)\" d=\"M2319.91 1544.91 L2327.55 1544.91 L2327.55 1518.55 L2319.24 1520.21 L2319.24 1515.95 L2327.5 1514.29 L2332.18 1514.29 L2332.18 1544.91 L2339.82 1544.91 L2339.82 1548.85 L2319.91 1548.85 L2319.91 1544.91 Z\" fill=\"#000000\" fill-rule=\"nonzero\" fill-opacity=\"1\" /><path clip-path=\"url(#clip130)\" d=\"M2349.26 1542.97 L2354.14 1542.97 L2354.14 1548.85 L2349.26 1548.85 L2349.26 1542.97 Z\" fill=\"#000000\" fill-rule=\"nonzero\" fill-opacity=\"1\" /><path clip-path=\"url(#clip130)\" d=\"M2374.33 1517.37 Q2370.72 1517.37 2368.89 1520.93 Q2367.08 1524.47 2367.08 1531.6 Q2367.08 1538.71 2368.89 1542.27 Q2370.72 1545.82 2374.33 1545.82 Q2377.96 1545.82 2379.77 1542.27 Q2381.6 1538.71 2381.6 1531.6 Q2381.6 1524.47 2379.77 1520.93 Q2377.96 1517.37 2374.33 1517.37 M2374.33 1513.66 Q2380.14 1513.66 2383.2 1518.27 Q2386.27 1522.85 2386.27 1531.6 Q2386.27 1540.33 2383.2 1544.94 Q2380.14 1549.52 2374.33 1549.52 Q2368.52 1549.52 2365.44 1544.94 Q2362.39 1540.33 2362.39 1531.6 Q2362.39 1522.85 2365.44 1518.27 Q2368.52 1513.66 2374.33 1513.66 Z\" fill=\"#000000\" fill-rule=\"nonzero\" fill-opacity=\"1\" /><polyline clip-path=\"url(#clip132)\" style=\"stroke:#000000; stroke-linecap:round; stroke-linejoin:round; stroke-width:2; stroke-opacity:0.1; fill:none\" points=\"246.598,1445.72 2352.76,1445.72 \"/>\n",
       "<polyline clip-path=\"url(#clip132)\" style=\"stroke:#000000; stroke-linecap:round; stroke-linejoin:round; stroke-width:2; stroke-opacity:0.1; fill:none\" points=\"246.598,1185.02 2352.76,1185.02 \"/>\n",
       "<polyline clip-path=\"url(#clip132)\" style=\"stroke:#000000; stroke-linecap:round; stroke-linejoin:round; stroke-width:2; stroke-opacity:0.1; fill:none\" points=\"246.598,924.322 2352.76,924.322 \"/>\n",
       "<polyline clip-path=\"url(#clip132)\" style=\"stroke:#000000; stroke-linecap:round; stroke-linejoin:round; stroke-width:2; stroke-opacity:0.1; fill:none\" points=\"246.598,663.625 2352.76,663.625 \"/>\n",
       "<polyline clip-path=\"url(#clip132)\" style=\"stroke:#000000; stroke-linecap:round; stroke-linejoin:round; stroke-width:2; stroke-opacity:0.1; fill:none\" points=\"246.598,402.929 2352.76,402.929 \"/>\n",
       "<polyline clip-path=\"url(#clip132)\" style=\"stroke:#000000; stroke-linecap:round; stroke-linejoin:round; stroke-width:2; stroke-opacity:0.1; fill:none\" points=\"246.598,142.232 2352.76,142.232 \"/>\n",
       "<polyline clip-path=\"url(#clip130)\" style=\"stroke:#000000; stroke-linecap:round; stroke-linejoin:round; stroke-width:4; stroke-opacity:1; fill:none\" points=\"246.598,1486.45 246.598,47.2441 \"/>\n",
       "<polyline clip-path=\"url(#clip130)\" style=\"stroke:#000000; stroke-linecap:round; stroke-linejoin:round; stroke-width:4; stroke-opacity:1; fill:none\" points=\"246.598,1445.72 265.495,1445.72 \"/>\n",
       "<polyline clip-path=\"url(#clip130)\" style=\"stroke:#000000; stroke-linecap:round; stroke-linejoin:round; stroke-width:4; stroke-opacity:1; fill:none\" points=\"246.598,1185.02 265.495,1185.02 \"/>\n",
       "<polyline clip-path=\"url(#clip130)\" style=\"stroke:#000000; stroke-linecap:round; stroke-linejoin:round; stroke-width:4; stroke-opacity:1; fill:none\" points=\"246.598,924.322 265.495,924.322 \"/>\n",
       "<polyline clip-path=\"url(#clip130)\" style=\"stroke:#000000; stroke-linecap:round; stroke-linejoin:round; stroke-width:4; stroke-opacity:1; fill:none\" points=\"246.598,663.625 265.495,663.625 \"/>\n",
       "<polyline clip-path=\"url(#clip130)\" style=\"stroke:#000000; stroke-linecap:round; stroke-linejoin:round; stroke-width:4; stroke-opacity:1; fill:none\" points=\"246.598,402.929 265.495,402.929 \"/>\n",
       "<polyline clip-path=\"url(#clip130)\" style=\"stroke:#000000; stroke-linecap:round; stroke-linejoin:round; stroke-width:4; stroke-opacity:1; fill:none\" points=\"246.598,142.232 265.495,142.232 \"/>\n",
       "<path clip-path=\"url(#clip130)\" d=\"M62.9365 1431.51 Q59.3254 1431.51 57.4967 1435.08 Q55.6912 1438.62 55.6912 1445.75 Q55.6912 1452.86 57.4967 1456.42 Q59.3254 1459.96 62.9365 1459.96 Q66.5707 1459.96 68.3763 1456.42 Q70.205 1452.86 70.205 1445.75 Q70.205 1438.62 68.3763 1435.08 Q66.5707 1431.51 62.9365 1431.51 M62.9365 1427.81 Q68.7467 1427.81 71.8022 1432.42 Q74.8809 1437 74.8809 1445.75 Q74.8809 1454.48 71.8022 1459.08 Q68.7467 1463.67 62.9365 1463.67 Q57.1264 1463.67 54.0477 1459.08 Q50.9921 1454.48 50.9921 1445.75 Q50.9921 1437 54.0477 1432.42 Q57.1264 1427.81 62.9365 1427.81 Z\" fill=\"#000000\" fill-rule=\"nonzero\" fill-opacity=\"1\" /><path clip-path=\"url(#clip130)\" d=\"M83.0984 1457.12 L87.9827 1457.12 L87.9827 1463 L83.0984 1463 L83.0984 1457.12 Z\" fill=\"#000000\" fill-rule=\"nonzero\" fill-opacity=\"1\" /><path clip-path=\"url(#clip130)\" d=\"M108.168 1431.51 Q104.557 1431.51 102.728 1435.08 Q100.922 1438.62 100.922 1445.75 Q100.922 1452.86 102.728 1456.42 Q104.557 1459.96 108.168 1459.96 Q111.802 1459.96 113.608 1456.42 Q115.436 1452.86 115.436 1445.75 Q115.436 1438.62 113.608 1435.08 Q111.802 1431.51 108.168 1431.51 M108.168 1427.81 Q113.978 1427.81 117.033 1432.42 Q120.112 1437 120.112 1445.75 Q120.112 1454.48 117.033 1459.08 Q113.978 1463.67 108.168 1463.67 Q102.358 1463.67 99.2789 1459.08 Q96.2234 1454.48 96.2234 1445.75 Q96.2234 1437 99.2789 1432.42 Q102.358 1427.81 108.168 1427.81 Z\" fill=\"#000000\" fill-rule=\"nonzero\" fill-opacity=\"1\" /><path clip-path=\"url(#clip130)\" d=\"M138.33 1431.51 Q134.719 1431.51 132.89 1435.08 Q131.084 1438.62 131.084 1445.75 Q131.084 1452.86 132.89 1456.42 Q134.719 1459.96 138.33 1459.96 Q141.964 1459.96 143.769 1456.42 Q145.598 1452.86 145.598 1445.75 Q145.598 1438.62 143.769 1435.08 Q141.964 1431.51 138.33 1431.51 M138.33 1427.81 Q144.14 1427.81 147.195 1432.42 Q150.274 1437 150.274 1445.75 Q150.274 1454.48 147.195 1459.08 Q144.14 1463.67 138.33 1463.67 Q132.519 1463.67 129.441 1459.08 Q126.385 1454.48 126.385 1445.75 Q126.385 1437 129.441 1432.42 Q132.519 1427.81 138.33 1427.81 Z\" fill=\"#000000\" fill-rule=\"nonzero\" fill-opacity=\"1\" /><path clip-path=\"url(#clip130)\" d=\"M168.491 1431.51 Q164.88 1431.51 163.052 1435.08 Q161.246 1438.62 161.246 1445.75 Q161.246 1452.86 163.052 1456.42 Q164.88 1459.96 168.491 1459.96 Q172.126 1459.96 173.931 1456.42 Q175.76 1452.86 175.76 1445.75 Q175.76 1438.62 173.931 1435.08 Q172.126 1431.51 168.491 1431.51 M168.491 1427.81 Q174.302 1427.81 177.357 1432.42 Q180.436 1437 180.436 1445.75 Q180.436 1454.48 177.357 1459.08 Q174.302 1463.67 168.491 1463.67 Q162.681 1463.67 159.603 1459.08 Q156.547 1454.48 156.547 1445.75 Q156.547 1437 159.603 1432.42 Q162.681 1427.81 168.491 1427.81 Z\" fill=\"#000000\" fill-rule=\"nonzero\" fill-opacity=\"1\" /><path clip-path=\"url(#clip130)\" d=\"M198.653 1431.51 Q195.042 1431.51 193.214 1435.08 Q191.408 1438.62 191.408 1445.75 Q191.408 1452.86 193.214 1456.42 Q195.042 1459.96 198.653 1459.96 Q202.288 1459.96 204.093 1456.42 Q205.922 1452.86 205.922 1445.75 Q205.922 1438.62 204.093 1435.08 Q202.288 1431.51 198.653 1431.51 M198.653 1427.81 Q204.464 1427.81 207.519 1432.42 Q210.598 1437 210.598 1445.75 Q210.598 1454.48 207.519 1459.08 Q204.464 1463.67 198.653 1463.67 Q192.843 1463.67 189.765 1459.08 Q186.709 1454.48 186.709 1445.75 Q186.709 1437 189.765 1432.42 Q192.843 1427.81 198.653 1427.81 Z\" fill=\"#000000\" fill-rule=\"nonzero\" fill-opacity=\"1\" /><path clip-path=\"url(#clip130)\" d=\"M63.9319 1170.82 Q60.3208 1170.82 58.4921 1174.38 Q56.6865 1177.92 56.6865 1185.05 Q56.6865 1192.16 58.4921 1195.72 Q60.3208 1199.27 63.9319 1199.27 Q67.5661 1199.27 69.3717 1195.72 Q71.2004 1192.16 71.2004 1185.05 Q71.2004 1177.92 69.3717 1174.38 Q67.5661 1170.82 63.9319 1170.82 M63.9319 1167.11 Q69.742 1167.11 72.7976 1171.72 Q75.8763 1176.3 75.8763 1185.05 Q75.8763 1193.78 72.7976 1198.39 Q69.742 1202.97 63.9319 1202.97 Q58.1217 1202.97 55.043 1198.39 Q51.9875 1193.78 51.9875 1185.05 Q51.9875 1176.3 55.043 1171.72 Q58.1217 1167.11 63.9319 1167.11 Z\" fill=\"#000000\" fill-rule=\"nonzero\" fill-opacity=\"1\" /><path clip-path=\"url(#clip130)\" d=\"M84.0938 1196.42 L88.978 1196.42 L88.978 1202.3 L84.0938 1202.3 L84.0938 1196.42 Z\" fill=\"#000000\" fill-rule=\"nonzero\" fill-opacity=\"1\" /><path clip-path=\"url(#clip130)\" d=\"M109.163 1170.82 Q105.552 1170.82 103.723 1174.38 Q101.918 1177.92 101.918 1185.05 Q101.918 1192.16 103.723 1195.72 Q105.552 1199.27 109.163 1199.27 Q112.797 1199.27 114.603 1195.72 Q116.432 1192.16 116.432 1185.05 Q116.432 1177.92 114.603 1174.38 Q112.797 1170.82 109.163 1170.82 M109.163 1167.11 Q114.973 1167.11 118.029 1171.72 Q121.107 1176.3 121.107 1185.05 Q121.107 1193.78 118.029 1198.39 Q114.973 1202.97 109.163 1202.97 Q103.353 1202.97 100.274 1198.39 Q97.2187 1193.78 97.2187 1185.05 Q97.2187 1176.3 100.274 1171.72 Q103.353 1167.11 109.163 1167.11 Z\" fill=\"#000000\" fill-rule=\"nonzero\" fill-opacity=\"1\" /><path clip-path=\"url(#clip130)\" d=\"M139.325 1170.82 Q135.714 1170.82 133.885 1174.38 Q132.08 1177.92 132.08 1185.05 Q132.08 1192.16 133.885 1195.72 Q135.714 1199.27 139.325 1199.27 Q142.959 1199.27 144.765 1195.72 Q146.593 1192.16 146.593 1185.05 Q146.593 1177.92 144.765 1174.38 Q142.959 1170.82 139.325 1170.82 M139.325 1167.11 Q145.135 1167.11 148.191 1171.72 Q151.269 1176.3 151.269 1185.05 Q151.269 1193.78 148.191 1198.39 Q145.135 1202.97 139.325 1202.97 Q133.515 1202.97 130.436 1198.39 Q127.381 1193.78 127.381 1185.05 Q127.381 1176.3 130.436 1171.72 Q133.515 1167.11 139.325 1167.11 Z\" fill=\"#000000\" fill-rule=\"nonzero\" fill-opacity=\"1\" /><path clip-path=\"url(#clip130)\" d=\"M169.487 1170.82 Q165.876 1170.82 164.047 1174.38 Q162.242 1177.92 162.242 1185.05 Q162.242 1192.16 164.047 1195.72 Q165.876 1199.27 169.487 1199.27 Q173.121 1199.27 174.927 1195.72 Q176.755 1192.16 176.755 1185.05 Q176.755 1177.92 174.927 1174.38 Q173.121 1170.82 169.487 1170.82 M169.487 1167.11 Q175.297 1167.11 178.353 1171.72 Q181.431 1176.3 181.431 1185.05 Q181.431 1193.78 178.353 1198.39 Q175.297 1202.97 169.487 1202.97 Q163.677 1202.97 160.598 1198.39 Q157.542 1193.78 157.542 1185.05 Q157.542 1176.3 160.598 1171.72 Q163.677 1167.11 169.487 1167.11 Z\" fill=\"#000000\" fill-rule=\"nonzero\" fill-opacity=\"1\" /><path clip-path=\"url(#clip130)\" d=\"M189.695 1167.74 L208.051 1167.74 L208.051 1171.67 L193.977 1171.67 L193.977 1180.15 Q194.996 1179.8 196.014 1179.64 Q197.033 1179.45 198.052 1179.45 Q203.839 1179.45 207.218 1182.62 Q210.598 1185.79 210.598 1191.21 Q210.598 1196.79 207.126 1199.89 Q203.653 1202.97 197.334 1202.97 Q195.158 1202.97 192.89 1202.6 Q190.644 1202.23 188.237 1201.49 L188.237 1196.79 Q190.32 1197.92 192.542 1198.48 Q194.765 1199.04 197.241 1199.04 Q201.246 1199.04 203.584 1196.93 Q205.922 1194.82 205.922 1191.21 Q205.922 1187.6 203.584 1185.49 Q201.246 1183.39 197.241 1183.39 Q195.366 1183.39 193.491 1183.8 Q191.64 1184.22 189.695 1185.1 L189.695 1167.74 Z\" fill=\"#000000\" fill-rule=\"nonzero\" fill-opacity=\"1\" /><path clip-path=\"url(#clip130)\" d=\"M62.9365 910.121 Q59.3254 910.121 57.4967 913.686 Q55.6912 917.227 55.6912 924.357 Q55.6912 931.463 57.4967 935.028 Q59.3254 938.57 62.9365 938.57 Q66.5707 938.57 68.3763 935.028 Q70.205 931.463 70.205 924.357 Q70.205 917.227 68.3763 913.686 Q66.5707 910.121 62.9365 910.121 M62.9365 906.417 Q68.7467 906.417 71.8022 911.024 Q74.8809 915.607 74.8809 924.357 Q74.8809 933.084 71.8022 937.69 Q68.7467 942.273 62.9365 942.273 Q57.1264 942.273 54.0477 937.69 Q50.9921 933.084 50.9921 924.357 Q50.9921 915.607 54.0477 911.024 Q57.1264 906.417 62.9365 906.417 Z\" fill=\"#000000\" fill-rule=\"nonzero\" fill-opacity=\"1\" /><path clip-path=\"url(#clip130)\" d=\"M83.0984 935.723 L87.9827 935.723 L87.9827 941.602 L83.0984 941.602 L83.0984 935.723 Z\" fill=\"#000000\" fill-rule=\"nonzero\" fill-opacity=\"1\" /><path clip-path=\"url(#clip130)\" d=\"M108.168 910.121 Q104.557 910.121 102.728 913.686 Q100.922 917.227 100.922 924.357 Q100.922 931.463 102.728 935.028 Q104.557 938.57 108.168 938.57 Q111.802 938.57 113.608 935.028 Q115.436 931.463 115.436 924.357 Q115.436 917.227 113.608 913.686 Q111.802 910.121 108.168 910.121 M108.168 906.417 Q113.978 906.417 117.033 911.024 Q120.112 915.607 120.112 924.357 Q120.112 933.084 117.033 937.69 Q113.978 942.273 108.168 942.273 Q102.358 942.273 99.2789 937.69 Q96.2234 933.084 96.2234 924.357 Q96.2234 915.607 99.2789 911.024 Q102.358 906.417 108.168 906.417 Z\" fill=\"#000000\" fill-rule=\"nonzero\" fill-opacity=\"1\" /><path clip-path=\"url(#clip130)\" d=\"M138.33 910.121 Q134.719 910.121 132.89 913.686 Q131.084 917.227 131.084 924.357 Q131.084 931.463 132.89 935.028 Q134.719 938.57 138.33 938.57 Q141.964 938.57 143.769 935.028 Q145.598 931.463 145.598 924.357 Q145.598 917.227 143.769 913.686 Q141.964 910.121 138.33 910.121 M138.33 906.417 Q144.14 906.417 147.195 911.024 Q150.274 915.607 150.274 924.357 Q150.274 933.084 147.195 937.69 Q144.14 942.273 138.33 942.273 Q132.519 942.273 129.441 937.69 Q126.385 933.084 126.385 924.357 Q126.385 915.607 129.441 911.024 Q132.519 906.417 138.33 906.417 Z\" fill=\"#000000\" fill-rule=\"nonzero\" fill-opacity=\"1\" /><path clip-path=\"url(#clip130)\" d=\"M159.302 937.667 L166.941 937.667 L166.941 911.301 L158.63 912.968 L158.63 908.709 L166.894 907.042 L171.57 907.042 L171.57 937.667 L179.209 937.667 L179.209 941.602 L159.302 941.602 L159.302 937.667 Z\" fill=\"#000000\" fill-rule=\"nonzero\" fill-opacity=\"1\" /><path clip-path=\"url(#clip130)\" d=\"M198.653 910.121 Q195.042 910.121 193.214 913.686 Q191.408 917.227 191.408 924.357 Q191.408 931.463 193.214 935.028 Q195.042 938.57 198.653 938.57 Q202.288 938.57 204.093 935.028 Q205.922 931.463 205.922 924.357 Q205.922 917.227 204.093 913.686 Q202.288 910.121 198.653 910.121 M198.653 906.417 Q204.464 906.417 207.519 911.024 Q210.598 915.607 210.598 924.357 Q210.598 933.084 207.519 937.69 Q204.464 942.273 198.653 942.273 Q192.843 942.273 189.765 937.69 Q186.709 933.084 186.709 924.357 Q186.709 915.607 189.765 911.024 Q192.843 906.417 198.653 906.417 Z\" fill=\"#000000\" fill-rule=\"nonzero\" fill-opacity=\"1\" /><path clip-path=\"url(#clip130)\" d=\"M63.9319 649.424 Q60.3208 649.424 58.4921 652.989 Q56.6865 656.531 56.6865 663.66 Q56.6865 670.767 58.4921 674.331 Q60.3208 677.873 63.9319 677.873 Q67.5661 677.873 69.3717 674.331 Q71.2004 670.767 71.2004 663.66 Q71.2004 656.531 69.3717 652.989 Q67.5661 649.424 63.9319 649.424 M63.9319 645.72 Q69.742 645.72 72.7976 650.327 Q75.8763 654.91 75.8763 663.66 Q75.8763 672.387 72.7976 676.993 Q69.742 681.577 63.9319 681.577 Q58.1217 681.577 55.043 676.993 Q51.9875 672.387 51.9875 663.66 Q51.9875 654.91 55.043 650.327 Q58.1217 645.72 63.9319 645.72 Z\" fill=\"#000000\" fill-rule=\"nonzero\" fill-opacity=\"1\" /><path clip-path=\"url(#clip130)\" d=\"M84.0938 675.026 L88.978 675.026 L88.978 680.905 L84.0938 680.905 L84.0938 675.026 Z\" fill=\"#000000\" fill-rule=\"nonzero\" fill-opacity=\"1\" /><path clip-path=\"url(#clip130)\" d=\"M109.163 649.424 Q105.552 649.424 103.723 652.989 Q101.918 656.531 101.918 663.66 Q101.918 670.767 103.723 674.331 Q105.552 677.873 109.163 677.873 Q112.797 677.873 114.603 674.331 Q116.432 670.767 116.432 663.66 Q116.432 656.531 114.603 652.989 Q112.797 649.424 109.163 649.424 M109.163 645.72 Q114.973 645.72 118.029 650.327 Q121.107 654.91 121.107 663.66 Q121.107 672.387 118.029 676.993 Q114.973 681.577 109.163 681.577 Q103.353 681.577 100.274 676.993 Q97.2187 672.387 97.2187 663.66 Q97.2187 654.91 100.274 650.327 Q103.353 645.72 109.163 645.72 Z\" fill=\"#000000\" fill-rule=\"nonzero\" fill-opacity=\"1\" /><path clip-path=\"url(#clip130)\" d=\"M139.325 649.424 Q135.714 649.424 133.885 652.989 Q132.08 656.531 132.08 663.66 Q132.08 670.767 133.885 674.331 Q135.714 677.873 139.325 677.873 Q142.959 677.873 144.765 674.331 Q146.593 670.767 146.593 663.66 Q146.593 656.531 144.765 652.989 Q142.959 649.424 139.325 649.424 M139.325 645.72 Q145.135 645.72 148.191 650.327 Q151.269 654.91 151.269 663.66 Q151.269 672.387 148.191 676.993 Q145.135 681.577 139.325 681.577 Q133.515 681.577 130.436 676.993 Q127.381 672.387 127.381 663.66 Q127.381 654.91 130.436 650.327 Q133.515 645.72 139.325 645.72 Z\" fill=\"#000000\" fill-rule=\"nonzero\" fill-opacity=\"1\" /><path clip-path=\"url(#clip130)\" d=\"M160.297 676.97 L167.936 676.97 L167.936 650.605 L159.626 652.271 L159.626 648.012 L167.89 646.345 L172.566 646.345 L172.566 676.97 L180.204 676.97 L180.204 680.905 L160.297 680.905 L160.297 676.97 Z\" fill=\"#000000\" fill-rule=\"nonzero\" fill-opacity=\"1\" /><path clip-path=\"url(#clip130)\" d=\"M189.695 646.345 L208.051 646.345 L208.051 650.281 L193.977 650.281 L193.977 658.753 Q194.996 658.406 196.014 658.244 Q197.033 658.058 198.052 658.058 Q203.839 658.058 207.218 661.23 Q210.598 664.401 210.598 669.818 Q210.598 675.396 207.126 678.498 Q203.653 681.577 197.334 681.577 Q195.158 681.577 192.89 681.206 Q190.644 680.836 188.237 680.095 L188.237 675.396 Q190.32 676.53 192.542 677.086 Q194.765 677.642 197.241 677.642 Q201.246 677.642 203.584 675.535 Q205.922 673.429 205.922 669.818 Q205.922 666.206 203.584 664.1 Q201.246 661.994 197.241 661.994 Q195.366 661.994 193.491 662.41 Q191.64 662.827 189.695 663.706 L189.695 646.345 Z\" fill=\"#000000\" fill-rule=\"nonzero\" fill-opacity=\"1\" /><path clip-path=\"url(#clip130)\" d=\"M62.9365 388.727 Q59.3254 388.727 57.4967 392.292 Q55.6912 395.834 55.6912 402.963 Q55.6912 410.07 57.4967 413.635 Q59.3254 417.176 62.9365 417.176 Q66.5707 417.176 68.3763 413.635 Q70.205 410.07 70.205 402.963 Q70.205 395.834 68.3763 392.292 Q66.5707 388.727 62.9365 388.727 M62.9365 385.024 Q68.7467 385.024 71.8022 389.63 Q74.8809 394.213 74.8809 402.963 Q74.8809 411.69 71.8022 416.297 Q68.7467 420.88 62.9365 420.88 Q57.1264 420.88 54.0477 416.297 Q50.9921 411.69 50.9921 402.963 Q50.9921 394.213 54.0477 389.63 Q57.1264 385.024 62.9365 385.024 Z\" fill=\"#000000\" fill-rule=\"nonzero\" fill-opacity=\"1\" /><path clip-path=\"url(#clip130)\" d=\"M83.0984 414.329 L87.9827 414.329 L87.9827 420.209 L83.0984 420.209 L83.0984 414.329 Z\" fill=\"#000000\" fill-rule=\"nonzero\" fill-opacity=\"1\" /><path clip-path=\"url(#clip130)\" d=\"M108.168 388.727 Q104.557 388.727 102.728 392.292 Q100.922 395.834 100.922 402.963 Q100.922 410.07 102.728 413.635 Q104.557 417.176 108.168 417.176 Q111.802 417.176 113.608 413.635 Q115.436 410.07 115.436 402.963 Q115.436 395.834 113.608 392.292 Q111.802 388.727 108.168 388.727 M108.168 385.024 Q113.978 385.024 117.033 389.63 Q120.112 394.213 120.112 402.963 Q120.112 411.69 117.033 416.297 Q113.978 420.88 108.168 420.88 Q102.358 420.88 99.2789 416.297 Q96.2234 411.69 96.2234 402.963 Q96.2234 394.213 99.2789 389.63 Q102.358 385.024 108.168 385.024 Z\" fill=\"#000000\" fill-rule=\"nonzero\" fill-opacity=\"1\" /><path clip-path=\"url(#clip130)\" d=\"M138.33 388.727 Q134.719 388.727 132.89 392.292 Q131.084 395.834 131.084 402.963 Q131.084 410.07 132.89 413.635 Q134.719 417.176 138.33 417.176 Q141.964 417.176 143.769 413.635 Q145.598 410.07 145.598 402.963 Q145.598 395.834 143.769 392.292 Q141.964 388.727 138.33 388.727 M138.33 385.024 Q144.14 385.024 147.195 389.63 Q150.274 394.213 150.274 402.963 Q150.274 411.69 147.195 416.297 Q144.14 420.88 138.33 420.88 Q132.519 420.88 129.441 416.297 Q126.385 411.69 126.385 402.963 Q126.385 394.213 129.441 389.63 Q132.519 385.024 138.33 385.024 Z\" fill=\"#000000\" fill-rule=\"nonzero\" fill-opacity=\"1\" /><path clip-path=\"url(#clip130)\" d=\"M162.519 416.274 L178.839 416.274 L178.839 420.209 L156.894 420.209 L156.894 416.274 Q159.556 413.519 164.14 408.889 Q168.746 404.237 169.927 402.894 Q172.172 400.371 173.052 398.635 Q173.954 396.876 173.954 395.186 Q173.954 392.431 172.01 390.695 Q170.089 388.959 166.987 388.959 Q164.788 388.959 162.334 389.723 Q159.904 390.487 157.126 392.038 L157.126 387.315 Q159.95 386.181 162.404 385.602 Q164.857 385.024 166.894 385.024 Q172.265 385.024 175.459 387.709 Q178.653 390.394 178.653 394.885 Q178.653 397.014 177.843 398.936 Q177.056 400.834 174.95 403.426 Q174.371 404.098 171.269 407.315 Q168.167 410.51 162.519 416.274 Z\" fill=\"#000000\" fill-rule=\"nonzero\" fill-opacity=\"1\" /><path clip-path=\"url(#clip130)\" d=\"M198.653 388.727 Q195.042 388.727 193.214 392.292 Q191.408 395.834 191.408 402.963 Q191.408 410.07 193.214 413.635 Q195.042 417.176 198.653 417.176 Q202.288 417.176 204.093 413.635 Q205.922 410.07 205.922 402.963 Q205.922 395.834 204.093 392.292 Q202.288 388.727 198.653 388.727 M198.653 385.024 Q204.464 385.024 207.519 389.63 Q210.598 394.213 210.598 402.963 Q210.598 411.69 207.519 416.297 Q204.464 420.88 198.653 420.88 Q192.843 420.88 189.765 416.297 Q186.709 411.69 186.709 402.963 Q186.709 394.213 189.765 389.63 Q192.843 385.024 198.653 385.024 Z\" fill=\"#000000\" fill-rule=\"nonzero\" fill-opacity=\"1\" /><path clip-path=\"url(#clip130)\" d=\"M63.9319 128.031 Q60.3208 128.031 58.4921 131.595 Q56.6865 135.137 56.6865 142.267 Q56.6865 149.373 58.4921 152.938 Q60.3208 156.48 63.9319 156.48 Q67.5661 156.48 69.3717 152.938 Q71.2004 149.373 71.2004 142.267 Q71.2004 135.137 69.3717 131.595 Q67.5661 128.031 63.9319 128.031 M63.9319 124.327 Q69.742 124.327 72.7976 128.933 Q75.8763 133.517 75.8763 142.267 Q75.8763 150.993 72.7976 155.6 Q69.742 160.183 63.9319 160.183 Q58.1217 160.183 55.043 155.6 Q51.9875 150.993 51.9875 142.267 Q51.9875 133.517 55.043 128.933 Q58.1217 124.327 63.9319 124.327 Z\" fill=\"#000000\" fill-rule=\"nonzero\" fill-opacity=\"1\" /><path clip-path=\"url(#clip130)\" d=\"M84.0938 153.632 L88.978 153.632 L88.978 159.512 L84.0938 159.512 L84.0938 153.632 Z\" fill=\"#000000\" fill-rule=\"nonzero\" fill-opacity=\"1\" /><path clip-path=\"url(#clip130)\" d=\"M109.163 128.031 Q105.552 128.031 103.723 131.595 Q101.918 135.137 101.918 142.267 Q101.918 149.373 103.723 152.938 Q105.552 156.48 109.163 156.48 Q112.797 156.48 114.603 152.938 Q116.432 149.373 116.432 142.267 Q116.432 135.137 114.603 131.595 Q112.797 128.031 109.163 128.031 M109.163 124.327 Q114.973 124.327 118.029 128.933 Q121.107 133.517 121.107 142.267 Q121.107 150.993 118.029 155.6 Q114.973 160.183 109.163 160.183 Q103.353 160.183 100.274 155.6 Q97.2187 150.993 97.2187 142.267 Q97.2187 133.517 100.274 128.933 Q103.353 124.327 109.163 124.327 Z\" fill=\"#000000\" fill-rule=\"nonzero\" fill-opacity=\"1\" /><path clip-path=\"url(#clip130)\" d=\"M139.325 128.031 Q135.714 128.031 133.885 131.595 Q132.08 135.137 132.08 142.267 Q132.08 149.373 133.885 152.938 Q135.714 156.48 139.325 156.48 Q142.959 156.48 144.765 152.938 Q146.593 149.373 146.593 142.267 Q146.593 135.137 144.765 131.595 Q142.959 128.031 139.325 128.031 M139.325 124.327 Q145.135 124.327 148.191 128.933 Q151.269 133.517 151.269 142.267 Q151.269 150.993 148.191 155.6 Q145.135 160.183 139.325 160.183 Q133.515 160.183 130.436 155.6 Q127.381 150.993 127.381 142.267 Q127.381 133.517 130.436 128.933 Q133.515 124.327 139.325 124.327 Z\" fill=\"#000000\" fill-rule=\"nonzero\" fill-opacity=\"1\" /><path clip-path=\"url(#clip130)\" d=\"M163.515 155.577 L179.834 155.577 L179.834 159.512 L157.89 159.512 L157.89 155.577 Q160.552 152.822 165.135 148.193 Q169.741 143.54 170.922 142.197 Q173.167 139.674 174.047 137.938 Q174.95 136.179 174.95 134.489 Q174.95 131.734 173.005 129.998 Q171.084 128.262 167.982 128.262 Q165.783 128.262 163.329 129.026 Q160.899 129.79 158.121 131.341 L158.121 126.619 Q160.945 125.484 163.399 124.906 Q165.853 124.327 167.89 124.327 Q173.26 124.327 176.454 127.012 Q179.649 129.697 179.649 134.188 Q179.649 136.318 178.839 138.239 Q178.052 140.137 175.945 142.73 Q175.366 143.401 172.265 146.619 Q169.163 149.813 163.515 155.577 Z\" fill=\"#000000\" fill-rule=\"nonzero\" fill-opacity=\"1\" /><path clip-path=\"url(#clip130)\" d=\"M189.695 124.952 L208.051 124.952 L208.051 128.887 L193.977 128.887 L193.977 137.359 Q194.996 137.012 196.014 136.85 Q197.033 136.665 198.052 136.665 Q203.839 136.665 207.218 139.836 Q210.598 143.007 210.598 148.424 Q210.598 154.003 207.126 157.105 Q203.653 160.183 197.334 160.183 Q195.158 160.183 192.89 159.813 Q190.644 159.443 188.237 158.702 L188.237 154.003 Q190.32 155.137 192.542 155.693 Q194.765 156.248 197.241 156.248 Q201.246 156.248 203.584 154.142 Q205.922 152.035 205.922 148.424 Q205.922 144.813 203.584 142.706 Q201.246 140.6 197.241 140.6 Q195.366 140.6 193.491 141.017 Q191.64 141.433 189.695 142.313 L189.695 124.952 Z\" fill=\"#000000\" fill-rule=\"nonzero\" fill-opacity=\"1\" /><polyline clip-path=\"url(#clip132)\" style=\"stroke:#009af9; stroke-linecap:round; stroke-linejoin:round; stroke-width:4; stroke-opacity:1; fill:none\" points=\"246.598,1445.72 250.026,1445.66 253.454,1445.49 256.882,1445.2 260.31,1444.81 276.159,1441.56 292.007,1436.05 307.856,1428.39 323.705,1418.69 339.553,1407.05 355.402,1393.57 371.251,1378.36 387.099,1361.5 406.148,1339.22 425.197,1314.87 444.246,1288.62 463.295,1260.63 479.4,1235.72 495.506,1209.77 511.611,1182.87 527.717,1155.1 562.707,1092.21 597.697,1026.5 629.955,964.136 662.213,900.679 731.381,763.61 811.518,608.757 847.126,543.118 882.735,480.245 913.96,427.799 945.186,378.204 962.208,352.476 979.23,327.731 996.252,304.009 1013.27,281.354 1030.4,259.677 1047.52,239.155 1064.64,219.821 1081.77,201.709 1100.7,183.141 1119.63,166.14 1138.56,150.741 1157.49,136.973 1175.51,125.413 1193.52,115.375 1211.53,106.878 1229.55,99.9369 1248.28,94.3821 1267.01,90.5327 1285.74,88.3961 1304.46,87.9763 1320.23,88.9545 1336,91.1485 1351.76,94.5555 1367.53,99.1708 1386.78,106.435 1406.03,115.475 1425.28,126.275 1444.53,138.811 1462.16,151.798 1479.79,166.199 1497.42,181.988 1515.06,199.139 1531.34,216.162 1547.63,234.296 1563.91,253.513 1580.2,273.783 1596.7,295.357 1613.19,317.947 1629.69,341.515 1646.19,366.022 1664.68,394.556 1683.16,424.16 1701.65,454.771 1720.14,486.325 1753.65,545.686 1787.15,607.478 1863.88,755.54 1934.92,896.287 1969.94,965.194 2004.96,1032.8 2038.96,1096.47 2072.96,1157.42 2090.39,1187.35 2107.82,1216.26 2125.24,1244.02 2142.67,1270.53 2161.76,1298 2180.86,1323.66 2199.95,1347.36 2219.05,1368.92 2232.92,1383.16 2246.78,1396.11 2260.65,1407.72 2274.52,1417.93 2288.39,1426.65 2302.26,1433.82 2316.13,1439.37 2329.99,1443.23 2335.68,1444.31 2341.38,1445.09 2347.07,1445.56 2352.76,1445.72 \"/>\n",
       "<polyline clip-path=\"url(#clip132)\" style=\"stroke:#e26f46; stroke-linecap:round; stroke-linejoin:round; stroke-width:4; stroke-opacity:1; fill:none\" points=\"351.906,1421.85 404.56,1377.89 457.214,1317.4 509.868,1243.74 562.521,1160.07 615.175,1069.33 667.829,974.289 720.483,877.478 773.137,781.244 825.791,687.726 878.445,598.859 931.099,516.373 983.753,441.796 1036.41,376.452 1089.06,321.461 1141.71,277.74 1194.37,246.001 1247.02,226.755 1299.68,220.305 1352.33,226.755 1404.98,246.001 1457.64,277.74 1510.29,321.461 1562.95,376.452 1615.6,441.796 1668.25,516.373 1720.91,598.859 1773.56,687.726 1826.22,781.244 1878.87,877.478 1931.52,974.289 1984.18,1069.33 2036.83,1160.07 2089.49,1243.74 2142.14,1317.4 2194.79,1377.89 2247.45,1421.85 \"/>\n",
       "<path clip-path=\"url(#clip130)\" d=\"M1570.71 250.738 L2282.55 250.738 L2282.55 95.2176 L1570.71 95.2176  Z\" fill=\"#ffffff\" fill-rule=\"evenodd\" fill-opacity=\"1\"/>\n",
       "<polyline clip-path=\"url(#clip130)\" style=\"stroke:#000000; stroke-linecap:round; stroke-linejoin:round; stroke-width:4; stroke-opacity:1; fill:none\" points=\"1570.71,250.738 2282.55,250.738 2282.55,95.2176 1570.71,95.2176 1570.71,250.738 \"/>\n",
       "<polyline clip-path=\"url(#clip130)\" style=\"stroke:#009af9; stroke-linecap:round; stroke-linejoin:round; stroke-width:4; stroke-opacity:1; fill:none\" points=\"1594.11,147.058 1734.52,147.058 \"/>\n",
       "<path clip-path=\"url(#clip130)\" d=\"M1757.92 129.778 L1779.78 129.778 L1779.78 133.713 L1762.6 133.713 L1762.6 143.944 L1779.06 143.944 L1779.06 147.879 L1762.6 147.879 L1762.6 160.402 L1780.19 160.402 L1780.19 164.338 L1757.92 164.338 L1757.92 129.778 Z\" fill=\"#000000\" fill-rule=\"nonzero\" fill-opacity=\"1\" /><path clip-path=\"url(#clip130)\" d=\"M1809.24 138.412 L1799.87 151.027 L1809.73 164.338 L1804.71 164.338 L1797.16 154.152 L1789.61 164.338 L1784.59 164.338 L1794.66 150.773 L1785.45 138.412 L1790.47 138.412 L1797.35 147.648 L1804.22 138.412 L1809.24 138.412 Z\" fill=\"#000000\" fill-rule=\"nonzero\" fill-opacity=\"1\" /><path clip-path=\"url(#clip130)\" d=\"M1827.53 151.305 Q1822.37 151.305 1820.38 152.486 Q1818.39 153.666 1818.39 156.514 Q1818.39 158.782 1819.87 160.125 Q1821.37 161.444 1823.94 161.444 Q1827.48 161.444 1829.61 158.944 Q1831.77 156.421 1831.77 152.254 L1831.77 151.305 L1827.53 151.305 M1836.03 149.546 L1836.03 164.338 L1831.77 164.338 L1831.77 160.402 Q1830.31 162.763 1828.13 163.898 Q1825.96 165.009 1822.81 165.009 Q1818.83 165.009 1816.47 162.787 Q1814.13 160.541 1814.13 156.791 Q1814.13 152.416 1817.04 150.194 Q1819.98 147.972 1825.79 147.972 L1831.77 147.972 L1831.77 147.555 Q1831.77 144.615 1829.82 143.018 Q1827.9 141.398 1824.41 141.398 Q1822.18 141.398 1820.08 141.93 Q1817.97 142.463 1816.03 143.527 L1816.03 139.592 Q1818.36 138.69 1820.56 138.25 Q1822.76 137.787 1824.85 137.787 Q1830.47 137.787 1833.25 140.703 Q1836.03 143.62 1836.03 149.546 Z\" fill=\"#000000\" fill-rule=\"nonzero\" fill-opacity=\"1\" /><path clip-path=\"url(#clip130)\" d=\"M1863.46 139.407 L1863.46 143.389 Q1861.65 142.393 1859.82 141.907 Q1858.02 141.398 1856.16 141.398 Q1852.02 141.398 1849.73 144.037 Q1847.44 146.652 1847.44 151.398 Q1847.44 156.143 1849.73 158.782 Q1852.02 161.398 1856.16 161.398 Q1858.02 161.398 1859.82 160.912 Q1861.65 160.402 1863.46 159.407 L1863.46 163.342 Q1861.67 164.176 1859.75 164.592 Q1857.85 165.009 1855.7 165.009 Q1849.85 165.009 1846.4 161.328 Q1842.95 157.648 1842.95 151.398 Q1842.95 145.055 1846.42 141.421 Q1849.91 137.787 1855.98 137.787 Q1857.95 137.787 1859.82 138.203 Q1861.7 138.597 1863.46 139.407 Z\" fill=\"#000000\" fill-rule=\"nonzero\" fill-opacity=\"1\" /><path clip-path=\"url(#clip130)\" d=\"M1875.08 131.051 L1875.08 138.412 L1883.85 138.412 L1883.85 141.722 L1875.08 141.722 L1875.08 155.796 Q1875.08 158.967 1875.93 159.87 Q1876.81 160.773 1879.47 160.773 L1883.85 160.773 L1883.85 164.338 L1879.47 164.338 Q1874.54 164.338 1872.67 162.509 Q1870.79 160.657 1870.79 155.796 L1870.79 141.722 L1867.67 141.722 L1867.67 138.412 L1870.79 138.412 L1870.79 131.051 L1875.08 131.051 Z\" fill=\"#000000\" fill-rule=\"nonzero\" fill-opacity=\"1\" /><path clip-path=\"url(#clip130)\" d=\"M1921.05 139.176 L1921.05 143.203 Q1919.24 142.277 1917.3 141.815 Q1915.35 141.352 1913.27 141.352 Q1910.1 141.352 1908.5 142.324 Q1906.93 143.296 1906.93 145.24 Q1906.93 146.722 1908.06 147.578 Q1909.2 148.412 1912.62 149.176 L1914.08 149.5 Q1918.62 150.472 1920.52 152.254 Q1922.44 154.014 1922.44 157.185 Q1922.44 160.796 1919.57 162.902 Q1916.72 165.009 1911.72 165.009 Q1909.64 165.009 1907.37 164.592 Q1905.12 164.199 1902.62 163.388 L1902.62 158.99 Q1904.98 160.217 1907.28 160.842 Q1909.57 161.444 1911.81 161.444 Q1914.82 161.444 1916.44 160.426 Q1918.06 159.384 1918.06 157.509 Q1918.06 155.773 1916.88 154.847 Q1915.72 153.921 1911.77 153.064 L1910.29 152.717 Q1906.33 151.884 1904.57 150.171 Q1902.81 148.435 1902.81 145.426 Q1902.81 141.768 1905.4 139.778 Q1907.99 137.787 1912.76 137.787 Q1915.12 137.787 1917.21 138.134 Q1919.29 138.481 1921.05 139.176 Z\" fill=\"#000000\" fill-rule=\"nonzero\" fill-opacity=\"1\" /><path clip-path=\"url(#clip130)\" d=\"M1939.27 141.398 Q1935.84 141.398 1933.85 144.083 Q1931.86 146.745 1931.86 151.398 Q1931.86 156.051 1933.83 158.736 Q1935.82 161.398 1939.27 161.398 Q1942.67 161.398 1944.66 158.713 Q1946.65 156.027 1946.65 151.398 Q1946.65 146.791 1944.66 144.106 Q1942.67 141.398 1939.27 141.398 M1939.27 137.787 Q1944.82 137.787 1947.99 141.398 Q1951.16 145.009 1951.16 151.398 Q1951.16 157.764 1947.99 161.398 Q1944.82 165.009 1939.27 165.009 Q1933.69 165.009 1930.52 161.398 Q1927.37 157.764 1927.37 151.398 Q1927.37 145.009 1930.52 141.398 Q1933.69 137.787 1939.27 137.787 Z\" fill=\"#000000\" fill-rule=\"nonzero\" fill-opacity=\"1\" /><path clip-path=\"url(#clip130)\" d=\"M1958.22 128.319 L1962.48 128.319 L1962.48 164.338 L1958.22 164.338 L1958.22 128.319 Z\" fill=\"#000000\" fill-rule=\"nonzero\" fill-opacity=\"1\" /><path clip-path=\"url(#clip130)\" d=\"M1970.96 154.106 L1970.96 138.412 L1975.22 138.412 L1975.22 153.944 Q1975.22 157.625 1976.65 159.476 Q1978.09 161.305 1980.96 161.305 Q1984.4 161.305 1986.4 159.106 Q1988.41 156.907 1988.41 153.111 L1988.41 138.412 L1992.67 138.412 L1992.67 164.338 L1988.41 164.338 L1988.41 160.356 Q1986.86 162.717 1984.8 163.875 Q1982.76 165.009 1980.05 165.009 Q1975.59 165.009 1973.27 162.231 Q1970.96 159.453 1970.96 154.106 M1981.67 137.787 L1981.67 137.787 Z\" fill=\"#000000\" fill-rule=\"nonzero\" fill-opacity=\"1\" /><path clip-path=\"url(#clip130)\" d=\"M2005.65 131.051 L2005.65 138.412 L2014.43 138.412 L2014.43 141.722 L2005.65 141.722 L2005.65 155.796 Q2005.65 158.967 2006.51 159.87 Q2007.39 160.773 2010.05 160.773 L2014.43 160.773 L2014.43 164.338 L2010.05 164.338 Q2005.12 164.338 2003.25 162.509 Q2001.37 160.657 2001.37 155.796 L2001.37 141.722 L1998.25 141.722 L1998.25 138.412 L2001.37 138.412 L2001.37 131.051 L2005.65 131.051 Z\" fill=\"#000000\" fill-rule=\"nonzero\" fill-opacity=\"1\" /><path clip-path=\"url(#clip130)\" d=\"M2020.03 138.412 L2024.29 138.412 L2024.29 164.338 L2020.03 164.338 L2020.03 138.412 M2020.03 128.319 L2024.29 128.319 L2024.29 133.713 L2020.03 133.713 L2020.03 128.319 Z\" fill=\"#000000\" fill-rule=\"nonzero\" fill-opacity=\"1\" /><path clip-path=\"url(#clip130)\" d=\"M2043.25 141.398 Q2039.82 141.398 2037.83 144.083 Q2035.84 146.745 2035.84 151.398 Q2035.84 156.051 2037.81 158.736 Q2039.8 161.398 2043.25 161.398 Q2046.65 161.398 2048.64 158.713 Q2050.63 156.027 2050.63 151.398 Q2050.63 146.791 2048.64 144.106 Q2046.65 141.398 2043.25 141.398 M2043.25 137.787 Q2048.8 137.787 2051.97 141.398 Q2055.15 145.009 2055.15 151.398 Q2055.15 157.764 2051.97 161.398 Q2048.8 165.009 2043.25 165.009 Q2037.67 165.009 2034.5 161.398 Q2031.35 157.764 2031.35 151.398 Q2031.35 145.009 2034.5 141.398 Q2037.67 137.787 2043.25 137.787 Z\" fill=\"#000000\" fill-rule=\"nonzero\" fill-opacity=\"1\" /><path clip-path=\"url(#clip130)\" d=\"M2083.76 148.689 L2083.76 164.338 L2079.5 164.338 L2079.5 148.828 Q2079.5 145.148 2078.06 143.319 Q2076.63 141.49 2073.76 141.49 Q2070.31 141.49 2068.32 143.69 Q2066.33 145.889 2066.33 149.685 L2066.33 164.338 L2062.04 164.338 L2062.04 138.412 L2066.33 138.412 L2066.33 142.44 Q2067.85 140.102 2069.91 138.944 Q2072 137.787 2074.71 137.787 Q2079.17 137.787 2081.46 140.565 Q2083.76 143.319 2083.76 148.689 Z\" fill=\"#000000\" fill-rule=\"nonzero\" fill-opacity=\"1\" /><polyline clip-path=\"url(#clip130)\" style=\"stroke:#e26f46; stroke-linecap:round; stroke-linejoin:round; stroke-width:4; stroke-opacity:1; fill:none\" points=\"1594.11,198.898 1734.52,198.898 \"/>\n",
       "<path clip-path=\"url(#clip130)\" d=\"M1773.76 186.224 L1767.42 203.423 L1780.12 203.423 L1773.76 186.224 M1771.12 181.618 L1776.42 181.618 L1789.59 216.178 L1784.73 216.178 L1781.58 207.312 L1766 207.312 L1762.86 216.178 L1757.92 216.178 L1771.12 181.618 Z\" fill=\"#000000\" fill-rule=\"nonzero\" fill-opacity=\"1\" /><path clip-path=\"url(#clip130)\" d=\"M1798.57 212.289 L1798.57 226.039 L1794.29 226.039 L1794.29 190.252 L1798.57 190.252 L1798.57 194.187 Q1799.92 191.872 1801.95 190.761 Q1804.01 189.627 1806.86 189.627 Q1811.58 189.627 1814.52 193.377 Q1817.48 197.127 1817.48 203.238 Q1817.48 209.349 1814.52 213.099 Q1811.58 216.849 1806.86 216.849 Q1804.01 216.849 1801.95 215.738 Q1799.92 214.603 1798.57 212.289 M1813.06 203.238 Q1813.06 198.539 1811.12 195.877 Q1809.2 193.192 1805.82 193.192 Q1802.44 193.192 1800.49 195.877 Q1798.57 198.539 1798.57 203.238 Q1798.57 207.937 1800.49 210.622 Q1802.44 213.284 1805.82 213.284 Q1809.2 213.284 1811.12 210.622 Q1813.06 207.937 1813.06 203.238 Z\" fill=\"#000000\" fill-rule=\"nonzero\" fill-opacity=\"1\" /><path clip-path=\"url(#clip130)\" d=\"M1828.67 212.289 L1828.67 226.039 L1824.38 226.039 L1824.38 190.252 L1828.67 190.252 L1828.67 194.187 Q1830.01 191.872 1832.04 190.761 Q1834.1 189.627 1836.95 189.627 Q1841.67 189.627 1844.61 193.377 Q1847.58 197.127 1847.58 203.238 Q1847.58 209.349 1844.61 213.099 Q1841.67 216.849 1836.95 216.849 Q1834.1 216.849 1832.04 215.738 Q1830.01 214.603 1828.67 212.289 M1843.16 203.238 Q1843.16 198.539 1841.21 195.877 Q1839.29 193.192 1835.91 193.192 Q1832.53 193.192 1830.59 195.877 Q1828.67 198.539 1828.67 203.238 Q1828.67 207.937 1830.59 210.622 Q1832.53 213.284 1835.91 213.284 Q1839.29 213.284 1841.21 210.622 Q1843.16 207.937 1843.16 203.238 Z\" fill=\"#000000\" fill-rule=\"nonzero\" fill-opacity=\"1\" /><path clip-path=\"url(#clip130)\" d=\"M1869.66 194.233 Q1868.94 193.817 1868.09 193.631 Q1867.25 193.423 1866.23 193.423 Q1862.62 193.423 1860.68 195.784 Q1858.76 198.122 1858.76 202.52 L1858.76 216.178 L1854.48 216.178 L1854.48 190.252 L1858.76 190.252 L1858.76 194.28 Q1860.1 191.918 1862.25 190.784 Q1864.41 189.627 1867.48 189.627 Q1867.92 189.627 1868.46 189.696 Q1868.99 189.743 1869.64 189.858 L1869.66 194.233 Z\" fill=\"#000000\" fill-rule=\"nonzero\" fill-opacity=\"1\" /><path clip-path=\"url(#clip130)\" d=\"M1883.13 193.238 Q1879.71 193.238 1877.72 195.923 Q1875.73 198.585 1875.73 203.238 Q1875.73 207.891 1877.69 210.576 Q1879.68 213.238 1883.13 213.238 Q1886.54 213.238 1888.53 210.553 Q1890.52 207.867 1890.52 203.238 Q1890.52 198.631 1888.53 195.946 Q1886.54 193.238 1883.13 193.238 M1883.13 189.627 Q1888.69 189.627 1891.86 193.238 Q1895.03 196.849 1895.03 203.238 Q1895.03 209.604 1891.86 213.238 Q1888.69 216.849 1883.13 216.849 Q1877.55 216.849 1874.38 213.238 Q1871.23 209.604 1871.23 203.238 Q1871.23 196.849 1874.38 193.238 Q1877.55 189.627 1883.13 189.627 Z\" fill=\"#000000\" fill-rule=\"nonzero\" fill-opacity=\"1\" /><path clip-path=\"url(#clip130)\" d=\"M1922.18 190.252 L1912.81 202.867 L1922.67 216.178 L1917.65 216.178 L1910.1 205.992 L1902.55 216.178 L1897.53 216.178 L1907.6 202.613 L1898.39 190.252 L1903.41 190.252 L1910.29 199.488 L1917.16 190.252 L1922.18 190.252 Z\" fill=\"#000000\" fill-rule=\"nonzero\" fill-opacity=\"1\" /><path clip-path=\"url(#clip130)\" d=\"M1928.69 190.252 L1932.95 190.252 L1932.95 216.178 L1928.69 216.178 L1928.69 190.252 M1928.69 180.159 L1932.95 180.159 L1932.95 185.553 L1928.69 185.553 L1928.69 180.159 Z\" fill=\"#000000\" fill-rule=\"nonzero\" fill-opacity=\"1\" /><path clip-path=\"url(#clip130)\" d=\"M1962.04 195.229 Q1963.64 192.358 1965.86 190.993 Q1968.09 189.627 1971.09 189.627 Q1975.15 189.627 1977.34 192.474 Q1979.54 195.298 1979.54 200.529 L1979.54 216.178 L1975.26 216.178 L1975.26 200.668 Q1975.26 196.942 1973.94 195.136 Q1972.62 193.33 1969.91 193.33 Q1966.6 193.33 1964.68 195.53 Q1962.76 197.729 1962.76 201.525 L1962.76 216.178 L1958.48 216.178 L1958.48 200.668 Q1958.48 196.918 1957.16 195.136 Q1955.84 193.33 1953.09 193.33 Q1949.82 193.33 1947.9 195.553 Q1945.98 197.752 1945.98 201.525 L1945.98 216.178 L1941.7 216.178 L1941.7 190.252 L1945.98 190.252 L1945.98 194.28 Q1947.44 191.895 1949.47 190.761 Q1951.51 189.627 1954.31 189.627 Q1957.14 189.627 1959.1 191.062 Q1961.09 192.497 1962.04 195.229 Z\" fill=\"#000000\" fill-rule=\"nonzero\" fill-opacity=\"1\" /><path clip-path=\"url(#clip130)\" d=\"M1999.82 203.145 Q1994.66 203.145 1992.67 204.326 Q1990.68 205.506 1990.68 208.354 Q1990.68 210.622 1992.16 211.965 Q1993.66 213.284 1996.23 213.284 Q1999.78 213.284 2001.9 210.784 Q2004.06 208.261 2004.06 204.094 L2004.06 203.145 L1999.82 203.145 M2008.32 201.386 L2008.32 216.178 L2004.06 216.178 L2004.06 212.242 Q2002.6 214.603 2000.42 215.738 Q1998.25 216.849 1995.1 216.849 Q1991.12 216.849 1988.76 214.627 Q1986.42 212.381 1986.42 208.631 Q1986.42 204.256 1989.34 202.034 Q1992.28 199.812 1998.09 199.812 L2004.06 199.812 L2004.06 199.395 Q2004.06 196.455 2002.11 194.858 Q2000.19 193.238 1996.7 193.238 Q1994.47 193.238 1992.37 193.77 Q1990.26 194.303 1988.32 195.367 L1988.32 191.432 Q1990.65 190.53 1992.85 190.09 Q1995.05 189.627 1997.14 189.627 Q2002.76 189.627 2005.54 192.543 Q2008.32 195.46 2008.32 201.386 Z\" fill=\"#000000\" fill-rule=\"nonzero\" fill-opacity=\"1\" /><path clip-path=\"url(#clip130)\" d=\"M2021.3 182.891 L2021.3 190.252 L2030.08 190.252 L2030.08 193.562 L2021.3 193.562 L2021.3 207.636 Q2021.3 210.807 2022.16 211.71 Q2023.04 212.613 2025.7 212.613 L2030.08 212.613 L2030.08 216.178 L2025.7 216.178 Q2020.77 216.178 2018.9 214.349 Q2017.02 212.497 2017.02 207.636 L2017.02 193.562 L2013.9 193.562 L2013.9 190.252 L2017.02 190.252 L2017.02 182.891 L2021.3 182.891 Z\" fill=\"#000000\" fill-rule=\"nonzero\" fill-opacity=\"1\" /><path clip-path=\"url(#clip130)\" d=\"M2057.85 202.15 L2057.85 204.233 L2038.27 204.233 Q2038.55 208.631 2040.91 210.946 Q2043.29 213.238 2047.53 213.238 Q2049.98 213.238 2052.27 212.636 Q2054.59 212.034 2056.86 210.83 L2056.86 214.858 Q2054.57 215.83 2052.16 216.34 Q2049.75 216.849 2047.28 216.849 Q2041.07 216.849 2037.44 213.238 Q2033.83 209.627 2033.83 203.469 Q2033.83 197.104 2037.25 193.377 Q2040.7 189.627 2046.53 189.627 Q2051.77 189.627 2054.8 193.006 Q2057.85 196.363 2057.85 202.15 M2053.59 200.9 Q2053.55 197.405 2051.63 195.321 Q2049.73 193.238 2046.58 193.238 Q2043.02 193.238 2040.86 195.252 Q2038.73 197.266 2038.41 200.923 L2053.59 200.9 Z\" fill=\"#000000\" fill-rule=\"nonzero\" fill-opacity=\"1\" /><path clip-path=\"url(#clip130)\" d=\"M2096.44 191.016 L2096.44 195.043 Q2094.64 194.117 2092.69 193.655 Q2090.75 193.192 2088.66 193.192 Q2085.49 193.192 2083.9 194.164 Q2082.32 195.136 2082.32 197.08 Q2082.32 198.562 2083.46 199.418 Q2084.59 200.252 2088.02 201.016 L2089.47 201.34 Q2094.01 202.312 2095.91 204.094 Q2097.83 205.854 2097.83 209.025 Q2097.83 212.636 2094.96 214.742 Q2092.11 216.849 2087.11 216.849 Q2085.03 216.849 2082.76 216.432 Q2080.52 216.039 2078.02 215.228 L2078.02 210.83 Q2080.38 212.057 2082.67 212.682 Q2084.96 213.284 2087.21 213.284 Q2090.21 213.284 2091.83 212.266 Q2093.46 211.224 2093.46 209.349 Q2093.46 207.613 2092.27 206.687 Q2091.12 205.761 2087.16 204.904 L2085.68 204.557 Q2081.72 203.724 2079.96 202.011 Q2078.2 200.275 2078.2 197.266 Q2078.2 193.608 2080.79 191.618 Q2083.39 189.627 2088.15 189.627 Q2090.52 189.627 2092.6 189.974 Q2094.68 190.321 2096.44 191.016 Z\" fill=\"#000000\" fill-rule=\"nonzero\" fill-opacity=\"1\" /><path clip-path=\"url(#clip130)\" d=\"M2114.66 193.238 Q2111.23 193.238 2109.24 195.923 Q2107.25 198.585 2107.25 203.238 Q2107.25 207.891 2109.22 210.576 Q2111.21 213.238 2114.66 213.238 Q2118.06 213.238 2120.05 210.553 Q2122.04 207.867 2122.04 203.238 Q2122.04 198.631 2120.05 195.946 Q2118.06 193.238 2114.66 193.238 M2114.66 189.627 Q2120.21 189.627 2123.39 193.238 Q2126.56 196.849 2126.56 203.238 Q2126.56 209.604 2123.39 213.238 Q2120.21 216.849 2114.66 216.849 Q2109.08 216.849 2105.91 213.238 Q2102.76 209.604 2102.76 203.238 Q2102.76 196.849 2105.91 193.238 Q2109.08 189.627 2114.66 189.627 Z\" fill=\"#000000\" fill-rule=\"nonzero\" fill-opacity=\"1\" /><path clip-path=\"url(#clip130)\" d=\"M2133.62 180.159 L2137.88 180.159 L2137.88 216.178 L2133.62 216.178 L2133.62 180.159 Z\" fill=\"#000000\" fill-rule=\"nonzero\" fill-opacity=\"1\" /><path clip-path=\"url(#clip130)\" d=\"M2146.35 205.946 L2146.35 190.252 L2150.61 190.252 L2150.61 205.784 Q2150.61 209.465 2152.04 211.316 Q2153.48 213.145 2156.35 213.145 Q2159.8 213.145 2161.79 210.946 Q2163.8 208.747 2163.8 204.951 L2163.8 190.252 L2168.06 190.252 L2168.06 216.178 L2163.8 216.178 L2163.8 212.196 Q2162.25 214.557 2160.19 215.715 Q2158.15 216.849 2155.45 216.849 Q2150.98 216.849 2148.66 214.071 Q2146.35 211.293 2146.35 205.946 M2157.07 189.627 L2157.07 189.627 Z\" fill=\"#000000\" fill-rule=\"nonzero\" fill-opacity=\"1\" /><path clip-path=\"url(#clip130)\" d=\"M2181.05 182.891 L2181.05 190.252 L2189.82 190.252 L2189.82 193.562 L2181.05 193.562 L2181.05 207.636 Q2181.05 210.807 2181.9 211.71 Q2182.78 212.613 2185.45 212.613 L2189.82 212.613 L2189.82 216.178 L2185.45 216.178 Q2180.52 216.178 2178.64 214.349 Q2176.77 212.497 2176.77 207.636 L2176.77 193.562 L2173.64 193.562 L2173.64 190.252 L2176.77 190.252 L2176.77 182.891 L2181.05 182.891 Z\" fill=\"#000000\" fill-rule=\"nonzero\" fill-opacity=\"1\" /><path clip-path=\"url(#clip130)\" d=\"M2195.42 190.252 L2199.68 190.252 L2199.68 216.178 L2195.42 216.178 L2195.42 190.252 M2195.42 180.159 L2199.68 180.159 L2199.68 185.553 L2195.42 185.553 L2195.42 180.159 Z\" fill=\"#000000\" fill-rule=\"nonzero\" fill-opacity=\"1\" /><path clip-path=\"url(#clip130)\" d=\"M2218.64 193.238 Q2215.21 193.238 2213.22 195.923 Q2211.23 198.585 2211.23 203.238 Q2211.23 207.891 2213.2 210.576 Q2215.19 213.238 2218.64 213.238 Q2222.04 213.238 2224.03 210.553 Q2226.02 207.867 2226.02 203.238 Q2226.02 198.631 2224.03 195.946 Q2222.04 193.238 2218.64 193.238 M2218.64 189.627 Q2224.2 189.627 2227.37 193.238 Q2230.54 196.849 2230.54 203.238 Q2230.54 209.604 2227.37 213.238 Q2224.2 216.849 2218.64 216.849 Q2213.06 216.849 2209.89 213.238 Q2206.74 209.604 2206.74 203.238 Q2206.74 196.849 2209.89 193.238 Q2213.06 189.627 2218.64 189.627 Z\" fill=\"#000000\" fill-rule=\"nonzero\" fill-opacity=\"1\" /><path clip-path=\"url(#clip130)\" d=\"M2259.15 200.529 L2259.15 216.178 L2254.89 216.178 L2254.89 200.668 Q2254.89 196.988 2253.45 195.159 Q2252.02 193.33 2249.15 193.33 Q2245.7 193.33 2243.71 195.53 Q2241.72 197.729 2241.72 201.525 L2241.72 216.178 L2237.44 216.178 L2237.44 190.252 L2241.72 190.252 L2241.72 194.28 Q2243.25 191.942 2245.31 190.784 Q2247.39 189.627 2250.1 189.627 Q2254.57 189.627 2256.86 192.405 Q2259.15 195.159 2259.15 200.529 Z\" fill=\"#000000\" fill-rule=\"nonzero\" fill-opacity=\"1\" /></svg>\n"
      ],
      "text/html": [
       "<?xml version=\"1.0\" encoding=\"utf-8\"?>\n",
       "<svg xmlns=\"http://www.w3.org/2000/svg\" xmlns:xlink=\"http://www.w3.org/1999/xlink\" width=\"600\" height=\"400\" viewBox=\"0 0 2400 1600\">\n",
       "<defs>\n",
       "  <clipPath id=\"clip180\">\n",
       "    <rect x=\"0\" y=\"0\" width=\"2400\" height=\"1600\"/>\n",
       "  </clipPath>\n",
       "</defs>\n",
       "<path clip-path=\"url(#clip180)\" d=\"M0 1600 L2400 1600 L2400 0 L0 0  Z\" fill=\"#ffffff\" fill-rule=\"evenodd\" fill-opacity=\"1\"/>\n",
       "<defs>\n",
       "  <clipPath id=\"clip181\">\n",
       "    <rect x=\"480\" y=\"0\" width=\"1681\" height=\"1600\"/>\n",
       "  </clipPath>\n",
       "</defs>\n",
       "<path clip-path=\"url(#clip180)\" d=\"M246.598 1486.45 L2352.76 1486.45 L2352.76 47.2441 L246.598 47.2441  Z\" fill=\"#ffffff\" fill-rule=\"evenodd\" fill-opacity=\"1\"/>\n",
       "<defs>\n",
       "  <clipPath id=\"clip182\">\n",
       "    <rect x=\"246\" y=\"47\" width=\"2107\" height=\"1440\"/>\n",
       "  </clipPath>\n",
       "</defs>\n",
       "<polyline clip-path=\"url(#clip182)\" style=\"stroke:#000000; stroke-linecap:round; stroke-linejoin:round; stroke-width:2; stroke-opacity:0.1; fill:none\" points=\"246.598,1486.45 246.598,47.2441 \"/>\n",
       "<polyline clip-path=\"url(#clip182)\" style=\"stroke:#000000; stroke-linecap:round; stroke-linejoin:round; stroke-width:2; stroke-opacity:0.1; fill:none\" points=\"667.829,1486.45 667.829,47.2441 \"/>\n",
       "<polyline clip-path=\"url(#clip182)\" style=\"stroke:#000000; stroke-linecap:round; stroke-linejoin:round; stroke-width:2; stroke-opacity:0.1; fill:none\" points=\"1089.06,1486.45 1089.06,47.2441 \"/>\n",
       "<polyline clip-path=\"url(#clip182)\" style=\"stroke:#000000; stroke-linecap:round; stroke-linejoin:round; stroke-width:2; stroke-opacity:0.1; fill:none\" points=\"1510.29,1486.45 1510.29,47.2441 \"/>\n",
       "<polyline clip-path=\"url(#clip182)\" style=\"stroke:#000000; stroke-linecap:round; stroke-linejoin:round; stroke-width:2; stroke-opacity:0.1; fill:none\" points=\"1931.52,1486.45 1931.52,47.2441 \"/>\n",
       "<polyline clip-path=\"url(#clip182)\" style=\"stroke:#000000; stroke-linecap:round; stroke-linejoin:round; stroke-width:2; stroke-opacity:0.1; fill:none\" points=\"2352.76,1486.45 2352.76,47.2441 \"/>\n",
       "<polyline clip-path=\"url(#clip180)\" style=\"stroke:#000000; stroke-linecap:round; stroke-linejoin:round; stroke-width:4; stroke-opacity:1; fill:none\" points=\"246.598,1486.45 2352.76,1486.45 \"/>\n",
       "<polyline clip-path=\"url(#clip180)\" style=\"stroke:#000000; stroke-linecap:round; stroke-linejoin:round; stroke-width:4; stroke-opacity:1; fill:none\" points=\"246.598,1486.45 246.598,1467.55 \"/>\n",
       "<polyline clip-path=\"url(#clip180)\" style=\"stroke:#000000; stroke-linecap:round; stroke-linejoin:round; stroke-width:4; stroke-opacity:1; fill:none\" points=\"667.829,1486.45 667.829,1467.55 \"/>\n",
       "<polyline clip-path=\"url(#clip180)\" style=\"stroke:#000000; stroke-linecap:round; stroke-linejoin:round; stroke-width:4; stroke-opacity:1; fill:none\" points=\"1089.06,1486.45 1089.06,1467.55 \"/>\n",
       "<polyline clip-path=\"url(#clip180)\" style=\"stroke:#000000; stroke-linecap:round; stroke-linejoin:round; stroke-width:4; stroke-opacity:1; fill:none\" points=\"1510.29,1486.45 1510.29,1467.55 \"/>\n",
       "<polyline clip-path=\"url(#clip180)\" style=\"stroke:#000000; stroke-linecap:round; stroke-linejoin:round; stroke-width:4; stroke-opacity:1; fill:none\" points=\"1931.52,1486.45 1931.52,1467.55 \"/>\n",
       "<polyline clip-path=\"url(#clip180)\" style=\"stroke:#000000; stroke-linecap:round; stroke-linejoin:round; stroke-width:4; stroke-opacity:1; fill:none\" points=\"2352.76,1486.45 2352.76,1467.55 \"/>\n",
       "<path clip-path=\"url(#clip180)\" d=\"M223.982 1517.37 Q220.371 1517.37 218.542 1520.93 Q216.737 1524.47 216.737 1531.6 Q216.737 1538.71 218.542 1542.27 Q220.371 1545.82 223.982 1545.82 Q227.616 1545.82 229.422 1542.27 Q231.251 1538.71 231.251 1531.6 Q231.251 1524.47 229.422 1520.93 Q227.616 1517.37 223.982 1517.37 M223.982 1513.66 Q229.792 1513.66 232.848 1518.27 Q235.927 1522.85 235.927 1531.6 Q235.927 1540.33 232.848 1544.94 Q229.792 1549.52 223.982 1549.52 Q218.172 1549.52 215.093 1544.94 Q212.038 1540.33 212.038 1531.6 Q212.038 1522.85 215.093 1518.27 Q218.172 1513.66 223.982 1513.66 Z\" fill=\"#000000\" fill-rule=\"nonzero\" fill-opacity=\"1\" /><path clip-path=\"url(#clip180)\" d=\"M244.144 1542.97 L249.028 1542.97 L249.028 1548.85 L244.144 1548.85 L244.144 1542.97 Z\" fill=\"#000000\" fill-rule=\"nonzero\" fill-opacity=\"1\" /><path clip-path=\"url(#clip180)\" d=\"M269.213 1517.37 Q265.602 1517.37 263.774 1520.93 Q261.968 1524.47 261.968 1531.6 Q261.968 1538.71 263.774 1542.27 Q265.602 1545.82 269.213 1545.82 Q272.848 1545.82 274.653 1542.27 Q276.482 1538.71 276.482 1531.6 Q276.482 1524.47 274.653 1520.93 Q272.848 1517.37 269.213 1517.37 M269.213 1513.66 Q275.024 1513.66 278.079 1518.27 Q281.158 1522.85 281.158 1531.6 Q281.158 1540.33 278.079 1544.94 Q275.024 1549.52 269.213 1549.52 Q263.403 1549.52 260.325 1544.94 Q257.269 1540.33 257.269 1531.6 Q257.269 1522.85 260.325 1518.27 Q263.403 1513.66 269.213 1513.66 Z\" fill=\"#000000\" fill-rule=\"nonzero\" fill-opacity=\"1\" /><path clip-path=\"url(#clip180)\" d=\"M646.012 1517.37 Q642.401 1517.37 640.573 1520.93 Q638.767 1524.47 638.767 1531.6 Q638.767 1538.71 640.573 1542.27 Q642.401 1545.82 646.012 1545.82 Q649.647 1545.82 651.452 1542.27 Q653.281 1538.71 653.281 1531.6 Q653.281 1524.47 651.452 1520.93 Q649.647 1517.37 646.012 1517.37 M646.012 1513.66 Q651.823 1513.66 654.878 1518.27 Q657.957 1522.85 657.957 1531.6 Q657.957 1540.33 654.878 1544.94 Q651.823 1549.52 646.012 1549.52 Q640.202 1549.52 637.124 1544.94 Q634.068 1540.33 634.068 1531.6 Q634.068 1522.85 637.124 1518.27 Q640.202 1513.66 646.012 1513.66 Z\" fill=\"#000000\" fill-rule=\"nonzero\" fill-opacity=\"1\" /><path clip-path=\"url(#clip180)\" d=\"M666.174 1542.97 L671.059 1542.97 L671.059 1548.85 L666.174 1548.85 L666.174 1542.97 Z\" fill=\"#000000\" fill-rule=\"nonzero\" fill-opacity=\"1\" /><path clip-path=\"url(#clip180)\" d=\"M685.271 1544.91 L701.591 1544.91 L701.591 1548.85 L679.646 1548.85 L679.646 1544.91 Q682.308 1542.16 686.892 1537.53 Q691.498 1532.88 692.679 1531.53 Q694.924 1529.01 695.804 1527.27 Q696.707 1525.51 696.707 1523.82 Q696.707 1521.07 694.762 1519.33 Q692.841 1517.6 689.739 1517.6 Q687.54 1517.6 685.086 1518.36 Q682.656 1519.13 679.878 1520.68 L679.878 1515.95 Q682.702 1514.82 685.156 1514.24 Q687.609 1513.66 689.646 1513.66 Q695.017 1513.66 698.211 1516.35 Q701.406 1519.03 701.406 1523.52 Q701.406 1525.65 700.595 1527.57 Q699.808 1529.47 697.702 1532.07 Q697.123 1532.74 694.021 1535.95 Q690.92 1539.15 685.271 1544.91 Z\" fill=\"#000000\" fill-rule=\"nonzero\" fill-opacity=\"1\" /><path clip-path=\"url(#clip180)\" d=\"M1066.2 1517.37 Q1062.59 1517.37 1060.76 1520.93 Q1058.96 1524.47 1058.96 1531.6 Q1058.96 1538.71 1060.76 1542.27 Q1062.59 1545.82 1066.2 1545.82 Q1069.84 1545.82 1071.64 1542.27 Q1073.47 1538.71 1073.47 1531.6 Q1073.47 1524.47 1071.64 1520.93 Q1069.84 1517.37 1066.2 1517.37 M1066.2 1513.66 Q1072.01 1513.66 1075.07 1518.27 Q1078.15 1522.85 1078.15 1531.6 Q1078.15 1540.33 1075.07 1544.94 Q1072.01 1549.52 1066.2 1549.52 Q1060.39 1549.52 1057.31 1544.94 Q1054.26 1540.33 1054.26 1531.6 Q1054.26 1522.85 1057.31 1518.27 Q1060.39 1513.66 1066.2 1513.66 Z\" fill=\"#000000\" fill-rule=\"nonzero\" fill-opacity=\"1\" /><path clip-path=\"url(#clip180)\" d=\"M1086.36 1542.97 L1091.25 1542.97 L1091.25 1548.85 L1086.36 1548.85 L1086.36 1542.97 Z\" fill=\"#000000\" fill-rule=\"nonzero\" fill-opacity=\"1\" /><path clip-path=\"url(#clip180)\" d=\"M1114.28 1518.36 L1102.48 1536.81 L1114.28 1536.81 L1114.28 1518.36 M1113.05 1514.29 L1118.93 1514.29 L1118.93 1536.81 L1123.86 1536.81 L1123.86 1540.7 L1118.93 1540.7 L1118.93 1548.85 L1114.28 1548.85 L1114.28 1540.7 L1098.68 1540.7 L1098.68 1536.19 L1113.05 1514.29 Z\" fill=\"#000000\" fill-rule=\"nonzero\" fill-opacity=\"1\" /><path clip-path=\"url(#clip180)\" d=\"M1487.6 1517.37 Q1483.98 1517.37 1482.16 1520.93 Q1480.35 1524.47 1480.35 1531.6 Q1480.35 1538.71 1482.16 1542.27 Q1483.98 1545.82 1487.6 1545.82 Q1491.23 1545.82 1493.04 1542.27 Q1494.86 1538.71 1494.86 1531.6 Q1494.86 1524.47 1493.04 1520.93 Q1491.23 1517.37 1487.6 1517.37 M1487.6 1513.66 Q1493.41 1513.66 1496.46 1518.27 Q1499.54 1522.85 1499.54 1531.6 Q1499.54 1540.33 1496.46 1544.94 Q1493.41 1549.52 1487.6 1549.52 Q1481.79 1549.52 1478.71 1544.94 Q1475.65 1540.33 1475.65 1531.6 Q1475.65 1522.85 1478.71 1518.27 Q1481.79 1513.66 1487.6 1513.66 Z\" fill=\"#000000\" fill-rule=\"nonzero\" fill-opacity=\"1\" /><path clip-path=\"url(#clip180)\" d=\"M1507.76 1542.97 L1512.64 1542.97 L1512.64 1548.85 L1507.76 1548.85 L1507.76 1542.97 Z\" fill=\"#000000\" fill-rule=\"nonzero\" fill-opacity=\"1\" /><path clip-path=\"url(#clip180)\" d=\"M1533.41 1529.7 Q1530.26 1529.7 1528.41 1531.86 Q1526.58 1534.01 1526.58 1537.76 Q1526.58 1541.49 1528.41 1543.66 Q1530.26 1545.82 1533.41 1545.82 Q1536.55 1545.82 1538.38 1543.66 Q1540.23 1541.49 1540.23 1537.76 Q1540.23 1534.01 1538.38 1531.86 Q1536.55 1529.7 1533.41 1529.7 M1542.69 1515.05 L1542.69 1519.31 Q1540.93 1518.48 1539.12 1518.04 Q1537.34 1517.6 1535.58 1517.6 Q1530.95 1517.6 1528.5 1520.72 Q1526.07 1523.85 1525.72 1530.17 Q1527.09 1528.15 1529.15 1527.09 Q1531.21 1526 1533.68 1526 Q1538.89 1526 1541.9 1529.17 Q1544.93 1532.32 1544.93 1537.76 Q1544.93 1543.08 1541.79 1546.3 Q1538.64 1549.52 1533.41 1549.52 Q1527.41 1549.52 1524.24 1544.94 Q1521.07 1540.33 1521.07 1531.6 Q1521.07 1523.41 1524.96 1518.55 Q1528.85 1513.66 1535.4 1513.66 Q1537.16 1513.66 1538.94 1514.01 Q1540.74 1514.36 1542.69 1515.05 Z\" fill=\"#000000\" fill-rule=\"nonzero\" fill-opacity=\"1\" /><path clip-path=\"url(#clip180)\" d=\"M1908.95 1517.37 Q1905.34 1517.37 1903.52 1520.93 Q1901.71 1524.47 1901.71 1531.6 Q1901.71 1538.71 1903.52 1542.27 Q1905.34 1545.82 1908.95 1545.82 Q1912.59 1545.82 1914.39 1542.27 Q1916.22 1538.71 1916.22 1531.6 Q1916.22 1524.47 1914.39 1520.93 Q1912.59 1517.37 1908.95 1517.37 M1908.95 1513.66 Q1914.77 1513.66 1917.82 1518.27 Q1920.9 1522.85 1920.9 1531.6 Q1920.9 1540.33 1917.82 1544.94 Q1914.77 1549.52 1908.95 1549.52 Q1903.14 1549.52 1900.07 1544.94 Q1897.01 1540.33 1897.01 1531.6 Q1897.01 1522.85 1900.07 1518.27 Q1903.14 1513.66 1908.95 1513.66 Z\" fill=\"#000000\" fill-rule=\"nonzero\" fill-opacity=\"1\" /><path clip-path=\"url(#clip180)\" d=\"M1929.12 1542.97 L1934 1542.97 L1934 1548.85 L1929.12 1548.85 L1929.12 1542.97 Z\" fill=\"#000000\" fill-rule=\"nonzero\" fill-opacity=\"1\" /><path clip-path=\"url(#clip180)\" d=\"M1954.19 1532.44 Q1950.85 1532.44 1948.93 1534.22 Q1947.03 1536 1947.03 1539.13 Q1947.03 1542.25 1948.93 1544.03 Q1950.85 1545.82 1954.19 1545.82 Q1957.52 1545.82 1959.44 1544.03 Q1961.36 1542.23 1961.36 1539.13 Q1961.36 1536 1959.44 1534.22 Q1957.54 1532.44 1954.19 1532.44 M1949.51 1530.45 Q1946.5 1529.7 1944.81 1527.64 Q1943.14 1525.58 1943.14 1522.62 Q1943.14 1518.48 1946.08 1516.07 Q1949.05 1513.66 1954.19 1513.66 Q1959.35 1513.66 1962.29 1516.07 Q1965.23 1518.48 1965.23 1522.62 Q1965.23 1525.58 1963.54 1527.64 Q1961.87 1529.7 1958.89 1530.45 Q1962.26 1531.23 1964.14 1533.52 Q1966.04 1535.82 1966.04 1539.13 Q1966.04 1544.15 1962.96 1546.83 Q1959.9 1549.52 1954.19 1549.52 Q1948.47 1549.52 1945.39 1546.83 Q1942.33 1544.15 1942.33 1539.13 Q1942.33 1535.82 1944.23 1533.52 Q1946.13 1531.23 1949.51 1530.45 M1947.8 1523.06 Q1947.8 1525.75 1949.46 1527.25 Q1951.15 1528.76 1954.19 1528.76 Q1957.2 1528.76 1958.89 1527.25 Q1960.6 1525.75 1960.6 1523.06 Q1960.6 1520.38 1958.89 1518.87 Q1957.2 1517.37 1954.19 1517.37 Q1951.15 1517.37 1949.46 1518.87 Q1947.8 1520.38 1947.8 1523.06 Z\" fill=\"#000000\" fill-rule=\"nonzero\" fill-opacity=\"1\" /><path clip-path=\"url(#clip180)\" d=\"M2319.91 1544.91 L2327.55 1544.91 L2327.55 1518.55 L2319.24 1520.21 L2319.24 1515.95 L2327.5 1514.29 L2332.18 1514.29 L2332.18 1544.91 L2339.82 1544.91 L2339.82 1548.85 L2319.91 1548.85 L2319.91 1544.91 Z\" fill=\"#000000\" fill-rule=\"nonzero\" fill-opacity=\"1\" /><path clip-path=\"url(#clip180)\" d=\"M2349.26 1542.97 L2354.14 1542.97 L2354.14 1548.85 L2349.26 1548.85 L2349.26 1542.97 Z\" fill=\"#000000\" fill-rule=\"nonzero\" fill-opacity=\"1\" /><path clip-path=\"url(#clip180)\" d=\"M2374.33 1517.37 Q2370.72 1517.37 2368.89 1520.93 Q2367.08 1524.47 2367.08 1531.6 Q2367.08 1538.71 2368.89 1542.27 Q2370.72 1545.82 2374.33 1545.82 Q2377.96 1545.82 2379.77 1542.27 Q2381.6 1538.71 2381.6 1531.6 Q2381.6 1524.47 2379.77 1520.93 Q2377.96 1517.37 2374.33 1517.37 M2374.33 1513.66 Q2380.14 1513.66 2383.2 1518.27 Q2386.27 1522.85 2386.27 1531.6 Q2386.27 1540.33 2383.2 1544.94 Q2380.14 1549.52 2374.33 1549.52 Q2368.52 1549.52 2365.44 1544.94 Q2362.39 1540.33 2362.39 1531.6 Q2362.39 1522.85 2365.44 1518.27 Q2368.52 1513.66 2374.33 1513.66 Z\" fill=\"#000000\" fill-rule=\"nonzero\" fill-opacity=\"1\" /><polyline clip-path=\"url(#clip182)\" style=\"stroke:#000000; stroke-linecap:round; stroke-linejoin:round; stroke-width:2; stroke-opacity:0.1; fill:none\" points=\"246.598,1445.72 2352.76,1445.72 \"/>\n",
       "<polyline clip-path=\"url(#clip182)\" style=\"stroke:#000000; stroke-linecap:round; stroke-linejoin:round; stroke-width:2; stroke-opacity:0.1; fill:none\" points=\"246.598,1185.02 2352.76,1185.02 \"/>\n",
       "<polyline clip-path=\"url(#clip182)\" style=\"stroke:#000000; stroke-linecap:round; stroke-linejoin:round; stroke-width:2; stroke-opacity:0.1; fill:none\" points=\"246.598,924.322 2352.76,924.322 \"/>\n",
       "<polyline clip-path=\"url(#clip182)\" style=\"stroke:#000000; stroke-linecap:round; stroke-linejoin:round; stroke-width:2; stroke-opacity:0.1; fill:none\" points=\"246.598,663.625 2352.76,663.625 \"/>\n",
       "<polyline clip-path=\"url(#clip182)\" style=\"stroke:#000000; stroke-linecap:round; stroke-linejoin:round; stroke-width:2; stroke-opacity:0.1; fill:none\" points=\"246.598,402.929 2352.76,402.929 \"/>\n",
       "<polyline clip-path=\"url(#clip182)\" style=\"stroke:#000000; stroke-linecap:round; stroke-linejoin:round; stroke-width:2; stroke-opacity:0.1; fill:none\" points=\"246.598,142.232 2352.76,142.232 \"/>\n",
       "<polyline clip-path=\"url(#clip180)\" style=\"stroke:#000000; stroke-linecap:round; stroke-linejoin:round; stroke-width:4; stroke-opacity:1; fill:none\" points=\"246.598,1486.45 246.598,47.2441 \"/>\n",
       "<polyline clip-path=\"url(#clip180)\" style=\"stroke:#000000; stroke-linecap:round; stroke-linejoin:round; stroke-width:4; stroke-opacity:1; fill:none\" points=\"246.598,1445.72 265.495,1445.72 \"/>\n",
       "<polyline clip-path=\"url(#clip180)\" style=\"stroke:#000000; stroke-linecap:round; stroke-linejoin:round; stroke-width:4; stroke-opacity:1; fill:none\" points=\"246.598,1185.02 265.495,1185.02 \"/>\n",
       "<polyline clip-path=\"url(#clip180)\" style=\"stroke:#000000; stroke-linecap:round; stroke-linejoin:round; stroke-width:4; stroke-opacity:1; fill:none\" points=\"246.598,924.322 265.495,924.322 \"/>\n",
       "<polyline clip-path=\"url(#clip180)\" style=\"stroke:#000000; stroke-linecap:round; stroke-linejoin:round; stroke-width:4; stroke-opacity:1; fill:none\" points=\"246.598,663.625 265.495,663.625 \"/>\n",
       "<polyline clip-path=\"url(#clip180)\" style=\"stroke:#000000; stroke-linecap:round; stroke-linejoin:round; stroke-width:4; stroke-opacity:1; fill:none\" points=\"246.598,402.929 265.495,402.929 \"/>\n",
       "<polyline clip-path=\"url(#clip180)\" style=\"stroke:#000000; stroke-linecap:round; stroke-linejoin:round; stroke-width:4; stroke-opacity:1; fill:none\" points=\"246.598,142.232 265.495,142.232 \"/>\n",
       "<path clip-path=\"url(#clip180)\" d=\"M62.9365 1431.51 Q59.3254 1431.51 57.4967 1435.08 Q55.6912 1438.62 55.6912 1445.75 Q55.6912 1452.86 57.4967 1456.42 Q59.3254 1459.96 62.9365 1459.96 Q66.5707 1459.96 68.3763 1456.42 Q70.205 1452.86 70.205 1445.75 Q70.205 1438.62 68.3763 1435.08 Q66.5707 1431.51 62.9365 1431.51 M62.9365 1427.81 Q68.7467 1427.81 71.8022 1432.42 Q74.8809 1437 74.8809 1445.75 Q74.8809 1454.48 71.8022 1459.08 Q68.7467 1463.67 62.9365 1463.67 Q57.1264 1463.67 54.0477 1459.08 Q50.9921 1454.48 50.9921 1445.75 Q50.9921 1437 54.0477 1432.42 Q57.1264 1427.81 62.9365 1427.81 Z\" fill=\"#000000\" fill-rule=\"nonzero\" fill-opacity=\"1\" /><path clip-path=\"url(#clip180)\" d=\"M83.0984 1457.12 L87.9827 1457.12 L87.9827 1463 L83.0984 1463 L83.0984 1457.12 Z\" fill=\"#000000\" fill-rule=\"nonzero\" fill-opacity=\"1\" /><path clip-path=\"url(#clip180)\" d=\"M108.168 1431.51 Q104.557 1431.51 102.728 1435.08 Q100.922 1438.62 100.922 1445.75 Q100.922 1452.86 102.728 1456.42 Q104.557 1459.96 108.168 1459.96 Q111.802 1459.96 113.608 1456.42 Q115.436 1452.86 115.436 1445.75 Q115.436 1438.62 113.608 1435.08 Q111.802 1431.51 108.168 1431.51 M108.168 1427.81 Q113.978 1427.81 117.033 1432.42 Q120.112 1437 120.112 1445.75 Q120.112 1454.48 117.033 1459.08 Q113.978 1463.67 108.168 1463.67 Q102.358 1463.67 99.2789 1459.08 Q96.2234 1454.48 96.2234 1445.75 Q96.2234 1437 99.2789 1432.42 Q102.358 1427.81 108.168 1427.81 Z\" fill=\"#000000\" fill-rule=\"nonzero\" fill-opacity=\"1\" /><path clip-path=\"url(#clip180)\" d=\"M138.33 1431.51 Q134.719 1431.51 132.89 1435.08 Q131.084 1438.62 131.084 1445.75 Q131.084 1452.86 132.89 1456.42 Q134.719 1459.96 138.33 1459.96 Q141.964 1459.96 143.769 1456.42 Q145.598 1452.86 145.598 1445.75 Q145.598 1438.62 143.769 1435.08 Q141.964 1431.51 138.33 1431.51 M138.33 1427.81 Q144.14 1427.81 147.195 1432.42 Q150.274 1437 150.274 1445.75 Q150.274 1454.48 147.195 1459.08 Q144.14 1463.67 138.33 1463.67 Q132.519 1463.67 129.441 1459.08 Q126.385 1454.48 126.385 1445.75 Q126.385 1437 129.441 1432.42 Q132.519 1427.81 138.33 1427.81 Z\" fill=\"#000000\" fill-rule=\"nonzero\" fill-opacity=\"1\" /><path clip-path=\"url(#clip180)\" d=\"M168.491 1431.51 Q164.88 1431.51 163.052 1435.08 Q161.246 1438.62 161.246 1445.75 Q161.246 1452.86 163.052 1456.42 Q164.88 1459.96 168.491 1459.96 Q172.126 1459.96 173.931 1456.42 Q175.76 1452.86 175.76 1445.75 Q175.76 1438.62 173.931 1435.08 Q172.126 1431.51 168.491 1431.51 M168.491 1427.81 Q174.302 1427.81 177.357 1432.42 Q180.436 1437 180.436 1445.75 Q180.436 1454.48 177.357 1459.08 Q174.302 1463.67 168.491 1463.67 Q162.681 1463.67 159.603 1459.08 Q156.547 1454.48 156.547 1445.75 Q156.547 1437 159.603 1432.42 Q162.681 1427.81 168.491 1427.81 Z\" fill=\"#000000\" fill-rule=\"nonzero\" fill-opacity=\"1\" /><path clip-path=\"url(#clip180)\" d=\"M198.653 1431.51 Q195.042 1431.51 193.214 1435.08 Q191.408 1438.62 191.408 1445.75 Q191.408 1452.86 193.214 1456.42 Q195.042 1459.96 198.653 1459.96 Q202.288 1459.96 204.093 1456.42 Q205.922 1452.86 205.922 1445.75 Q205.922 1438.62 204.093 1435.08 Q202.288 1431.51 198.653 1431.51 M198.653 1427.81 Q204.464 1427.81 207.519 1432.42 Q210.598 1437 210.598 1445.75 Q210.598 1454.48 207.519 1459.08 Q204.464 1463.67 198.653 1463.67 Q192.843 1463.67 189.765 1459.08 Q186.709 1454.48 186.709 1445.75 Q186.709 1437 189.765 1432.42 Q192.843 1427.81 198.653 1427.81 Z\" fill=\"#000000\" fill-rule=\"nonzero\" fill-opacity=\"1\" /><path clip-path=\"url(#clip180)\" d=\"M63.9319 1170.82 Q60.3208 1170.82 58.4921 1174.38 Q56.6865 1177.92 56.6865 1185.05 Q56.6865 1192.16 58.4921 1195.72 Q60.3208 1199.27 63.9319 1199.27 Q67.5661 1199.27 69.3717 1195.72 Q71.2004 1192.16 71.2004 1185.05 Q71.2004 1177.92 69.3717 1174.38 Q67.5661 1170.82 63.9319 1170.82 M63.9319 1167.11 Q69.742 1167.11 72.7976 1171.72 Q75.8763 1176.3 75.8763 1185.05 Q75.8763 1193.78 72.7976 1198.39 Q69.742 1202.97 63.9319 1202.97 Q58.1217 1202.97 55.043 1198.39 Q51.9875 1193.78 51.9875 1185.05 Q51.9875 1176.3 55.043 1171.72 Q58.1217 1167.11 63.9319 1167.11 Z\" fill=\"#000000\" fill-rule=\"nonzero\" fill-opacity=\"1\" /><path clip-path=\"url(#clip180)\" d=\"M84.0938 1196.42 L88.978 1196.42 L88.978 1202.3 L84.0938 1202.3 L84.0938 1196.42 Z\" fill=\"#000000\" fill-rule=\"nonzero\" fill-opacity=\"1\" /><path clip-path=\"url(#clip180)\" d=\"M109.163 1170.82 Q105.552 1170.82 103.723 1174.38 Q101.918 1177.92 101.918 1185.05 Q101.918 1192.16 103.723 1195.72 Q105.552 1199.27 109.163 1199.27 Q112.797 1199.27 114.603 1195.72 Q116.432 1192.16 116.432 1185.05 Q116.432 1177.92 114.603 1174.38 Q112.797 1170.82 109.163 1170.82 M109.163 1167.11 Q114.973 1167.11 118.029 1171.72 Q121.107 1176.3 121.107 1185.05 Q121.107 1193.78 118.029 1198.39 Q114.973 1202.97 109.163 1202.97 Q103.353 1202.97 100.274 1198.39 Q97.2187 1193.78 97.2187 1185.05 Q97.2187 1176.3 100.274 1171.72 Q103.353 1167.11 109.163 1167.11 Z\" fill=\"#000000\" fill-rule=\"nonzero\" fill-opacity=\"1\" /><path clip-path=\"url(#clip180)\" d=\"M139.325 1170.82 Q135.714 1170.82 133.885 1174.38 Q132.08 1177.92 132.08 1185.05 Q132.08 1192.16 133.885 1195.72 Q135.714 1199.27 139.325 1199.27 Q142.959 1199.27 144.765 1195.72 Q146.593 1192.16 146.593 1185.05 Q146.593 1177.92 144.765 1174.38 Q142.959 1170.82 139.325 1170.82 M139.325 1167.11 Q145.135 1167.11 148.191 1171.72 Q151.269 1176.3 151.269 1185.05 Q151.269 1193.78 148.191 1198.39 Q145.135 1202.97 139.325 1202.97 Q133.515 1202.97 130.436 1198.39 Q127.381 1193.78 127.381 1185.05 Q127.381 1176.3 130.436 1171.72 Q133.515 1167.11 139.325 1167.11 Z\" fill=\"#000000\" fill-rule=\"nonzero\" fill-opacity=\"1\" /><path clip-path=\"url(#clip180)\" d=\"M169.487 1170.82 Q165.876 1170.82 164.047 1174.38 Q162.242 1177.92 162.242 1185.05 Q162.242 1192.16 164.047 1195.72 Q165.876 1199.27 169.487 1199.27 Q173.121 1199.27 174.927 1195.72 Q176.755 1192.16 176.755 1185.05 Q176.755 1177.92 174.927 1174.38 Q173.121 1170.82 169.487 1170.82 M169.487 1167.11 Q175.297 1167.11 178.353 1171.72 Q181.431 1176.3 181.431 1185.05 Q181.431 1193.78 178.353 1198.39 Q175.297 1202.97 169.487 1202.97 Q163.677 1202.97 160.598 1198.39 Q157.542 1193.78 157.542 1185.05 Q157.542 1176.3 160.598 1171.72 Q163.677 1167.11 169.487 1167.11 Z\" fill=\"#000000\" fill-rule=\"nonzero\" fill-opacity=\"1\" /><path clip-path=\"url(#clip180)\" d=\"M189.695 1167.74 L208.051 1167.74 L208.051 1171.67 L193.977 1171.67 L193.977 1180.15 Q194.996 1179.8 196.014 1179.64 Q197.033 1179.45 198.052 1179.45 Q203.839 1179.45 207.218 1182.62 Q210.598 1185.79 210.598 1191.21 Q210.598 1196.79 207.126 1199.89 Q203.653 1202.97 197.334 1202.97 Q195.158 1202.97 192.89 1202.6 Q190.644 1202.23 188.237 1201.49 L188.237 1196.79 Q190.32 1197.92 192.542 1198.48 Q194.765 1199.04 197.241 1199.04 Q201.246 1199.04 203.584 1196.93 Q205.922 1194.82 205.922 1191.21 Q205.922 1187.6 203.584 1185.49 Q201.246 1183.39 197.241 1183.39 Q195.366 1183.39 193.491 1183.8 Q191.64 1184.22 189.695 1185.1 L189.695 1167.74 Z\" fill=\"#000000\" fill-rule=\"nonzero\" fill-opacity=\"1\" /><path clip-path=\"url(#clip180)\" d=\"M62.9365 910.121 Q59.3254 910.121 57.4967 913.686 Q55.6912 917.227 55.6912 924.357 Q55.6912 931.463 57.4967 935.028 Q59.3254 938.57 62.9365 938.57 Q66.5707 938.57 68.3763 935.028 Q70.205 931.463 70.205 924.357 Q70.205 917.227 68.3763 913.686 Q66.5707 910.121 62.9365 910.121 M62.9365 906.417 Q68.7467 906.417 71.8022 911.024 Q74.8809 915.607 74.8809 924.357 Q74.8809 933.084 71.8022 937.69 Q68.7467 942.273 62.9365 942.273 Q57.1264 942.273 54.0477 937.69 Q50.9921 933.084 50.9921 924.357 Q50.9921 915.607 54.0477 911.024 Q57.1264 906.417 62.9365 906.417 Z\" fill=\"#000000\" fill-rule=\"nonzero\" fill-opacity=\"1\" /><path clip-path=\"url(#clip180)\" d=\"M83.0984 935.723 L87.9827 935.723 L87.9827 941.602 L83.0984 941.602 L83.0984 935.723 Z\" fill=\"#000000\" fill-rule=\"nonzero\" fill-opacity=\"1\" /><path clip-path=\"url(#clip180)\" d=\"M108.168 910.121 Q104.557 910.121 102.728 913.686 Q100.922 917.227 100.922 924.357 Q100.922 931.463 102.728 935.028 Q104.557 938.57 108.168 938.57 Q111.802 938.57 113.608 935.028 Q115.436 931.463 115.436 924.357 Q115.436 917.227 113.608 913.686 Q111.802 910.121 108.168 910.121 M108.168 906.417 Q113.978 906.417 117.033 911.024 Q120.112 915.607 120.112 924.357 Q120.112 933.084 117.033 937.69 Q113.978 942.273 108.168 942.273 Q102.358 942.273 99.2789 937.69 Q96.2234 933.084 96.2234 924.357 Q96.2234 915.607 99.2789 911.024 Q102.358 906.417 108.168 906.417 Z\" fill=\"#000000\" fill-rule=\"nonzero\" fill-opacity=\"1\" /><path clip-path=\"url(#clip180)\" d=\"M138.33 910.121 Q134.719 910.121 132.89 913.686 Q131.084 917.227 131.084 924.357 Q131.084 931.463 132.89 935.028 Q134.719 938.57 138.33 938.57 Q141.964 938.57 143.769 935.028 Q145.598 931.463 145.598 924.357 Q145.598 917.227 143.769 913.686 Q141.964 910.121 138.33 910.121 M138.33 906.417 Q144.14 906.417 147.195 911.024 Q150.274 915.607 150.274 924.357 Q150.274 933.084 147.195 937.69 Q144.14 942.273 138.33 942.273 Q132.519 942.273 129.441 937.69 Q126.385 933.084 126.385 924.357 Q126.385 915.607 129.441 911.024 Q132.519 906.417 138.33 906.417 Z\" fill=\"#000000\" fill-rule=\"nonzero\" fill-opacity=\"1\" /><path clip-path=\"url(#clip180)\" d=\"M159.302 937.667 L166.941 937.667 L166.941 911.301 L158.63 912.968 L158.63 908.709 L166.894 907.042 L171.57 907.042 L171.57 937.667 L179.209 937.667 L179.209 941.602 L159.302 941.602 L159.302 937.667 Z\" fill=\"#000000\" fill-rule=\"nonzero\" fill-opacity=\"1\" /><path clip-path=\"url(#clip180)\" d=\"M198.653 910.121 Q195.042 910.121 193.214 913.686 Q191.408 917.227 191.408 924.357 Q191.408 931.463 193.214 935.028 Q195.042 938.57 198.653 938.57 Q202.288 938.57 204.093 935.028 Q205.922 931.463 205.922 924.357 Q205.922 917.227 204.093 913.686 Q202.288 910.121 198.653 910.121 M198.653 906.417 Q204.464 906.417 207.519 911.024 Q210.598 915.607 210.598 924.357 Q210.598 933.084 207.519 937.69 Q204.464 942.273 198.653 942.273 Q192.843 942.273 189.765 937.69 Q186.709 933.084 186.709 924.357 Q186.709 915.607 189.765 911.024 Q192.843 906.417 198.653 906.417 Z\" fill=\"#000000\" fill-rule=\"nonzero\" fill-opacity=\"1\" /><path clip-path=\"url(#clip180)\" d=\"M63.9319 649.424 Q60.3208 649.424 58.4921 652.989 Q56.6865 656.531 56.6865 663.66 Q56.6865 670.767 58.4921 674.331 Q60.3208 677.873 63.9319 677.873 Q67.5661 677.873 69.3717 674.331 Q71.2004 670.767 71.2004 663.66 Q71.2004 656.531 69.3717 652.989 Q67.5661 649.424 63.9319 649.424 M63.9319 645.72 Q69.742 645.72 72.7976 650.327 Q75.8763 654.91 75.8763 663.66 Q75.8763 672.387 72.7976 676.993 Q69.742 681.577 63.9319 681.577 Q58.1217 681.577 55.043 676.993 Q51.9875 672.387 51.9875 663.66 Q51.9875 654.91 55.043 650.327 Q58.1217 645.72 63.9319 645.72 Z\" fill=\"#000000\" fill-rule=\"nonzero\" fill-opacity=\"1\" /><path clip-path=\"url(#clip180)\" d=\"M84.0938 675.026 L88.978 675.026 L88.978 680.905 L84.0938 680.905 L84.0938 675.026 Z\" fill=\"#000000\" fill-rule=\"nonzero\" fill-opacity=\"1\" /><path clip-path=\"url(#clip180)\" d=\"M109.163 649.424 Q105.552 649.424 103.723 652.989 Q101.918 656.531 101.918 663.66 Q101.918 670.767 103.723 674.331 Q105.552 677.873 109.163 677.873 Q112.797 677.873 114.603 674.331 Q116.432 670.767 116.432 663.66 Q116.432 656.531 114.603 652.989 Q112.797 649.424 109.163 649.424 M109.163 645.72 Q114.973 645.72 118.029 650.327 Q121.107 654.91 121.107 663.66 Q121.107 672.387 118.029 676.993 Q114.973 681.577 109.163 681.577 Q103.353 681.577 100.274 676.993 Q97.2187 672.387 97.2187 663.66 Q97.2187 654.91 100.274 650.327 Q103.353 645.72 109.163 645.72 Z\" fill=\"#000000\" fill-rule=\"nonzero\" fill-opacity=\"1\" /><path clip-path=\"url(#clip180)\" d=\"M139.325 649.424 Q135.714 649.424 133.885 652.989 Q132.08 656.531 132.08 663.66 Q132.08 670.767 133.885 674.331 Q135.714 677.873 139.325 677.873 Q142.959 677.873 144.765 674.331 Q146.593 670.767 146.593 663.66 Q146.593 656.531 144.765 652.989 Q142.959 649.424 139.325 649.424 M139.325 645.72 Q145.135 645.72 148.191 650.327 Q151.269 654.91 151.269 663.66 Q151.269 672.387 148.191 676.993 Q145.135 681.577 139.325 681.577 Q133.515 681.577 130.436 676.993 Q127.381 672.387 127.381 663.66 Q127.381 654.91 130.436 650.327 Q133.515 645.72 139.325 645.72 Z\" fill=\"#000000\" fill-rule=\"nonzero\" fill-opacity=\"1\" /><path clip-path=\"url(#clip180)\" d=\"M160.297 676.97 L167.936 676.97 L167.936 650.605 L159.626 652.271 L159.626 648.012 L167.89 646.345 L172.566 646.345 L172.566 676.97 L180.204 676.97 L180.204 680.905 L160.297 680.905 L160.297 676.97 Z\" fill=\"#000000\" fill-rule=\"nonzero\" fill-opacity=\"1\" /><path clip-path=\"url(#clip180)\" d=\"M189.695 646.345 L208.051 646.345 L208.051 650.281 L193.977 650.281 L193.977 658.753 Q194.996 658.406 196.014 658.244 Q197.033 658.058 198.052 658.058 Q203.839 658.058 207.218 661.23 Q210.598 664.401 210.598 669.818 Q210.598 675.396 207.126 678.498 Q203.653 681.577 197.334 681.577 Q195.158 681.577 192.89 681.206 Q190.644 680.836 188.237 680.095 L188.237 675.396 Q190.32 676.53 192.542 677.086 Q194.765 677.642 197.241 677.642 Q201.246 677.642 203.584 675.535 Q205.922 673.429 205.922 669.818 Q205.922 666.206 203.584 664.1 Q201.246 661.994 197.241 661.994 Q195.366 661.994 193.491 662.41 Q191.64 662.827 189.695 663.706 L189.695 646.345 Z\" fill=\"#000000\" fill-rule=\"nonzero\" fill-opacity=\"1\" /><path clip-path=\"url(#clip180)\" d=\"M62.9365 388.727 Q59.3254 388.727 57.4967 392.292 Q55.6912 395.834 55.6912 402.963 Q55.6912 410.07 57.4967 413.635 Q59.3254 417.176 62.9365 417.176 Q66.5707 417.176 68.3763 413.635 Q70.205 410.07 70.205 402.963 Q70.205 395.834 68.3763 392.292 Q66.5707 388.727 62.9365 388.727 M62.9365 385.024 Q68.7467 385.024 71.8022 389.63 Q74.8809 394.213 74.8809 402.963 Q74.8809 411.69 71.8022 416.297 Q68.7467 420.88 62.9365 420.88 Q57.1264 420.88 54.0477 416.297 Q50.9921 411.69 50.9921 402.963 Q50.9921 394.213 54.0477 389.63 Q57.1264 385.024 62.9365 385.024 Z\" fill=\"#000000\" fill-rule=\"nonzero\" fill-opacity=\"1\" /><path clip-path=\"url(#clip180)\" d=\"M83.0984 414.329 L87.9827 414.329 L87.9827 420.209 L83.0984 420.209 L83.0984 414.329 Z\" fill=\"#000000\" fill-rule=\"nonzero\" fill-opacity=\"1\" /><path clip-path=\"url(#clip180)\" d=\"M108.168 388.727 Q104.557 388.727 102.728 392.292 Q100.922 395.834 100.922 402.963 Q100.922 410.07 102.728 413.635 Q104.557 417.176 108.168 417.176 Q111.802 417.176 113.608 413.635 Q115.436 410.07 115.436 402.963 Q115.436 395.834 113.608 392.292 Q111.802 388.727 108.168 388.727 M108.168 385.024 Q113.978 385.024 117.033 389.63 Q120.112 394.213 120.112 402.963 Q120.112 411.69 117.033 416.297 Q113.978 420.88 108.168 420.88 Q102.358 420.88 99.2789 416.297 Q96.2234 411.69 96.2234 402.963 Q96.2234 394.213 99.2789 389.63 Q102.358 385.024 108.168 385.024 Z\" fill=\"#000000\" fill-rule=\"nonzero\" fill-opacity=\"1\" /><path clip-path=\"url(#clip180)\" d=\"M138.33 388.727 Q134.719 388.727 132.89 392.292 Q131.084 395.834 131.084 402.963 Q131.084 410.07 132.89 413.635 Q134.719 417.176 138.33 417.176 Q141.964 417.176 143.769 413.635 Q145.598 410.07 145.598 402.963 Q145.598 395.834 143.769 392.292 Q141.964 388.727 138.33 388.727 M138.33 385.024 Q144.14 385.024 147.195 389.63 Q150.274 394.213 150.274 402.963 Q150.274 411.69 147.195 416.297 Q144.14 420.88 138.33 420.88 Q132.519 420.88 129.441 416.297 Q126.385 411.69 126.385 402.963 Q126.385 394.213 129.441 389.63 Q132.519 385.024 138.33 385.024 Z\" fill=\"#000000\" fill-rule=\"nonzero\" fill-opacity=\"1\" /><path clip-path=\"url(#clip180)\" d=\"M162.519 416.274 L178.839 416.274 L178.839 420.209 L156.894 420.209 L156.894 416.274 Q159.556 413.519 164.14 408.889 Q168.746 404.237 169.927 402.894 Q172.172 400.371 173.052 398.635 Q173.954 396.876 173.954 395.186 Q173.954 392.431 172.01 390.695 Q170.089 388.959 166.987 388.959 Q164.788 388.959 162.334 389.723 Q159.904 390.487 157.126 392.038 L157.126 387.315 Q159.95 386.181 162.404 385.602 Q164.857 385.024 166.894 385.024 Q172.265 385.024 175.459 387.709 Q178.653 390.394 178.653 394.885 Q178.653 397.014 177.843 398.936 Q177.056 400.834 174.95 403.426 Q174.371 404.098 171.269 407.315 Q168.167 410.51 162.519 416.274 Z\" fill=\"#000000\" fill-rule=\"nonzero\" fill-opacity=\"1\" /><path clip-path=\"url(#clip180)\" d=\"M198.653 388.727 Q195.042 388.727 193.214 392.292 Q191.408 395.834 191.408 402.963 Q191.408 410.07 193.214 413.635 Q195.042 417.176 198.653 417.176 Q202.288 417.176 204.093 413.635 Q205.922 410.07 205.922 402.963 Q205.922 395.834 204.093 392.292 Q202.288 388.727 198.653 388.727 M198.653 385.024 Q204.464 385.024 207.519 389.63 Q210.598 394.213 210.598 402.963 Q210.598 411.69 207.519 416.297 Q204.464 420.88 198.653 420.88 Q192.843 420.88 189.765 416.297 Q186.709 411.69 186.709 402.963 Q186.709 394.213 189.765 389.63 Q192.843 385.024 198.653 385.024 Z\" fill=\"#000000\" fill-rule=\"nonzero\" fill-opacity=\"1\" /><path clip-path=\"url(#clip180)\" d=\"M63.9319 128.031 Q60.3208 128.031 58.4921 131.595 Q56.6865 135.137 56.6865 142.267 Q56.6865 149.373 58.4921 152.938 Q60.3208 156.48 63.9319 156.48 Q67.5661 156.48 69.3717 152.938 Q71.2004 149.373 71.2004 142.267 Q71.2004 135.137 69.3717 131.595 Q67.5661 128.031 63.9319 128.031 M63.9319 124.327 Q69.742 124.327 72.7976 128.933 Q75.8763 133.517 75.8763 142.267 Q75.8763 150.993 72.7976 155.6 Q69.742 160.183 63.9319 160.183 Q58.1217 160.183 55.043 155.6 Q51.9875 150.993 51.9875 142.267 Q51.9875 133.517 55.043 128.933 Q58.1217 124.327 63.9319 124.327 Z\" fill=\"#000000\" fill-rule=\"nonzero\" fill-opacity=\"1\" /><path clip-path=\"url(#clip180)\" d=\"M84.0938 153.632 L88.978 153.632 L88.978 159.512 L84.0938 159.512 L84.0938 153.632 Z\" fill=\"#000000\" fill-rule=\"nonzero\" fill-opacity=\"1\" /><path clip-path=\"url(#clip180)\" d=\"M109.163 128.031 Q105.552 128.031 103.723 131.595 Q101.918 135.137 101.918 142.267 Q101.918 149.373 103.723 152.938 Q105.552 156.48 109.163 156.48 Q112.797 156.48 114.603 152.938 Q116.432 149.373 116.432 142.267 Q116.432 135.137 114.603 131.595 Q112.797 128.031 109.163 128.031 M109.163 124.327 Q114.973 124.327 118.029 128.933 Q121.107 133.517 121.107 142.267 Q121.107 150.993 118.029 155.6 Q114.973 160.183 109.163 160.183 Q103.353 160.183 100.274 155.6 Q97.2187 150.993 97.2187 142.267 Q97.2187 133.517 100.274 128.933 Q103.353 124.327 109.163 124.327 Z\" fill=\"#000000\" fill-rule=\"nonzero\" fill-opacity=\"1\" /><path clip-path=\"url(#clip180)\" d=\"M139.325 128.031 Q135.714 128.031 133.885 131.595 Q132.08 135.137 132.08 142.267 Q132.08 149.373 133.885 152.938 Q135.714 156.48 139.325 156.48 Q142.959 156.48 144.765 152.938 Q146.593 149.373 146.593 142.267 Q146.593 135.137 144.765 131.595 Q142.959 128.031 139.325 128.031 M139.325 124.327 Q145.135 124.327 148.191 128.933 Q151.269 133.517 151.269 142.267 Q151.269 150.993 148.191 155.6 Q145.135 160.183 139.325 160.183 Q133.515 160.183 130.436 155.6 Q127.381 150.993 127.381 142.267 Q127.381 133.517 130.436 128.933 Q133.515 124.327 139.325 124.327 Z\" fill=\"#000000\" fill-rule=\"nonzero\" fill-opacity=\"1\" /><path clip-path=\"url(#clip180)\" d=\"M163.515 155.577 L179.834 155.577 L179.834 159.512 L157.89 159.512 L157.89 155.577 Q160.552 152.822 165.135 148.193 Q169.741 143.54 170.922 142.197 Q173.167 139.674 174.047 137.938 Q174.95 136.179 174.95 134.489 Q174.95 131.734 173.005 129.998 Q171.084 128.262 167.982 128.262 Q165.783 128.262 163.329 129.026 Q160.899 129.79 158.121 131.341 L158.121 126.619 Q160.945 125.484 163.399 124.906 Q165.853 124.327 167.89 124.327 Q173.26 124.327 176.454 127.012 Q179.649 129.697 179.649 134.188 Q179.649 136.318 178.839 138.239 Q178.052 140.137 175.945 142.73 Q175.366 143.401 172.265 146.619 Q169.163 149.813 163.515 155.577 Z\" fill=\"#000000\" fill-rule=\"nonzero\" fill-opacity=\"1\" /><path clip-path=\"url(#clip180)\" d=\"M189.695 124.952 L208.051 124.952 L208.051 128.887 L193.977 128.887 L193.977 137.359 Q194.996 137.012 196.014 136.85 Q197.033 136.665 198.052 136.665 Q203.839 136.665 207.218 139.836 Q210.598 143.007 210.598 148.424 Q210.598 154.003 207.126 157.105 Q203.653 160.183 197.334 160.183 Q195.158 160.183 192.89 159.813 Q190.644 159.443 188.237 158.702 L188.237 154.003 Q190.32 155.137 192.542 155.693 Q194.765 156.248 197.241 156.248 Q201.246 156.248 203.584 154.142 Q205.922 152.035 205.922 148.424 Q205.922 144.813 203.584 142.706 Q201.246 140.6 197.241 140.6 Q195.366 140.6 193.491 141.017 Q191.64 141.433 189.695 142.313 L189.695 124.952 Z\" fill=\"#000000\" fill-rule=\"nonzero\" fill-opacity=\"1\" /><polyline clip-path=\"url(#clip182)\" style=\"stroke:#009af9; stroke-linecap:round; stroke-linejoin:round; stroke-width:4; stroke-opacity:1; fill:none\" points=\"246.598,1445.72 250.026,1445.66 253.454,1445.49 256.882,1445.2 260.31,1444.81 276.159,1441.56 292.007,1436.05 307.856,1428.39 323.705,1418.69 339.553,1407.05 355.402,1393.57 371.251,1378.36 387.099,1361.5 406.148,1339.22 425.197,1314.87 444.246,1288.62 463.295,1260.63 479.4,1235.72 495.506,1209.77 511.611,1182.87 527.717,1155.1 562.707,1092.21 597.697,1026.5 629.955,964.136 662.213,900.679 731.381,763.61 811.518,608.757 847.126,543.118 882.735,480.245 913.96,427.799 945.186,378.204 962.208,352.476 979.23,327.731 996.252,304.009 1013.27,281.354 1030.4,259.677 1047.52,239.155 1064.64,219.821 1081.77,201.709 1100.7,183.141 1119.63,166.14 1138.56,150.741 1157.49,136.973 1175.51,125.413 1193.52,115.375 1211.53,106.878 1229.55,99.9369 1248.28,94.3821 1267.01,90.5327 1285.74,88.3961 1304.46,87.9763 1320.23,88.9545 1336,91.1485 1351.76,94.5555 1367.53,99.1708 1386.78,106.435 1406.03,115.475 1425.28,126.275 1444.53,138.811 1462.16,151.798 1479.79,166.199 1497.42,181.988 1515.06,199.139 1531.34,216.162 1547.63,234.296 1563.91,253.513 1580.2,273.783 1596.7,295.357 1613.19,317.947 1629.69,341.515 1646.19,366.022 1664.68,394.556 1683.16,424.16 1701.65,454.771 1720.14,486.325 1753.65,545.686 1787.15,607.478 1863.88,755.54 1934.92,896.287 1969.94,965.194 2004.96,1032.8 2038.96,1096.47 2072.96,1157.42 2090.39,1187.35 2107.82,1216.26 2125.24,1244.02 2142.67,1270.53 2161.76,1298 2180.86,1323.66 2199.95,1347.36 2219.05,1368.92 2232.92,1383.16 2246.78,1396.11 2260.65,1407.72 2274.52,1417.93 2288.39,1426.65 2302.26,1433.82 2316.13,1439.37 2329.99,1443.23 2335.68,1444.31 2341.38,1445.09 2347.07,1445.56 2352.76,1445.72 \"/>\n",
       "<polyline clip-path=\"url(#clip182)\" style=\"stroke:#e26f46; stroke-linecap:round; stroke-linejoin:round; stroke-width:4; stroke-opacity:1; fill:none\" points=\"351.906,1421.85 404.56,1377.89 457.214,1317.4 509.868,1243.74 562.521,1160.07 615.175,1069.33 667.829,974.289 720.483,877.478 773.137,781.244 825.791,687.726 878.445,598.859 931.099,516.373 983.753,441.796 1036.41,376.452 1089.06,321.461 1141.71,277.74 1194.37,246.001 1247.02,226.755 1299.68,220.305 1352.33,226.755 1404.98,246.001 1457.64,277.74 1510.29,321.461 1562.95,376.452 1615.6,441.796 1668.25,516.373 1720.91,598.859 1773.56,687.726 1826.22,781.244 1878.87,877.478 1931.52,974.289 1984.18,1069.33 2036.83,1160.07 2089.49,1243.74 2142.14,1317.4 2194.79,1377.89 2247.45,1421.85 \"/>\n",
       "<path clip-path=\"url(#clip180)\" d=\"M1570.71 250.738 L2282.55 250.738 L2282.55 95.2176 L1570.71 95.2176  Z\" fill=\"#ffffff\" fill-rule=\"evenodd\" fill-opacity=\"1\"/>\n",
       "<polyline clip-path=\"url(#clip180)\" style=\"stroke:#000000; stroke-linecap:round; stroke-linejoin:round; stroke-width:4; stroke-opacity:1; fill:none\" points=\"1570.71,250.738 2282.55,250.738 2282.55,95.2176 1570.71,95.2176 1570.71,250.738 \"/>\n",
       "<polyline clip-path=\"url(#clip180)\" style=\"stroke:#009af9; stroke-linecap:round; stroke-linejoin:round; stroke-width:4; stroke-opacity:1; fill:none\" points=\"1594.11,147.058 1734.52,147.058 \"/>\n",
       "<path clip-path=\"url(#clip180)\" d=\"M1757.92 129.778 L1779.78 129.778 L1779.78 133.713 L1762.6 133.713 L1762.6 143.944 L1779.06 143.944 L1779.06 147.879 L1762.6 147.879 L1762.6 160.402 L1780.19 160.402 L1780.19 164.338 L1757.92 164.338 L1757.92 129.778 Z\" fill=\"#000000\" fill-rule=\"nonzero\" fill-opacity=\"1\" /><path clip-path=\"url(#clip180)\" d=\"M1809.24 138.412 L1799.87 151.027 L1809.73 164.338 L1804.71 164.338 L1797.16 154.152 L1789.61 164.338 L1784.59 164.338 L1794.66 150.773 L1785.45 138.412 L1790.47 138.412 L1797.35 147.648 L1804.22 138.412 L1809.24 138.412 Z\" fill=\"#000000\" fill-rule=\"nonzero\" fill-opacity=\"1\" /><path clip-path=\"url(#clip180)\" d=\"M1827.53 151.305 Q1822.37 151.305 1820.38 152.486 Q1818.39 153.666 1818.39 156.514 Q1818.39 158.782 1819.87 160.125 Q1821.37 161.444 1823.94 161.444 Q1827.48 161.444 1829.61 158.944 Q1831.77 156.421 1831.77 152.254 L1831.77 151.305 L1827.53 151.305 M1836.03 149.546 L1836.03 164.338 L1831.77 164.338 L1831.77 160.402 Q1830.31 162.763 1828.13 163.898 Q1825.96 165.009 1822.81 165.009 Q1818.83 165.009 1816.47 162.787 Q1814.13 160.541 1814.13 156.791 Q1814.13 152.416 1817.04 150.194 Q1819.98 147.972 1825.79 147.972 L1831.77 147.972 L1831.77 147.555 Q1831.77 144.615 1829.82 143.018 Q1827.9 141.398 1824.41 141.398 Q1822.18 141.398 1820.08 141.93 Q1817.97 142.463 1816.03 143.527 L1816.03 139.592 Q1818.36 138.69 1820.56 138.25 Q1822.76 137.787 1824.85 137.787 Q1830.47 137.787 1833.25 140.703 Q1836.03 143.62 1836.03 149.546 Z\" fill=\"#000000\" fill-rule=\"nonzero\" fill-opacity=\"1\" /><path clip-path=\"url(#clip180)\" d=\"M1863.46 139.407 L1863.46 143.389 Q1861.65 142.393 1859.82 141.907 Q1858.02 141.398 1856.16 141.398 Q1852.02 141.398 1849.73 144.037 Q1847.44 146.652 1847.44 151.398 Q1847.44 156.143 1849.73 158.782 Q1852.02 161.398 1856.16 161.398 Q1858.02 161.398 1859.82 160.912 Q1861.65 160.402 1863.46 159.407 L1863.46 163.342 Q1861.67 164.176 1859.75 164.592 Q1857.85 165.009 1855.7 165.009 Q1849.85 165.009 1846.4 161.328 Q1842.95 157.648 1842.95 151.398 Q1842.95 145.055 1846.42 141.421 Q1849.91 137.787 1855.98 137.787 Q1857.95 137.787 1859.82 138.203 Q1861.7 138.597 1863.46 139.407 Z\" fill=\"#000000\" fill-rule=\"nonzero\" fill-opacity=\"1\" /><path clip-path=\"url(#clip180)\" d=\"M1875.08 131.051 L1875.08 138.412 L1883.85 138.412 L1883.85 141.722 L1875.08 141.722 L1875.08 155.796 Q1875.08 158.967 1875.93 159.87 Q1876.81 160.773 1879.47 160.773 L1883.85 160.773 L1883.85 164.338 L1879.47 164.338 Q1874.54 164.338 1872.67 162.509 Q1870.79 160.657 1870.79 155.796 L1870.79 141.722 L1867.67 141.722 L1867.67 138.412 L1870.79 138.412 L1870.79 131.051 L1875.08 131.051 Z\" fill=\"#000000\" fill-rule=\"nonzero\" fill-opacity=\"1\" /><path clip-path=\"url(#clip180)\" d=\"M1921.05 139.176 L1921.05 143.203 Q1919.24 142.277 1917.3 141.815 Q1915.35 141.352 1913.27 141.352 Q1910.1 141.352 1908.5 142.324 Q1906.93 143.296 1906.93 145.24 Q1906.93 146.722 1908.06 147.578 Q1909.2 148.412 1912.62 149.176 L1914.08 149.5 Q1918.62 150.472 1920.52 152.254 Q1922.44 154.014 1922.44 157.185 Q1922.44 160.796 1919.57 162.902 Q1916.72 165.009 1911.72 165.009 Q1909.64 165.009 1907.37 164.592 Q1905.12 164.199 1902.62 163.388 L1902.62 158.99 Q1904.98 160.217 1907.28 160.842 Q1909.57 161.444 1911.81 161.444 Q1914.82 161.444 1916.44 160.426 Q1918.06 159.384 1918.06 157.509 Q1918.06 155.773 1916.88 154.847 Q1915.72 153.921 1911.77 153.064 L1910.29 152.717 Q1906.33 151.884 1904.57 150.171 Q1902.81 148.435 1902.81 145.426 Q1902.81 141.768 1905.4 139.778 Q1907.99 137.787 1912.76 137.787 Q1915.12 137.787 1917.21 138.134 Q1919.29 138.481 1921.05 139.176 Z\" fill=\"#000000\" fill-rule=\"nonzero\" fill-opacity=\"1\" /><path clip-path=\"url(#clip180)\" d=\"M1939.27 141.398 Q1935.84 141.398 1933.85 144.083 Q1931.86 146.745 1931.86 151.398 Q1931.86 156.051 1933.83 158.736 Q1935.82 161.398 1939.27 161.398 Q1942.67 161.398 1944.66 158.713 Q1946.65 156.027 1946.65 151.398 Q1946.65 146.791 1944.66 144.106 Q1942.67 141.398 1939.27 141.398 M1939.27 137.787 Q1944.82 137.787 1947.99 141.398 Q1951.16 145.009 1951.16 151.398 Q1951.16 157.764 1947.99 161.398 Q1944.82 165.009 1939.27 165.009 Q1933.69 165.009 1930.52 161.398 Q1927.37 157.764 1927.37 151.398 Q1927.37 145.009 1930.52 141.398 Q1933.69 137.787 1939.27 137.787 Z\" fill=\"#000000\" fill-rule=\"nonzero\" fill-opacity=\"1\" /><path clip-path=\"url(#clip180)\" d=\"M1958.22 128.319 L1962.48 128.319 L1962.48 164.338 L1958.22 164.338 L1958.22 128.319 Z\" fill=\"#000000\" fill-rule=\"nonzero\" fill-opacity=\"1\" /><path clip-path=\"url(#clip180)\" d=\"M1970.96 154.106 L1970.96 138.412 L1975.22 138.412 L1975.22 153.944 Q1975.22 157.625 1976.65 159.476 Q1978.09 161.305 1980.96 161.305 Q1984.4 161.305 1986.4 159.106 Q1988.41 156.907 1988.41 153.111 L1988.41 138.412 L1992.67 138.412 L1992.67 164.338 L1988.41 164.338 L1988.41 160.356 Q1986.86 162.717 1984.8 163.875 Q1982.76 165.009 1980.05 165.009 Q1975.59 165.009 1973.27 162.231 Q1970.96 159.453 1970.96 154.106 M1981.67 137.787 L1981.67 137.787 Z\" fill=\"#000000\" fill-rule=\"nonzero\" fill-opacity=\"1\" /><path clip-path=\"url(#clip180)\" d=\"M2005.65 131.051 L2005.65 138.412 L2014.43 138.412 L2014.43 141.722 L2005.65 141.722 L2005.65 155.796 Q2005.65 158.967 2006.51 159.87 Q2007.39 160.773 2010.05 160.773 L2014.43 160.773 L2014.43 164.338 L2010.05 164.338 Q2005.12 164.338 2003.25 162.509 Q2001.37 160.657 2001.37 155.796 L2001.37 141.722 L1998.25 141.722 L1998.25 138.412 L2001.37 138.412 L2001.37 131.051 L2005.65 131.051 Z\" fill=\"#000000\" fill-rule=\"nonzero\" fill-opacity=\"1\" /><path clip-path=\"url(#clip180)\" d=\"M2020.03 138.412 L2024.29 138.412 L2024.29 164.338 L2020.03 164.338 L2020.03 138.412 M2020.03 128.319 L2024.29 128.319 L2024.29 133.713 L2020.03 133.713 L2020.03 128.319 Z\" fill=\"#000000\" fill-rule=\"nonzero\" fill-opacity=\"1\" /><path clip-path=\"url(#clip180)\" d=\"M2043.25 141.398 Q2039.82 141.398 2037.83 144.083 Q2035.84 146.745 2035.84 151.398 Q2035.84 156.051 2037.81 158.736 Q2039.8 161.398 2043.25 161.398 Q2046.65 161.398 2048.64 158.713 Q2050.63 156.027 2050.63 151.398 Q2050.63 146.791 2048.64 144.106 Q2046.65 141.398 2043.25 141.398 M2043.25 137.787 Q2048.8 137.787 2051.97 141.398 Q2055.15 145.009 2055.15 151.398 Q2055.15 157.764 2051.97 161.398 Q2048.8 165.009 2043.25 165.009 Q2037.67 165.009 2034.5 161.398 Q2031.35 157.764 2031.35 151.398 Q2031.35 145.009 2034.5 141.398 Q2037.67 137.787 2043.25 137.787 Z\" fill=\"#000000\" fill-rule=\"nonzero\" fill-opacity=\"1\" /><path clip-path=\"url(#clip180)\" d=\"M2083.76 148.689 L2083.76 164.338 L2079.5 164.338 L2079.5 148.828 Q2079.5 145.148 2078.06 143.319 Q2076.63 141.49 2073.76 141.49 Q2070.31 141.49 2068.32 143.69 Q2066.33 145.889 2066.33 149.685 L2066.33 164.338 L2062.04 164.338 L2062.04 138.412 L2066.33 138.412 L2066.33 142.44 Q2067.85 140.102 2069.91 138.944 Q2072 137.787 2074.71 137.787 Q2079.17 137.787 2081.46 140.565 Q2083.76 143.319 2083.76 148.689 Z\" fill=\"#000000\" fill-rule=\"nonzero\" fill-opacity=\"1\" /><polyline clip-path=\"url(#clip180)\" style=\"stroke:#e26f46; stroke-linecap:round; stroke-linejoin:round; stroke-width:4; stroke-opacity:1; fill:none\" points=\"1594.11,198.898 1734.52,198.898 \"/>\n",
       "<path clip-path=\"url(#clip180)\" d=\"M1773.76 186.224 L1767.42 203.423 L1780.12 203.423 L1773.76 186.224 M1771.12 181.618 L1776.42 181.618 L1789.59 216.178 L1784.73 216.178 L1781.58 207.312 L1766 207.312 L1762.86 216.178 L1757.92 216.178 L1771.12 181.618 Z\" fill=\"#000000\" fill-rule=\"nonzero\" fill-opacity=\"1\" /><path clip-path=\"url(#clip180)\" d=\"M1798.57 212.289 L1798.57 226.039 L1794.29 226.039 L1794.29 190.252 L1798.57 190.252 L1798.57 194.187 Q1799.92 191.872 1801.95 190.761 Q1804.01 189.627 1806.86 189.627 Q1811.58 189.627 1814.52 193.377 Q1817.48 197.127 1817.48 203.238 Q1817.48 209.349 1814.52 213.099 Q1811.58 216.849 1806.86 216.849 Q1804.01 216.849 1801.95 215.738 Q1799.92 214.603 1798.57 212.289 M1813.06 203.238 Q1813.06 198.539 1811.12 195.877 Q1809.2 193.192 1805.82 193.192 Q1802.44 193.192 1800.49 195.877 Q1798.57 198.539 1798.57 203.238 Q1798.57 207.937 1800.49 210.622 Q1802.44 213.284 1805.82 213.284 Q1809.2 213.284 1811.12 210.622 Q1813.06 207.937 1813.06 203.238 Z\" fill=\"#000000\" fill-rule=\"nonzero\" fill-opacity=\"1\" /><path clip-path=\"url(#clip180)\" d=\"M1828.67 212.289 L1828.67 226.039 L1824.38 226.039 L1824.38 190.252 L1828.67 190.252 L1828.67 194.187 Q1830.01 191.872 1832.04 190.761 Q1834.1 189.627 1836.95 189.627 Q1841.67 189.627 1844.61 193.377 Q1847.58 197.127 1847.58 203.238 Q1847.58 209.349 1844.61 213.099 Q1841.67 216.849 1836.95 216.849 Q1834.1 216.849 1832.04 215.738 Q1830.01 214.603 1828.67 212.289 M1843.16 203.238 Q1843.16 198.539 1841.21 195.877 Q1839.29 193.192 1835.91 193.192 Q1832.53 193.192 1830.59 195.877 Q1828.67 198.539 1828.67 203.238 Q1828.67 207.937 1830.59 210.622 Q1832.53 213.284 1835.91 213.284 Q1839.29 213.284 1841.21 210.622 Q1843.16 207.937 1843.16 203.238 Z\" fill=\"#000000\" fill-rule=\"nonzero\" fill-opacity=\"1\" /><path clip-path=\"url(#clip180)\" d=\"M1869.66 194.233 Q1868.94 193.817 1868.09 193.631 Q1867.25 193.423 1866.23 193.423 Q1862.62 193.423 1860.68 195.784 Q1858.76 198.122 1858.76 202.52 L1858.76 216.178 L1854.48 216.178 L1854.48 190.252 L1858.76 190.252 L1858.76 194.28 Q1860.1 191.918 1862.25 190.784 Q1864.41 189.627 1867.48 189.627 Q1867.92 189.627 1868.46 189.696 Q1868.99 189.743 1869.64 189.858 L1869.66 194.233 Z\" fill=\"#000000\" fill-rule=\"nonzero\" fill-opacity=\"1\" /><path clip-path=\"url(#clip180)\" d=\"M1883.13 193.238 Q1879.71 193.238 1877.72 195.923 Q1875.73 198.585 1875.73 203.238 Q1875.73 207.891 1877.69 210.576 Q1879.68 213.238 1883.13 213.238 Q1886.54 213.238 1888.53 210.553 Q1890.52 207.867 1890.52 203.238 Q1890.52 198.631 1888.53 195.946 Q1886.54 193.238 1883.13 193.238 M1883.13 189.627 Q1888.69 189.627 1891.86 193.238 Q1895.03 196.849 1895.03 203.238 Q1895.03 209.604 1891.86 213.238 Q1888.69 216.849 1883.13 216.849 Q1877.55 216.849 1874.38 213.238 Q1871.23 209.604 1871.23 203.238 Q1871.23 196.849 1874.38 193.238 Q1877.55 189.627 1883.13 189.627 Z\" fill=\"#000000\" fill-rule=\"nonzero\" fill-opacity=\"1\" /><path clip-path=\"url(#clip180)\" d=\"M1922.18 190.252 L1912.81 202.867 L1922.67 216.178 L1917.65 216.178 L1910.1 205.992 L1902.55 216.178 L1897.53 216.178 L1907.6 202.613 L1898.39 190.252 L1903.41 190.252 L1910.29 199.488 L1917.16 190.252 L1922.18 190.252 Z\" fill=\"#000000\" fill-rule=\"nonzero\" fill-opacity=\"1\" /><path clip-path=\"url(#clip180)\" d=\"M1928.69 190.252 L1932.95 190.252 L1932.95 216.178 L1928.69 216.178 L1928.69 190.252 M1928.69 180.159 L1932.95 180.159 L1932.95 185.553 L1928.69 185.553 L1928.69 180.159 Z\" fill=\"#000000\" fill-rule=\"nonzero\" fill-opacity=\"1\" /><path clip-path=\"url(#clip180)\" d=\"M1962.04 195.229 Q1963.64 192.358 1965.86 190.993 Q1968.09 189.627 1971.09 189.627 Q1975.15 189.627 1977.34 192.474 Q1979.54 195.298 1979.54 200.529 L1979.54 216.178 L1975.26 216.178 L1975.26 200.668 Q1975.26 196.942 1973.94 195.136 Q1972.62 193.33 1969.91 193.33 Q1966.6 193.33 1964.68 195.53 Q1962.76 197.729 1962.76 201.525 L1962.76 216.178 L1958.48 216.178 L1958.48 200.668 Q1958.48 196.918 1957.16 195.136 Q1955.84 193.33 1953.09 193.33 Q1949.82 193.33 1947.9 195.553 Q1945.98 197.752 1945.98 201.525 L1945.98 216.178 L1941.7 216.178 L1941.7 190.252 L1945.98 190.252 L1945.98 194.28 Q1947.44 191.895 1949.47 190.761 Q1951.51 189.627 1954.31 189.627 Q1957.14 189.627 1959.1 191.062 Q1961.09 192.497 1962.04 195.229 Z\" fill=\"#000000\" fill-rule=\"nonzero\" fill-opacity=\"1\" /><path clip-path=\"url(#clip180)\" d=\"M1999.82 203.145 Q1994.66 203.145 1992.67 204.326 Q1990.68 205.506 1990.68 208.354 Q1990.68 210.622 1992.16 211.965 Q1993.66 213.284 1996.23 213.284 Q1999.78 213.284 2001.9 210.784 Q2004.06 208.261 2004.06 204.094 L2004.06 203.145 L1999.82 203.145 M2008.32 201.386 L2008.32 216.178 L2004.06 216.178 L2004.06 212.242 Q2002.6 214.603 2000.42 215.738 Q1998.25 216.849 1995.1 216.849 Q1991.12 216.849 1988.76 214.627 Q1986.42 212.381 1986.42 208.631 Q1986.42 204.256 1989.34 202.034 Q1992.28 199.812 1998.09 199.812 L2004.06 199.812 L2004.06 199.395 Q2004.06 196.455 2002.11 194.858 Q2000.19 193.238 1996.7 193.238 Q1994.47 193.238 1992.37 193.77 Q1990.26 194.303 1988.32 195.367 L1988.32 191.432 Q1990.65 190.53 1992.85 190.09 Q1995.05 189.627 1997.14 189.627 Q2002.76 189.627 2005.54 192.543 Q2008.32 195.46 2008.32 201.386 Z\" fill=\"#000000\" fill-rule=\"nonzero\" fill-opacity=\"1\" /><path clip-path=\"url(#clip180)\" d=\"M2021.3 182.891 L2021.3 190.252 L2030.08 190.252 L2030.08 193.562 L2021.3 193.562 L2021.3 207.636 Q2021.3 210.807 2022.16 211.71 Q2023.04 212.613 2025.7 212.613 L2030.08 212.613 L2030.08 216.178 L2025.7 216.178 Q2020.77 216.178 2018.9 214.349 Q2017.02 212.497 2017.02 207.636 L2017.02 193.562 L2013.9 193.562 L2013.9 190.252 L2017.02 190.252 L2017.02 182.891 L2021.3 182.891 Z\" fill=\"#000000\" fill-rule=\"nonzero\" fill-opacity=\"1\" /><path clip-path=\"url(#clip180)\" d=\"M2057.85 202.15 L2057.85 204.233 L2038.27 204.233 Q2038.55 208.631 2040.91 210.946 Q2043.29 213.238 2047.53 213.238 Q2049.98 213.238 2052.27 212.636 Q2054.59 212.034 2056.86 210.83 L2056.86 214.858 Q2054.57 215.83 2052.16 216.34 Q2049.75 216.849 2047.28 216.849 Q2041.07 216.849 2037.44 213.238 Q2033.83 209.627 2033.83 203.469 Q2033.83 197.104 2037.25 193.377 Q2040.7 189.627 2046.53 189.627 Q2051.77 189.627 2054.8 193.006 Q2057.85 196.363 2057.85 202.15 M2053.59 200.9 Q2053.55 197.405 2051.63 195.321 Q2049.73 193.238 2046.58 193.238 Q2043.02 193.238 2040.86 195.252 Q2038.73 197.266 2038.41 200.923 L2053.59 200.9 Z\" fill=\"#000000\" fill-rule=\"nonzero\" fill-opacity=\"1\" /><path clip-path=\"url(#clip180)\" d=\"M2096.44 191.016 L2096.44 195.043 Q2094.64 194.117 2092.69 193.655 Q2090.75 193.192 2088.66 193.192 Q2085.49 193.192 2083.9 194.164 Q2082.32 195.136 2082.32 197.08 Q2082.32 198.562 2083.46 199.418 Q2084.59 200.252 2088.02 201.016 L2089.47 201.34 Q2094.01 202.312 2095.91 204.094 Q2097.83 205.854 2097.83 209.025 Q2097.83 212.636 2094.96 214.742 Q2092.11 216.849 2087.11 216.849 Q2085.03 216.849 2082.76 216.432 Q2080.52 216.039 2078.02 215.228 L2078.02 210.83 Q2080.38 212.057 2082.67 212.682 Q2084.96 213.284 2087.21 213.284 Q2090.21 213.284 2091.83 212.266 Q2093.46 211.224 2093.46 209.349 Q2093.46 207.613 2092.27 206.687 Q2091.12 205.761 2087.16 204.904 L2085.68 204.557 Q2081.72 203.724 2079.96 202.011 Q2078.2 200.275 2078.2 197.266 Q2078.2 193.608 2080.79 191.618 Q2083.39 189.627 2088.15 189.627 Q2090.52 189.627 2092.6 189.974 Q2094.68 190.321 2096.44 191.016 Z\" fill=\"#000000\" fill-rule=\"nonzero\" fill-opacity=\"1\" /><path clip-path=\"url(#clip180)\" d=\"M2114.66 193.238 Q2111.23 193.238 2109.24 195.923 Q2107.25 198.585 2107.25 203.238 Q2107.25 207.891 2109.22 210.576 Q2111.21 213.238 2114.66 213.238 Q2118.06 213.238 2120.05 210.553 Q2122.04 207.867 2122.04 203.238 Q2122.04 198.631 2120.05 195.946 Q2118.06 193.238 2114.66 193.238 M2114.66 189.627 Q2120.21 189.627 2123.39 193.238 Q2126.56 196.849 2126.56 203.238 Q2126.56 209.604 2123.39 213.238 Q2120.21 216.849 2114.66 216.849 Q2109.08 216.849 2105.91 213.238 Q2102.76 209.604 2102.76 203.238 Q2102.76 196.849 2105.91 193.238 Q2109.08 189.627 2114.66 189.627 Z\" fill=\"#000000\" fill-rule=\"nonzero\" fill-opacity=\"1\" /><path clip-path=\"url(#clip180)\" d=\"M2133.62 180.159 L2137.88 180.159 L2137.88 216.178 L2133.62 216.178 L2133.62 180.159 Z\" fill=\"#000000\" fill-rule=\"nonzero\" fill-opacity=\"1\" /><path clip-path=\"url(#clip180)\" d=\"M2146.35 205.946 L2146.35 190.252 L2150.61 190.252 L2150.61 205.784 Q2150.61 209.465 2152.04 211.316 Q2153.48 213.145 2156.35 213.145 Q2159.8 213.145 2161.79 210.946 Q2163.8 208.747 2163.8 204.951 L2163.8 190.252 L2168.06 190.252 L2168.06 216.178 L2163.8 216.178 L2163.8 212.196 Q2162.25 214.557 2160.19 215.715 Q2158.15 216.849 2155.45 216.849 Q2150.98 216.849 2148.66 214.071 Q2146.35 211.293 2146.35 205.946 M2157.07 189.627 L2157.07 189.627 Z\" fill=\"#000000\" fill-rule=\"nonzero\" fill-opacity=\"1\" /><path clip-path=\"url(#clip180)\" d=\"M2181.05 182.891 L2181.05 190.252 L2189.82 190.252 L2189.82 193.562 L2181.05 193.562 L2181.05 207.636 Q2181.05 210.807 2181.9 211.71 Q2182.78 212.613 2185.45 212.613 L2189.82 212.613 L2189.82 216.178 L2185.45 216.178 Q2180.52 216.178 2178.64 214.349 Q2176.77 212.497 2176.77 207.636 L2176.77 193.562 L2173.64 193.562 L2173.64 190.252 L2176.77 190.252 L2176.77 182.891 L2181.05 182.891 Z\" fill=\"#000000\" fill-rule=\"nonzero\" fill-opacity=\"1\" /><path clip-path=\"url(#clip180)\" d=\"M2195.42 190.252 L2199.68 190.252 L2199.68 216.178 L2195.42 216.178 L2195.42 190.252 M2195.42 180.159 L2199.68 180.159 L2199.68 185.553 L2195.42 185.553 L2195.42 180.159 Z\" fill=\"#000000\" fill-rule=\"nonzero\" fill-opacity=\"1\" /><path clip-path=\"url(#clip180)\" d=\"M2218.64 193.238 Q2215.21 193.238 2213.22 195.923 Q2211.23 198.585 2211.23 203.238 Q2211.23 207.891 2213.2 210.576 Q2215.19 213.238 2218.64 213.238 Q2222.04 213.238 2224.03 210.553 Q2226.02 207.867 2226.02 203.238 Q2226.02 198.631 2224.03 195.946 Q2222.04 193.238 2218.64 193.238 M2218.64 189.627 Q2224.2 189.627 2227.37 193.238 Q2230.54 196.849 2230.54 203.238 Q2230.54 209.604 2227.37 213.238 Q2224.2 216.849 2218.64 216.849 Q2213.06 216.849 2209.89 213.238 Q2206.74 209.604 2206.74 203.238 Q2206.74 196.849 2209.89 193.238 Q2213.06 189.627 2218.64 189.627 Z\" fill=\"#000000\" fill-rule=\"nonzero\" fill-opacity=\"1\" /><path clip-path=\"url(#clip180)\" d=\"M2259.15 200.529 L2259.15 216.178 L2254.89 216.178 L2254.89 200.668 Q2254.89 196.988 2253.45 195.159 Q2252.02 193.33 2249.15 193.33 Q2245.7 193.33 2243.71 195.53 Q2241.72 197.729 2241.72 201.525 L2241.72 216.178 L2237.44 216.178 L2237.44 190.252 L2241.72 190.252 L2241.72 194.28 Q2243.25 191.942 2245.31 190.784 Q2247.39 189.627 2250.1 189.627 Q2254.57 189.627 2256.86 192.405 Q2259.15 195.159 2259.15 200.529 Z\" fill=\"#000000\" fill-rule=\"nonzero\" fill-opacity=\"1\" /></svg>\n"
      ]
     },
     "metadata": {},
     "output_type": "display_data"
    }
   ],
   "source": [
    "u(x) = 1/24 * x^2 * (x - 1)^2\n",
    "\n",
    "### BEGIN SOLUTION\n",
    "n, ε = 40, 1e-8\n",
    "A = build_matrix(n)\n",
    "b = build_rhs(n)\n",
    "sol = sor(A, b; ω = 1.9, ε = ε)\n",
    "x = LinRange(0, 1, n + 1)\n",
    "plot(u, xlims = (0, 1), label=\"Exact solution\")\n",
    "plot!(x[3:end-2], A\\b, xlims = (0, 1), label=\"Approximate solution\")\n",
    "### END SOLUTION"
   ]
  }
 ],
 "metadata": {
  "jupytext": {
   "encoding": "# -*- coding: utf-8 -*-"
  },
  "kernelspec": {
   "display_name": "Julia 1.11.1",
   "language": "julia",
   "name": "julia-1.11"
  },
  "language_info": {
   "file_extension": ".jl",
   "mimetype": "application/julia",
   "name": "julia",
   "version": "1.11.1"
  }
 },
 "nbformat": 4,
 "nbformat_minor": 5
}
