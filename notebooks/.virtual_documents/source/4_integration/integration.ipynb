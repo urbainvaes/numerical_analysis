


using Polynomials
using Plots
using LaTeXStrings
using LinearAlgebra

macro mark(bool_expr)
    return :(print($bool_expr ? "✔️" : "❌"))
end








function composite_trapezoidal(u, a, b, n)
    ### BEGIN SOLUTION
    x = LinRange(a, b, n)
    Δ = x[2] - x[1]
    ux = u.(x)
    return Δ * (ux[1]/2 + sum(ux[2:end-1]) + ux[end]/2)
    ### END SOLUTION
end


@mark composite_trapezoidal(x -> 5, 1, 2, 100) ≈ 5
@mark composite_trapezoidal(x -> x, 1, 2, 100) ≈ 3/2
@mark composite_trapezoidal(x -> x, 1, 2, 2) ≈ 3/2
@mark composite_trapezoidal(x -> x^2, 0, 1, 2) ≈ 1/2
@mark composite_trapezoidal(x -> x^2, 1, 2, 2) ≈ 5/2





function composite_simpson(u, a, b, n)
    @assert n % 2 == 1 "`n` must be odd"
    ### BEGIN SOLUTION
    x = LinRange(a, b, n)
    Δ = x[2] - x[1]
    ux = u.(x)
    return Δ/3 * sum([ux[1]; ux[end]; 4ux[2:2:end-1]; 2ux[3:2:end-2]])
    ### END SOLUTION
end


@mark composite_simpson(x -> 1  , 1, 2, 101) ≈ 1
@mark composite_simpson(x -> x  , 1, 2, 101) ≈ 3/2
@mark composite_simpson(x -> x^2, 1, 2, 101) ≈ 7/3
@mark composite_simpson(x -> x^3, 1, 2, 101) ≈ 15/4
@mark composite_simpson(x -> x  , 0, 1, 3) ≈ 1/2
@mark composite_simpson(x -> x^2, 0, 1, 3) ≈ 1/3
@mark composite_simpson(x -> x^3, 0, 1, 3) ≈ 1/4





function calculate_sum(N)
    sum(n^(-n) for n in N:-1.:1)
end


println(calculate_sum(5))
println(calculate_sum(10))
println(calculate_sum(15))
println(calculate_sum(20))

@mark abs(calculate_sum(20) - 1.2912859970626636) < 1e-6
@mark abs(calculate_sum(20) - 1.2912859970626636) < 1e-9
@mark abs(calculate_sum(20) - 1.2912859970626636) < 1e-12





### BEGIN SOLUTION
ns = 3:2:400
u = x -> x^-x
I_exact = calculate_sum(20)
I_trap = composite_trapezoidal.(u, 0, 1, ns)
I_simp = composite_simpson.(u, 0, 1, ns)
plot(ns, abs.(I_trap .- I_exact), label="Trapezoidal")
plot!(ns, abs.(I_simp .- I_exact), label="Simpson")
plot!(xaxis=:log, yaxis=:log, lw=2)
### END SOLUTION





### BEGIN SOLUTION
I_simp = composite_simpson.(u, 0, 1, ns)
ns = 3:2:400
log_Δ = @. log(1/ns)
log_e = @. log(abs(I_simp - I_exact))
fit(log_Δ, log_e, 1).coeffs[2]
### END SOLUTION








function composite_milne(u, a, b, N)
    ### BEGIN SOLUTION
    Δ = (b - a) / N
    x₁ = a .+ Δ/4 .+ Δ*(0:N-1)
    x₂ = a .+ Δ/2 .+ Δ*(0:N-1)
    x₃ = a .+ 3Δ/4 .+ Δ*(0:N-1)
    2Δ/3 * u.(x₁) - Δ/3 * u.(x₂) + 2Δ/3 * u.(x₃) |> sum
    ### END SOLUTION
end


@mark (abs∘composite_milne)(x -> x, -1, 1, 10) < 1e-13
@mark composite_milne(x -> x, 1, 2, 10) ≈ 3/2
@mark composite_milne(x -> x^2, -1, 1, 1) ≈ 2/3
@mark composite_milne(x -> x^4, -1, 1, 1) ≈ 2/12





u = x -> cos(x)
a, b = -1 , 1

# Number of intervals
Ns = (round∘^).(10, LinRange(0, 3, 20))

# Exact value of the integral
I_exact = 2sin(1)

### BEGIN SOLUTION
Is = composite_milne.(u, a, b, Ns)
errors = abs.(Is .- I_exact)
scatter(Ns, errors, label="Integration error")
### END SOLUTION

# Set log scale for both axes
plot!(xscale=:log10, yscale=:log10)





# Calculate β and γ
### BEGIN SOLUTION
p = fit(log.(Ns), log.(errors), 1)
β = round(exp(p[0]), sigdigits=3)
γ = -round(p[1], sigdigits=3)
### END SOLUTION
plot!(N -> β*N^(-γ), label=L"%$β \times N^{%$γ}")


@mark round(β, sigdigits=1) ≤ .1
@mark round(β, sigdigits=1) ≥ 1e-3
@mark round(γ, sigdigits=1) == 4





function legendre(n)
    ### BEGIN SOLUTION
    p = Polynomial([-1, 0, 1])
    return 1 / (2^n * factorial(n)) * derivative(p^n, n)
    ### END SOLUTION
end;





function get_nodes_and_weights(n)
    ### BEGIN SOLUTION
    nodes = sort(roots(legendre(n)))
    weights = zero(nodes)
    for i in 1:n
        ℓ = fromroots(nodes[1:end .!= i])
        ℓ = ℓ / ℓ(nodes[i])
        weights[i] = integrate(ℓ, -1, 1)
    end
    ### END SOLUTION
    return nodes, weights
end;


@mark get_nodes_and_weights(5) |> length == 2
@mark get_nodes_and_weights(5)[1] |> length == 5
@mark get_nodes_and_weights(5)[2] |> length == 5
@mark get_nodes_and_weights(1)[1] ≈ [0.]
@mark get_nodes_and_weights(1)[2] ≈ [2.0]
@mark get_nodes_and_weights(3)[1] .|> legendre(3) |> abs∘sum < 1e-10
@mark get_nodes_and_weights(5)[1] .|> legendre(5) |> abs∘sum < 1e-10
@mark get_nodes_and_weights(5)[2] |> sum ≈ 2





function composite_gauss_legendre(u, a, b, n, N)
    ### BEGIN SOLUTION
    h = (b-a)/N
    X = LinRange(a, b, N + 1)
    z, w = get_nodes_and_weights(n)
    result = 0.
    for i in 1:N
        nodes = X[i] + h/2 .+ z*h/2
        result += h/2 * w'u.(nodes)
    end
    return result
    ### END SOLUTION
end;


_short(f, n, N) = composite_gauss_legendre(f, 0, 1, n, N)
for d in 1:9
    @mark _short(x -> x^d, 5, 1) ≈ 1/(d+1)
    @mark _short(x -> x^d, 5, 2) ≈ 1/(d+1)
    @mark _short(x -> x^d, 5, 3) ≈ 1/(d+1)
end
@mark !(_short(x -> x^10, 2, 1) ≈ 1/11)
@mark !(_short(x -> x^10, 2, 2) ≈ 1/11)
@mark _short(x -> x^10, 5, 200) ≈ 1/11
@mark _short(x -> exp(x), 5, 200) ≈ ℯ - 1





# Function to integrate
u(x) = x -> cos(x)

# Integration interval
a, b = -1, 1

# Exact value of the integral
I_exact = 2sin(1)

### BEGIN SOLUTION
# Number of nodes
ns = [1, 2, 3]

# Number of cells
N = 1:40

p = plot(title="Convergence of Gauss Legendre quadrature", legend=:bottomleft,
         xticks=([1, 5, 10, 20, 30], ["1", "5", "10", "20", "30"]))
for n in ns
    errors = composite_gauss_legendre.(u, a, b, n, N) .- I_exact
    polyfit = fit(log.(N), log.(abs.(errors)), 1)
    β = round(- polyfit[1], digits=2)
    scatter!(N, abs.(errors), label="n=$n, β=$β", scale=:log10)
    xlabel!(L"N")
    ylabel!(L"|I - \widehat I_{n,N}|")
end
p
### END SOLUTION








function laguerre(n)
    if n == 0
        return Polynomial([1])
    elseif n == 1
        return Polynomial([1, -1])
    else
        k = n-1
        x = Polynomial([0, 1])
        return ((2k + 1 - x) * laguerre(k) - k*laguerre(k-1))/(k+1)
    end
end





function get_nodes_and_weights(n)
    ### BEGIN SOLUTION
    nodes = roots(laguerre(n))
    weights = zero(nodes)
    for i in 1:n
        ℓ = fromroots(nodes[1:end .!= i])
        ℓ /= ℓ(nodes[i])
        weights[i] = factorial.(0:n-1)'ℓ.coeffs
    end
    return nodes, weights
    ### END SOLUTION
end


@mark get_nodes_and_weights(5) |> length == 2
@mark get_nodes_and_weights(5)[1] |> length == 5
@mark get_nodes_and_weights(5)[2] |> length == 5
@mark get_nodes_and_weights(1)[1] ≈ [1.0]
@mark get_nodes_and_weights(1)[2] ≈ [1.0]
@mark get_nodes_and_weights(3)[1] .|> laguerre(3) |> abs∘sum < 1e-10
@mark get_nodes_and_weights(5)[1] .|> laguerre(5) |> abs∘sum < 1e-10
@mark get_nodes_and_weights(5)[2] |> sum ≈ 1





function integrate_laguerre(f, n)
    ### BEGIN SOLUTION
    nodes, weights = get_nodes_and_weights(n)
    return f.(nodes)'weights
    ### END SOLUTION
end


@mark integrate_laguerre(x -> x, 5) ≈ 1
@mark integrate_laguerre(x -> x^2, 5) ≈ 2
@mark integrate_laguerre(x -> x^3, 5) ≈ 6
@mark integrate_laguerre(x -> exp(-x), 15) ≈ 1/2
@mark integrate_laguerre(x -> exp(-2x), 15) ≈ 1/3





n = 5
for i in 1:9
    correct = integrate_laguerre(x -> x^i, n) ≈ factorial(i)
    println("f = x^$i, Rule exact? ", correct)
    @assert correct
end





### BEGIN SOLUTION
ns = 1:20
f(x) = sin(x)
I_exact = 1/2
Ih = integrate_laguerre.(f, ns)
plot(ns, abs.(Ih .- I_exact), yscale=:log10, xlabel=L"n", ylabel="Error")
scatter!(ns, abs.(Ih .- I_exact))
### END SOLUTION





function hyperball_volume(dim, n)
    ### BEGIN SOLUTION
    number = 0
    for i in 1:n
        x = rand(dim)
        number += norm(x) <= 1
    end
    average = number/n
    var = average*(1-average)
    vol, σ = average * 2^dim, sqrt(var/n) * 2^dim
    ### END SOLUTION
    return vol, σ
end





n = 10^7

### BEGIN SOLUTION
n_dims = 15
dims, vols, vars = 1:n_dims, zeros(n_dims), zeros(n_dims)
for dim in dims
    vols[dim], vars[dim] = hyperball_volume(dim, 2, n)
end

conf = vars / sqrt(.01)
Plots.scatter(dims, vols, label="Volume estimation")
Plots.plot!(dims, vols, ribbon=conf, fillalpha=0.35, label="99% confidence interval", xlabel="d")
Plots.savefig("hyperballs.pdf")
### END SOLUTION
