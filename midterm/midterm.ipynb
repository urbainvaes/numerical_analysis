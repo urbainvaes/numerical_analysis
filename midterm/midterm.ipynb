{
 "cells": [
  {
   "cell_type": "markdown",
   "metadata": {},
   "source": [
    "# Answer sheet for the midterm\n",
    "\n",
    "## Question 1"
   ]
  },
  {
   "cell_type": "code",
   "execution_count": 1,
   "metadata": {},
   "outputs": [
    {
     "data": {
      "text/plain": [
       "0"
      ]
     },
     "metadata": {},
     "output_type": "display_data"
    }
   ],
   "source": [
    "answers_q1 = zeros(Int, 10)\n",
    "\n",
    "# Use -1 for false, 1 for true\n",
    "answers_q1[1] = 0\n",
    "answers_q1[2] = 0\n",
    "answers_q1[3] = 0\n",
    "answers_q1[4] = 0\n",
    "answers_q1[5] = 0\n",
    "answers_q1[6] = 0\n",
    "answers_q1[7] = 0\n",
    "answers_q1[8] = 0\n",
    "answers_q1[9] = 0\n",
    "answers_q1[10] = 0\n",
    "answers_q1[11] = 0\n",
    "answers_q1[12] = 0"
   ]
  },
  {
   "cell_type": "markdown",
   "metadata": {},
   "source": [
    "## Question 2"
   ]
  },
  {
   "cell_type": "code",
   "execution_count": null,
   "metadata": {},
   "outputs": [],
   "source": [
    "answers_q2 = zeros(Int, 10)\n",
    "\n",
    "# Use -1 for false, 1 for true\n",
    "answers_q2[1] = 0\n",
    "answers_q2[2] = 0\n",
    "answers_q2[3] = 0\n",
    "answers_q2[4] = 0\n",
    "answers_q2[5] = 0\n",
    "answers_q2[6] = 0\n",
    "answers_q2[7] = 0\n",
    "answers_q2[8] = 0\n",
    "answers_q2[9] = 0\n",
    "answers_q2[10] = 0"
   ]
  },
  {
   "cell_type": "markdown",
   "metadata": {},
   "source": [
    "## Question 3"
   ]
  },
  {
   "cell_type": "code",
   "execution_count": null,
   "metadata": {},
   "outputs": [],
   "source": [
    "answers_q3 = zeros(Int, 5)\n",
    "\n",
    "# Use -1 for false, 1 for true\n",
    "answers_q3[1] = 0\n",
    "answers_q3[2] = 0\n",
    "answers_q3[3] = 0\n",
    "answers_q3[4] = 0\n",
    "answers_q3[5] = 0"
   ]
  },
  {
   "cell_type": "markdown",
   "metadata": {},
   "source": [
    "## Computer exercise 1"
   ]
  },
  {
   "cell_type": "code",
   "execution_count": null,
   "metadata": {},
   "outputs": [],
   "source": [
    "# Write your code here"
   ]
  },
  {
   "cell_type": "markdown",
   "metadata": {},
   "source": [
    "## Computer exercise 2"
   ]
  },
  {
   "cell_type": "code",
   "execution_count": null,
   "metadata": {},
   "outputs": [],
   "source": [
    "# Write your code here"
   ]
  }
 ],
 "metadata": {
  "kernelspec": {
   "display_name": "Julia 1.9.3",
   "language": "julia",
   "name": "julia-1.9"
  },
  "language_info": {
   "file_extension": ".jl",
   "mimetype": "application/julia",
   "name": "julia",
   "version": "1.9.3"
  }
 },
 "nbformat": 4,
 "nbformat_minor": 2
}
